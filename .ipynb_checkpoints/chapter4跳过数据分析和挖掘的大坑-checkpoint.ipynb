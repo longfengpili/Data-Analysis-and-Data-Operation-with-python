{
 "cells": [
  {
   "cell_type": "markdown",
   "metadata": {},
   "source": [
    "# 聚类"
   ]
  },
  {
   "cell_type": "code",
   "execution_count": 1,
   "metadata": {
    "ExecuteTime": {
     "end_time": "2019-01-08T00:47:44.361619Z",
     "start_time": "2019-01-08T00:47:44.357650Z"
    }
   },
   "outputs": [],
   "source": [
    "from sklearn.cluster import KMeans\n",
    "from sklearn import metrics"
   ]
  },
  {
   "cell_type": "code",
   "execution_count": 4,
   "metadata": {
    "ExecuteTime": {
     "end_time": "2019-01-08T00:49:07.209711Z",
     "start_time": "2019-01-08T00:49:07.193586Z"
    }
   },
   "outputs": [
    {
     "data": {
      "text/plain": [
       "array([[ 0.58057881,  0.43199283],\n",
       "       [ 1.70562094,  1.16006288],\n",
       "       [ 0.8016818 , -0.51336891],\n",
       "       [-0.15328359, -1.64435136],\n",
       "       [ 0.70765057, -1.65668129]])"
      ]
     },
     "execution_count": 4,
     "metadata": {},
     "output_type": "execute_result"
    },
    {
     "data": {
      "text/plain": [
       "array([0., 0., 2., 1., 2.])"
      ]
     },
     "execution_count": 4,
     "metadata": {},
     "output_type": "execute_result"
    }
   ],
   "source": [
    "raw_data = np.loadtxt('./datacode_for_book/chapter4/cluster.txt')\n",
    "x = raw_data[:,:-1]\n",
    "y_true = raw_data[:,-1]\n",
    "x[:5]\n",
    "y_true[:5]"
   ]
  },
  {
   "cell_type": "code",
   "execution_count": 5,
   "metadata": {
    "ExecuteTime": {
     "end_time": "2019-01-08T00:51:03.150768Z",
     "start_time": "2019-01-08T00:51:02.946931Z"
    }
   },
   "outputs": [
    {
     "data": {
      "text/plain": [
       "KMeans(algorithm='auto', copy_x=True, init='k-means++', max_iter=300,\n",
       "    n_clusters=3, n_init=10, n_jobs=None, precompute_distances='auto',\n",
       "    random_state=0, tol=0.0001, verbose=0)"
      ]
     },
     "execution_count": 5,
     "metadata": {},
     "output_type": "execute_result"
    },
    {
     "data": {
      "text/plain": [
       "array([1, 1, 2, 0, 2])"
      ]
     },
     "execution_count": 5,
     "metadata": {},
     "output_type": "execute_result"
    }
   ],
   "source": [
    "n_clusters = 3\n",
    "model_kmeans = KMeans(n_clusters=n_clusters,random_state=0)\n",
    "model_kmeans.fit(x)\n",
    "y_predict = model_kmeans.predict(x)\n",
    "y_predict[:5]"
   ]
  },
  {
   "cell_type": "code",
   "execution_count": 16,
   "metadata": {
    "ExecuteTime": {
     "end_time": "2019-01-08T00:56:38.103033Z",
     "start_time": "2019-01-08T00:56:38.044913Z"
    }
   },
   "outputs": [
    {
     "data": {
      "text/plain": [
       "300.1262936093466"
      ]
     },
     "execution_count": 16,
     "metadata": {},
     "output_type": "execute_result"
    },
    {
     "data": {
      "text/plain": [
       "0.9642890803276076"
      ]
     },
     "execution_count": 16,
     "metadata": {},
     "output_type": "execute_result"
    },
    {
     "data": {
      "text/plain": [
       "1.0310595406681184"
      ]
     },
     "execution_count": 16,
     "metadata": {},
     "output_type": "execute_result"
    },
    {
     "name": "stderr",
     "output_type": "stream",
     "text": [
      "f:\\ProgramData\\Anaconda3\\envs\\normal\\lib\\site-packages\\sklearn\\metrics\\cluster\\supervised.py:732: FutureWarning: The behavior of AMI will change in version 0.22. To match the behavior of 'v_measure_score', AMI will use average_method='arithmetic' by default.\n",
      "  FutureWarning)\n"
     ]
    },
    {
     "data": {
      "text/plain": [
       "0.938399249349474"
      ]
     },
     "execution_count": 16,
     "metadata": {},
     "output_type": "execute_result"
    },
    {
     "data": {
      "text/plain": [
       "0.9385116928897981"
      ]
     },
     "execution_count": 16,
     "metadata": {},
     "output_type": "execute_result"
    },
    {
     "data": {
      "text/plain": [
       "0.9385372785555511"
      ]
     },
     "execution_count": 16,
     "metadata": {},
     "output_type": "execute_result"
    },
    {
     "data": {
      "text/plain": [
       "0.938524485548298"
      ]
     },
     "execution_count": 16,
     "metadata": {},
     "output_type": "execute_result"
    },
    {
     "data": {
      "text/plain": [
       "0.6342086134083013"
      ]
     },
     "execution_count": 16,
     "metadata": {},
     "output_type": "execute_result"
    },
    {
     "data": {
      "text/plain": [
       "2860.8215946947635"
      ]
     },
     "execution_count": 16,
     "metadata": {},
     "output_type": "execute_result"
    }
   ],
   "source": [
    "#模型效果评估\n",
    "n_samples,n_features = x.shape\n",
    "inertias = model_kmeans.inertia_  # 样本距离最近的聚类中心的总和\n",
    "inertias\n",
    "adjusted_rand_s = metrics.adjusted_rand_score(y_true, y_predict)  # 调整后的兰德指数\n",
    "adjusted_rand_s\n",
    "mutual_info_s = metrics.mutual_info_score(y_true, y_predict)  # 互信息\n",
    "mutual_info_s\n",
    "adjusted_mutual_info_s = metrics.adjusted_mutual_info_score(y_true, y_predict)  # 调整后的互信息\n",
    "adjusted_mutual_info_s\n",
    "homogeneity_s = metrics.homogeneity_score(y_true, y_predict)  # 同质化得分\n",
    "homogeneity_s\n",
    "completeness_s = metrics.completeness_score(y_true, y_predict)  # 完整性得分\n",
    "completeness_s\n",
    "v_measure_s = metrics.v_measure_score(y_true, y_predict)  # V-measure得分\n",
    "v_measure_s\n",
    "silhouette_s = metrics.silhouette_score(x, y_predict, metric='euclidean')  # 平均轮廓系数\n",
    "silhouette_s\n",
    "calinski_harabaz_s = metrics.calinski_harabaz_score(x, y_predict)  # Calinski和Harabaz得分\n",
    "calinski_harabaz_s"
   ]
  },
  {
   "cell_type": "code",
   "execution_count": 17,
   "metadata": {
    "ExecuteTime": {
     "end_time": "2019-01-08T00:57:33.236320Z",
     "start_time": "2019-01-08T00:57:33.229677Z"
    }
   },
   "outputs": [
    {
     "name": "stdout",
     "output_type": "stream",
     "text": [
      "samples: 1000 \t features: 2\n",
      "----------------------------------------------------------------------\n",
      "ine\tARI\tMI\tAMI\thomo\tcomp\tv_m\tsilh\tc&h\n",
      "300\t0.96\t1.03\t0.94\t0.94\t0.94\t0.94\t0.63\t2860\n",
      "----------------------------------------------------------------------\n",
      "short name \t full name\n",
      "ine \t inertias\n",
      "ARI \t adjusted_rand_s\n",
      "MI \t mutual_info_s\n",
      "AMI \t adjusted_mutual_info_s\n",
      "homo \t homogeneity_s\n",
      "comp \t completeness_s\n",
      "v_m \t v_measure_s\n",
      "silh \t silhouette_s\n",
      "c&h \t calinski_harabaz_s\n"
     ]
    }
   ],
   "source": [
    "print ('samples: %d \\t features: %d' % (n_samples, n_features))  # 打印输出样本量和特征数量\n",
    "print (70 * '-')  # 打印分隔线\n",
    "print ('ine\\tARI\\tMI\\tAMI\\thomo\\tcomp\\tv_m\\tsilh\\tc&h')  # 打印输出指标标题\n",
    "print ('%d\\t%.2f\\t%.2f\\t%.2f\\t%.2f\\t%.2f\\t%.2f\\t%.2f\\t%d' % (\n",
    "inertias, adjusted_rand_s, mutual_info_s, adjusted_mutual_info_s, homogeneity_s, completeness_s, v_measure_s,\n",
    "silhouette_s, calinski_harabaz_s))  # 打印输出指标值\n",
    "print (70 * '-')  # 打印分隔线\n",
    "print ('short name \\t full name')  # 打印输出缩写和全名标题\n",
    "print ('ine \\t inertias')\n",
    "print ('ARI \\t adjusted_rand_s')\n",
    "print ('MI \\t mutual_info_s')\n",
    "print ('AMI \\t adjusted_mutual_info_s')\n",
    "print ('homo \\t homogeneity_s')\n",
    "print ('comp \\t completeness_s')\n",
    "print ('v_m \\t v_measure_s')\n",
    "print ('silh \\t silhouette_s')\n",
    "print ('c&h \\t calinski_harabaz_s')"
   ]
  },
  {
   "cell_type": "code",
   "execution_count": 21,
   "metadata": {
    "ExecuteTime": {
     "end_time": "2019-01-08T01:02:18.513380Z",
     "start_time": "2019-01-08T01:02:18.347940Z"
    }
   },
   "outputs": [
    {
     "data": {
      "text/plain": [
       "<Figure size 1152x576 with 0 Axes>"
      ]
     },
     "execution_count": 21,
     "metadata": {},
     "output_type": "execute_result"
    },
    {
     "data": {
      "text/plain": [
       "<matplotlib.collections.PathCollection at 0x1e177b32eb8>"
      ]
     },
     "execution_count": 21,
     "metadata": {},
     "output_type": "execute_result"
    },
    {
     "data": {
      "text/plain": [
       "[<matplotlib.lines.Line2D at 0x1e177b2e198>]"
      ]
     },
     "execution_count": 21,
     "metadata": {},
     "output_type": "execute_result"
    },
    {
     "data": {
      "text/plain": [
       "<matplotlib.collections.PathCollection at 0x1e177b2e7b8>"
      ]
     },
     "execution_count": 21,
     "metadata": {},
     "output_type": "execute_result"
    },
    {
     "data": {
      "text/plain": [
       "[<matplotlib.lines.Line2D at 0x1e177b2ea58>]"
      ]
     },
     "execution_count": 21,
     "metadata": {},
     "output_type": "execute_result"
    },
    {
     "data": {
      "text/plain": [
       "<matplotlib.collections.PathCollection at 0x1e177b2ee80>"
      ]
     },
     "execution_count": 21,
     "metadata": {},
     "output_type": "execute_result"
    },
    {
     "data": {
      "text/plain": [
       "[<matplotlib.lines.Line2D at 0x1e177b2ef28>]"
      ]
     },
     "execution_count": 21,
     "metadata": {},
     "output_type": "execute_result"
    },
    {
     "data": {
      "image/png": "[encoded data removed]",
      "text/plain": [
       "<Figure size 1152x576 with 1 Axes>"
      ]
     },
     "metadata": {
      "needs_background": "light"
     },
     "output_type": "display_data"
    }
   ],
   "source": [
    "# 模型效果可视化\n",
    "centers = model_kmeans.cluster_centers_  # 各类别中心\n",
    "colors = ['#4EACC5', '#FF9C34', '#4E9A06']  # 设置不同类别的颜色\n",
    "plt.figure(figsize=(16,8))  # 建立画布\n",
    "for i in range(n_clusters):  # 循环读类别\n",
    "    index_sets = np.where(y_predict == i)  # 找到相同类的索引集合\n",
    "    cluster = x[index_sets]  # 将相同类的数据划分为一个聚类子集\n",
    "    plt.scatter(cluster[:, 0], cluster[:, 1], c=colors[i], marker='.')  # 展示聚类子集内的样本点\n",
    "    plt.plot(centers[i][0], centers[i][1], 'o', markerfacecolor=colors[i], markeredgecolor='k',\n",
    "             markersize=10)  # 展示各聚类子集的中心\n",
    "plt.show()  # 展示图像"
   ]
  },
  {
   "cell_type": "code",
   "execution_count": 22,
   "metadata": {
    "ExecuteTime": {
     "end_time": "2019-01-08T01:02:41.860297Z",
     "start_time": "2019-01-08T01:02:41.855310Z"
    }
   },
   "outputs": [
    {
     "name": "stdout",
     "output_type": "stream",
     "text": [
      "cluster of new data point is: 1\n"
     ]
    }
   ],
   "source": [
    "# 模型应用\n",
    "new_X = [1, 3.6]\n",
    "cluster_label = model_kmeans.predict(np.array(new_X).reshape(1,-1))\n",
    "print ('cluster of new data point is: %d' % cluster_label)"
   ]
  },
  {
   "cell_type": "code",
   "execution_count": 25,
   "metadata": {
    "ExecuteTime": {
     "end_time": "2019-01-08T01:07:09.944109Z",
     "start_time": "2019-01-08T01:07:09.938099Z"
    }
   },
   "outputs": [
    {
     "data": {
      "text/plain": [
       "KMeans(algorithm='auto', copy_x=True, init='k-means++', max_iter=300,\n",
       "    n_clusters=3, n_init=10, n_jobs=None, precompute_distances='auto',\n",
       "    random_state=0, tol=0.0001, verbose=0)"
      ]
     },
     "execution_count": 25,
     "metadata": {},
     "output_type": "execute_result"
    }
   ],
   "source": [
    "#保存模型\n",
    "import pickle\n",
    "pickle.dump(model_kmeans,open('./kmeans_model.model','wb'))\n",
    "pickle.load(open('./kmeans_model.model','rb'))"
   ]
  },
  {
   "cell_type": "markdown",
   "metadata": {},
   "source": [
    "# 线性回归"
   ]
  },
  {
   "cell_type": "code",
   "execution_count": 2,
   "metadata": {
    "ExecuteTime": {
     "end_time": "2019-01-10T00:14:52.553878Z",
     "start_time": "2019-01-10T00:14:50.642809Z"
    }
   },
   "outputs": [],
   "source": [
    "from sklearn.linear_model import BayesianRidge, LinearRegression, ElasticNet  # 批量导入要实现的回归算法\n",
    "from sklearn.svm import SVR  # SVM中的回归算法\n",
    "# from sklearn.ensemble.gradient_boosting import GradientBoostingRegressor  # 集成算法\n",
    "from sklearn.ensemble import GradientBoostingRegressor\n",
    "from sklearn.model_selection import cross_val_score  # 交叉检验\n",
    "from sklearn.metrics import explained_variance_score, mean_absolute_error, mean_squared_error, r2_score  # 批量导入指标算法"
   ]
  },
  {
   "cell_type": "markdown",
   "metadata": {},
   "source": [
    "![回归指标](https://github.com/longfengpili/Data-Analysis-and-Data-Operation-with-python/blob/master/%E5%9B%9E%E5%BD%92%E8%AF%84%E4%BB%B7%E6%8C%87%E6%A0%87.png?raw=true)"
   ]
  },
  {
   "cell_type": "code",
   "execution_count": 3,
   "metadata": {
    "ExecuteTime": {
     "end_time": "2019-01-10T00:14:53.614443Z",
     "start_time": "2019-01-10T00:14:53.550185Z"
    }
   },
   "outputs": [
    {
     "data": {
      "text/plain": [
       "array([[6.3200e-03, 1.8000e+01, 2.3100e+00, 0.0000e+00, 5.3800e-01,\n",
       "        6.5750e+00, 6.5200e+01, 4.0900e+00, 1.0000e+00, 2.9600e+02,\n",
       "        1.5300e+01, 3.9690e+02, 4.9800e+00],\n",
       "       [2.7310e-02, 0.0000e+00, 7.0700e+00, 0.0000e+00, 4.6900e-01,\n",
       "        6.4210e+00, 7.8900e+01, 4.9671e+00, 2.0000e+00, 2.4200e+02,\n",
       "        1.7800e+01, 3.9690e+02, 9.1400e+00],\n",
       "       [2.7290e-02, 0.0000e+00, 7.0700e+00, 0.0000e+00, 4.6900e-01,\n",
       "        7.1850e+00, 6.1100e+01, 4.9671e+00, 2.0000e+00, 2.4200e+02,\n",
       "        1.7800e+01, 3.9283e+02, 4.0300e+00]])"
      ]
     },
     "execution_count": 3,
     "metadata": {},
     "output_type": "execute_result"
    },
    {
     "data": {
      "text/plain": [
       "array([24. , 21.6, 34.7])"
      ]
     },
     "execution_count": 3,
     "metadata": {},
     "output_type": "execute_result"
    }
   ],
   "source": [
    "# 数据准备\n",
    "raw_data = np.loadtxt('./datacode_for_book/chapter4/regression.txt')  # 读取数据文件\n",
    "X = raw_data[:, :-1]  # 分割自变量\n",
    "y = raw_data[:, -1]  # 分割因变量\n",
    "X[:3]\n",
    "y[:3]"
   ]
  },
  {
   "cell_type": "code",
   "execution_count": 4,
   "metadata": {
    "ExecuteTime": {
     "end_time": "2019-01-10T00:14:55.962914Z",
     "start_time": "2019-01-10T00:14:54.752774Z"
    }
   },
   "outputs": [
    {
     "data": {
      "text/plain": [
       "<Figure size 1152x360 with 0 Axes>"
      ]
     },
     "execution_count": 4,
     "metadata": {},
     "output_type": "execute_result"
    },
    {
     "data": {
      "text/plain": [
       "<matplotlib.axes._subplots.AxesSubplot at 0x1c731d91a58>"
      ]
     },
     "execution_count": 4,
     "metadata": {},
     "output_type": "execute_result"
    },
    {
     "data": {
      "text/plain": [
       "[<matplotlib.lines.Line2D at 0x1c732053c88>,\n",
       " <matplotlib.lines.Line2D at 0x1c732053cf8>,\n",
       " <matplotlib.lines.Line2D at 0x1c732053eb8>,\n",
       " <matplotlib.lines.Line2D at 0x1c73206b048>,\n",
       " <matplotlib.lines.Line2D at 0x1c73206b208>,\n",
       " <matplotlib.lines.Line2D at 0x1c73206b320>]"
      ]
     },
     "execution_count": 4,
     "metadata": {},
     "output_type": "execute_result"
    },
    {
     "data": {
      "text/plain": [
       "<matplotlib.axes._subplots.AxesSubplot at 0x1c732053ba8>"
      ]
     },
     "execution_count": 4,
     "metadata": {},
     "output_type": "execute_result"
    },
    {
     "data": {
      "text/plain": [
       "[<matplotlib.lines.Line2D at 0x1c73206b470>]"
      ]
     },
     "execution_count": 4,
     "metadata": {},
     "output_type": "execute_result"
    },
    {
     "data": {
      "text/plain": [
       "[<matplotlib.lines.Line2D at 0x1c7320a0eb8>]"
      ]
     },
     "execution_count": 4,
     "metadata": {},
     "output_type": "execute_result"
    },
    {
     "data": {
      "text/plain": [
       "[<matplotlib.lines.Line2D at 0x1c7320a0e80>]"
      ]
     },
     "execution_count": 4,
     "metadata": {},
     "output_type": "execute_result"
    },
    {
     "data": {
      "text/plain": [
       "[<matplotlib.lines.Line2D at 0x1c7320ac6d8>]"
      ]
     },
     "execution_count": 4,
     "metadata": {},
     "output_type": "execute_result"
    },
    {
     "data": {
      "text/plain": [
       "[<matplotlib.lines.Line2D at 0x1c7320aca90>]"
      ]
     },
     "execution_count": 4,
     "metadata": {},
     "output_type": "execute_result"
    },
    {
     "data": {
      "text/plain": [
       "<matplotlib.legend.Legend at 0x1c7320ace80>"
      ]
     },
     "execution_count": 4,
     "metadata": {},
     "output_type": "execute_result"
    },
    {
     "data": {
      "image/png": "[encoded data removed]",
      "text/plain": [
       "<Figure size 1152x360 with 2 Axes>"
      ]
     },
     "metadata": {
      "needs_background": "light"
     },
     "output_type": "display_data"
    }
   ],
   "source": [
    "# 训练回归模型\n",
    "n_folds = 6  # 设置交叉检验的次数\n",
    "model_br = BayesianRidge()  # 建立贝叶斯岭回归模型对象\n",
    "model_lr = LinearRegression()  # 建立普通线性回归模型对象\n",
    "model_etc = ElasticNet()  # 建立弹性网络回归模型对象\n",
    "model_svr = SVR(gamma='auto')  # 建立支持向量机回归模型对象\n",
    "model_gbr = GradientBoostingRegressor()  # 建立梯度增强回归模型对象\n",
    "model_names = ['BayesianRidge', 'LinearRegression', 'ElasticNet', 'SVR', 'GBR']  # 不同模型的名称列表\n",
    "model_dic = [model_br, model_lr, model_etc, model_svr, model_gbr]  # 不同回归模型对象的集合\n",
    "cv_score_list = []  # 交叉检验结果列表\n",
    "pre_y_list = []  # 各个回归模型预测的y值列表\n",
    "for model in model_dic:  # 读出每个回归模型对象\n",
    "    scores = cross_val_score(model, X, y, cv=n_folds)  # 将每个回归模型导入交叉检验模型中做训练检验\n",
    "    cv_score_list.append(scores)  # 将交叉检验结果存入结果列表\n",
    "    pre_y_list.append(model.fit(X, y).predict(X))  # 将回归训练中得到的预测y存入列表\n",
    "plt.figure(figsize=(16,5))\n",
    "plt.subplot(1,2,1)\n",
    "plt.plot(model_names,cv_score_list,'.--')\n",
    "plt.subplot(1,2,2)\n",
    "for index,name in enumerate(model_names):\n",
    "    plt.plot(list(range(n_folds)),cv_score_list[index],label=name)\n",
    "plt.legend()"
   ]
  },
  {
   "cell_type": "code",
   "execution_count": 6,
   "metadata": {
    "ExecuteTime": {
     "end_time": "2019-01-10T00:16:54.819261Z",
     "start_time": "2019-01-10T00:16:54.768301Z"
    }
   },
   "outputs": [
    {
     "data": {
      "text/html": [
       "<div>\n",
       "<style scoped>\n",
       "    .dataframe tbody tr th:only-of-type {\n",
       "        vertical-align: middle;\n",
       "    }\n",
       "\n",
       "    .dataframe tbody tr th {\n",
       "        vertical-align: top;\n",
       "    }\n",
       "\n",
       "    .dataframe thead th {\n",
       "        text-align: right;\n",
       "    }\n",
       "</style>\n",
       "<table border=\"1\" class=\"dataframe\">\n",
       "  <thead>\n",
       "    <tr style=\"text-align: right;\">\n",
       "      <th></th>\n",
       "      <th>0</th>\n",
       "      <th>1</th>\n",
       "      <th>2</th>\n",
       "      <th>3</th>\n",
       "      <th>4</th>\n",
       "      <th>5</th>\n",
       "    </tr>\n",
       "  </thead>\n",
       "  <tbody>\n",
       "    <tr>\n",
       "      <th>BayesianRidge</th>\n",
       "      <td>0.662422</td>\n",
       "      <td>0.677079</td>\n",
       "      <td>0.549702</td>\n",
       "      <td>0.776896</td>\n",
       "      <td>-0.139738</td>\n",
       "      <td>-0.024448</td>\n",
       "    </tr>\n",
       "    <tr>\n",
       "      <th>LinearRegression</th>\n",
       "      <td>0.642240</td>\n",
       "      <td>0.611521</td>\n",
       "      <td>0.514471</td>\n",
       "      <td>0.785033</td>\n",
       "      <td>-0.143673</td>\n",
       "      <td>-0.015390</td>\n",
       "    </tr>\n",
       "    <tr>\n",
       "      <th>ElasticNet</th>\n",
       "      <td>0.582476</td>\n",
       "      <td>0.603773</td>\n",
       "      <td>0.365912</td>\n",
       "      <td>0.625645</td>\n",
       "      <td>0.437122</td>\n",
       "      <td>0.200454</td>\n",
       "    </tr>\n",
       "    <tr>\n",
       "      <th>SVR</th>\n",
       "      <td>-0.000799</td>\n",
       "      <td>-0.004447</td>\n",
       "      <td>-1.224386</td>\n",
       "      <td>-0.663773</td>\n",
       "      <td>-0.122252</td>\n",
       "      <td>-1.374062</td>\n",
       "    </tr>\n",
       "    <tr>\n",
       "      <th>GBR</th>\n",
       "      <td>0.747724</td>\n",
       "      <td>0.785265</td>\n",
       "      <td>0.768194</td>\n",
       "      <td>0.859493</td>\n",
       "      <td>0.376628</td>\n",
       "      <td>0.549563</td>\n",
       "    </tr>\n",
       "  </tbody>\n",
       "</table>\n",
       "</div>"
      ],
      "text/plain": [
       "                         0         1         2         3         4         5\n",
       "BayesianRidge     0.662422  0.677079  0.549702  0.776896 -0.139738 -0.024448\n",
       "LinearRegression  0.642240  0.611521  0.514471  0.785033 -0.143673 -0.015390\n",
       "ElasticNet        0.582476  0.603773  0.365912  0.625645  0.437122  0.200454\n",
       "SVR              -0.000799 -0.004447 -1.224386 -0.663773 -0.122252 -1.374062\n",
       "GBR               0.747724  0.785265  0.768194  0.859493  0.376628  0.549563"
      ]
     },
     "execution_count": 6,
     "metadata": {},
     "output_type": "execute_result"
    },
    {
     "data": {
      "text/html": [
       "<div>\n",
       "<style scoped>\n",
       "    .dataframe tbody tr th:only-of-type {\n",
       "        vertical-align: middle;\n",
       "    }\n",
       "\n",
       "    .dataframe tbody tr th {\n",
       "        vertical-align: top;\n",
       "    }\n",
       "\n",
       "    .dataframe thead th {\n",
       "        text-align: right;\n",
       "    }\n",
       "</style>\n",
       "<table border=\"1\" class=\"dataframe\">\n",
       "  <thead>\n",
       "    <tr style=\"text-align: right;\">\n",
       "      <th></th>\n",
       "      <th>ev</th>\n",
       "      <th>mae</th>\n",
       "      <th>mse</th>\n",
       "      <th>r2</th>\n",
       "    </tr>\n",
       "  </thead>\n",
       "  <tbody>\n",
       "    <tr>\n",
       "      <th>BayesianRidge</th>\n",
       "      <td>0.731143</td>\n",
       "      <td>3.319204</td>\n",
       "      <td>22.696772</td>\n",
       "      <td>0.731143</td>\n",
       "    </tr>\n",
       "    <tr>\n",
       "      <th>LinearRegression</th>\n",
       "      <td>0.740608</td>\n",
       "      <td>3.272945</td>\n",
       "      <td>21.897779</td>\n",
       "      <td>0.740608</td>\n",
       "    </tr>\n",
       "    <tr>\n",
       "      <th>ElasticNet</th>\n",
       "      <td>0.686094</td>\n",
       "      <td>3.592915</td>\n",
       "      <td>26.499828</td>\n",
       "      <td>0.686094</td>\n",
       "    </tr>\n",
       "    <tr>\n",
       "      <th>SVR</th>\n",
       "      <td>0.173548</td>\n",
       "      <td>5.447960</td>\n",
       "      <td>71.637552</td>\n",
       "      <td>0.151410</td>\n",
       "    </tr>\n",
       "    <tr>\n",
       "      <th>GBR</th>\n",
       "      <td>0.975126</td>\n",
       "      <td>1.151773</td>\n",
       "      <td>2.099835</td>\n",
       "      <td>0.975126</td>\n",
       "    </tr>\n",
       "  </tbody>\n",
       "</table>\n",
       "</div>"
      ],
      "text/plain": [
       "                        ev       mae        mse        r2\n",
       "BayesianRidge     0.731143  3.319204  22.696772  0.731143\n",
       "LinearRegression  0.740608  3.272945  21.897779  0.740608\n",
       "ElasticNet        0.686094  3.592915  26.499828  0.686094\n",
       "SVR               0.173548  5.447960  71.637552  0.151410\n",
       "GBR               0.975126  1.151773   2.099835  0.975126"
      ]
     },
     "execution_count": 6,
     "metadata": {},
     "output_type": "execute_result"
    }
   ],
   "source": [
    "# 模型效果指标评估\n",
    "n_samples, n_features = X.shape  # 总样本量,总特征数\n",
    "model_metrics_name = [explained_variance_score, mean_absolute_error, mean_squared_error, r2_score]  # 回归评估指标对象集\n",
    "model_metrics_list = []  # 回归评估指标列表\n",
    "for i in range(5):  # 循环每个模型索引\n",
    "    tmp_list = []  # 每个内循环的临时结果列表\n",
    "    for m in model_metrics_name:  # 循环每个指标对象\n",
    "        tmp_score = m(y, pre_y_list[i])  # 计算每个回归指标结果\n",
    "        tmp_list.append(tmp_score)  # 将结果存入每个内循环的临时结果列表\n",
    "    model_metrics_list.append(tmp_list)  # 将结果存入回归评估指标列表\n",
    "df1 = pd.DataFrame(cv_score_list, index=model_names)  # 建立交叉检验的数据框\n",
    "df2 = pd.DataFrame(model_metrics_list, index=model_names, columns=['ev', 'mae', 'mse', 'r2'])  # 建立回归指标的数据框\n",
    "df1\n",
    "df2"
   ]
  },
  {
   "cell_type": "code",
   "execution_count": 8,
   "metadata": {
    "ExecuteTime": {
     "end_time": "2019-01-10T00:20:15.108383Z",
     "start_time": "2019-01-10T00:20:14.799715Z"
    }
   },
   "outputs": [
    {
     "data": {
      "text/plain": [
       "<Figure size 1152x576 with 0 Axes>"
      ]
     },
     "execution_count": 8,
     "metadata": {},
     "output_type": "execute_result"
    },
    {
     "data": {
      "text/plain": [
       "[<matplotlib.lines.Line2D at 0x1c7321b88d0>]"
      ]
     },
     "execution_count": 8,
     "metadata": {},
     "output_type": "execute_result"
    },
    {
     "data": {
      "text/plain": [
       "[<matplotlib.lines.Line2D at 0x1c7321b8e80>]"
      ]
     },
     "execution_count": 8,
     "metadata": {},
     "output_type": "execute_result"
    },
    {
     "data": {
      "text/plain": [
       "[<matplotlib.lines.Line2D at 0x1c7321b8e10>]"
      ]
     },
     "execution_count": 8,
     "metadata": {},
     "output_type": "execute_result"
    },
    {
     "data": {
      "text/plain": [
       "[<matplotlib.lines.Line2D at 0x1c7321be6a0>]"
      ]
     },
     "execution_count": 8,
     "metadata": {},
     "output_type": "execute_result"
    },
    {
     "data": {
      "text/plain": [
       "[<matplotlib.lines.Line2D at 0x1c7321bea90>]"
      ]
     },
     "execution_count": 8,
     "metadata": {},
     "output_type": "execute_result"
    },
    {
     "data": {
      "text/plain": [
       "[<matplotlib.lines.Line2D at 0x1c7321bea20>]"
      ]
     },
     "execution_count": 8,
     "metadata": {},
     "output_type": "execute_result"
    },
    {
     "data": {
      "text/plain": [
       "Text(0.5,1,'regression result comparison')"
      ]
     },
     "execution_count": 8,
     "metadata": {},
     "output_type": "execute_result"
    },
    {
     "data": {
      "text/plain": [
       "<matplotlib.legend.Legend at 0x1c731d63940>"
      ]
     },
     "execution_count": 8,
     "metadata": {},
     "output_type": "execute_result"
    },
    {
     "data": {
      "text/plain": [
       "Text(0,0.5,'real and predicted value')"
      ]
     },
     "execution_count": 8,
     "metadata": {},
     "output_type": "execute_result"
    },
    {
     "data": {
      "image/png": "[encoded data removed]",
      "text/plain": [
       "<Figure size 1152x576 with 1 Axes>"
      ]
     },
     "metadata": {
      "needs_background": "light"
     },
     "output_type": "display_data"
    }
   ],
   "source": [
    "# 模型效果可视化\n",
    "plt.figure(figsize=(16,8))  # 创建画布\n",
    "plt.plot(np.arange(X.shape[0]), y, color='k', label='true y')  # 画出原始值的曲线\n",
    "color_list = ['r', 'b', 'g', 'y', 'c']  # 颜色列表\n",
    "linestyle_list = ['-', '.', 'o', 'v', '*']  # 样式列表\n",
    "for i, pre_y in enumerate(pre_y_list):  # 读出通过回归模型预测得到的索引及结果\n",
    "    plt.plot(np.arange(X.shape[0]), pre_y_list[i], color_list[i], label=model_names[i])  # 画出每条预测结果线\n",
    "plt.title('regression result comparison')  # 标题\n",
    "plt.legend(loc='upper right')  # 图例位置\n",
    "plt.ylabel('real and predicted value')  # y轴标题"
   ]
  },
  {
   "cell_type": "code",
   "execution_count": 9,
   "metadata": {
    "ExecuteTime": {
     "end_time": "2019-01-10T00:21:14.107717Z",
     "start_time": "2019-01-10T00:21:14.099741Z"
    }
   },
   "outputs": [
    {
     "name": "stdout",
     "output_type": "stream",
     "text": [
      "regression prediction\n",
      "predict for new point 1 is:  21.49\n",
      "predict for new point 2 is:  16.84\n",
      "predict for new point 3 is:  19.50\n",
      "predict for new point 4 is:  19.16\n"
     ]
    }
   ],
   "source": [
    "# 模型应用\n",
    "print ('regression prediction')\n",
    "new_point_set = [[1.05393, 0., 8.14, 0., 0.538, 5.935, 29.3, 4.4986, 4., 307., 21., 386.85, 6.58],\n",
    "                 [0.7842, 0., 8.14, 0., 0.538, 5.99, 81.7, 4.2579, 4., 307., 21., 386.75, 14.67],\n",
    "                 [0.80271, 0., 8.14, 0., 0.538, 5.456, 36.6, 3.7965, 4., 307., 21., 288.99, 11.69],\n",
    "                 [0.7258, 0., 8.14, 0., 0.538, 5.727, 69.5, 3.7965, 4., 307., 21., 390.95, 11.28]]  # 要预测的新数据集\n",
    "for i, new_point in enumerate(new_point_set):  # 循环读出每个要预测的数据点\n",
    "    new_pre_y = model_gbr.predict(np.array(new_point).reshape(1,-1))  # 使用GBR进行预测\n",
    "    print ('predict for new point %d is:  %.2f' % (i + 1, new_pre_y))  # 打印输出每个数据点的预测信息"
   ]
  },
  {
   "cell_type": "markdown",
   "metadata": {},
   "source": [
    "# 分类分析"
   ]
  },
  {
   "cell_type": "code",
   "execution_count": 1,
   "metadata": {
    "ExecuteTime": {
     "end_time": "2019-01-15T00:22:49.853210Z",
     "start_time": "2019-01-15T00:22:49.290951Z"
    }
   },
   "outputs": [],
   "source": [
    "# 导入库\n",
    "import numpy as np  # 导入numpy库\n",
    "from sklearn.model_selection import train_test_split  # 数据分区库\n",
    "from sklearn import tree  # 导入决策树库\n",
    "from sklearn.metrics import accuracy_score, auc, confusion_matrix, f1_score, precision_score, recall_score, \\\n",
    "    roc_curve  # 导入指标库\n",
    "import prettytable  # 导入表格库\n",
    "import pydotplus  # 导入dot插件库\n",
    "import matplotlib.pyplot as plt  # 导入图形展示库\n",
    "import graphviz"
   ]
  },
  {
   "cell_type": "markdown",
   "metadata": {},
   "source": [
    "+ 【accuracy_score】A = (TP + TN)/(P+N) = (TP + TN)/(TP + FN + FP + TN); 反映了分类器统对整个样本的判定能力——能将正的判定为正，负的判定为负 \n",
    "+ 【auc】计算AUC值，其中x,y分别为数组形式，根据(xi,yi)在坐标上的点，生成的曲线，然后计算AUC值；\n",
    "+ 【confusion_matrix】\n",
    "+ 【f1_score】F = 2 * 召回率 * 准确率/ (召回率+准确率)；这就是传统上通常说的F1 measure。\n",
    "+ 【precision_score】P = TP/(TP+FP) ; 反映了被分类器判定的正例中真正的正例样本的比重。\n",
    "+ 【recall_score】R = TP/(TP+FN) = 1 - FN/T; 反映了被正确判定的正例占总的正例的比重 。\n",
    "+ 【roc_curve】ROC曲线指受试者工作特征曲线/接收器操作特性(receiver operating characteristic，ROC)曲线,是反映灵敏性和特效性连续变量的综合指标,是用构图法揭示敏感性和特异性的相互关系，它通过将连续变量设定出多个不同的临界值，从而计算出一系列敏感性和特异性。ROC曲线是根据一系列不同的二分类方式（分界值或决定阈），以真正例率（也就是灵敏度）（True Positive Rate,TPR）为纵坐标，假正例率（1-特效性）（False Positive Rate,FPR）为横坐标绘制的曲线。\n",
    "    + 纵坐标：真正率（True Positive Rate , TPR）或灵敏度（sensitivity）TPR = TP /（TP + FN）  （正样本预测结果数 / 正样本实际数）\n",
    "    + 横坐标：假正率（False Positive Rate , FPR）FPR = FP /（FP + TN） （被预测为正的负样本结果数 /负样本实际数）"
   ]
  },
  {
   "cell_type": "code",
   "execution_count": 2,
   "metadata": {
    "ExecuteTime": {
     "end_time": "2019-01-15T00:22:50.892755Z",
     "start_time": "2019-01-15T00:22:50.750302Z"
    }
   },
   "outputs": [],
   "source": [
    "# 数据准备\n",
    "raw_data = np.loadtxt('./datacode_for_book/chapter4/classification.csv', delimiter=',', skiprows=1, )  # 读取数据文件\n",
    "X = raw_data[:, :-1]  # 分割X\n",
    "y = raw_data[:, -1]  # 分割y\n",
    "X_train, X_test, y_train, y_test = train_test_split(X, y, test_size=.3, random_state=0)  # 将数据分为训练集和测试集"
   ]
  },
  {
   "cell_type": "code",
   "execution_count": 3,
   "metadata": {
    "ExecuteTime": {
     "end_time": "2019-01-15T00:22:51.257018Z",
     "start_time": "2019-01-15T00:22:51.204062Z"
    }
   },
   "outputs": [
    {
     "data": {
      "text/plain": [
       "DecisionTreeClassifier(class_weight=None, criterion='gini', max_depth=None,\n",
       "            max_features=None, max_leaf_nodes=None,\n",
       "            min_impurity_decrease=0.0, min_impurity_split=None,\n",
       "            min_samples_leaf=1, min_samples_split=2,\n",
       "            min_weight_fraction_leaf=0.0, presort=False, random_state=0,\n",
       "            splitter='best')"
      ]
     },
     "execution_count": 3,
     "metadata": {},
     "output_type": "execute_result"
    }
   ],
   "source": [
    "# 训练分类模型\n",
    "model_tree = tree.DecisionTreeClassifier(random_state=0)  # 建立决策树模型对象\n",
    "model_tree.fit(X_train, y_train)  # 训练决策树模型\n",
    "pre_y = model_tree.predict(X_test)  # 使用测试集做模型效果检验"
   ]
  },
  {
   "cell_type": "code",
   "execution_count": 4,
   "metadata": {
    "ExecuteTime": {
     "end_time": "2019-01-15T00:22:51.667209Z",
     "start_time": "2019-01-15T00:22:51.663222Z"
    }
   },
   "outputs": [
    {
     "name": "stdout",
     "output_type": "stream",
     "text": [
      "samples: 21927 \t features: 4\n",
      "----------------------------------------------------------------------\n"
     ]
    }
   ],
   "source": [
    "# 输出模型概况\n",
    "n_samples, n_features = X.shape  # 总样本量,总特征数\n",
    "print ('samples: %d \\t features: %d' % (n_samples, n_features))  # 打印输出样本量和特征数量\n",
    "print (70 * '-')  # 打印分隔线"
   ]
  },
  {
   "cell_type": "code",
   "execution_count": 5,
   "metadata": {
    "ExecuteTime": {
     "end_time": "2019-01-15T00:22:52.107926Z",
     "start_time": "2019-01-15T00:22:52.091948Z"
    }
   },
   "outputs": [
    {
     "data": {
      "text/plain": [
       "array([[5615,  284],\n",
       "       [ 321,  359]], dtype=int64)"
      ]
     },
     "execution_count": 5,
     "metadata": {},
     "output_type": "execute_result"
    },
    {
     "name": "stdout",
     "output_type": "stream",
     "text": [
      "confusion matrix\n",
      "+---------+---------+\n",
      "| Field 1 | Field 2 |\n",
      "+---------+---------+\n",
      "|   5615  |   284   |\n",
      "|   321   |   359   |\n",
      "+---------+---------+\n"
     ]
    }
   ],
   "source": [
    "# 混淆矩阵\n",
    "confusion_m = confusion_matrix(y_test, pre_y)  # 获得混淆矩阵\n",
    "confusion_m\n",
    "confusion_matrix_table = prettytable.PrettyTable()  # 创建表格实例\n",
    "confusion_matrix_table.add_row(confusion_m[0, :])  # 增加第一行数据\n",
    "confusion_matrix_table.add_row(confusion_m[1, :])  # 增加第二行数据\n",
    "print ('confusion matrix')\n",
    "print (confusion_matrix_table)  # 打印输出混淆矩阵"
   ]
  },
  {
   "cell_type": "code",
   "execution_count": 6,
   "metadata": {
    "ExecuteTime": {
     "end_time": "2019-01-15T00:22:52.591664Z",
     "start_time": "2019-01-15T00:22:52.574747Z"
    }
   },
   "outputs": [
    {
     "name": "stdout",
     "output_type": "stream",
     "text": [
      "core metrics\n",
      "+--------------------+--------------------+--------------------+--------------------+-----------------+\n",
      "|        auc         |      accuracy      |     precision      |       recall       |        f1       |\n",
      "+--------------------+--------------------+--------------------+--------------------+-----------------+\n",
      "| 0.7498701175672846 | 0.9080407356741146 | 0.5583203732503889 | 0.5279411764705882 | 0.5427059712774 |\n",
      "+--------------------+--------------------+--------------------+--------------------+-----------------+\n"
     ]
    }
   ],
   "source": [
    "# 核心评估指标\n",
    "y_score = model_tree.predict_proba(X_test)  # 获得决策树的预测概率\n",
    "fpr, tpr, thresholds = roc_curve(y_test, y_score[:, 1])  # ROC\n",
    "auc_s = auc(fpr, tpr)  # AUC\n",
    "accuracy_s = accuracy_score(y_test, pre_y)  # 准确率\n",
    "precision_s = precision_score(y_test, pre_y)  # 精确度\n",
    "recall_s = recall_score(y_test, pre_y)  # 召回率\n",
    "f1_s = f1_score(y_test, pre_y)  # F1得分\n",
    "core_metrics = prettytable.PrettyTable()  # 创建表格实例\n",
    "core_metrics.field_names = ['auc', 'accuracy', 'precision', 'recall', 'f1']  # 定义表格列名\n",
    "core_metrics.add_row([auc_s, accuracy_s, precision_s, recall_s, f1_s])  # 增加数据\n",
    "print ('core metrics')\n",
    "print (core_metrics)  # 打印输出核心评估指标"
   ]
  },
  {
   "cell_type": "code",
   "execution_count": 7,
   "metadata": {
    "ExecuteTime": {
     "end_time": "2019-01-15T00:22:53.518204Z",
     "start_time": "2019-01-15T00:22:53.238275Z"
    }
   },
   "outputs": [
    {
     "data": {
      "text/plain": [
       "<Figure size 720x360 with 0 Axes>"
      ]
     },
     "execution_count": 7,
     "metadata": {},
     "output_type": "execute_result"
    },
    {
     "data": {
      "text/plain": [
       "<matplotlib.axes._subplots.AxesSubplot at 0x2536171bf28>"
      ]
     },
     "execution_count": 7,
     "metadata": {},
     "output_type": "execute_result"
    },
    {
     "data": {
      "text/plain": [
       "[<matplotlib.lines.Line2D at 0x25361728eb8>]"
      ]
     },
     "execution_count": 7,
     "metadata": {},
     "output_type": "execute_result"
    },
    {
     "data": {
      "text/plain": [
       "[<matplotlib.lines.Line2D at 0x25362cd5cc0>]"
      ]
     },
     "execution_count": 7,
     "metadata": {},
     "output_type": "execute_result"
    },
    {
     "data": {
      "text/plain": [
       "Text(0.5, 1.0, 'ROC')"
      ]
     },
     "execution_count": 7,
     "metadata": {},
     "output_type": "execute_result"
    },
    {
     "data": {
      "text/plain": [
       "Text(0.5, 0, 'false positive rate')"
      ]
     },
     "execution_count": 7,
     "metadata": {},
     "output_type": "execute_result"
    },
    {
     "data": {
      "text/plain": [
       "Text(0, 0.5, 'true positive rate')"
      ]
     },
     "execution_count": 7,
     "metadata": {},
     "output_type": "execute_result"
    },
    {
     "data": {
      "text/plain": [
       "<matplotlib.legend.Legend at 0x25362cea320>"
      ]
     },
     "execution_count": 7,
     "metadata": {},
     "output_type": "execute_result"
    },
    {
     "data": {
      "text/plain": [
       "<matplotlib.axes._subplots.AxesSubplot at 0x25362cc4860>"
      ]
     },
     "execution_count": 7,
     "metadata": {},
     "output_type": "execute_result"
    },
    {
     "data": {
      "text/plain": [
       "<BarContainer object of 4 artists>"
      ]
     },
     "execution_count": 7,
     "metadata": {},
     "output_type": "execute_result"
    },
    {
     "data": {
      "text/plain": [
       "Text(0.5, 1.0, 'feature importance')"
      ]
     },
     "execution_count": 7,
     "metadata": {},
     "output_type": "execute_result"
    },
    {
     "data": {
      "text/plain": [
       "Text(0.5, 0, 'features')"
      ]
     },
     "execution_count": 7,
     "metadata": {},
     "output_type": "execute_result"
    },
    {
     "data": {
      "text/plain": [
       "Text(0, 0.5, 'importance')"
      ]
     },
     "execution_count": 7,
     "metadata": {},
     "output_type": "execute_result"
    },
    {
     "data": {
      "text/plain": [
       "Text(0.5, 0.98, 'classification result')"
      ]
     },
     "execution_count": 7,
     "metadata": {},
     "output_type": "execute_result"
    },
    {
     "data": {
      "image/png": "[encoded data removed]",
      "text/plain": [
       "<Figure size 720x360 with 2 Axes>"
      ]
     },
     "metadata": {
      "needs_background": "light"
     },
     "output_type": "display_data"
    }
   ],
   "source": [
    "# 模型效果可视化\n",
    "names_list = ['age', 'gender', 'income', 'rfm_score']  # 分类模型维度列表\n",
    "color_list = ['r', 'c', 'b', 'g']  # 颜色列表\n",
    "plt.figure(figsize=(10,5))  # 创建画布\n",
    "# 子网格1：ROC曲线\n",
    "plt.subplot(1, 2, 1)  # 第一个子网格\n",
    "plt.plot(fpr, tpr, label='ROC')  # 画出ROC曲线\n",
    "plt.plot([0, 1], [0, 1], linestyle='--', color='k', label='random chance')  # 画出随机状态下的准确率线\n",
    "plt.title('ROC')  # 子网格标题\n",
    "plt.xlabel('false positive rate')  # X轴标题\n",
    "plt.ylabel('true positive rate')  # y轴标题\n",
    "plt.legend(loc=0)\n",
    "# 子网格2：指标重要性\n",
    "feature_importance = model_tree.feature_importances_  # 获得指标重要性\n",
    "plt.subplot(1, 2, 2)  # 第二个子网格\n",
    "plt.bar(np.arange(feature_importance.shape[0]), feature_importance, tick_label=names_list, color=color_list)  # 画出条形图\n",
    "plt.title('feature importance')  # 子网格标题\n",
    "plt.xlabel('features')  # x轴标题\n",
    "plt.ylabel('importance')  # y轴标题\n",
    "plt.suptitle('classification result')  # 图形总标题"
   ]
  },
  {
   "cell_type": "code",
   "execution_count": 8,
   "metadata": {
    "ExecuteTime": {
     "end_time": "2019-01-15T00:22:54.538225Z",
     "start_time": "2019-01-15T00:22:54.387862Z"
    }
   },
   "outputs": [
    {
     "data": {
      "image/svg+xml": [
       "<?xml version=\"1.0\" encoding=\"UTF-8\" standalone=\"no\"?>\r\n",
       "<!DOCTYPE svg PUBLIC \"-//W3C//DTD SVG 1.1//EN\"\r\n",
       " \"http://www.w3.org/Graphics/SVG/1.1/DTD/svg11.dtd\">\r\n",
       "<!-- Generated by graphviz version 2.38.0 (20140413.2041)\r\n",
       " -->\r\n",
       "<!-- Title: Tree Pages: 1 -->\r\n",
       "<svg width=\"358pt\" height=\"356pt\"\r\n",
       " viewBox=\"0.00 0.00 357.50 356.00\" xmlns=\"http://www.w3.org/2000/svg\" xmlns:xlink=\"http://www.w3.org/1999/xlink\">\r\n",
       "<g id=\"graph0\" class=\"graph\" transform=\"scale(1 1) rotate(0) translate(4 352)\">\r\n",
       "<title>Tree</title>\r\n",
       "<polygon fill=\"white\" stroke=\"none\" points=\"-4,4 -4,-352 353.5,-352 353.5,4 -4,4\"/>\r\n",
       "<!-- 0 -->\r\n",
       "<g id=\"node1\" class=\"node\"><title>0</title>\r\n",
       "<path fill=\"#e58139\" fill-opacity=\"0.878431\" stroke=\"black\" d=\"M284.5,-348C284.5,-348 153.5,-348 153.5,-348 147.5,-348 141.5,-342 141.5,-336 141.5,-336 141.5,-292 141.5,-292 141.5,-286 147.5,-280 153.5,-280 153.5,-280 284.5,-280 284.5,-280 290.5,-280 296.5,-286 296.5,-292 296.5,-292 296.5,-336 296.5,-336 296.5,-342 290.5,-348 284.5,-348\"/>\r\n",
       "<text text-anchor=\"start\" x=\"161.5\" y=\"-332.8\" font-family=\"Helvetica,sans-Serif\" font-size=\"14.00\">income ≤ 55654.0</text>\r\n",
       "<text text-anchor=\"start\" x=\"181.5\" y=\"-317.8\" font-family=\"Helvetica,sans-Serif\" font-size=\"14.00\">gini = 0.192</text>\r\n",
       "<text text-anchor=\"start\" x=\"163\" y=\"-302.8\" font-family=\"Helvetica,sans-Serif\" font-size=\"14.00\">samples = 15348</text>\r\n",
       "<text text-anchor=\"start\" x=\"149.5\" y=\"-287.8\" font-family=\"Helvetica,sans-Serif\" font-size=\"14.00\">value = [13700, 1648]</text>\r\n",
       "</g>\r\n",
       "<!-- 1 -->\r\n",
       "<g id=\"node2\" class=\"node\"><title>1</title>\r\n",
       "<path fill=\"#e58139\" fill-opacity=\"0.937255\" stroke=\"black\" d=\"M206,-244C206,-244 84,-244 84,-244 78,-244 72,-238 72,-232 72,-232 72,-188 72,-188 72,-182 78,-176 84,-176 84,-176 206,-176 206,-176 212,-176 218,-182 218,-188 218,-188 218,-232 218,-232 218,-238 212,-244 206,-244\"/>\r\n",
       "<text text-anchor=\"start\" x=\"86\" y=\"-228.8\" font-family=\"Helvetica,sans-Serif\" font-size=\"14.00\">rfm_score ≤ 7.838</text>\r\n",
       "<text text-anchor=\"start\" x=\"107.5\" y=\"-213.8\" font-family=\"Helvetica,sans-Serif\" font-size=\"14.00\">gini = 0.114</text>\r\n",
       "<text text-anchor=\"start\" x=\"89\" y=\"-198.8\" font-family=\"Helvetica,sans-Serif\" font-size=\"14.00\">samples = 14581</text>\r\n",
       "<text text-anchor=\"start\" x=\"80\" y=\"-183.8\" font-family=\"Helvetica,sans-Serif\" font-size=\"14.00\">value = [13700, 881]</text>\r\n",
       "</g>\r\n",
       "<!-- 0&#45;&gt;1 -->\r\n",
       "<g id=\"edge1\" class=\"edge\"><title>0&#45;&gt;1</title>\r\n",
       "<path fill=\"none\" stroke=\"black\" d=\"M194.974,-279.884C188.641,-271.154 181.728,-261.625 175.118,-252.514\"/>\r\n",
       "<polygon fill=\"black\" stroke=\"black\" points=\"177.864,-250.338 169.158,-244.299 172.198,-254.449 177.864,-250.338\"/>\r\n",
       "<text text-anchor=\"middle\" x=\"165.23\" y=\"-265.289\" font-family=\"Helvetica,sans-Serif\" font-size=\"14.00\">True</text>\r\n",
       "</g>\r\n",
       "<!-- 2610 -->\r\n",
       "<g id=\"node9\" class=\"node\"><title>2610</title>\r\n",
       "<path fill=\"#399de5\" stroke=\"black\" d=\"M337.5,-236.5C337.5,-236.5 248.5,-236.5 248.5,-236.5 242.5,-236.5 236.5,-230.5 236.5,-224.5 236.5,-224.5 236.5,-195.5 236.5,-195.5 236.5,-189.5 242.5,-183.5 248.5,-183.5 248.5,-183.5 337.5,-183.5 337.5,-183.5 343.5,-183.5 349.5,-189.5 349.5,-195.5 349.5,-195.5 349.5,-224.5 349.5,-224.5 349.5,-230.5 343.5,-236.5 337.5,-236.5\"/>\r\n",
       "<text text-anchor=\"start\" x=\"264\" y=\"-221.3\" font-family=\"Helvetica,sans-Serif\" font-size=\"14.00\">gini = 0.0</text>\r\n",
       "<text text-anchor=\"start\" x=\"245.5\" y=\"-206.3\" font-family=\"Helvetica,sans-Serif\" font-size=\"14.00\">samples = 767</text>\r\n",
       "<text text-anchor=\"start\" x=\"244.5\" y=\"-191.3\" font-family=\"Helvetica,sans-Serif\" font-size=\"14.00\">value = [0, 767]</text>\r\n",
       "</g>\r\n",
       "<!-- 0&#45;&gt;2610 -->\r\n",
       "<g id=\"edge8\" class=\"edge\"><title>0&#45;&gt;2610</title>\r\n",
       "<path fill=\"none\" stroke=\"black\" d=\"M243.026,-279.884C251.164,-268.666 260.261,-256.126 268.441,-244.852\"/>\r\n",
       "<polygon fill=\"black\" stroke=\"black\" points=\"271.446,-246.669 274.486,-236.52 265.78,-242.559 271.446,-246.669\"/>\r\n",
       "<text text-anchor=\"middle\" x=\"278.413\" y=\"-257.509\" font-family=\"Helvetica,sans-Serif\" font-size=\"14.00\">False</text>\r\n",
       "</g>\r\n",
       "<!-- 2 -->\r\n",
       "<g id=\"node3\" class=\"node\"><title>2</title>\r\n",
       "<path fill=\"#e58139\" fill-opacity=\"0.996078\" stroke=\"black\" d=\"M122,-140C122,-140 12,-140 12,-140 6,-140 0,-134 0,-128 0,-128 0,-84 0,-84 0,-78 6,-72 12,-72 12,-72 122,-72 122,-72 128,-72 134,-78 134,-84 134,-84 134,-128 134,-128 134,-134 128,-140 122,-140\"/>\r\n",
       "<text text-anchor=\"start\" x=\"8\" y=\"-124.8\" font-family=\"Helvetica,sans-Serif\" font-size=\"14.00\">rfm_score ≤ 3.587</text>\r\n",
       "<text text-anchor=\"start\" x=\"29.5\" y=\"-109.8\" font-family=\"Helvetica,sans-Serif\" font-size=\"14.00\">gini = 0.008</text>\r\n",
       "<text text-anchor=\"start\" x=\"15.5\" y=\"-94.8\" font-family=\"Helvetica,sans-Serif\" font-size=\"14.00\">samples = 7964</text>\r\n",
       "<text text-anchor=\"start\" x=\"10\" y=\"-79.8\" font-family=\"Helvetica,sans-Serif\" font-size=\"14.00\">value = [7931, 33]</text>\r\n",
       "</g>\r\n",
       "<!-- 1&#45;&gt;2 -->\r\n",
       "<g id=\"edge2\" class=\"edge\"><title>1&#45;&gt;2</title>\r\n",
       "<path fill=\"none\" stroke=\"black\" d=\"M119.676,-175.884C113,-167.154 105.713,-157.625 98.7459,-148.514\"/>\r\n",
       "<polygon fill=\"black\" stroke=\"black\" points=\"101.319,-146.117 92.4642,-140.299 95.7585,-150.369 101.319,-146.117\"/>\r\n",
       "</g>\r\n",
       "<!-- 133 -->\r\n",
       "<g id=\"node6\" class=\"node\"><title>133</title>\r\n",
       "<path fill=\"#e58139\" fill-opacity=\"0.854902\" stroke=\"black\" d=\"M282,-140C282,-140 164,-140 164,-140 158,-140 152,-134 152,-128 152,-128 152,-84 152,-84 152,-78 158,-72 164,-72 164,-72 282,-72 282,-72 288,-72 294,-78 294,-84 294,-84 294,-128 294,-128 294,-134 288,-140 282,-140\"/>\r\n",
       "<text text-anchor=\"start\" x=\"160\" y=\"-124.8\" font-family=\"Helvetica,sans-Serif\" font-size=\"14.00\">rfm_score ≤ 19.334</text>\r\n",
       "<text text-anchor=\"start\" x=\"185.5\" y=\"-109.8\" font-family=\"Helvetica,sans-Serif\" font-size=\"14.00\">gini = 0.223</text>\r\n",
       "<text text-anchor=\"start\" x=\"171.5\" y=\"-94.8\" font-family=\"Helvetica,sans-Serif\" font-size=\"14.00\">samples = 6617</text>\r\n",
       "<text text-anchor=\"start\" x=\"162\" y=\"-79.8\" font-family=\"Helvetica,sans-Serif\" font-size=\"14.00\">value = [5769, 848]</text>\r\n",
       "</g>\r\n",
       "<!-- 1&#45;&gt;133 -->\r\n",
       "<g id=\"edge5\" class=\"edge\"><title>1&#45;&gt;133</title>\r\n",
       "<path fill=\"none\" stroke=\"black\" d=\"M170.324,-175.884C177,-167.154 184.287,-157.625 191.254,-148.514\"/>\r\n",
       "<polygon fill=\"black\" stroke=\"black\" points=\"194.242,-150.369 197.536,-140.299 188.681,-146.117 194.242,-150.369\"/>\r\n",
       "</g>\r\n",
       "<!-- 3 -->\r\n",
       "<g id=\"node4\" class=\"node\"><title>3</title>\r\n",
       "<path fill=\"#c0c0c0\" stroke=\"black\" d=\"M52,-36C52,-36 22,-36 22,-36 16,-36 10,-30 10,-24 10,-24 10,-12 10,-12 10,-6 16,-0 22,-0 22,-0 52,-0 52,-0 58,-0 64,-6 64,-12 64,-12 64,-24 64,-24 64,-30 58,-36 52,-36\"/>\r\n",
       "<text text-anchor=\"middle\" x=\"37\" y=\"-14.3\" font-family=\"Helvetica,sans-Serif\" font-size=\"14.00\">(...)</text>\r\n",
       "</g>\r\n",
       "<!-- 2&#45;&gt;3 -->\r\n",
       "<g id=\"edge3\" class=\"edge\"><title>2&#45;&gt;3</title>\r\n",
       "<path fill=\"none\" stroke=\"black\" d=\"M55.487,-71.9961C52.4797,-63.3751 49.2744,-54.1866 46.3919,-45.9234\"/>\r\n",
       "<polygon fill=\"black\" stroke=\"black\" points=\"49.6694,-44.6926 43.0709,-36.4034 43.06,-46.9982 49.6694,-44.6926\"/>\r\n",
       "</g>\r\n",
       "<!-- 4 -->\r\n",
       "<g id=\"node5\" class=\"node\"><title>4</title>\r\n",
       "<path fill=\"#c0c0c0\" stroke=\"black\" d=\"M124,-36C124,-36 94,-36 94,-36 88,-36 82,-30 82,-24 82,-24 82,-12 82,-12 82,-6 88,-0 94,-0 94,-0 124,-0 124,-0 130,-0 136,-6 136,-12 136,-12 136,-24 136,-24 136,-30 130,-36 124,-36\"/>\r\n",
       "<text text-anchor=\"middle\" x=\"109\" y=\"-14.3\" font-family=\"Helvetica,sans-Serif\" font-size=\"14.00\">(...)</text>\r\n",
       "</g>\r\n",
       "<!-- 2&#45;&gt;4 -->\r\n",
       "<g id=\"edge4\" class=\"edge\"><title>2&#45;&gt;4</title>\r\n",
       "<path fill=\"none\" stroke=\"black\" d=\"M83.1182,-71.9961C87.3747,-63.2804 91.9145,-53.9846 95.9842,-45.6514\"/>\r\n",
       "<polygon fill=\"black\" stroke=\"black\" points=\"99.2573,-46.925 100.501,-36.4034 92.9673,-43.8531 99.2573,-46.925\"/>\r\n",
       "</g>\r\n",
       "<!-- 134 -->\r\n",
       "<g id=\"node7\" class=\"node\"><title>134</title>\r\n",
       "<path fill=\"#c0c0c0\" stroke=\"black\" d=\"M217,-36C217,-36 187,-36 187,-36 181,-36 175,-30 175,-24 175,-24 175,-12 175,-12 175,-6 181,-0 187,-0 187,-0 217,-0 217,-0 223,-0 229,-6 229,-12 229,-12 229,-24 229,-24 229,-30 223,-36 217,-36\"/>\r\n",
       "<text text-anchor=\"middle\" x=\"202\" y=\"-14.3\" font-family=\"Helvetica,sans-Serif\" font-size=\"14.00\">(...)</text>\r\n",
       "</g>\r\n",
       "<!-- 133&#45;&gt;134 -->\r\n",
       "<g id=\"edge6\" class=\"edge\"><title>133&#45;&gt;134</title>\r\n",
       "<path fill=\"none\" stroke=\"black\" d=\"M214.941,-71.9961C212.859,-63.4699 210.641,-54.3885 208.641,-46.1962\"/>\r\n",
       "<polygon fill=\"black\" stroke=\"black\" points=\"212.022,-45.2877 206.25,-36.4034 205.222,-46.9482 212.022,-45.2877\"/>\r\n",
       "</g>\r\n",
       "<!-- 2249 -->\r\n",
       "<g id=\"node8\" class=\"node\"><title>2249</title>\r\n",
       "<path fill=\"#c0c0c0\" stroke=\"black\" d=\"M289,-36C289,-36 259,-36 259,-36 253,-36 247,-30 247,-24 247,-24 247,-12 247,-12 247,-6 253,-0 259,-0 259,-0 289,-0 289,-0 295,-0 301,-6 301,-12 301,-12 301,-24 301,-24 301,-30 295,-36 289,-36\"/>\r\n",
       "<text text-anchor=\"middle\" x=\"274\" y=\"-14.3\" font-family=\"Helvetica,sans-Serif\" font-size=\"14.00\">(...)</text>\r\n",
       "</g>\r\n",
       "<!-- 133&#45;&gt;2249 -->\r\n",
       "<g id=\"edge7\" class=\"edge\"><title>133&#45;&gt;2249</title>\r\n",
       "<path fill=\"none\" stroke=\"black\" d=\"M242.572,-71.9961C247.853,-63.0909 253.493,-53.5802 258.517,-45.1093\"/>\r\n",
       "<polygon fill=\"black\" stroke=\"black\" points=\"261.589,-46.79 263.679,-36.4034 255.568,-43.2194 261.589,-46.79\"/>\r\n",
       "</g>\r\n",
       "</g>\r\n",
       "</svg>\r\n"
      ],
      "text/plain": [
       "<graphviz.files.Source at 0x25360769c18>"
      ]
     },
     "execution_count": 8,
     "metadata": {},
     "output_type": "execute_result"
    }
   ],
   "source": [
    "# 保存决策树规则图为PDF文件\n",
    "dot_tree = tree.export_graphviz(model_tree,out_file=None,feature_names=names_list,max_depth=2,\n",
    "                                filled=True, rounded=True,special_characters=True)# 将决策树规则生成dot对象\n",
    "graph = graphviz.Source(dot_tree)\n",
    "graph"
   ]
  },
  {
   "cell_type": "code",
   "execution_count": 9,
   "metadata": {
    "ExecuteTime": {
     "end_time": "2019-01-15T00:22:59.422826Z",
     "start_time": "2019-01-15T00:22:59.417873Z"
    }
   },
   "outputs": [
    {
     "name": "stdout",
     "output_type": "stream",
     "text": [
      "classification prediction\n",
      "classification for 1 record is: 0\n",
      "classification for 2 record is: 0\n",
      "classification for 3 record is: 1\n"
     ]
    }
   ],
   "source": [
    "# 模型应用\n",
    "X_new = [[40, 0, 55616, 0], [17, 0, 55568, 0], [55, 1, 55932, 1]]\n",
    "print ('classification prediction')\n",
    "for i, data in enumerate(X_new):\n",
    "    y_pre_new = model_tree.predict(np.array(data).reshape(1,-1))\n",
    "    print ('classification for %d record is: %d' % (i + 1, y_pre_new))"
   ]
  },
  {
   "cell_type": "markdown",
   "metadata": {},
   "source": [
    "# 关联分析"
   ]
  },
  {
   "cell_type": "code",
   "execution_count": 5,
   "metadata": {
    "ExecuteTime": {
     "end_time": "2019-01-16T00:32:14.966534Z",
     "start_time": "2019-01-16T00:32:14.957623Z"
    }
   },
   "outputs": [],
   "source": [
    "# 导入库\n",
    "import sys\n",
    "\n",
    "sys.path.append('./datacode_for_book/chapter4/')\n",
    "import pandas as pd\n",
    "from graphviz import Digraph\n",
    "import graphviz\n",
    "import apriori,apriori_original"
   ]
  },
  {
   "cell_type": "code",
   "execution_count": 6,
   "metadata": {
    "ExecuteTime": {
     "end_time": "2019-01-16T00:32:17.657043Z",
     "start_time": "2019-01-16T00:32:17.653589Z"
    }
   },
   "outputs": [],
   "source": [
    "# 定义数据文件\n",
    "fileName = './datacode_for_book/chapter4/association.txt'"
   ]
  },
  {
   "cell_type": "code",
   "execution_count": 56,
   "metadata": {
    "ExecuteTime": {
     "end_time": "2019-01-16T01:29:16.542843Z",
     "start_time": "2019-01-16T01:29:16.498183Z"
    },
    "scrolled": false
   },
   "outputs": [
    {
     "data": {
      "text/plain": [
       "<module 'apriori' from './datacode_for_book/chapter4\\\\apriori.py'>"
      ]
     },
     "execution_count": 56,
     "metadata": {},
     "output_type": "execute_result"
    },
    {
     "data": {
      "text/plain": [
       "[['17092020299', '38660935334', '10939241167', '19957944783', '4002591'],\n",
       " ['38728350298', '17288980167', '14375520337', '4002591', '19957944783'],\n",
       " ['17092020299', '38660935334', '9212465263', '36989298167', '36989298167']]"
      ]
     },
     "execution_count": 56,
     "metadata": {},
     "output_type": "execute_result"
    },
    {
     "name": "stdout",
     "output_type": "stream",
     "text": [
      "['38657641492']\n",
      "[]\n",
      "['3382890']\n",
      "[]\n",
      "['38421985606']\n",
      "[]\n",
      "['30562668862']\n",
      "[]\n",
      "['24269805380']\n",
      "[]\n",
      "['13943415375']\n",
      "[]\n",
      "['666631']\n",
      "[]\n",
      "['38722052311']\n",
      "[]\n",
      "['9212465263']\n",
      "[]\n",
      "['36989298167']\n",
      "[]\n",
      "['38728350298']\n",
      "[]\n",
      "['17288980167']\n",
      "[]\n",
      "['14375520337']\n",
      "[]\n",
      "['4002591']\n",
      "[]\n",
      "['38660935334']\n",
      "[]\n",
      "['19957944783']\n",
      "[]\n",
      "['17092020299']\n",
      "[]\n",
      "['10939241167']\n",
      "[]\n",
      "[]\n",
      "['38657641492']\n",
      "['38657641492']\n",
      "['3382890']\n",
      "['3382890']\n",
      "['38421985606']\n",
      "['38421985606']\n",
      "['30562668862']\n",
      "['30562668862']\n",
      "['24269805380']\n",
      "['24269805380']\n",
      "['13943415375']\n",
      "['13943415375']\n",
      "['666631']\n",
      "['666631']\n",
      "['38722052311']\n",
      "['38722052311']\n",
      "['9212465263']\n",
      "['9212465263']\n",
      "['36989298167']\n",
      "['36989298167']\n",
      "['38728350298']\n",
      "['38728350298']\n",
      "['17288980167']\n",
      "['17288980167']\n",
      "['14375520337']\n",
      "['14375520337']\n",
      "['4002591']\n",
      "['4002591']\n",
      "['38660935334']\n",
      "['38660935334']\n",
      "['19957944783']\n",
      "['19957944783']\n",
      "['17092020299']\n",
      "['17092020299']\n",
      "['10939241167']\n",
      "['10939241167']\n",
      "[]\n",
      "[]\n",
      "[]\n",
      "['38657641492']\n",
      "['38657641492']\n",
      "['3382890']\n",
      "['3382890']\n",
      "['38421985606']\n",
      "['38421985606']\n",
      "['30562668862']\n",
      "['30562668862']\n",
      "['24269805380']\n",
      "['24269805380']\n",
      "['13943415375']\n",
      "['13943415375']\n",
      "['666631']\n",
      "['666631']\n",
      "['38722052311']\n",
      "['38722052311']\n",
      "['9212465263']\n",
      "['9212465263']\n",
      "['36989298167']\n",
      "['36989298167']\n",
      "['38728350298']\n",
      "['38728350298']\n",
      "['17288980167']\n",
      "['17288980167']\n",
      "['14375520337']\n",
      "['14375520337']\n",
      "['4002591']\n",
      "['4002591']\n",
      "['38660935334']\n",
      "['38660935334']\n",
      "['19957944783']\n",
      "['19957944783']\n",
      "['17092020299']\n",
      "['17092020299']\n",
      "['10939241167']\n",
      "['10939241167']\n",
      "[]\n",
      "[]\n",
      "[]\n",
      "[]\n",
      "[]\n",
      "['38657641492']\n",
      "['38657641492']\n",
      "['3382890']\n",
      "['3382890']\n",
      "['38421985606']\n",
      "['38421985606']\n",
      "['30562668862']\n",
      "['30562668862']\n",
      "['24269805380']\n",
      "['24269805380']\n",
      "['13943415375']\n",
      "['13943415375']\n",
      "['666631']\n",
      "['666631']\n",
      "['38722052311']\n",
      "['38722052311']\n",
      "['9212465263']\n",
      "['9212465263']\n",
      "['36989298167']\n",
      "['36989298167']\n",
      "['38728350298']\n",
      "['38728350298']\n",
      "['17288980167']\n",
      "['17288980167']\n",
      "['14375520337']\n",
      "['14375520337']\n",
      "['4002591']\n",
      "['4002591']\n",
      "['38660935334']\n",
      "['38660935334']\n",
      "['19957944783']\n",
      "['19957944783']\n",
      "['17092020299']\n",
      "['17092020299']\n",
      "['10939241167']\n",
      "['10939241167']\n",
      "[]\n",
      "[]\n",
      "[]\n",
      "[]\n",
      "[]\n",
      "[]\n",
      "[]\n",
      "['38657641492']\n",
      "['38657641492']\n",
      "['3382890']\n",
      "['3382890']\n",
      "['38421985606']\n",
      "['38421985606']\n",
      "['30562668862']\n",
      "['30562668862']\n",
      "['24269805380']\n",
      "['24269805380']\n",
      "['13943415375']\n",
      "['13943415375']\n",
      "['666631']\n",
      "['666631']\n",
      "['38722052311']\n",
      "['38722052311']\n",
      "['9212465263']\n",
      "['9212465263']\n",
      "['36989298167']\n",
      "['36989298167']\n",
      "['38728350298']\n",
      "['38728350298']\n",
      "['17288980167']\n",
      "['17288980167']\n",
      "['14375520337']\n",
      "['14375520337']\n",
      "['4002591']\n",
      "['4002591']\n",
      "['38660935334']\n",
      "['38660935334']\n",
      "['19957944783']\n",
      "['19957944783']\n",
      "['17092020299']\n",
      "['17092020299']\n",
      "['10939241167']\n",
      "['10939241167']\n",
      "[]\n",
      "[]\n",
      "[]\n",
      "[]\n",
      "[]\n",
      "[]\n",
      "[]\n",
      "[]\n",
      "[]\n",
      "['38657641492']\n",
      "['38657641492']\n",
      "['3382890']\n",
      "['3382890']\n",
      "['38421985606']\n",
      "['38421985606']\n",
      "['30562668862']\n",
      "['30562668862']\n",
      "['24269805380']\n",
      "['24269805380']\n",
      "['13943415375']\n",
      "['13943415375']\n",
      "['666631']\n",
      "['666631']\n",
      "['38722052311']\n",
      "['38722052311']\n",
      "['9212465263']\n",
      "['9212465263']\n",
      "['36989298167']\n",
      "['36989298167']\n",
      "['38728350298']\n",
      "['38728350298']\n",
      "['17288980167']\n",
      "['17288980167']\n",
      "['14375520337']\n",
      "['14375520337']\n",
      "['4002591']\n",
      "['4002591']\n",
      "['38660935334']\n",
      "['38660935334']\n",
      "['19957944783']\n",
      "['19957944783']\n",
      "['17092020299']\n",
      "['17092020299']\n",
      "['10939241167']\n",
      "['10939241167']\n",
      "[]\n",
      "[]\n",
      "[]\n",
      "[]\n",
      "[]\n",
      "[]\n",
      "[]\n",
      "[]\n",
      "[]\n",
      "[]\n",
      "[]\n",
      "['38657641492']\n",
      "['38657641492']\n",
      "['3382890']\n",
      "['3382890']\n",
      "['38421985606']\n",
      "['38421985606']\n",
      "['30562668862']\n",
      "['30562668862']\n",
      "['24269805380']\n",
      "['24269805380']\n",
      "['13943415375']\n",
      "['13943415375']\n",
      "['666631']\n",
      "['666631']\n",
      "['38722052311']\n",
      "['38722052311']\n",
      "['9212465263']\n",
      "['9212465263']\n",
      "['36989298167']\n",
      "['36989298167']\n",
      "['38728350298']\n",
      "['38728350298']\n",
      "['17288980167']\n",
      "['17288980167']\n",
      "['14375520337']\n",
      "['14375520337']\n",
      "['4002591']\n",
      "['4002591']\n",
      "['38660935334']\n",
      "['38660935334']\n",
      "['19957944783']\n",
      "['19957944783']\n",
      "['17092020299']\n",
      "['17092020299']\n",
      "['10939241167']\n",
      "['10939241167']\n",
      "[]\n",
      "[]\n",
      "[]\n",
      "[]\n",
      "[]\n",
      "[]\n",
      "[]\n",
      "[]\n",
      "[]\n",
      "[]\n",
      "[]\n",
      "[]\n",
      "[]\n",
      "['38657641492']\n",
      "['38657641492']\n",
      "['3382890']\n",
      "['3382890']\n",
      "['38421985606']\n",
      "['38421985606']\n",
      "['30562668862']\n",
      "['30562668862']\n",
      "['24269805380']\n",
      "['24269805380']\n",
      "['13943415375']\n",
      "['13943415375']\n",
      "['666631']\n",
      "['666631']\n",
      "['38722052311']\n",
      "['38722052311']\n",
      "['9212465263']\n",
      "['9212465263']\n",
      "['36989298167']\n",
      "['36989298167']\n",
      "['38728350298']\n",
      "['38728350298']\n",
      "['17288980167']\n",
      "['17288980167']\n",
      "['14375520337']\n",
      "['14375520337']\n",
      "['4002591']\n",
      "['4002591']\n",
      "['38660935334']\n",
      "['38660935334']\n",
      "['19957944783']\n",
      "['19957944783']\n",
      "['17092020299']\n",
      "['17092020299']\n",
      "['10939241167']\n",
      "['10939241167']\n",
      "[]\n",
      "[]\n",
      "[]\n",
      "[]\n",
      "[]\n",
      "[]\n",
      "[]\n",
      "[]\n",
      "[]\n",
      "[]\n",
      "[]\n",
      "[]\n",
      "[]\n",
      "[]\n",
      "[]\n",
      "['38657641492']\n",
      "['38657641492']\n",
      "['3382890']\n",
      "['3382890']\n",
      "['38421985606']\n",
      "['38421985606']\n",
      "['30562668862']\n",
      "['30562668862']\n",
      "['24269805380']\n",
      "['24269805380']\n",
      "['13943415375']\n",
      "['13943415375']\n",
      "['666631']\n",
      "['666631']\n",
      "['38722052311']\n",
      "['38722052311']\n",
      "['9212465263']\n",
      "['9212465263']\n",
      "['36989298167']\n",
      "['36989298167']\n",
      "['38728350298']\n",
      "['38728350298']\n",
      "['17288980167']\n",
      "['17288980167']\n",
      "['14375520337']\n",
      "['14375520337']\n",
      "['4002591']\n",
      "['4002591']\n",
      "['38660935334']\n",
      "['38660935334']\n",
      "['19957944783']\n",
      "['19957944783']\n",
      "['17092020299']\n",
      "['17092020299']\n",
      "['10939241167']\n",
      "['10939241167']\n",
      "[]\n",
      "[]\n",
      "[]\n",
      "[]\n",
      "[]\n",
      "[]\n",
      "[]\n",
      "[]\n",
      "[]\n",
      "[]\n",
      "[]\n",
      "[]\n",
      "[]\n",
      "[]\n",
      "[]\n",
      "[]\n",
      "[]\n",
      "['38657641492']\n",
      "['38657641492']\n",
      "['3382890']\n",
      "['3382890']\n",
      "['38421985606']\n",
      "['38421985606']\n",
      "['30562668862']\n",
      "['30562668862']\n",
      "['24269805380']\n",
      "['24269805380']\n",
      "['13943415375']\n",
      "['13943415375']\n",
      "['666631']\n",
      "['666631']\n",
      "['38722052311']\n",
      "['38722052311']\n",
      "['9212465263']\n",
      "['9212465263']\n",
      "['36989298167']\n",
      "['36989298167']\n",
      "['38728350298']\n",
      "['38728350298']\n",
      "['17288980167']\n",
      "['17288980167']\n",
      "['14375520337']\n",
      "['14375520337']\n",
      "['4002591']\n",
      "['4002591']\n",
      "['38660935334']\n",
      "['38660935334']\n",
      "['19957944783']\n",
      "['19957944783']\n",
      "['17092020299']\n",
      "['17092020299']\n",
      "['10939241167']\n",
      "['10939241167']\n",
      "[]\n",
      "[]\n",
      "[]\n",
      "[]\n",
      "[]\n",
      "[]\n",
      "[]\n",
      "[]\n",
      "[]\n",
      "[]\n",
      "[]\n",
      "[]\n",
      "[]\n",
      "[]\n",
      "[]\n",
      "[]\n",
      "[]\n",
      "[]\n",
      "[]\n",
      "['38657641492']\n",
      "['38657641492']\n",
      "['3382890']\n",
      "['3382890']\n",
      "['38421985606']\n",
      "['38421985606']\n",
      "['30562668862']\n",
      "['30562668862']\n",
      "['24269805380']\n",
      "['24269805380']\n",
      "['13943415375']\n",
      "['13943415375']\n",
      "['666631']\n",
      "['666631']\n",
      "['38722052311']\n",
      "['38722052311']\n",
      "['9212465263']\n",
      "['9212465263']\n",
      "['36989298167']\n",
      "['36989298167']\n",
      "['38728350298']\n",
      "['38728350298']\n",
      "['17288980167']\n",
      "['17288980167']\n",
      "['14375520337']\n",
      "['14375520337']\n",
      "['4002591']\n",
      "['4002591']\n",
      "['38660935334']\n",
      "['38660935334']\n",
      "['19957944783']\n",
      "['19957944783']\n",
      "['17092020299']\n",
      "['17092020299']\n",
      "['10939241167']\n",
      "['10939241167']\n",
      "[]\n",
      "[]\n",
      "[]\n",
      "[]\n",
      "[]\n",
      "[]\n",
      "[]\n",
      "[]\n",
      "[]\n",
      "[]\n",
      "[]\n",
      "[]\n",
      "[]\n",
      "[]\n",
      "[]\n",
      "[]\n",
      "[]\n",
      "[]\n",
      "[]\n",
      "[]\n",
      "[]\n",
      "['38657641492']\n",
      "['38657641492']\n",
      "['3382890']\n",
      "['3382890']\n",
      "['38421985606']\n",
      "['38421985606']\n",
      "['30562668862']\n",
      "['30562668862']\n",
      "['24269805380']\n",
      "['24269805380']\n",
      "['13943415375']\n",
      "['13943415375']\n",
      "['666631']\n",
      "['666631']\n",
      "['38722052311']\n",
      "['38722052311']\n",
      "['9212465263']\n",
      "['9212465263']\n",
      "['36989298167']\n",
      "['36989298167']\n",
      "['38728350298']\n",
      "['38728350298']\n",
      "['17288980167']\n",
      "['17288980167']\n",
      "['14375520337']\n",
      "['14375520337']\n",
      "['4002591']\n",
      "['4002591']\n",
      "['38660935334']\n",
      "['38660935334']\n",
      "['19957944783']\n",
      "['19957944783']\n",
      "['17092020299']\n",
      "['17092020299']\n",
      "['10939241167']\n",
      "['10939241167']\n",
      "[]\n",
      "[]\n",
      "[]\n",
      "[]\n",
      "[]\n",
      "[]\n",
      "[]\n",
      "[]\n",
      "[]\n",
      "[]\n",
      "[]\n",
      "[]\n",
      "[]\n",
      "[]\n",
      "[]\n",
      "[]\n",
      "[]\n",
      "[]\n",
      "[]\n",
      "[]\n",
      "[]\n",
      "[]\n",
      "[]\n",
      "['38657641492']\n",
      "['38657641492']\n",
      "['3382890']\n",
      "['3382890']\n",
      "['38421985606']\n",
      "['38421985606']\n",
      "['30562668862']\n",
      "['30562668862']\n",
      "['24269805380']\n",
      "['24269805380']\n",
      "['13943415375']\n",
      "['13943415375']\n",
      "['666631']\n",
      "['666631']\n",
      "['38722052311']\n",
      "['38722052311']\n",
      "['9212465263']\n",
      "['9212465263']\n",
      "['36989298167']\n",
      "['36989298167']\n",
      "['38728350298']\n",
      "['38728350298']\n",
      "['17288980167']\n",
      "['17288980167']\n",
      "['14375520337']\n",
      "['14375520337']\n",
      "['4002591']\n",
      "['4002591']\n",
      "['38660935334']\n",
      "['38660935334']\n",
      "['19957944783']\n",
      "['19957944783']\n",
      "['17092020299']\n",
      "['17092020299']\n",
      "['10939241167']\n",
      "['10939241167']\n",
      "[]\n",
      "[]\n",
      "[]\n",
      "[]\n",
      "[]\n",
      "[]\n",
      "[]\n",
      "[]\n",
      "[]\n",
      "[]\n",
      "[]\n",
      "[]\n",
      "[]\n",
      "[]\n",
      "[]\n",
      "[]\n",
      "[]\n",
      "[]\n",
      "[]\n",
      "[]\n",
      "[]\n",
      "[]\n",
      "[]\n",
      "[]\n",
      "[]\n",
      "['38657641492']\n",
      "['38657641492']\n",
      "['3382890']\n",
      "['3382890']\n",
      "['38421985606']\n",
      "['38421985606']\n",
      "['30562668862']\n",
      "['30562668862']\n",
      "['24269805380']\n",
      "['24269805380']\n",
      "['13943415375']\n",
      "['13943415375']\n",
      "['666631']\n",
      "['666631']\n",
      "['38722052311']\n",
      "['38722052311']\n",
      "['9212465263']\n",
      "['9212465263']\n",
      "['36989298167']\n",
      "['36989298167']\n",
      "['38728350298']\n",
      "['38728350298']\n",
      "['17288980167']\n",
      "['17288980167']\n",
      "['14375520337']\n",
      "['14375520337']\n",
      "['4002591']\n",
      "['4002591']\n",
      "['38660935334']\n",
      "['38660935334']\n",
      "['19957944783']\n",
      "['19957944783']\n",
      "['17092020299']\n",
      "['17092020299']\n",
      "['10939241167']\n",
      "['10939241167']\n",
      "[]\n",
      "[]\n",
      "[]\n",
      "[]\n",
      "[]\n",
      "[]\n",
      "[]\n",
      "[]\n",
      "[]\n",
      "[]\n",
      "[]\n",
      "[]\n",
      "[]\n",
      "[]\n",
      "[]\n",
      "[]\n",
      "[]\n",
      "[]\n",
      "[]\n",
      "[]\n",
      "[]\n",
      "[]\n",
      "[]\n",
      "[]\n",
      "[]\n",
      "[]\n",
      "[]\n",
      "['38657641492']\n",
      "['38657641492']\n",
      "['3382890']\n",
      "['3382890']\n",
      "['38421985606']\n",
      "['38421985606']\n",
      "['30562668862']\n",
      "['30562668862']\n",
      "['24269805380']\n",
      "['24269805380']\n",
      "['13943415375']\n",
      "['13943415375']\n",
      "['666631']\n",
      "['666631']\n",
      "['38722052311']\n",
      "['38722052311']\n",
      "['9212465263']\n",
      "['9212465263']\n",
      "['36989298167']\n",
      "['36989298167']\n",
      "['38728350298']\n",
      "['38728350298']\n",
      "['17288980167']\n",
      "['17288980167']\n",
      "['14375520337']\n",
      "['14375520337']\n",
      "['4002591']\n",
      "['4002591']\n",
      "['38660935334']\n",
      "['38660935334']\n",
      "['19957944783']\n",
      "['19957944783']\n",
      "['17092020299']\n",
      "['17092020299']\n",
      "['10939241167']\n",
      "['10939241167']\n",
      "[]\n",
      "[]\n",
      "[]\n",
      "[]\n",
      "[]\n",
      "[]\n",
      "[]\n",
      "[]\n",
      "[]\n",
      "[]\n",
      "[]\n",
      "[]\n",
      "[]\n",
      "[]\n",
      "[]\n",
      "[]\n",
      "[]\n",
      "[]\n",
      "[]\n",
      "[]\n",
      "[]\n",
      "[]\n",
      "[]\n",
      "[]\n",
      "[]\n",
      "[]\n",
      "[]\n",
      "[]\n",
      "[]\n",
      "['38657641492']\n",
      "['38657641492']\n",
      "['3382890']\n",
      "['3382890']\n",
      "['38421985606']\n",
      "['38421985606']\n",
      "['30562668862']\n",
      "['30562668862']\n",
      "['24269805380']\n",
      "['24269805380']\n",
      "['13943415375']\n",
      "['13943415375']\n",
      "['666631']\n",
      "['666631']\n",
      "['38722052311']\n",
      "['38722052311']\n",
      "['9212465263']\n",
      "['9212465263']\n",
      "['36989298167']\n",
      "['36989298167']\n",
      "['38728350298']\n",
      "['38728350298']\n",
      "['17288980167']\n",
      "['17288980167']\n",
      "['14375520337']\n",
      "['14375520337']\n",
      "['4002591']\n",
      "['4002591']\n",
      "['38660935334']\n",
      "['38660935334']\n",
      "['19957944783']\n",
      "['19957944783']\n",
      "['17092020299']\n",
      "['17092020299']\n",
      "['10939241167']\n",
      "['10939241167']\n",
      "[]\n",
      "[]\n",
      "[]\n",
      "[]\n",
      "[]\n",
      "[]\n",
      "[]\n",
      "[]\n",
      "[]\n",
      "[]\n",
      "[]\n",
      "[]\n",
      "[]\n",
      "[]\n",
      "[]\n",
      "[]\n",
      "[]\n",
      "[]\n",
      "[]\n",
      "[]\n",
      "[]\n",
      "[]\n",
      "[]\n",
      "[]\n",
      "[]\n",
      "[]\n",
      "[]\n",
      "[]\n",
      "[]\n",
      "[]\n",
      "[]\n",
      "['38657641492']\n",
      "['38657641492']\n",
      "['3382890']\n",
      "['3382890']\n",
      "['38421985606']\n",
      "['38421985606']\n",
      "['30562668862']\n",
      "['30562668862']\n",
      "['24269805380']\n",
      "['24269805380']\n",
      "['13943415375']\n",
      "['13943415375']\n",
      "['666631']\n",
      "['666631']\n",
      "['38722052311']\n",
      "['38722052311']\n",
      "['9212465263']\n",
      "['9212465263']\n",
      "['36989298167']\n",
      "['36989298167']\n",
      "['38728350298']\n",
      "['38728350298']\n",
      "['17288980167']\n",
      "['17288980167']\n",
      "['14375520337']\n",
      "['14375520337']\n",
      "['4002591']\n",
      "['4002591']\n",
      "['38660935334']\n",
      "['38660935334']\n",
      "['19957944783']\n",
      "['19957944783']\n",
      "['17092020299']\n",
      "['17092020299']\n",
      "['10939241167']\n",
      "['10939241167']\n",
      "[]\n",
      "[]\n",
      "[]\n",
      "[]\n",
      "[]\n",
      "[]\n",
      "[]\n",
      "[]\n",
      "[]\n",
      "[]\n",
      "[]\n",
      "[]\n",
      "[]\n",
      "[]\n",
      "[]\n",
      "[]\n",
      "[]\n",
      "[]\n",
      "[]\n",
      "[]\n",
      "[]\n",
      "[]\n",
      "[]\n",
      "[]\n",
      "[]\n",
      "[]\n",
      "[]\n",
      "[]\n",
      "[]\n",
      "[]\n",
      "[]\n",
      "[]\n",
      "[]\n",
      "['38657641492']\n",
      "['38657641492']\n",
      "['3382890']\n",
      "['3382890']\n",
      "['38421985606']\n",
      "['38421985606']\n",
      "['30562668862']\n",
      "['30562668862']\n",
      "['24269805380']\n",
      "['24269805380']\n",
      "['13943415375']\n",
      "['13943415375']\n",
      "['666631']\n",
      "['666631']\n",
      "['38722052311']\n",
      "['38722052311']\n",
      "['9212465263']\n",
      "['9212465263']\n",
      "['36989298167']\n",
      "['36989298167']\n",
      "['38728350298']\n",
      "['38728350298']\n",
      "['17288980167']\n",
      "['17288980167']\n",
      "['14375520337']\n",
      "['14375520337']\n",
      "['4002591']\n",
      "['4002591']\n",
      "['38660935334']\n",
      "['38660935334']\n",
      "['19957944783']\n",
      "['19957944783']\n",
      "['17092020299']\n",
      "['17092020299']\n",
      "['10939241167']\n",
      "['10939241167']\n",
      "[]\n",
      "[]\n",
      "[]\n",
      "[]\n",
      "[]\n",
      "[]\n",
      "[]\n",
      "[]\n",
      "[]\n",
      "[]\n",
      "[]\n",
      "[]\n",
      "[]\n",
      "[]\n",
      "[]\n",
      "[]\n",
      "[]\n",
      "[]\n",
      "[]\n",
      "[]\n",
      "[]\n",
      "[]\n",
      "[]\n",
      "[]\n",
      "[]\n",
      "[]\n",
      "[]\n",
      "[]\n",
      "[]\n",
      "[]\n",
      "[]\n",
      "[]\n",
      "[]\n",
      "[]\n",
      "[]\n"
     ]
    }
   ],
   "source": [
    "from importlib import reload\n",
    "reload(apriori)\n",
    "# 通过调用自定义的apriori做关联分析\n",
    "minS = 0.1  # 定义最小支持度阀值\n",
    "minC = 0.38  # 定义最小置信度阀值\n",
    "dataSet = apriori.createData(fileName)  # 获取格式化的数据集\n",
    "dataSet[:3]\n",
    "L, suppData = apriori.apriori(dataSet, minSupport=minS)  # 计算得到满足最小支持度的规则\n",
    "# rules = apriori.generateRules(fileName, L, suppData, minConf=minC)  # 计算满足最小置信度的规则\n",
    "# rules"
   ]
  },
  {
   "cell_type": "code",
   "execution_count": null,
   "metadata": {},
   "outputs": [],
   "source": []
  }
 ],
 "metadata": {
  "hide_input": false,
  "kernelspec": {
   "display_name": "Python 3",
   "language": "python",
   "name": "python3"
  },
  "language_info": {
   "codemirror_mode": {
    "name": "ipython",
    "version": 3
   },
   "file_extension": ".py",
   "mimetype": "text/x-python",
   "name": "python",
   "nbconvert_exporter": "python",
   "pygments_lexer": "ipython3",
   "version": "3.7.0"
  },
  "nbTranslate": {
   "displayLangs": [
    "*"
   ],
   "hotkey": "alt-t",
   "langInMainMenu": true,
   "sourceLang": "en",
   "targetLang": "fr",
   "useGoogleTranslate": true
  },
  "toc": {
   "base_numbering": 1,
   "nav_menu": {},
   "number_sections": true,
   "sideBar": true,
   "skip_h1_title": false,
   "title_cell": "Table of Contents",
   "title_sidebar": "Contents",
   "toc_cell": false,
   "toc_position": {},
   "toc_section_display": true,
   "toc_window_display": true
  },
  "varInspector": {
   "cols": {
    "lenName": 16,
    "lenType": 16,
    "lenVar": 40
   },
   "kernels_config": {
    "python": {
     "delete_cmd_postfix": "",
     "delete_cmd_prefix": "del ",
     "library": "var_list.py",
     "varRefreshCmd": "print(var_dic_list())"
    },
    "r": {
     "delete_cmd_postfix": ") ",
     "delete_cmd_prefix": "rm(",
     "library": "var_list.r",
     "varRefreshCmd": "cat(var_dic_list()) "
    }
   },
   "types_to_exclude": [
    "module",
    "function",
    "builtin_function_or_method",
    "instance",
    "_Feature"
   ],
   "window_display": false
  }
 },
 "nbformat": 4,
 "nbformat_minor": 2
}
