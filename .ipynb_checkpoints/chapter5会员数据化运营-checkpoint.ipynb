{
 "cells": [
  {
   "cell_type": "code",
   "execution_count": 6,
   "metadata": {
    "ExecuteTime": {
     "end_time": "2019-02-18T00:55:39.131151Z",
     "start_time": "2019-02-18T00:55:38.948614Z"
    }
   },
   "outputs": [
    {
     "data": {
      "text/html": [
       "<div>\n",
       "<style scoped>\n",
       "    .dataframe tbody tr th:only-of-type {\n",
       "        vertical-align: middle;\n",
       "    }\n",
       "\n",
       "    .dataframe tbody tr th {\n",
       "        vertical-align: top;\n",
       "    }\n",
       "\n",
       "    .dataframe thead th {\n",
       "        text-align: right;\n",
       "    }\n",
       "</style>\n",
       "<table border=\"1\" class=\"dataframe\">\n",
       "  <thead>\n",
       "    <tr style=\"text-align: right;\">\n",
       "      <th></th>\n",
       "      <th>USERID</th>\n",
       "      <th>ORDERDATE</th>\n",
       "      <th>ORDERID</th>\n",
       "      <th>AMOUNTINFO</th>\n",
       "    </tr>\n",
       "  </thead>\n",
       "  <tbody>\n",
       "    <tr>\n",
       "      <th>0</th>\n",
       "      <td>142074</td>\n",
       "      <td>2016-01-01</td>\n",
       "      <td>4196439032</td>\n",
       "      <td>9399.0</td>\n",
       "    </tr>\n",
       "    <tr>\n",
       "      <th>1</th>\n",
       "      <td>56927</td>\n",
       "      <td>2016-01-01</td>\n",
       "      <td>4198324983</td>\n",
       "      <td>8799.0</td>\n",
       "    </tr>\n",
       "    <tr>\n",
       "      <th>2</th>\n",
       "      <td>87058</td>\n",
       "      <td>2016-01-01</td>\n",
       "      <td>4191287379</td>\n",
       "      <td>6899.0</td>\n",
       "    </tr>\n",
       "    <tr>\n",
       "      <th>3</th>\n",
       "      <td>136104</td>\n",
       "      <td>2016-01-01</td>\n",
       "      <td>4198508313</td>\n",
       "      <td>5999.0</td>\n",
       "    </tr>\n",
       "    <tr>\n",
       "      <th>4</th>\n",
       "      <td>117831</td>\n",
       "      <td>2016-01-01</td>\n",
       "      <td>4202238313</td>\n",
       "      <td>5399.0</td>\n",
       "    </tr>\n",
       "  </tbody>\n",
       "</table>\n",
       "</div>"
      ],
      "text/plain": [
       "   USERID   ORDERDATE     ORDERID  AMOUNTINFO\n",
       "0  142074  2016-01-01  4196439032      9399.0\n",
       "1   56927  2016-01-01  4198324983      8799.0\n",
       "2   87058  2016-01-01  4191287379      6899.0\n",
       "3  136104  2016-01-01  4198508313      5999.0\n",
       "4  117831  2016-01-01  4202238313      5399.0"
      ]
     },
     "execution_count": 6,
     "metadata": {},
     "output_type": "execute_result"
    }
   ],
   "source": [
    "with open('./datacode_for_book/chapter5/sales.csv','r',encoding='utf-8') as f:\n",
    "    data = pd.read_csv(f)\n",
    "   \n",
    "\n",
    "data['ORDERID'] = data['ORDERID'].astype('object')\n",
    "data['USERID'] = data['USERID'].astype('object')\n",
    "data[:5]"
   ]
  },
  {
   "cell_type": "code",
   "execution_count": 8,
   "metadata": {
    "ExecuteTime": {
     "end_time": "2019-02-18T00:55:48.812353Z",
     "start_time": "2019-02-18T00:55:48.687686Z"
    }
   },
   "outputs": [
    {
     "data": {
      "text/html": [
       "<div>\n",
       "<style scoped>\n",
       "    .dataframe tbody tr th:only-of-type {\n",
       "        vertical-align: middle;\n",
       "    }\n",
       "\n",
       "    .dataframe tbody tr th {\n",
       "        vertical-align: top;\n",
       "    }\n",
       "\n",
       "    .dataframe thead th {\n",
       "        text-align: right;\n",
       "    }\n",
       "</style>\n",
       "<table border=\"1\" class=\"dataframe\">\n",
       "  <thead>\n",
       "    <tr style=\"text-align: right;\">\n",
       "      <th></th>\n",
       "      <th>USERID</th>\n",
       "      <th>ORDERDATE</th>\n",
       "      <th>ORDERID</th>\n",
       "      <th>AMOUNTINFO</th>\n",
       "    </tr>\n",
       "  </thead>\n",
       "  <tbody>\n",
       "    <tr>\n",
       "      <th>count</th>\n",
       "      <td>86135.0</td>\n",
       "      <td>86133</td>\n",
       "      <td>8.613500e+04</td>\n",
       "      <td>86127.000000</td>\n",
       "    </tr>\n",
       "    <tr>\n",
       "      <th>unique</th>\n",
       "      <td>60503.0</td>\n",
       "      <td>347</td>\n",
       "      <td>7.605000e+04</td>\n",
       "      <td>NaN</td>\n",
       "    </tr>\n",
       "    <tr>\n",
       "      <th>top</th>\n",
       "      <td>74270.0</td>\n",
       "      <td>2016-04-18</td>\n",
       "      <td>3.945060e+09</td>\n",
       "      <td>NaN</td>\n",
       "    </tr>\n",
       "    <tr>\n",
       "      <th>freq</th>\n",
       "      <td>14.0</td>\n",
       "      <td>300</td>\n",
       "      <td>1.300000e+01</td>\n",
       "      <td>NaN</td>\n",
       "    </tr>\n",
       "    <tr>\n",
       "      <th>mean</th>\n",
       "      <td>NaN</td>\n",
       "      <td>NaN</td>\n",
       "      <td>NaN</td>\n",
       "      <td>744.705249</td>\n",
       "    </tr>\n",
       "    <tr>\n",
       "      <th>std</th>\n",
       "      <td>NaN</td>\n",
       "      <td>NaN</td>\n",
       "      <td>NaN</td>\n",
       "      <td>1425.211176</td>\n",
       "    </tr>\n",
       "    <tr>\n",
       "      <th>min</th>\n",
       "      <td>NaN</td>\n",
       "      <td>NaN</td>\n",
       "      <td>NaN</td>\n",
       "      <td>0.500000</td>\n",
       "    </tr>\n",
       "    <tr>\n",
       "      <th>25%</th>\n",
       "      <td>NaN</td>\n",
       "      <td>NaN</td>\n",
       "      <td>NaN</td>\n",
       "      <td>13.000000</td>\n",
       "    </tr>\n",
       "    <tr>\n",
       "      <th>50%</th>\n",
       "      <td>NaN</td>\n",
       "      <td>NaN</td>\n",
       "      <td>NaN</td>\n",
       "      <td>59.000000</td>\n",
       "    </tr>\n",
       "    <tr>\n",
       "      <th>75%</th>\n",
       "      <td>NaN</td>\n",
       "      <td>NaN</td>\n",
       "      <td>NaN</td>\n",
       "      <td>629.000000</td>\n",
       "    </tr>\n",
       "    <tr>\n",
       "      <th>max</th>\n",
       "      <td>NaN</td>\n",
       "      <td>NaN</td>\n",
       "      <td>NaN</td>\n",
       "      <td>30999.000000</td>\n",
       "    </tr>\n",
       "  </tbody>\n",
       "</table>\n",
       "</div>"
      ],
      "text/plain": [
       "         USERID   ORDERDATE       ORDERID    AMOUNTINFO\n",
       "count   86135.0       86133  8.613500e+04  86127.000000\n",
       "unique  60503.0         347  7.605000e+04           NaN\n",
       "top     74270.0  2016-04-18  3.945060e+09           NaN\n",
       "freq       14.0         300  1.300000e+01           NaN\n",
       "mean        NaN         NaN           NaN    744.705249\n",
       "std         NaN         NaN           NaN   1425.211176\n",
       "min         NaN         NaN           NaN      0.500000\n",
       "25%         NaN         NaN           NaN     13.000000\n",
       "50%         NaN         NaN           NaN     59.000000\n",
       "75%         NaN         NaN           NaN    629.000000\n",
       "max         NaN         NaN           NaN  30999.000000"
      ]
     },
     "execution_count": 8,
     "metadata": {},
     "output_type": "execute_result"
    }
   ],
   "source": [
    "data.describe(include='all')"
   ]
  },
  {
   "cell_type": "code",
   "execution_count": 9,
   "metadata": {
    "ExecuteTime": {
     "end_time": "2019-02-18T00:58:04.622401Z",
     "start_time": "2019-02-18T00:58:04.600460Z"
    }
   },
   "outputs": [
    {
     "data": {
      "text/plain": [
       "USERID        False\n",
       "ORDERDATE      True\n",
       "ORDERID       False\n",
       "AMOUNTINFO     True\n",
       "dtype: bool"
      ]
     },
     "execution_count": 9,
     "metadata": {},
     "output_type": "execute_result"
    }
   ],
   "source": [
    "data.isnull().any(axis=0)"
   ]
  },
  {
   "cell_type": "code",
   "execution_count": 12,
   "metadata": {
    "ExecuteTime": {
     "end_time": "2019-02-18T00:59:59.330072Z",
     "start_time": "2019-02-18T00:59:59.306114Z"
    }
   },
   "outputs": [
    {
     "data": {
      "text/html": [
       "<div>\n",
       "<style scoped>\n",
       "    .dataframe tbody tr th:only-of-type {\n",
       "        vertical-align: middle;\n",
       "    }\n",
       "\n",
       "    .dataframe tbody tr th {\n",
       "        vertical-align: top;\n",
       "    }\n",
       "\n",
       "    .dataframe thead th {\n",
       "        text-align: right;\n",
       "    }\n",
       "</style>\n",
       "<table border=\"1\" class=\"dataframe\">\n",
       "  <thead>\n",
       "    <tr style=\"text-align: right;\">\n",
       "      <th></th>\n",
       "      <th>USERID</th>\n",
       "      <th>ORDERDATE</th>\n",
       "      <th>ORDERID</th>\n",
       "      <th>AMOUNTINFO</th>\n",
       "    </tr>\n",
       "  </thead>\n",
       "  <tbody>\n",
       "    <tr>\n",
       "      <th>20</th>\n",
       "      <td>75849</td>\n",
       "      <td>2016-01-01</td>\n",
       "      <td>4197103430</td>\n",
       "      <td>NaN</td>\n",
       "    </tr>\n",
       "    <tr>\n",
       "      <th>72</th>\n",
       "      <td>103714</td>\n",
       "      <td>NaN</td>\n",
       "      <td>4136159682</td>\n",
       "      <td>189.0</td>\n",
       "    </tr>\n",
       "    <tr>\n",
       "      <th>114</th>\n",
       "      <td>155209</td>\n",
       "      <td>2016-01-01</td>\n",
       "      <td>4177940815</td>\n",
       "      <td>NaN</td>\n",
       "    </tr>\n",
       "    <tr>\n",
       "      <th>229</th>\n",
       "      <td>139877</td>\n",
       "      <td>NaN</td>\n",
       "      <td>4111956196</td>\n",
       "      <td>6.3</td>\n",
       "    </tr>\n",
       "    <tr>\n",
       "      <th>233</th>\n",
       "      <td>54599</td>\n",
       "      <td>2016-01-01</td>\n",
       "      <td>4119525205</td>\n",
       "      <td>NaN</td>\n",
       "    </tr>\n",
       "    <tr>\n",
       "      <th>260</th>\n",
       "      <td>65456</td>\n",
       "      <td>2016-01-02</td>\n",
       "      <td>4195643356</td>\n",
       "      <td>NaN</td>\n",
       "    </tr>\n",
       "    <tr>\n",
       "      <th>62134</th>\n",
       "      <td>122134</td>\n",
       "      <td>2016-09-21</td>\n",
       "      <td>3826649773</td>\n",
       "      <td>NaN</td>\n",
       "    </tr>\n",
       "    <tr>\n",
       "      <th>70342</th>\n",
       "      <td>116995</td>\n",
       "      <td>2016-10-24</td>\n",
       "      <td>3981569421</td>\n",
       "      <td>NaN</td>\n",
       "    </tr>\n",
       "    <tr>\n",
       "      <th>80110</th>\n",
       "      <td>98888</td>\n",
       "      <td>2016-12-06</td>\n",
       "      <td>3814398698</td>\n",
       "      <td>NaN</td>\n",
       "    </tr>\n",
       "    <tr>\n",
       "      <th>86069</th>\n",
       "      <td>145951</td>\n",
       "      <td>2016-12-29</td>\n",
       "      <td>4139830098</td>\n",
       "      <td>NaN</td>\n",
       "    </tr>\n",
       "  </tbody>\n",
       "</table>\n",
       "</div>"
      ],
      "text/plain": [
       "       USERID   ORDERDATE     ORDERID  AMOUNTINFO\n",
       "20      75849  2016-01-01  4197103430         NaN\n",
       "72     103714         NaN  4136159682       189.0\n",
       "114    155209  2016-01-01  4177940815         NaN\n",
       "229    139877         NaN  4111956196         6.3\n",
       "233     54599  2016-01-01  4119525205         NaN\n",
       "260     65456  2016-01-02  4195643356         NaN\n",
       "62134  122134  2016-09-21  3826649773         NaN\n",
       "70342  116995  2016-10-24  3981569421         NaN\n",
       "80110   98888  2016-12-06  3814398698         NaN\n",
       "86069  145951  2016-12-29  4139830098         NaN"
      ]
     },
     "execution_count": 12,
     "metadata": {},
     "output_type": "execute_result"
    }
   ],
   "source": [
    "data[data.isnull().any(axis=1)]"
   ]
  },
  {
   "cell_type": "code",
   "execution_count": null,
   "metadata": {},
   "outputs": [],
   "source": []
  }
 ],
 "metadata": {
  "hide_input": false,
  "kernelspec": {
   "display_name": "Python 3",
   "language": "python",
   "name": "python3"
  },
  "language_info": {
   "codemirror_mode": {
    "name": "ipython",
    "version": 3
   },
   "file_extension": ".py",
   "mimetype": "text/x-python",
   "name": "python",
   "nbconvert_exporter": "python",
   "pygments_lexer": "ipython3",
   "version": "3.7.0"
  },
  "toc": {
   "base_numbering": 1,
   "nav_menu": {},
   "number_sections": true,
   "sideBar": true,
   "skip_h1_title": false,
   "title_cell": "Table of Contents",
   "title_sidebar": "Contents",
   "toc_cell": false,
   "toc_position": {},
   "toc_section_display": true,
   "toc_window_display": false
  },
  "varInspector": {
   "cols": {
    "lenName": 16,
    "lenType": 16,
    "lenVar": 40
   },
   "kernels_config": {
    "python": {
     "delete_cmd_postfix": "",
     "delete_cmd_prefix": "del ",
     "library": "var_list.py",
     "varRefreshCmd": "print(var_dic_list())"
    },
    "r": {
     "delete_cmd_postfix": ") ",
     "delete_cmd_prefix": "rm(",
     "library": "var_list.r",
     "varRefreshCmd": "cat(var_dic_list()) "
    }
   },
   "types_to_exclude": [
    "module",
    "function",
    "builtin_function_or_method",
    "instance",
    "_Feature"
   ],
   "window_display": false
  }
 },
 "nbformat": 4,
 "nbformat_minor": 2
}
