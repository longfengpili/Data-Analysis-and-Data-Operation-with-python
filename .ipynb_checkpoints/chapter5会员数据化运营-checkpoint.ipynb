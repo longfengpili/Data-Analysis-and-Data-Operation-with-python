{
 "cells": [
  {
   "cell_type": "markdown",
   "metadata": {},
   "source": [
    "# 基于RFM的用户价值分析"
   ]
  },
  {
   "cell_type": "code",
   "execution_count": 1,
   "metadata": {
    "ExecuteTime": {
     "end_time": "2019-02-19T00:04:08.053390Z",
     "start_time": "2019-02-19T00:04:07.872144Z"
    }
   },
   "outputs": [
    {
     "data": {
      "text/html": [
       "<div>\n",
       "<style scoped>\n",
       "    .dataframe tbody tr th:only-of-type {\n",
       "        vertical-align: middle;\n",
       "    }\n",
       "\n",
       "    .dataframe tbody tr th {\n",
       "        vertical-align: top;\n",
       "    }\n",
       "\n",
       "    .dataframe thead th {\n",
       "        text-align: right;\n",
       "    }\n",
       "</style>\n",
       "<table border=\"1\" class=\"dataframe\">\n",
       "  <thead>\n",
       "    <tr style=\"text-align: right;\">\n",
       "      <th></th>\n",
       "      <th>USERID</th>\n",
       "      <th>ORDERDATE</th>\n",
       "      <th>ORDERID</th>\n",
       "      <th>AMOUNTINFO</th>\n",
       "    </tr>\n",
       "  </thead>\n",
       "  <tbody>\n",
       "    <tr>\n",
       "      <th>0</th>\n",
       "      <td>142074</td>\n",
       "      <td>2016-01-01</td>\n",
       "      <td>4196439032</td>\n",
       "      <td>9399.0</td>\n",
       "    </tr>\n",
       "    <tr>\n",
       "      <th>1</th>\n",
       "      <td>56927</td>\n",
       "      <td>2016-01-01</td>\n",
       "      <td>4198324983</td>\n",
       "      <td>8799.0</td>\n",
       "    </tr>\n",
       "    <tr>\n",
       "      <th>2</th>\n",
       "      <td>87058</td>\n",
       "      <td>2016-01-01</td>\n",
       "      <td>4191287379</td>\n",
       "      <td>6899.0</td>\n",
       "    </tr>\n",
       "    <tr>\n",
       "      <th>3</th>\n",
       "      <td>136104</td>\n",
       "      <td>2016-01-01</td>\n",
       "      <td>4198508313</td>\n",
       "      <td>5999.0</td>\n",
       "    </tr>\n",
       "    <tr>\n",
       "      <th>4</th>\n",
       "      <td>117831</td>\n",
       "      <td>2016-01-01</td>\n",
       "      <td>4202238313</td>\n",
       "      <td>5399.0</td>\n",
       "    </tr>\n",
       "  </tbody>\n",
       "</table>\n",
       "</div>"
      ],
      "text/plain": [
       "   USERID   ORDERDATE     ORDERID  AMOUNTINFO\n",
       "0  142074  2016-01-01  4196439032      9399.0\n",
       "1   56927  2016-01-01  4198324983      8799.0\n",
       "2   87058  2016-01-01  4191287379      6899.0\n",
       "3  136104  2016-01-01  4198508313      5999.0\n",
       "4  117831  2016-01-01  4202238313      5399.0"
      ]
     },
     "execution_count": 1,
     "metadata": {},
     "output_type": "execute_result"
    }
   ],
   "source": [
    "with open('./datacode_for_book/chapter5/sales.csv','r',encoding='utf-8') as f:\n",
    "    data = pd.read_csv(f)\n",
    "   \n",
    "\n",
    "data['ORDERID'] = data['ORDERID'].astype('object')\n",
    "data['USERID'] = data['USERID'].astype('object')\n",
    "data[:5]"
   ]
  },
  {
   "cell_type": "code",
   "execution_count": 2,
   "metadata": {
    "ExecuteTime": {
     "end_time": "2019-02-19T00:04:08.178115Z",
     "start_time": "2019-02-19T00:04:08.055412Z"
    }
   },
   "outputs": [
    {
     "data": {
      "text/html": [
       "<div>\n",
       "<style scoped>\n",
       "    .dataframe tbody tr th:only-of-type {\n",
       "        vertical-align: middle;\n",
       "    }\n",
       "\n",
       "    .dataframe tbody tr th {\n",
       "        vertical-align: top;\n",
       "    }\n",
       "\n",
       "    .dataframe thead th {\n",
       "        text-align: right;\n",
       "    }\n",
       "</style>\n",
       "<table border=\"1\" class=\"dataframe\">\n",
       "  <thead>\n",
       "    <tr style=\"text-align: right;\">\n",
       "      <th></th>\n",
       "      <th>USERID</th>\n",
       "      <th>ORDERDATE</th>\n",
       "      <th>ORDERID</th>\n",
       "      <th>AMOUNTINFO</th>\n",
       "    </tr>\n",
       "  </thead>\n",
       "  <tbody>\n",
       "    <tr>\n",
       "      <th>count</th>\n",
       "      <td>86135.0</td>\n",
       "      <td>86133</td>\n",
       "      <td>8.613500e+04</td>\n",
       "      <td>86127.000000</td>\n",
       "    </tr>\n",
       "    <tr>\n",
       "      <th>unique</th>\n",
       "      <td>60503.0</td>\n",
       "      <td>347</td>\n",
       "      <td>7.605000e+04</td>\n",
       "      <td>NaN</td>\n",
       "    </tr>\n",
       "    <tr>\n",
       "      <th>top</th>\n",
       "      <td>74270.0</td>\n",
       "      <td>2016-04-18</td>\n",
       "      <td>3.945060e+09</td>\n",
       "      <td>NaN</td>\n",
       "    </tr>\n",
       "    <tr>\n",
       "      <th>freq</th>\n",
       "      <td>14.0</td>\n",
       "      <td>300</td>\n",
       "      <td>1.300000e+01</td>\n",
       "      <td>NaN</td>\n",
       "    </tr>\n",
       "    <tr>\n",
       "      <th>mean</th>\n",
       "      <td>NaN</td>\n",
       "      <td>NaN</td>\n",
       "      <td>NaN</td>\n",
       "      <td>744.705249</td>\n",
       "    </tr>\n",
       "    <tr>\n",
       "      <th>std</th>\n",
       "      <td>NaN</td>\n",
       "      <td>NaN</td>\n",
       "      <td>NaN</td>\n",
       "      <td>1425.211176</td>\n",
       "    </tr>\n",
       "    <tr>\n",
       "      <th>min</th>\n",
       "      <td>NaN</td>\n",
       "      <td>NaN</td>\n",
       "      <td>NaN</td>\n",
       "      <td>0.500000</td>\n",
       "    </tr>\n",
       "    <tr>\n",
       "      <th>25%</th>\n",
       "      <td>NaN</td>\n",
       "      <td>NaN</td>\n",
       "      <td>NaN</td>\n",
       "      <td>13.000000</td>\n",
       "    </tr>\n",
       "    <tr>\n",
       "      <th>50%</th>\n",
       "      <td>NaN</td>\n",
       "      <td>NaN</td>\n",
       "      <td>NaN</td>\n",
       "      <td>59.000000</td>\n",
       "    </tr>\n",
       "    <tr>\n",
       "      <th>75%</th>\n",
       "      <td>NaN</td>\n",
       "      <td>NaN</td>\n",
       "      <td>NaN</td>\n",
       "      <td>629.000000</td>\n",
       "    </tr>\n",
       "    <tr>\n",
       "      <th>max</th>\n",
       "      <td>NaN</td>\n",
       "      <td>NaN</td>\n",
       "      <td>NaN</td>\n",
       "      <td>30999.000000</td>\n",
       "    </tr>\n",
       "  </tbody>\n",
       "</table>\n",
       "</div>"
      ],
      "text/plain": [
       "         USERID   ORDERDATE       ORDERID    AMOUNTINFO\n",
       "count   86135.0       86133  8.613500e+04  86127.000000\n",
       "unique  60503.0         347  7.605000e+04           NaN\n",
       "top     74270.0  2016-04-18  3.945060e+09           NaN\n",
       "freq       14.0         300  1.300000e+01           NaN\n",
       "mean        NaN         NaN           NaN    744.705249\n",
       "std         NaN         NaN           NaN   1425.211176\n",
       "min         NaN         NaN           NaN      0.500000\n",
       "25%         NaN         NaN           NaN     13.000000\n",
       "50%         NaN         NaN           NaN     59.000000\n",
       "75%         NaN         NaN           NaN    629.000000\n",
       "max         NaN         NaN           NaN  30999.000000"
      ]
     },
     "execution_count": 2,
     "metadata": {},
     "output_type": "execute_result"
    }
   ],
   "source": [
    "data.describe(include='all')"
   ]
  },
  {
   "cell_type": "code",
   "execution_count": 3,
   "metadata": {
    "ExecuteTime": {
     "end_time": "2019-02-19T00:04:08.212112Z",
     "start_time": "2019-02-19T00:04:08.180109Z"
    }
   },
   "outputs": [
    {
     "data": {
      "text/plain": [
       "USERID        False\n",
       "ORDERDATE      True\n",
       "ORDERID       False\n",
       "AMOUNTINFO     True\n",
       "dtype: bool"
      ]
     },
     "execution_count": 3,
     "metadata": {},
     "output_type": "execute_result"
    }
   ],
   "source": [
    "data.isnull().any(axis=0)"
   ]
  },
  {
   "cell_type": "code",
   "execution_count": 4,
   "metadata": {
    "ExecuteTime": {
     "end_time": "2019-02-19T00:04:08.247989Z",
     "start_time": "2019-02-19T00:04:08.214081Z"
    }
   },
   "outputs": [
    {
     "data": {
      "text/html": [
       "<div>\n",
       "<style scoped>\n",
       "    .dataframe tbody tr th:only-of-type {\n",
       "        vertical-align: middle;\n",
       "    }\n",
       "\n",
       "    .dataframe tbody tr th {\n",
       "        vertical-align: top;\n",
       "    }\n",
       "\n",
       "    .dataframe thead th {\n",
       "        text-align: right;\n",
       "    }\n",
       "</style>\n",
       "<table border=\"1\" class=\"dataframe\">\n",
       "  <thead>\n",
       "    <tr style=\"text-align: right;\">\n",
       "      <th></th>\n",
       "      <th>USERID</th>\n",
       "      <th>ORDERDATE</th>\n",
       "      <th>ORDERID</th>\n",
       "      <th>AMOUNTINFO</th>\n",
       "    </tr>\n",
       "  </thead>\n",
       "  <tbody>\n",
       "    <tr>\n",
       "      <th>20</th>\n",
       "      <td>75849</td>\n",
       "      <td>2016-01-01</td>\n",
       "      <td>4197103430</td>\n",
       "      <td>NaN</td>\n",
       "    </tr>\n",
       "    <tr>\n",
       "      <th>72</th>\n",
       "      <td>103714</td>\n",
       "      <td>NaN</td>\n",
       "      <td>4136159682</td>\n",
       "      <td>189.0</td>\n",
       "    </tr>\n",
       "    <tr>\n",
       "      <th>114</th>\n",
       "      <td>155209</td>\n",
       "      <td>2016-01-01</td>\n",
       "      <td>4177940815</td>\n",
       "      <td>NaN</td>\n",
       "    </tr>\n",
       "    <tr>\n",
       "      <th>229</th>\n",
       "      <td>139877</td>\n",
       "      <td>NaN</td>\n",
       "      <td>4111956196</td>\n",
       "      <td>6.3</td>\n",
       "    </tr>\n",
       "    <tr>\n",
       "      <th>233</th>\n",
       "      <td>54599</td>\n",
       "      <td>2016-01-01</td>\n",
       "      <td>4119525205</td>\n",
       "      <td>NaN</td>\n",
       "    </tr>\n",
       "    <tr>\n",
       "      <th>260</th>\n",
       "      <td>65456</td>\n",
       "      <td>2016-01-02</td>\n",
       "      <td>4195643356</td>\n",
       "      <td>NaN</td>\n",
       "    </tr>\n",
       "    <tr>\n",
       "      <th>62134</th>\n",
       "      <td>122134</td>\n",
       "      <td>2016-09-21</td>\n",
       "      <td>3826649773</td>\n",
       "      <td>NaN</td>\n",
       "    </tr>\n",
       "    <tr>\n",
       "      <th>70342</th>\n",
       "      <td>116995</td>\n",
       "      <td>2016-10-24</td>\n",
       "      <td>3981569421</td>\n",
       "      <td>NaN</td>\n",
       "    </tr>\n",
       "    <tr>\n",
       "      <th>80110</th>\n",
       "      <td>98888</td>\n",
       "      <td>2016-12-06</td>\n",
       "      <td>3814398698</td>\n",
       "      <td>NaN</td>\n",
       "    </tr>\n",
       "    <tr>\n",
       "      <th>86069</th>\n",
       "      <td>145951</td>\n",
       "      <td>2016-12-29</td>\n",
       "      <td>4139830098</td>\n",
       "      <td>NaN</td>\n",
       "    </tr>\n",
       "  </tbody>\n",
       "</table>\n",
       "</div>"
      ],
      "text/plain": [
       "       USERID   ORDERDATE     ORDERID  AMOUNTINFO\n",
       "20      75849  2016-01-01  4197103430         NaN\n",
       "72     103714         NaN  4136159682       189.0\n",
       "114    155209  2016-01-01  4177940815         NaN\n",
       "229    139877         NaN  4111956196         6.3\n",
       "233     54599  2016-01-01  4119525205         NaN\n",
       "260     65456  2016-01-02  4195643356         NaN\n",
       "62134  122134  2016-09-21  3826649773         NaN\n",
       "70342  116995  2016-10-24  3981569421         NaN\n",
       "80110   98888  2016-12-06  3814398698         NaN\n",
       "86069  145951  2016-12-29  4139830098         NaN"
      ]
     },
     "execution_count": 4,
     "metadata": {},
     "output_type": "execute_result"
    }
   ],
   "source": [
    "data[data.isnull().any(axis=1)]"
   ]
  },
  {
   "cell_type": "code",
   "execution_count": 5,
   "metadata": {
    "ExecuteTime": {
     "end_time": "2019-02-19T00:04:08.291872Z",
     "start_time": "2019-02-19T00:04:08.249985Z"
    }
   },
   "outputs": [
    {
     "data": {
      "text/html": [
       "<div>\n",
       "<style scoped>\n",
       "    .dataframe tbody tr th:only-of-type {\n",
       "        vertical-align: middle;\n",
       "    }\n",
       "\n",
       "    .dataframe tbody tr th {\n",
       "        vertical-align: top;\n",
       "    }\n",
       "\n",
       "    .dataframe thead th {\n",
       "        text-align: right;\n",
       "    }\n",
       "</style>\n",
       "<table border=\"1\" class=\"dataframe\">\n",
       "  <thead>\n",
       "    <tr style=\"text-align: right;\">\n",
       "      <th></th>\n",
       "      <th>USERID</th>\n",
       "      <th>ORDERDATE</th>\n",
       "      <th>ORDERID</th>\n",
       "      <th>AMOUNTINFO</th>\n",
       "    </tr>\n",
       "  </thead>\n",
       "  <tbody>\n",
       "    <tr>\n",
       "      <th>0</th>\n",
       "      <td>142074</td>\n",
       "      <td>2016-01-01</td>\n",
       "      <td>4196439032</td>\n",
       "      <td>9399.0</td>\n",
       "    </tr>\n",
       "    <tr>\n",
       "      <th>1</th>\n",
       "      <td>56927</td>\n",
       "      <td>2016-01-01</td>\n",
       "      <td>4198324983</td>\n",
       "      <td>8799.0</td>\n",
       "    </tr>\n",
       "    <tr>\n",
       "      <th>2</th>\n",
       "      <td>87058</td>\n",
       "      <td>2016-01-01</td>\n",
       "      <td>4191287379</td>\n",
       "      <td>6899.0</td>\n",
       "    </tr>\n",
       "  </tbody>\n",
       "</table>\n",
       "</div>"
      ],
      "text/plain": [
       "   USERID   ORDERDATE     ORDERID  AMOUNTINFO\n",
       "0  142074  2016-01-01  4196439032      9399.0\n",
       "1   56927  2016-01-01  4198324983      8799.0\n",
       "2   87058  2016-01-01  4191287379      6899.0"
      ]
     },
     "execution_count": 5,
     "metadata": {},
     "output_type": "execute_result"
    }
   ],
   "source": [
    "#异常值处理\n",
    "data = data.dropna()\n",
    "data = data[data.AMOUNTINFO > 1]\n",
    "data[:3]"
   ]
  },
  {
   "cell_type": "code",
   "execution_count": 6,
   "metadata": {
    "ExecuteTime": {
     "end_time": "2019-02-19T00:04:08.405982Z",
     "start_time": "2019-02-19T00:04:08.293868Z"
    }
   },
   "outputs": [
    {
     "data": {
      "text/plain": [
       "USERID                object\n",
       "ORDERDATE     datetime64[ns]\n",
       "ORDERID               object\n",
       "AMOUNTINFO           float64\n",
       "dtype: object"
      ]
     },
     "execution_count": 6,
     "metadata": {},
     "output_type": "execute_result"
    },
    {
     "data": {
      "text/html": [
       "<div>\n",
       "<style scoped>\n",
       "    .dataframe tbody tr th:only-of-type {\n",
       "        vertical-align: middle;\n",
       "    }\n",
       "\n",
       "    .dataframe tbody tr th {\n",
       "        vertical-align: top;\n",
       "    }\n",
       "\n",
       "    .dataframe thead th {\n",
       "        text-align: right;\n",
       "    }\n",
       "</style>\n",
       "<table border=\"1\" class=\"dataframe\">\n",
       "  <thead>\n",
       "    <tr style=\"text-align: right;\">\n",
       "      <th></th>\n",
       "      <th>USERID</th>\n",
       "      <th>ORDERDATE</th>\n",
       "      <th>ORDERID</th>\n",
       "      <th>AMOUNTINFO</th>\n",
       "    </tr>\n",
       "  </thead>\n",
       "  <tbody>\n",
       "    <tr>\n",
       "      <th>0</th>\n",
       "      <td>142074</td>\n",
       "      <td>2016-01-01</td>\n",
       "      <td>4196439032</td>\n",
       "      <td>9399.0</td>\n",
       "    </tr>\n",
       "    <tr>\n",
       "      <th>1</th>\n",
       "      <td>56927</td>\n",
       "      <td>2016-01-01</td>\n",
       "      <td>4198324983</td>\n",
       "      <td>8799.0</td>\n",
       "    </tr>\n",
       "    <tr>\n",
       "      <th>2</th>\n",
       "      <td>87058</td>\n",
       "      <td>2016-01-01</td>\n",
       "      <td>4191287379</td>\n",
       "      <td>6899.0</td>\n",
       "    </tr>\n",
       "  </tbody>\n",
       "</table>\n",
       "</div>"
      ],
      "text/plain": [
       "   USERID  ORDERDATE     ORDERID  AMOUNTINFO\n",
       "0  142074 2016-01-01  4196439032      9399.0\n",
       "1   56927 2016-01-01  4198324983      8799.0\n",
       "2   87058 2016-01-01  4191287379      6899.0"
      ]
     },
     "execution_count": 6,
     "metadata": {},
     "output_type": "execute_result"
    }
   ],
   "source": [
    "data['ORDERDATE'] = pd.to_datetime(data['ORDERDATE'],format='%Y-%m-%d')\n",
    "data.dtypes\n",
    "data[:3]"
   ]
  },
  {
   "cell_type": "code",
   "execution_count": 7,
   "metadata": {
    "ExecuteTime": {
     "end_time": "2019-02-19T00:04:08.747400Z",
     "start_time": "2019-02-19T00:04:08.408974Z"
    }
   },
   "outputs": [
    {
     "data": {
      "text/html": [
       "<div>\n",
       "<style scoped>\n",
       "    .dataframe tbody tr th:only-of-type {\n",
       "        vertical-align: middle;\n",
       "    }\n",
       "\n",
       "    .dataframe tbody tr th {\n",
       "        vertical-align: top;\n",
       "    }\n",
       "\n",
       "    .dataframe thead th {\n",
       "        text-align: right;\n",
       "    }\n",
       "</style>\n",
       "<table border=\"1\" class=\"dataframe\">\n",
       "  <thead>\n",
       "    <tr style=\"text-align: right;\">\n",
       "      <th></th>\n",
       "      <th>USERID</th>\n",
       "      <th>recency</th>\n",
       "      <th>frequency</th>\n",
       "      <th>monetary</th>\n",
       "    </tr>\n",
       "  </thead>\n",
       "  <tbody>\n",
       "    <tr>\n",
       "      <th>0</th>\n",
       "      <td>51220</td>\n",
       "      <td>2016-09-20</td>\n",
       "      <td>2</td>\n",
       "      <td>151.9</td>\n",
       "    </tr>\n",
       "    <tr>\n",
       "      <th>1</th>\n",
       "      <td>51221</td>\n",
       "      <td>2016-05-16</td>\n",
       "      <td>1</td>\n",
       "      <td>29.9</td>\n",
       "    </tr>\n",
       "    <tr>\n",
       "      <th>2</th>\n",
       "      <td>51224</td>\n",
       "      <td>2016-07-24</td>\n",
       "      <td>2</td>\n",
       "      <td>12.9</td>\n",
       "    </tr>\n",
       "  </tbody>\n",
       "</table>\n",
       "</div>"
      ],
      "text/plain": [
       "   USERID    recency  frequency  monetary\n",
       "0   51220 2016-09-20          2     151.9\n",
       "1   51221 2016-05-16          1      29.9\n",
       "2   51224 2016-07-24          2      12.9"
      ]
     },
     "execution_count": 7,
     "metadata": {},
     "output_type": "execute_result"
    }
   ],
   "source": [
    "#数据转化 RFM\n",
    "data = data.groupby('USERID').agg({'ORDERDATE':'max','AMOUNTINFO':('count','sum')})\n",
    "data.columns = ['recency','frequency','monetary']\n",
    "data = data.reset_index()\n",
    "data[:3]"
   ]
  },
  {
   "cell_type": "code",
   "execution_count": 42,
   "metadata": {
    "ExecuteTime": {
     "end_time": "2019-02-19T00:28:33.940168Z",
     "start_time": "2019-02-19T00:28:33.913179Z"
    }
   },
   "outputs": [
    {
     "data": {
      "text/html": [
       "<div>\n",
       "<style scoped>\n",
       "    .dataframe tbody tr th:only-of-type {\n",
       "        vertical-align: middle;\n",
       "    }\n",
       "\n",
       "    .dataframe tbody tr th {\n",
       "        vertical-align: top;\n",
       "    }\n",
       "\n",
       "    .dataframe thead th {\n",
       "        text-align: right;\n",
       "    }\n",
       "</style>\n",
       "<table border=\"1\" class=\"dataframe\">\n",
       "  <thead>\n",
       "    <tr style=\"text-align: right;\">\n",
       "      <th></th>\n",
       "      <th>USERID</th>\n",
       "      <th>recency</th>\n",
       "      <th>frequency</th>\n",
       "      <th>monetary</th>\n",
       "      <th>r_score</th>\n",
       "      <th>f_score</th>\n",
       "      <th>m_score</th>\n",
       "    </tr>\n",
       "  </thead>\n",
       "  <tbody>\n",
       "    <tr>\n",
       "      <th>0</th>\n",
       "      <td>51220</td>\n",
       "      <td>2016-09-20</td>\n",
       "      <td>2</td>\n",
       "      <td>151.9</td>\n",
       "      <td>4</td>\n",
       "      <td>1</td>\n",
       "      <td>1</td>\n",
       "    </tr>\n",
       "    <tr>\n",
       "      <th>1</th>\n",
       "      <td>51221</td>\n",
       "      <td>2016-05-16</td>\n",
       "      <td>1</td>\n",
       "      <td>29.9</td>\n",
       "      <td>2</td>\n",
       "      <td>1</td>\n",
       "      <td>1</td>\n",
       "    </tr>\n",
       "    <tr>\n",
       "      <th>2</th>\n",
       "      <td>51224</td>\n",
       "      <td>2016-07-24</td>\n",
       "      <td>2</td>\n",
       "      <td>12.9</td>\n",
       "      <td>3</td>\n",
       "      <td>1</td>\n",
       "      <td>1</td>\n",
       "    </tr>\n",
       "  </tbody>\n",
       "</table>\n",
       "</div>"
      ],
      "text/plain": [
       "   USERID    recency  frequency  monetary  r_score  f_score  m_score\n",
       "0   51220 2016-09-20          2     151.9        4        1        1\n",
       "1   51221 2016-05-16          1      29.9        2        1        1\n",
       "2   51224 2016-07-24          2      12.9        3        1        1"
      ]
     },
     "execution_count": 42,
     "metadata": {},
     "output_type": "execute_result"
    }
   ],
   "source": [
    "#计算RFM得分\n",
    "deadline_date = pd.datetime(2017,1,1)\n",
    "r_interval = (deadline_date - data['recency']).dt.days\n",
    "data['r_score'] = pd.cut(r_interval,bins=5,labels=[5,4,3,2,1])\n",
    "data['r_score'] = data['r_score'].astype('int64')\n",
    "data['f_score'] = pd.cut(data['frequency'],bins=5,labels=[1,2,3,4,5])\n",
    "data['f_score'] = data['f_score'].astype('int64')\n",
    "data['m_score'] = pd.cut(data['monetary'],bins=5,labels=[1,2,3,4,5])\n",
    "data['m_score'] = data['m_score'].astype('int64')\n",
    "data[:3]"
   ]
  },
  {
   "cell_type": "code",
   "execution_count": 49,
   "metadata": {
    "ExecuteTime": {
     "end_time": "2019-02-19T00:30:45.742607Z",
     "start_time": "2019-02-19T00:30:45.592068Z"
    }
   },
   "outputs": [
    {
     "data": {
      "text/html": [
       "<div>\n",
       "<style scoped>\n",
       "    .dataframe tbody tr th:only-of-type {\n",
       "        vertical-align: middle;\n",
       "    }\n",
       "\n",
       "    .dataframe tbody tr th {\n",
       "        vertical-align: top;\n",
       "    }\n",
       "\n",
       "    .dataframe thead th {\n",
       "        text-align: right;\n",
       "    }\n",
       "</style>\n",
       "<table border=\"1\" class=\"dataframe\">\n",
       "  <thead>\n",
       "    <tr style=\"text-align: right;\">\n",
       "      <th></th>\n",
       "      <th>USERID</th>\n",
       "      <th>recency</th>\n",
       "      <th>frequency</th>\n",
       "      <th>monetary</th>\n",
       "      <th>r_score</th>\n",
       "      <th>f_score</th>\n",
       "      <th>m_score</th>\n",
       "      <th>rfm_wsocre</th>\n",
       "      <th>rfm_comb</th>\n",
       "    </tr>\n",
       "  </thead>\n",
       "  <tbody>\n",
       "    <tr>\n",
       "      <th>0</th>\n",
       "      <td>51220</td>\n",
       "      <td>2016-09-20</td>\n",
       "      <td>2</td>\n",
       "      <td>151.9</td>\n",
       "      <td>4</td>\n",
       "      <td>1</td>\n",
       "      <td>1</td>\n",
       "      <td>2.8</td>\n",
       "      <td>411</td>\n",
       "    </tr>\n",
       "    <tr>\n",
       "      <th>1</th>\n",
       "      <td>51221</td>\n",
       "      <td>2016-05-16</td>\n",
       "      <td>1</td>\n",
       "      <td>29.9</td>\n",
       "      <td>2</td>\n",
       "      <td>1</td>\n",
       "      <td>1</td>\n",
       "      <td>1.6</td>\n",
       "      <td>211</td>\n",
       "    </tr>\n",
       "    <tr>\n",
       "      <th>2</th>\n",
       "      <td>51224</td>\n",
       "      <td>2016-07-24</td>\n",
       "      <td>2</td>\n",
       "      <td>12.9</td>\n",
       "      <td>3</td>\n",
       "      <td>1</td>\n",
       "      <td>1</td>\n",
       "      <td>2.2</td>\n",
       "      <td>311</td>\n",
       "    </tr>\n",
       "  </tbody>\n",
       "</table>\n",
       "</div>"
      ],
      "text/plain": [
       "   USERID    recency  frequency  monetary  r_score  f_score  m_score  \\\n",
       "0   51220 2016-09-20          2     151.9        4        1        1   \n",
       "1   51221 2016-05-16          1      29.9        2        1        1   \n",
       "2   51224 2016-07-24          2      12.9        3        1        1   \n",
       "\n",
       "   rfm_wsocre rfm_comb  \n",
       "0         2.8      411  \n",
       "1         1.6      211  \n",
       "2         2.2      311  "
      ]
     },
     "execution_count": 49,
     "metadata": {},
     "output_type": "execute_result"
    }
   ],
   "source": [
    "data['rfm_wsocre'] = data['r_score'] * 0.6 + data['f_score'] * 0.3 + data['m_score'] * 0.1\n",
    "data['rfm_comb'] = data['r_score'].astype('str').str.cat(data['f_score'].astype('str')).str.cat(data['m_score'].astype('str'))\n",
    "data[:3]"
   ]
  },
  {
   "cell_type": "code",
   "execution_count": 56,
   "metadata": {
    "ExecuteTime": {
     "end_time": "2019-02-19T00:37:50.563009Z",
     "start_time": "2019-02-19T00:37:50.550021Z"
    }
   },
   "outputs": [
    {
     "data": {
      "text/plain": [
       "rfm_comb\n",
       "511    15456\n",
       "411    13493\n",
       "311    11020\n",
       "211    10136\n",
       "111     8769\n",
       "521      478\n",
       "421      227\n",
       "321       78\n",
       "221       12\n",
       "412        2\n",
       "121        2\n",
       "555        1\n",
       "322        1\n",
       "212        1\n",
       "Name: rfm_comb, dtype: int64"
      ]
     },
     "execution_count": 56,
     "metadata": {},
     "output_type": "execute_result"
    }
   ],
   "source": [
    "data.groupby(['rfm_comb'])['rfm_comb'].count().sort_values(ascending=False)"
   ]
  },
  {
   "cell_type": "markdown",
   "metadata": {},
   "source": [
    "# 基于AdaBoost的营销响应预测"
   ]
  },
  {
   "cell_type": "code",
   "execution_count": 57,
   "metadata": {
    "ExecuteTime": {
     "end_time": "2019-02-19T00:48:54.522594Z",
     "start_time": "2019-02-19T00:48:52.449481Z"
    }
   },
   "outputs": [],
   "source": [
    "import time  # 导入自带时间库\n",
    "from sklearn.preprocessing import OneHotEncoder  # 导入OneHotEncoder库\n",
    "from sklearn.model_selection import StratifiedKFold, cross_val_score  # 导入交叉检验算法\n",
    "from sklearn.feature_selection import SelectPercentile, f_classif  # 导入特征选择方法库\n",
    "from sklearn.ensemble import AdaBoostClassifier  # 导入集成算法\n",
    "from sklearn.pipeline import Pipeline  # 导入Pipeline库\n",
    "from sklearn.metrics import accuracy_score  # 准确率指标"
   ]
  },
  {
   "cell_type": "code",
   "execution_count": 64,
   "metadata": {
    "ExecuteTime": {
     "end_time": "2019-02-19T00:57:41.316068Z",
     "start_time": "2019-02-19T00:57:36.685673Z"
    }
   },
   "outputs": [
    {
     "data": {
      "text/html": [
       "<div>\n",
       "<style scoped>\n",
       "    .dataframe tbody tr th:only-of-type {\n",
       "        vertical-align: middle;\n",
       "    }\n",
       "\n",
       "    .dataframe tbody tr th {\n",
       "        vertical-align: top;\n",
       "    }\n",
       "\n",
       "    .dataframe thead th {\n",
       "        text-align: right;\n",
       "    }\n",
       "</style>\n",
       "<table border=\"1\" class=\"dataframe\">\n",
       "  <thead>\n",
       "    <tr style=\"text-align: right;\">\n",
       "      <th></th>\n",
       "      <th>age</th>\n",
       "      <th>total_pageviews</th>\n",
       "      <th>edu</th>\n",
       "      <th>edu_ages</th>\n",
       "      <th>user_level</th>\n",
       "      <th>industry</th>\n",
       "      <th>value_level</th>\n",
       "      <th>act_level</th>\n",
       "      <th>sex</th>\n",
       "      <th>blue_money</th>\n",
       "      <th>red_money</th>\n",
       "      <th>work_hours</th>\n",
       "      <th>region</th>\n",
       "      <th>response</th>\n",
       "    </tr>\n",
       "  </thead>\n",
       "  <tbody>\n",
       "    <tr>\n",
       "      <th>0</th>\n",
       "      <td>39.0</td>\n",
       "      <td>77516.0</td>\n",
       "      <td>1.0</td>\n",
       "      <td>13.0</td>\n",
       "      <td>1.0</td>\n",
       "      <td>1.0</td>\n",
       "      <td>1</td>\n",
       "      <td>1.0</td>\n",
       "      <td>1.0</td>\n",
       "      <td>2174</td>\n",
       "      <td>0.0</td>\n",
       "      <td>40</td>\n",
       "      <td>1.0</td>\n",
       "      <td>0</td>\n",
       "    </tr>\n",
       "    <tr>\n",
       "      <th>1</th>\n",
       "      <td>50.0</td>\n",
       "      <td>83311.0</td>\n",
       "      <td>1.0</td>\n",
       "      <td>13.0</td>\n",
       "      <td>2.0</td>\n",
       "      <td>2.0</td>\n",
       "      <td>2</td>\n",
       "      <td>1.0</td>\n",
       "      <td>1.0</td>\n",
       "      <td>0</td>\n",
       "      <td>0.0</td>\n",
       "      <td>13</td>\n",
       "      <td>1.0</td>\n",
       "      <td>0</td>\n",
       "    </tr>\n",
       "    <tr>\n",
       "      <th>2</th>\n",
       "      <td>38.0</td>\n",
       "      <td>215646.0</td>\n",
       "      <td>2.0</td>\n",
       "      <td>9.0</td>\n",
       "      <td>3.0</td>\n",
       "      <td>3.0</td>\n",
       "      <td>1</td>\n",
       "      <td>1.0</td>\n",
       "      <td>1.0</td>\n",
       "      <td>0</td>\n",
       "      <td>0.0</td>\n",
       "      <td>40</td>\n",
       "      <td>1.0</td>\n",
       "      <td>0</td>\n",
       "    </tr>\n",
       "  </tbody>\n",
       "</table>\n",
       "</div>"
      ],
      "text/plain": [
       "    age  total_pageviews  edu  edu_ages  user_level  industry  value_level  \\\n",
       "0  39.0          77516.0  1.0      13.0         1.0       1.0            1   \n",
       "1  50.0          83311.0  1.0      13.0         2.0       2.0            2   \n",
       "2  38.0         215646.0  2.0       9.0         3.0       3.0            1   \n",
       "\n",
       "   act_level  sex  blue_money  red_money  work_hours  region  response  \n",
       "0        1.0  1.0        2174        0.0          40     1.0         0  \n",
       "1        1.0  1.0           0        0.0          13     1.0         0  \n",
       "2        1.0  1.0           0        0.0          40     1.0         0  "
      ]
     },
     "execution_count": 64,
     "metadata": {},
     "output_type": "execute_result"
    }
   ],
   "source": [
    "data = pd.read_excel('./datacode_for_book/chapter5/order.xlsx')\n",
    "data[:3]"
   ]
  },
  {
   "cell_type": "code",
   "execution_count": null,
   "metadata": {
    "ExecuteTime": {
     "end_time": "2019-02-19T00:57:41.412581Z",
     "start_time": "2019-02-19T00:57:37.207Z"
    }
   },
   "outputs": [],
   "source": [
    "data[data.isnull().any(axis=1)]"
   ]
  },
  {
   "cell_type": "code",
   "execution_count": null,
   "metadata": {
    "ExecuteTime": {
     "end_time": "2019-02-19T00:57:41.477408Z",
     "start_time": "2019-02-19T00:57:37.750Z"
    }
   },
   "outputs": [],
   "source": [
    "data.groupby('response')['response'].count()"
   ]
  },
  {
   "cell_type": "code",
   "execution_count": null,
   "metadata": {
    "ExecuteTime": {
     "end_time": "2019-02-19T00:57:41.546817Z",
     "start_time": "2019-02-19T00:57:38.310Z"
    }
   },
   "outputs": [],
   "source": [
    "var_list = {'edu': 'int32',\n",
    "        'user_level': 'int32',\n",
    "        'industry': 'int32',\n",
    "        'value_level': 'int32',\n",
    "        'act_level': 'int32',\n",
    "        'sex': 'int32',\n",
    "        'region': 'int32'\n",
    "        }  # 字典：定义要转换的列及其数据类型\n",
    "for var, type in var_list.items():  # 循环读出列名和对应的数据类型\n",
    "    data[var] = data[var].astype(type)  # 数据类型转换\n",
    "    \n",
    "data.dtypes"
   ]
  },
  {
   "cell_type": "code",
   "execution_count": 66,
   "metadata": {
    "ExecuteTime": {
     "end_time": "2019-02-19T00:58:27.905585Z",
     "start_time": "2019-02-19T00:58:27.872474Z"
    }
   },
   "outputs": [
    {
     "data": {
      "text/html": [
       "<div>\n",
       "<style scoped>\n",
       "    .dataframe tbody tr th:only-of-type {\n",
       "        vertical-align: middle;\n",
       "    }\n",
       "\n",
       "    .dataframe tbody tr th {\n",
       "        vertical-align: top;\n",
       "    }\n",
       "\n",
       "    .dataframe thead th {\n",
       "        text-align: right;\n",
       "    }\n",
       "</style>\n",
       "<table border=\"1\" class=\"dataframe\">\n",
       "  <thead>\n",
       "    <tr style=\"text-align: right;\">\n",
       "      <th></th>\n",
       "      <th>age</th>\n",
       "      <th>total_pageviews</th>\n",
       "      <th>edu</th>\n",
       "      <th>edu_ages</th>\n",
       "      <th>user_level</th>\n",
       "      <th>industry</th>\n",
       "      <th>value_level</th>\n",
       "      <th>act_level</th>\n",
       "      <th>sex</th>\n",
       "      <th>blue_money</th>\n",
       "      <th>red_money</th>\n",
       "      <th>work_hours</th>\n",
       "      <th>region</th>\n",
       "      <th>response</th>\n",
       "    </tr>\n",
       "  </thead>\n",
       "  <tbody>\n",
       "    <tr>\n",
       "      <th>0</th>\n",
       "      <td>39.0</td>\n",
       "      <td>77516.0</td>\n",
       "      <td>1.0</td>\n",
       "      <td>13.0</td>\n",
       "      <td>1.0</td>\n",
       "      <td>1.0</td>\n",
       "      <td>1</td>\n",
       "      <td>1.0</td>\n",
       "      <td>1.0</td>\n",
       "      <td>2174</td>\n",
       "      <td>0.0</td>\n",
       "      <td>40</td>\n",
       "      <td>1.0</td>\n",
       "      <td>0</td>\n",
       "    </tr>\n",
       "    <tr>\n",
       "      <th>1</th>\n",
       "      <td>50.0</td>\n",
       "      <td>83311.0</td>\n",
       "      <td>1.0</td>\n",
       "      <td>13.0</td>\n",
       "      <td>2.0</td>\n",
       "      <td>2.0</td>\n",
       "      <td>2</td>\n",
       "      <td>1.0</td>\n",
       "      <td>1.0</td>\n",
       "      <td>0</td>\n",
       "      <td>0.0</td>\n",
       "      <td>13</td>\n",
       "      <td>1.0</td>\n",
       "      <td>0</td>\n",
       "    </tr>\n",
       "    <tr>\n",
       "      <th>2</th>\n",
       "      <td>38.0</td>\n",
       "      <td>215646.0</td>\n",
       "      <td>2.0</td>\n",
       "      <td>9.0</td>\n",
       "      <td>3.0</td>\n",
       "      <td>3.0</td>\n",
       "      <td>1</td>\n",
       "      <td>1.0</td>\n",
       "      <td>1.0</td>\n",
       "      <td>0</td>\n",
       "      <td>0.0</td>\n",
       "      <td>40</td>\n",
       "      <td>1.0</td>\n",
       "      <td>0</td>\n",
       "    </tr>\n",
       "  </tbody>\n",
       "</table>\n",
       "</div>"
      ],
      "text/plain": [
       "    age  total_pageviews  edu  edu_ages  user_level  industry  value_level  \\\n",
       "0  39.0          77516.0  1.0      13.0         1.0       1.0            1   \n",
       "1  50.0          83311.0  1.0      13.0         2.0       2.0            2   \n",
       "2  38.0         215646.0  2.0       9.0         3.0       3.0            1   \n",
       "\n",
       "   act_level  sex  blue_money  red_money  work_hours  region  response  \n",
       "0        1.0  1.0        2174        0.0          40     1.0         0  \n",
       "1        1.0  1.0           0        0.0          13     1.0         0  \n",
       "2        1.0  1.0           0        0.0          40     1.0         0  "
      ]
     },
     "execution_count": 66,
     "metadata": {},
     "output_type": "execute_result"
    }
   ],
   "source": [
    "na_rules = {'age': data['age'].mean(),\n",
    "        'total_pageviews': data['total_pageviews'].mean(),\n",
    "        'edu': data['edu'].median(),\n",
    "        'edu_ages': data['edu_ages'].median(),\n",
    "        'user_level': data['user_level'].median(),\n",
    "        'industry': data['user_level'].median(),\n",
    "        'act_level': data['act_level'].median(),\n",
    "        'sex': data['sex'].median(),\n",
    "        'red_money': data['red_money'].mean(),\n",
    "        'region': data['region'].median()\n",
    "        }  # 字典：定义各个列数据转换方法\n",
    "data = data.fillna(na_rules)  # 使用指定方法填充缺失值\n",
    "data[:3]"
   ]
  },
  {
   "cell_type": "code",
   "execution_count": 71,
   "metadata": {
    "ExecuteTime": {
     "end_time": "2019-02-19T01:07:00.461052Z",
     "start_time": "2019-02-19T01:07:00.368426Z"
    }
   },
   "outputs": [
    {
     "data": {
      "text/plain": [
       "OneHotEncoder(categorical_features=None, categories='auto',\n",
       "       dtype=<class 'numpy.float64'>, handle_unknown='error',\n",
       "       n_values=None, sparse=True)"
      ]
     },
     "execution_count": 71,
     "metadata": {},
     "output_type": "execute_result"
    },
    {
     "data": {
      "text/plain": [
       "array([[3.90000e+01, 7.75160e+04, 1.30000e+01, ..., 0.00000e+00,\n",
       "        0.00000e+00, 0.00000e+00],\n",
       "       [5.00000e+01, 8.33110e+04, 1.30000e+01, ..., 0.00000e+00,\n",
       "        0.00000e+00, 0.00000e+00],\n",
       "       [3.80000e+01, 2.15646e+05, 9.00000e+00, ..., 0.00000e+00,\n",
       "        0.00000e+00, 0.00000e+00],\n",
       "       ...,\n",
       "       [6.00000e+01, 1.02310e+05, 1.20000e+01, ..., 0.00000e+00,\n",
       "        0.00000e+00, 0.00000e+00],\n",
       "       [4.80000e+01, 2.40175e+05, 7.00000e+00, ..., 0.00000e+00,\n",
       "        0.00000e+00, 0.00000e+00],\n",
       "       [4.10000e+01, 1.45441e+05, 9.00000e+00, ..., 0.00000e+00,\n",
       "        0.00000e+00, 0.00000e+00]])"
      ]
     },
     "execution_count": 71,
     "metadata": {},
     "output_type": "execute_result"
    }
   ],
   "source": [
    "data_con = data[['edu', 'user_level', 'industry', 'value_level', 'act_level', 'sex', 'region']]  # 选择要做标志转换的数据\n",
    "data_org = data[['age', 'total_pageviews', 'edu_ages', 'blue_money', 'red_money', 'work_hours']].values  # 设置不作标志转换的列\n",
    "\n",
    "enc = OneHotEncoder(categories='auto')  # 建立标志转换模型对象\n",
    "enc.fit(data_con)  # 训练模型\n",
    "data_con_new = enc.transform(data_con).toarray()  # 转换数据并输出为数组格式\n",
    "new_matrix = np.hstack((data_org,data_con_new))  # 将未转换的数据与转换后的数据合并\n",
    "new_matrix"
   ]
  },
  {
   "cell_type": "code",
   "execution_count": null,
   "metadata": {},
   "outputs": [],
   "source": []
  }
 ],
 "metadata": {
  "hide_input": false,
  "kernelspec": {
   "display_name": "Python 3",
   "language": "python",
   "name": "python3"
  },
  "language_info": {
   "codemirror_mode": {
    "name": "ipython",
    "version": 3
   },
   "file_extension": ".py",
   "mimetype": "text/x-python",
   "name": "python",
   "nbconvert_exporter": "python",
   "pygments_lexer": "ipython3",
   "version": "3.7.0"
  },
  "toc": {
   "base_numbering": 1,
   "nav_menu": {},
   "number_sections": true,
   "sideBar": true,
   "skip_h1_title": false,
   "title_cell": "Table of Contents",
   "title_sidebar": "Contents",
   "toc_cell": false,
   "toc_position": {},
   "toc_section_display": true,
   "toc_window_display": false
  },
  "varInspector": {
   "cols": {
    "lenName": 16,
    "lenType": 16,
    "lenVar": 40
   },
   "kernels_config": {
    "python": {
     "delete_cmd_postfix": "",
     "delete_cmd_prefix": "del ",
     "library": "var_list.py",
     "varRefreshCmd": "print(var_dic_list())"
    },
    "r": {
     "delete_cmd_postfix": ") ",
     "delete_cmd_prefix": "rm(",
     "library": "var_list.r",
     "varRefreshCmd": "cat(var_dic_list()) "
    }
   },
   "types_to_exclude": [
    "module",
    "function",
    "builtin_function_or_method",
    "instance",
    "_Feature"
   ],
   "window_display": false
  }
 },
 "nbformat": 4,
 "nbformat_minor": 2
}
