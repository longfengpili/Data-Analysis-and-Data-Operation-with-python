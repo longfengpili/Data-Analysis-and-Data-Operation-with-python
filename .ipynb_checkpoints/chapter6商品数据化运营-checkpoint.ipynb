{
 "cells": [
  {
   "cell_type": "markdown",
   "metadata": {},
   "source": [
    "# KNN"
   ]
  },
  {
   "cell_type": "code",
   "execution_count": 1,
   "metadata": {
    "ExecuteTime": {
     "end_time": "2019-02-22T00:24:45.808935Z",
     "start_time": "2019-02-22T00:24:45.611903Z"
    }
   },
   "outputs": [
    {
     "data": {
      "text/plain": [
       "NearestNeighbors(algorithm='auto', leaf_size=30, metric='minkowski',\n",
       "         metric_params=None, n_jobs=None, n_neighbors=1, p=2, radius=1.0)"
      ]
     },
     "execution_count": 1,
     "metadata": {},
     "output_type": "execute_result"
    },
    {
     "data": {
      "text/plain": [
       "(array([[0.87177979]]), array([[2]], dtype=int64))"
      ]
     },
     "execution_count": 1,
     "metadata": {},
     "output_type": "execute_result"
    }
   ],
   "source": [
    "from sklearn.neighbors import NearestNeighbors\n",
    "X = [[0.0,0.1,0.6],[0.0,1.5,0.3],[1.2,1.6,0.5]]\n",
    "neigh = NearestNeighbors(n_neighbors=1)\n",
    "neigh.fit(X)\n",
    "new_X = [[1.,1.,1.1]]\n",
    "neigh.kneighbors(new_X)"
   ]
  },
  {
   "cell_type": "markdown",
   "metadata": {},
   "source": [
    "# 基于超参数优化的Grandient Boosting的销售预测"
   ]
  },
  {
   "cell_type": "code",
   "execution_count": 3,
   "metadata": {
    "ExecuteTime": {
     "end_time": "2019-02-25T00:51:20.305966Z",
     "start_time": "2019-02-25T00:51:19.761617Z"
    }
   },
   "outputs": [],
   "source": [
    "from sklearn.ensemble import GradientBoostingRegressor\n",
    "from sklearn.model_selection import GridSearchCV"
   ]
  },
  {
   "cell_type": "code",
   "execution_count": 4,
   "metadata": {
    "ExecuteTime": {
     "end_time": "2019-02-25T00:51:20.973259Z",
     "start_time": "2019-02-25T00:51:20.954310Z"
    }
   },
   "outputs": [
    {
     "data": {
      "text/html": [
       "<div>\n",
       "<style scoped>\n",
       "    .dataframe tbody tr th:only-of-type {\n",
       "        vertical-align: middle;\n",
       "    }\n",
       "\n",
       "    .dataframe tbody tr th {\n",
       "        vertical-align: top;\n",
       "    }\n",
       "\n",
       "    .dataframe thead th {\n",
       "        text-align: right;\n",
       "    }\n",
       "</style>\n",
       "<table border=\"1\" class=\"dataframe\">\n",
       "  <thead>\n",
       "    <tr style=\"text-align: right;\">\n",
       "      <th></th>\n",
       "      <th>limit_infor</th>\n",
       "      <th>campaign_type</th>\n",
       "      <th>campaign_level</th>\n",
       "      <th>product_level</th>\n",
       "      <th>resource_amount</th>\n",
       "      <th>email_rate</th>\n",
       "      <th>price</th>\n",
       "      <th>discount_rate</th>\n",
       "      <th>hour_resouces</th>\n",
       "      <th>campaign_fee</th>\n",
       "      <th>orders</th>\n",
       "    </tr>\n",
       "  </thead>\n",
       "  <tbody>\n",
       "    <tr>\n",
       "      <th>0</th>\n",
       "      <td>0</td>\n",
       "      <td>6</td>\n",
       "      <td>0</td>\n",
       "      <td>1</td>\n",
       "      <td>1</td>\n",
       "      <td>0.08</td>\n",
       "      <td>140.0</td>\n",
       "      <td>0.83</td>\n",
       "      <td>93</td>\n",
       "      <td>888</td>\n",
       "      <td>1981</td>\n",
       "    </tr>\n",
       "    <tr>\n",
       "      <th>1</th>\n",
       "      <td>0</td>\n",
       "      <td>0</td>\n",
       "      <td>0</td>\n",
       "      <td>1</td>\n",
       "      <td>1</td>\n",
       "      <td>0.10</td>\n",
       "      <td>144.0</td>\n",
       "      <td>0.75</td>\n",
       "      <td>150</td>\n",
       "      <td>836</td>\n",
       "      <td>986</td>\n",
       "    </tr>\n",
       "    <tr>\n",
       "      <th>2</th>\n",
       "      <td>0</td>\n",
       "      <td>1</td>\n",
       "      <td>1</td>\n",
       "      <td>1</td>\n",
       "      <td>1</td>\n",
       "      <td>0.12</td>\n",
       "      <td>149.0</td>\n",
       "      <td>0.84</td>\n",
       "      <td>86</td>\n",
       "      <td>1330</td>\n",
       "      <td>1416</td>\n",
       "    </tr>\n",
       "  </tbody>\n",
       "</table>\n",
       "</div>"
      ],
      "text/plain": [
       "   limit_infor  campaign_type  campaign_level  product_level  resource_amount  \\\n",
       "0            0              6               0              1                1   \n",
       "1            0              0               0              1                1   \n",
       "2            0              1               1              1                1   \n",
       "\n",
       "   email_rate  price  discount_rate  hour_resouces  campaign_fee  orders  \n",
       "0        0.08  140.0           0.83             93           888    1981  \n",
       "1        0.10  144.0           0.75            150           836     986  \n",
       "2        0.12  149.0           0.84             86          1330    1416  "
      ]
     },
     "execution_count": 4,
     "metadata": {},
     "output_type": "execute_result"
    }
   ],
   "source": [
    "with open('./datacode_for_book/chapter6/products_sales.txt') as f:\n",
    "    data = pd.read_csv(f)\n",
    "    \n",
    "data[:3]"
   ]
  },
  {
   "cell_type": "code",
   "execution_count": 5,
   "metadata": {
    "ExecuteTime": {
     "end_time": "2019-02-25T00:51:21.836417Z",
     "start_time": "2019-02-25T00:51:21.797325Z"
    }
   },
   "outputs": [
    {
     "data": {
      "text/html": [
       "<div>\n",
       "<style scoped>\n",
       "    .dataframe tbody tr th:only-of-type {\n",
       "        vertical-align: middle;\n",
       "    }\n",
       "\n",
       "    .dataframe tbody tr th {\n",
       "        vertical-align: top;\n",
       "    }\n",
       "\n",
       "    .dataframe thead th {\n",
       "        text-align: right;\n",
       "    }\n",
       "</style>\n",
       "<table border=\"1\" class=\"dataframe\">\n",
       "  <thead>\n",
       "    <tr style=\"text-align: right;\">\n",
       "      <th></th>\n",
       "      <th>count</th>\n",
       "      <th>mean</th>\n",
       "      <th>std</th>\n",
       "      <th>min</th>\n",
       "      <th>25%</th>\n",
       "      <th>50%</th>\n",
       "      <th>75%</th>\n",
       "      <th>max</th>\n",
       "    </tr>\n",
       "  </thead>\n",
       "  <tbody>\n",
       "    <tr>\n",
       "      <th>limit_infor</th>\n",
       "      <td>731.0</td>\n",
       "      <td>0.042408</td>\n",
       "      <td>0.404911</td>\n",
       "      <td>0.00</td>\n",
       "      <td>0.00</td>\n",
       "      <td>0.00</td>\n",
       "      <td>0.00</td>\n",
       "      <td>10.00</td>\n",
       "    </tr>\n",
       "    <tr>\n",
       "      <th>campaign_type</th>\n",
       "      <td>731.0</td>\n",
       "      <td>2.997264</td>\n",
       "      <td>2.004787</td>\n",
       "      <td>0.00</td>\n",
       "      <td>1.00</td>\n",
       "      <td>3.00</td>\n",
       "      <td>5.00</td>\n",
       "      <td>6.00</td>\n",
       "    </tr>\n",
       "    <tr>\n",
       "      <th>campaign_level</th>\n",
       "      <td>731.0</td>\n",
       "      <td>0.683995</td>\n",
       "      <td>0.465233</td>\n",
       "      <td>0.00</td>\n",
       "      <td>0.00</td>\n",
       "      <td>1.00</td>\n",
       "      <td>1.00</td>\n",
       "      <td>1.00</td>\n",
       "    </tr>\n",
       "    <tr>\n",
       "      <th>product_level</th>\n",
       "      <td>731.0</td>\n",
       "      <td>1.395349</td>\n",
       "      <td>0.544894</td>\n",
       "      <td>1.00</td>\n",
       "      <td>1.00</td>\n",
       "      <td>1.00</td>\n",
       "      <td>2.00</td>\n",
       "      <td>3.00</td>\n",
       "    </tr>\n",
       "    <tr>\n",
       "      <th>resource_amount</th>\n",
       "      <td>731.0</td>\n",
       "      <td>4.952120</td>\n",
       "      <td>1.838449</td>\n",
       "      <td>1.00</td>\n",
       "      <td>3.00</td>\n",
       "      <td>5.00</td>\n",
       "      <td>7.00</td>\n",
       "      <td>9.00</td>\n",
       "    </tr>\n",
       "    <tr>\n",
       "      <th>email_rate</th>\n",
       "      <td>731.0</td>\n",
       "      <td>0.474337</td>\n",
       "      <td>0.162913</td>\n",
       "      <td>0.08</td>\n",
       "      <td>0.34</td>\n",
       "      <td>0.49</td>\n",
       "      <td>0.61</td>\n",
       "      <td>0.84</td>\n",
       "    </tr>\n",
       "    <tr>\n",
       "      <th>price</th>\n",
       "      <td>729.0</td>\n",
       "      <td>162.812071</td>\n",
       "      <td>14.267136</td>\n",
       "      <td>100.00</td>\n",
       "      <td>152.00</td>\n",
       "      <td>163.00</td>\n",
       "      <td>173.00</td>\n",
       "      <td>197.00</td>\n",
       "    </tr>\n",
       "    <tr>\n",
       "      <th>discount_rate</th>\n",
       "      <td>731.0</td>\n",
       "      <td>0.809617</td>\n",
       "      <td>0.077679</td>\n",
       "      <td>0.49</td>\n",
       "      <td>0.77</td>\n",
       "      <td>0.82</td>\n",
       "      <td>0.87</td>\n",
       "      <td>0.98</td>\n",
       "    </tr>\n",
       "    <tr>\n",
       "      <th>hour_resouces</th>\n",
       "      <td>731.0</td>\n",
       "      <td>848.176471</td>\n",
       "      <td>686.622488</td>\n",
       "      <td>2.00</td>\n",
       "      <td>315.50</td>\n",
       "      <td>713.00</td>\n",
       "      <td>1096.00</td>\n",
       "      <td>3410.00</td>\n",
       "    </tr>\n",
       "    <tr>\n",
       "      <th>campaign_fee</th>\n",
       "      <td>731.0</td>\n",
       "      <td>3696.391245</td>\n",
       "      <td>1908.643139</td>\n",
       "      <td>20.00</td>\n",
       "      <td>2497.00</td>\n",
       "      <td>3662.00</td>\n",
       "      <td>4795.50</td>\n",
       "      <td>33380.00</td>\n",
       "    </tr>\n",
       "    <tr>\n",
       "      <th>orders</th>\n",
       "      <td>731.0</td>\n",
       "      <td>4531.079343</td>\n",
       "      <td>1932.532346</td>\n",
       "      <td>22.00</td>\n",
       "      <td>3199.00</td>\n",
       "      <td>4563.00</td>\n",
       "      <td>6011.50</td>\n",
       "      <td>8714.00</td>\n",
       "    </tr>\n",
       "  </tbody>\n",
       "</table>\n",
       "</div>"
      ],
      "text/plain": [
       "                 count         mean          std     min      25%      50%  \\\n",
       "limit_infor      731.0     0.042408     0.404911    0.00     0.00     0.00   \n",
       "campaign_type    731.0     2.997264     2.004787    0.00     1.00     3.00   \n",
       "campaign_level   731.0     0.683995     0.465233    0.00     0.00     1.00   \n",
       "product_level    731.0     1.395349     0.544894    1.00     1.00     1.00   \n",
       "resource_amount  731.0     4.952120     1.838449    1.00     3.00     5.00   \n",
       "email_rate       731.0     0.474337     0.162913    0.08     0.34     0.49   \n",
       "price            729.0   162.812071    14.267136  100.00   152.00   163.00   \n",
       "discount_rate    731.0     0.809617     0.077679    0.49     0.77     0.82   \n",
       "hour_resouces    731.0   848.176471   686.622488    2.00   315.50   713.00   \n",
       "campaign_fee     731.0  3696.391245  1908.643139   20.00  2497.00  3662.00   \n",
       "orders           731.0  4531.079343  1932.532346   22.00  3199.00  4563.00   \n",
       "\n",
       "                     75%       max  \n",
       "limit_infor         0.00     10.00  \n",
       "campaign_type       5.00      6.00  \n",
       "campaign_level      1.00      1.00  \n",
       "product_level       2.00      3.00  \n",
       "resource_amount     7.00      9.00  \n",
       "email_rate          0.61      0.84  \n",
       "price             173.00    197.00  \n",
       "discount_rate       0.87      0.98  \n",
       "hour_resouces    1096.00   3410.00  \n",
       "campaign_fee     4795.50  33380.00  \n",
       "orders           6011.50   8714.00  "
      ]
     },
     "execution_count": 5,
     "metadata": {},
     "output_type": "execute_result"
    }
   ],
   "source": [
    "data.describe(include='all').T"
   ]
  },
  {
   "cell_type": "code",
   "execution_count": 6,
   "metadata": {
    "ExecuteTime": {
     "end_time": "2019-02-25T00:51:22.342419Z",
     "start_time": "2019-02-25T00:51:22.326407Z"
    }
   },
   "outputs": [
    {
     "data": {
      "text/plain": [
       "0     709\n",
       "1      21\n",
       "10      1\n",
       "Name: limit_infor, dtype: int64"
      ]
     },
     "execution_count": 6,
     "metadata": {},
     "output_type": "execute_result"
    },
    {
     "data": {
      "text/plain": [
       "0    105\n",
       "1    105\n",
       "2    104\n",
       "3    104\n",
       "4    104\n",
       "5    104\n",
       "6    105\n",
       "Name: campaign_type, dtype: int64"
      ]
     },
     "execution_count": 6,
     "metadata": {},
     "output_type": "execute_result"
    },
    {
     "data": {
      "text/plain": [
       "0    231\n",
       "1    500\n",
       "Name: campaign_level, dtype: int64"
      ]
     },
     "execution_count": 6,
     "metadata": {},
     "output_type": "execute_result"
    },
    {
     "data": {
      "text/plain": [
       "1    463\n",
       "2    247\n",
       "3     21\n",
       "Name: product_level, dtype: int64"
      ]
     },
     "execution_count": 6,
     "metadata": {},
     "output_type": "execute_result"
    }
   ],
   "source": [
    "col_names = ['limit_infor','campaign_type','campaign_level','product_level']\n",
    "for col_name in col_names:\n",
    "    data[col_name].value_counts().sort_index()"
   ]
  },
  {
   "cell_type": "code",
   "execution_count": 7,
   "metadata": {
    "ExecuteTime": {
     "end_time": "2019-02-25T00:51:22.866590Z",
     "start_time": "2019-02-25T00:51:22.858601Z"
    }
   },
   "outputs": [
    {
     "name": "stdout",
     "output_type": "stream",
     "text": [
      "**************************NA Cols:**************************\n",
      "limit_infor        False\n",
      "campaign_type      False\n",
      "campaign_level     False\n",
      "product_level      False\n",
      "resource_amount    False\n",
      "email_rate         False\n",
      "price               True\n",
      "discount_rate      False\n",
      "hour_resouces      False\n",
      "campaign_fee       False\n",
      "orders             False\n",
      "dtype: bool\n",
      "Total number of NA lines is: 2\n"
     ]
    }
   ],
   "source": [
    "# 缺失值审查\n",
    "na_cols = data.isnull().any(axis=0)  # 查看每一列是否具有缺失值\n",
    "print ('{:*^60}'.format('NA Cols:'))\n",
    "print (na_cols)  # 查看具有缺失值的列\n",
    "na_lines = data.isnull().any(axis=1)  # 查看每一行是否具有缺失值\n",
    "print ('Total number of NA lines is: {0}'.format(na_lines.sum()))  # 查看具有缺失值的行总记录数"
   ]
  },
  {
   "cell_type": "code",
   "execution_count": 9,
   "metadata": {
    "ExecuteTime": {
     "end_time": "2019-02-25T00:51:46.359299Z",
     "start_time": "2019-02-25T00:51:46.091997Z"
    }
   },
   "outputs": [
    {
     "name": "stdout",
     "output_type": "stream",
     "text": [
      "********************Correlation Analyze:********************\n",
      "          li    ct    cl    pl    ra    er  price    dr    hr    cf  orders\n",
      "li      1.00 -0.03 -0.08 -0.04  0.05  0.04  -0.02  0.00  0.01 -0.04   -0.02\n",
      "ct     -0.03  1.00  0.04  0.03  0.01 -0.01  -0.05 -0.01  0.06  0.06    0.06\n",
      "cl     -0.08  0.04  1.00  0.06  0.05  0.05   0.02  0.02 -0.52  0.26    0.05\n",
      "pl     -0.04  0.03  0.06  1.00 -0.12 -0.12   0.59 -0.04 -0.25 -0.23   -0.30\n",
      "ra      0.05  0.01  0.05 -0.12  1.00  0.98   0.13  0.15  0.54  0.46    0.62\n",
      "er      0.04 -0.01  0.05 -0.12  0.98  1.00   0.14  0.18  0.54  0.47    0.63\n",
      "price  -0.02 -0.05  0.02  0.59  0.13  0.14   1.00  0.25 -0.08 -0.11   -0.10\n",
      "dr      0.00 -0.01  0.02 -0.04  0.15  0.18   0.25  1.00  0.17  0.19    0.23\n",
      "hr      0.01  0.06 -0.52 -0.25  0.54  0.54  -0.08  0.17  1.00  0.32    0.66\n",
      "cf     -0.04  0.06  0.26 -0.23  0.46  0.47  -0.11  0.19  0.32  1.00    0.76\n",
      "orders -0.02  0.06  0.05 -0.30  0.62  0.63  -0.10  0.23  0.66  0.76    1.00\n",
      "{'limit_infor': 'li', 'campaign_type': 'ct', 'campaign_level': 'cl', 'product_level': 'pl', 'resource_amount': 'ra', 'email_rate': 'er', 'price': 'price', 'discount_rate': 'dr', 'hour_resouces': 'hr', 'campaign_fee': 'cf', 'orders': 'orders'}\n"
     ]
    },
    {
     "data": {
      "text/plain": [
       "<Figure size 720x432 with 0 Axes>"
      ]
     },
     "execution_count": 9,
     "metadata": {},
     "output_type": "execute_result"
    },
    {
     "data": {
      "text/plain": [
       "<matplotlib.image.AxesImage at 0x1af70db5cf8>"
      ]
     },
     "execution_count": 9,
     "metadata": {},
     "output_type": "execute_result"
    },
    {
     "data": {
      "text/plain": [
       "([<matplotlib.axis.XTick at 0x1af70d9f358>,\n",
       "  <matplotlib.axis.XTick at 0x1af70da8c88>,\n",
       "  <matplotlib.axis.XTick at 0x1af70da89b0>,\n",
       "  <matplotlib.axis.XTick at 0x1af70d971d0>,\n",
       "  <matplotlib.axis.XTick at 0x1af70d977b8>,\n",
       "  <matplotlib.axis.XTick at 0x1af70d97c88>,\n",
       "  <matplotlib.axis.XTick at 0x1af70d97b00>,\n",
       "  <matplotlib.axis.XTick at 0x1af70c44080>,\n",
       "  <matplotlib.axis.XTick at 0x1af70c44748>,\n",
       "  <matplotlib.axis.XTick at 0x1af70c44c18>,\n",
       "  <matplotlib.axis.XTick at 0x1af70c4b160>],\n",
       " <a list of 11 Text xticklabel objects>)"
      ]
     },
     "execution_count": 9,
     "metadata": {},
     "output_type": "execute_result"
    },
    {
     "data": {
      "text/plain": [
       "([<matplotlib.axis.YTick at 0x1af70da20b8>,\n",
       "  <matplotlib.axis.YTick at 0x1af70d9f9b0>,\n",
       "  <matplotlib.axis.YTick at 0x1af70da89e8>,\n",
       "  <matplotlib.axis.YTick at 0x1af70c4b7b8>,\n",
       "  <matplotlib.axis.YTick at 0x1af70c4be80>,\n",
       "  <matplotlib.axis.YTick at 0x1af70c514a8>,\n",
       "  <matplotlib.axis.YTick at 0x1af70c4b6d8>,\n",
       "  <matplotlib.axis.YTick at 0x1af70c44a90>,\n",
       "  <matplotlib.axis.YTick at 0x1af70c51748>,\n",
       "  <matplotlib.axis.YTick at 0x1af70c51d68>,\n",
       "  <matplotlib.axis.YTick at 0x1af70c5b278>],\n",
       " <a list of 11 Text yticklabel objects>)"
      ]
     },
     "execution_count": 9,
     "metadata": {},
     "output_type": "execute_result"
    },
    {
     "data": {
      "text/plain": [
       "<matplotlib.colorbar.Colorbar at 0x1af70c85550>"
      ]
     },
     "execution_count": 9,
     "metadata": {},
     "output_type": "execute_result"
    },
    {
     "data": {
      "image/png": "[encoded data removed]",
      "text/plain": [
       "<Figure size 720x432 with 2 Axes>"
      ]
     },
     "metadata": {
      "needs_background": "light"
     },
     "output_type": "display_data"
    }
   ],
   "source": [
    "# 相关性分析\n",
    "print ('{:*^60}'.format('Correlation Analyze:'))\n",
    "short_name = ['li', 'ct', 'cl', 'pl', 'ra', 'er', 'price', 'dr', 'hr', 'cf', 'orders']\n",
    "long_name = data.columns\n",
    "name_dict = dict(zip(long_name, short_name))\n",
    "print (data.corr().round(2).rename(index=name_dict, columns=name_dict))  # 输出所有输入特征变量以及预测变量的相关性矩阵\n",
    "print (name_dict)\n",
    "plt.figure(figsize=(10,6))\n",
    "plt.imshow(data.corr().round(2))\n",
    "plt.xticks(np.arange(11),('li', 'ct', 'cl', 'pl', 'ra', 'er', 'price', 'dr', 'hr', 'cf', 'orders'))\n",
    "plt.yticks(np.arange(11),('li', 'ct', 'cl', 'pl', 'ra', 'er', 'price', 'dr', 'hr', 'cf', 'orders'))\n",
    "plt.colorbar()\n"
   ]
  },
  {
   "cell_type": "code",
   "execution_count": null,
   "metadata": {},
   "outputs": [],
   "source": []
  }
 ],
 "metadata": {
  "hide_input": false,
  "kernelspec": {
   "display_name": "Python 3",
   "language": "python",
   "name": "python3"
  },
  "language_info": {
   "codemirror_mode": {
    "name": "ipython",
    "version": 3
   },
   "file_extension": ".py",
   "mimetype": "text/x-python",
   "name": "python",
   "nbconvert_exporter": "python",
   "pygments_lexer": "ipython3",
   "version": "3.7.0"
  },
  "toc": {
   "base_numbering": 1,
   "nav_menu": {},
   "number_sections": true,
   "sideBar": true,
   "skip_h1_title": false,
   "title_cell": "Table of Contents",
   "title_sidebar": "Contents",
   "toc_cell": false,
   "toc_position": {},
   "toc_section_display": true,
   "toc_window_display": false
  },
  "varInspector": {
   "cols": {
    "lenName": 16,
    "lenType": 16,
    "lenVar": 40
   },
   "kernels_config": {
    "python": {
     "delete_cmd_postfix": "",
     "delete_cmd_prefix": "del ",
     "library": "var_list.py",
     "varRefreshCmd": "print(var_dic_list())"
    },
    "r": {
     "delete_cmd_postfix": ") ",
     "delete_cmd_prefix": "rm(",
     "library": "var_list.r",
     "varRefreshCmd": "cat(var_dic_list()) "
    }
   },
   "types_to_exclude": [
    "module",
    "function",
    "builtin_function_or_method",
    "instance",
    "_Feature"
   ],
   "window_display": false
  }
 },
 "nbformat": 4,
 "nbformat_minor": 2
}
