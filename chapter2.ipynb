{
 "cells": [
  {
   "cell_type": "code",
   "execution_count": 5,
   "metadata": {
    "ExecuteTime": {
     "end_time": "2018-11-22T00:17:12.303755Z",
     "start_time": "2018-11-22T00:17:12.293783Z"
    }
   },
   "outputs": [
    {
     "data": {
      "text/plain": [
       "<module 'mysetting' from '..\\\\mysetting.py'>"
      ]
     },
     "execution_count": 5,
     "metadata": {},
     "output_type": "execute_result"
    }
   ],
   "source": [
    "import sys\n",
    "from importlib import reload\n",
    "sys.path.append('..')\n",
    "import mysetting\n",
    "reload(mysetting)"
   ]
  },
  {
   "cell_type": "code",
   "execution_count": 2,
   "metadata": {
    "ExecuteTime": {
     "end_time": "2018-11-20T00:22:08.147901Z",
     "start_time": "2018-11-20T00:22:07.884283Z"
    }
   },
   "outputs": [
    {
     "data": {
      "text/html": [
       "<div>\n",
       "<style scoped>\n",
       "    .dataframe tbody tr th:only-of-type {\n",
       "        vertical-align: middle;\n",
       "    }\n",
       "\n",
       "    .dataframe tbody tr th {\n",
       "        vertical-align: top;\n",
       "    }\n",
       "\n",
       "    .dataframe thead th {\n",
       "        text-align: right;\n",
       "    }\n",
       "</style>\n",
       "<table border=\"1\" class=\"dataframe\">\n",
       "  <thead>\n",
       "    <tr style=\"text-align: right;\">\n",
       "      <th></th>\n",
       "      <th>0</th>\n",
       "    </tr>\n",
       "  </thead>\n",
       "  <tbody>\n",
       "    <tr>\n",
       "      <th>0</th>\n",
       "      <td>a2331a9013a3211a9981</td>\n",
       "    </tr>\n",
       "    <tr>\n",
       "      <th>1</th>\n",
       "      <td>b4432b3199b9766b2212</td>\n",
       "    </tr>\n",
       "    <tr>\n",
       "      <th>2</th>\n",
       "      <td>c3294c1099c7631c4302</td>\n",
       "    </tr>\n",
       "  </tbody>\n",
       "</table>\n",
       "</div>"
      ],
      "text/plain": [
       "                      0\n",
       "0  a2331a9013a3211a9981\n",
       "1  b4432b3199b9766b2212\n",
       "2  c3294c1099c7631c4302"
      ]
     },
     "execution_count": 2,
     "metadata": {},
     "output_type": "execute_result"
    },
    {
     "data": {
      "text/html": [
       "<div>\n",
       "<style scoped>\n",
       "    .dataframe tbody tr th:only-of-type {\n",
       "        vertical-align: middle;\n",
       "    }\n",
       "\n",
       "    .dataframe tbody tr th {\n",
       "        vertical-align: top;\n",
       "    }\n",
       "\n",
       "    .dataframe thead th {\n",
       "        text-align: right;\n",
       "    }\n",
       "</style>\n",
       "<table border=\"1\" class=\"dataframe\">\n",
       "  <thead>\n",
       "    <tr style=\"text-align: right;\">\n",
       "      <th></th>\n",
       "      <th>0</th>\n",
       "      <th>1</th>\n",
       "      <th>2</th>\n",
       "      <th>3</th>\n",
       "      <th>4</th>\n",
       "    </tr>\n",
       "  </thead>\n",
       "  <tbody>\n",
       "    <tr>\n",
       "      <th>0</th>\n",
       "      <td>a2331</td>\n",
       "      <td>a9</td>\n",
       "      <td>013a3</td>\n",
       "      <td>211a</td>\n",
       "      <td>99</td>\n",
       "    </tr>\n",
       "    <tr>\n",
       "      <th>1</th>\n",
       "      <td>b4432</td>\n",
       "      <td>b3</td>\n",
       "      <td>199b9</td>\n",
       "      <td>766b</td>\n",
       "      <td>22</td>\n",
       "    </tr>\n",
       "    <tr>\n",
       "      <th>2</th>\n",
       "      <td>c3294</td>\n",
       "      <td>c1</td>\n",
       "      <td>099c7</td>\n",
       "      <td>631c</td>\n",
       "      <td>43</td>\n",
       "    </tr>\n",
       "  </tbody>\n",
       "</table>\n",
       "</div>"
      ],
      "text/plain": [
       "       0   1      2     3   4\n",
       "0  a2331  a9  013a3  211a  99\n",
       "1  b4432  b3  199b9  766b  22\n",
       "2  c3294  c1  099c7  631c  43"
      ]
     },
     "execution_count": 2,
     "metadata": {},
     "output_type": "execute_result"
    }
   ],
   "source": [
    "file = './datacode_for_book/chapter2/fwf_data'\n",
    "pd.read_csv(file,header=None)\n",
    "pd.read_fwf(file,widths=[5,2,5,4,2],header=None)"
   ]
  },
  {
   "cell_type": "markdown",
   "metadata": {},
   "source": [
    "# 导入excel"
   ]
  },
  {
   "cell_type": "code",
   "execution_count": 3,
   "metadata": {
    "ExecuteTime": {
     "end_time": "2018-11-20T00:22:08.422711Z",
     "start_time": "2018-11-20T00:22:08.149885Z"
    }
   },
   "outputs": [
    {
     "data": {
      "text/plain": [
       "[]"
      ]
     },
     "execution_count": 3,
     "metadata": {},
     "output_type": "execute_result"
    }
   ],
   "source": [
    "import xlrd\n",
    "xlsx = xlrd.open_workbook('./datacode_for_book/chapter2/demo.xlsx')\n",
    "xlsx.name_obj_list"
   ]
  },
  {
   "cell_type": "code",
   "execution_count": 4,
   "metadata": {
    "ExecuteTime": {
     "end_time": "2018-11-20T00:22:08.436672Z",
     "start_time": "2018-11-20T00:22:08.427697Z"
    }
   },
   "outputs": [
    {
     "data": {
      "text/plain": [
       "<xlrd.sheet.Sheet at 0x23125a17908>"
      ]
     },
     "execution_count": 4,
     "metadata": {},
     "output_type": "execute_result"
    }
   ],
   "source": [
    "sheet1 = xlsx.sheets()[0]\n",
    "sheet1"
   ]
  },
  {
   "cell_type": "code",
   "execution_count": 5,
   "metadata": {
    "ExecuteTime": {
     "end_time": "2018-11-20T00:22:08.465595Z",
     "start_time": "2018-11-20T00:22:08.440662Z"
    }
   },
   "outputs": [
    {
     "data": {
      "text/plain": [
       "'Sheet1'"
      ]
     },
     "execution_count": 5,
     "metadata": {},
     "output_type": "execute_result"
    },
    {
     "data": {
      "text/plain": [
       "4"
      ]
     },
     "execution_count": 5,
     "metadata": {},
     "output_type": "execute_result"
    },
    {
     "data": {
      "text/plain": [
       "10"
      ]
     },
     "execution_count": 5,
     "metadata": {},
     "output_type": "execute_result"
    },
    {
     "data": {
      "text/plain": [
       "0"
      ]
     },
     "execution_count": 5,
     "metadata": {},
     "output_type": "execute_result"
    }
   ],
   "source": [
    "sheet1.name\n",
    "sheet1.ncols\n",
    "sheet1.nrows\n",
    "sheet1.number"
   ]
  },
  {
   "cell_type": "code",
   "execution_count": 6,
   "metadata": {
    "ExecuteTime": {
     "end_time": "2018-11-20T00:22:08.472584Z",
     "start_time": "2018-11-20T00:22:08.467590Z"
    }
   },
   "outputs": [
    {
     "data": {
      "text/plain": [
       "['431381197408191515', '有效', 42725.0, '深圳市']"
      ]
     },
     "execution_count": 6,
     "metadata": {},
     "output_type": "execute_result"
    }
   ],
   "source": [
    "sheet1.row_values(4)"
   ]
  },
  {
   "cell_type": "code",
   "execution_count": 7,
   "metadata": {
    "ExecuteTime": {
     "end_time": "2018-11-20T00:22:08.481556Z",
     "start_time": "2018-11-20T00:22:08.474570Z"
    }
   },
   "outputs": [
    {
     "data": {
      "text/plain": [
       "['Create_Time',\n",
       " 42725.0,\n",
       " 42725.0,\n",
       " 42725.0,\n",
       " 42725.0,\n",
       " 42725.0,\n",
       " 42725.0,\n",
       " 42725.0,\n",
       " 42725.0,\n",
       " 42725.0]"
      ]
     },
     "execution_count": 7,
     "metadata": {},
     "output_type": "execute_result"
    }
   ],
   "source": [
    "sheet1.col_values(2)"
   ]
  },
  {
   "cell_type": "code",
   "execution_count": 8,
   "metadata": {
    "ExecuteTime": {
     "end_time": "2018-11-20T00:22:08.490531Z",
     "start_time": "2018-11-20T00:22:08.484546Z"
    }
   },
   "outputs": [
    {
     "data": {
      "text/plain": [
       "[text:'431381197903117478', text:'有效', xldate:42725.0, text:'深圳市']"
      ]
     },
     "execution_count": 8,
     "metadata": {},
     "output_type": "execute_result"
    }
   ],
   "source": [
    "sheet1.row(3)"
   ]
  },
  {
   "cell_type": "code",
   "execution_count": 9,
   "metadata": {
    "ExecuteTime": {
     "end_time": "2018-11-20T00:22:08.499505Z",
     "start_time": "2018-11-20T00:22:08.492524Z"
    }
   },
   "outputs": [
    {
     "data": {
      "text/plain": [
       "xldate:42725.0"
      ]
     },
     "execution_count": 9,
     "metadata": {},
     "output_type": "execute_result"
    },
    {
     "data": {
      "text/plain": [
       "42725.0"
      ]
     },
     "execution_count": 9,
     "metadata": {},
     "output_type": "execute_result"
    }
   ],
   "source": [
    "sheet1.row(3)[2]\n",
    "sheet1.row(3)[2].value"
   ]
  },
  {
   "cell_type": "code",
   "execution_count": 10,
   "metadata": {
    "ExecuteTime": {
     "end_time": "2018-11-20T00:22:08.521457Z",
     "start_time": "2018-11-20T00:22:08.501499Z"
    }
   },
   "outputs": [
    {
     "data": {
      "text/plain": [
       "['ID_number', 'Status', 'Create_Time', 'Business_City']"
      ]
     },
     "execution_count": 10,
     "metadata": {},
     "output_type": "execute_result"
    },
    {
     "data": {
      "text/plain": [
       "['431381198109106573', '有效', 42725.0, '深圳市']"
      ]
     },
     "execution_count": 10,
     "metadata": {},
     "output_type": "execute_result"
    },
    {
     "data": {
      "text/plain": [
       "['431381198809122734', '有效', 42725.0, '深圳市']"
      ]
     },
     "execution_count": 10,
     "metadata": {},
     "output_type": "execute_result"
    },
    {
     "data": {
      "text/plain": [
       "['431381197903117478', '有效', 42725.0, '深圳市']"
      ]
     },
     "execution_count": 10,
     "metadata": {},
     "output_type": "execute_result"
    },
    {
     "data": {
      "text/plain": [
       "['431381197408191515', '有效', 42725.0, '深圳市']"
      ]
     },
     "execution_count": 10,
     "metadata": {},
     "output_type": "execute_result"
    },
    {
     "data": {
      "text/plain": [
       "['431381197606166011', '有效', 42725.0, '深圳市']"
      ]
     },
     "execution_count": 10,
     "metadata": {},
     "output_type": "execute_result"
    },
    {
     "data": {
      "text/plain": [
       "['43138119850623339X', '有效', 42725.0, '深圳市']"
      ]
     },
     "execution_count": 10,
     "metadata": {},
     "output_type": "execute_result"
    },
    {
     "data": {
      "text/plain": [
       "['431381198908223477', '有效', 42725.0, '深圳市']"
      ]
     },
     "execution_count": 10,
     "metadata": {},
     "output_type": "execute_result"
    },
    {
     "data": {
      "text/plain": [
       "['431381198901176911', '有效', 42725.0, '深圳市']"
      ]
     },
     "execution_count": 10,
     "metadata": {},
     "output_type": "execute_result"
    },
    {
     "data": {
      "text/plain": [
       "['43138119870827275X', '有效', 42725.0, '深圳市']"
      ]
     },
     "execution_count": 10,
     "metadata": {},
     "output_type": "execute_result"
    }
   ],
   "source": [
    "for i in range(sheet1.nrows):\n",
    "    sheet1.row_values(i)"
   ]
  },
  {
   "cell_type": "markdown",
   "metadata": {},
   "source": [
    "# mongo"
   ]
  },
  {
   "cell_type": "code",
   "execution_count": 3,
   "metadata": {
    "ExecuteTime": {
     "end_time": "2018-11-22T00:10:43.267015Z",
     "start_time": "2018-11-22T00:10:43.192797Z"
    }
   },
   "outputs": [
    {
     "data": {
      "text/plain": [
       "True"
      ]
     },
     "execution_count": 3,
     "metadata": {},
     "output_type": "execute_result"
    },
    {
     "data": {
      "text/plain": [
       "<pymongo.results.InsertManyResult at 0x1be2f263f30>"
      ]
     },
     "execution_count": 3,
     "metadata": {},
     "output_type": "execute_result"
    }
   ],
   "source": [
    "from pymongo import MongoClient\n",
    "from urllib.parse import quote_plus\n",
    "# user=mysetting.mongo_account\n",
    "# password=mysetting.mongo_pwd\n",
    "# host = ':'.join([mysetting.ip,str(mysetting.mongo_port)])\n",
    "\n",
    "# uri = \"mongodb://{}:{}@{}\".format(quote_plus(user), quote_plus(password), host)\n",
    "client = MongoClient('180.76.96.173',27017)\n",
    "db = client.admin\n",
    "db.authenticate(mysetting.mongo_account,mysetting.mongo_pwd,mechanism='MONGODB-CR')\n",
    "mydb = client.test\n",
    "orders = mydb.ordersets\n",
    "terms = [{\"user\": \"tony\", \"id\": \"31020\", \"age\": \"30\", \"products\": [\"215120\", \"245101\", \"128410\"], \"date\": \"2017-04-06\"},\n",
    "         {\"user\": \"lucy\", \"id\": \"32210\", \"age\": \"29\", \"products\": [\"541001\", \"340740\", \"450111\"],\n",
    "          \"date\": \"2017-04-06\"}]  # 定义一条数据集合用于插入\n",
    "orders.insert_many(terms)  # 插入数据\n"
   ]
  },
  {
   "cell_type": "code",
   "execution_count": 4,
   "metadata": {
    "ExecuteTime": {
     "end_time": "2018-11-22T00:10:46.234235Z",
     "start_time": "2018-11-22T00:10:46.222267Z"
    }
   },
   "outputs": [
    {
     "name": "stdout",
     "output_type": "stream",
     "text": [
      "{'_id': ObjectId('5bf35f6641ca692d20e84acd'), 'user': 'tony', 'id': '31020', 'age': '30', 'products': ['215120', '245101', '128410'], 'date': '2017-04-06'}\n",
      "{'_id': ObjectId('5bf35f6641ca692d20e84ace'), 'user': 'lucy', 'id': '32210', 'age': '29', 'products': ['541001', '340740', '450111'], 'date': '2017-04-06'}\n",
      "{'_id': ObjectId('5bf35fbf41ca692d20e84ad1'), 'user': 'tony', 'id': '31020', 'age': '30', 'products': ['215120', '245101', '128410'], 'date': '2017-04-06'}\n",
      "{'_id': ObjectId('5bf35fbf41ca692d20e84ad2'), 'user': 'lucy', 'id': '32210', 'age': '29', 'products': ['541001', '340740', '450111'], 'date': '2017-04-06'}\n",
      "{'_id': ObjectId('5bf5f40341ca690d6c11871b'), 'user': 'tony', 'id': '31020', 'age': '30', 'products': ['215120', '245101', '128410'], 'date': '2017-04-06'}\n",
      "{'_id': ObjectId('5bf5f40341ca690d6c11871c'), 'user': 'lucy', 'id': '32210', 'age': '29', 'products': ['541001', '340740', '450111'], 'date': '2017-04-06'}\n"
     ]
    }
   ],
   "source": [
    "for i in orders.find():\n",
    "    print(i)"
   ]
  },
  {
   "cell_type": "markdown",
   "metadata": {},
   "source": [
    "# API"
   ]
  },
  {
   "cell_type": "code",
   "execution_count": 11,
   "metadata": {
    "ExecuteTime": {
     "end_time": "2018-11-22T00:33:49.401587Z",
     "start_time": "2018-11-22T00:33:49.149317Z"
    }
   },
   "outputs": [
    {
     "data": {
      "text/plain": [
       "'{\"status\":0,\"result\":{\"location\":{\"lng\":116.43974119798982,\"lat\":39.92662553986877},\"precise\":1,\"confidence\":80,\"comprehension\":100,\"level\":\"商务大厦\"}}'"
      ]
     },
     "execution_count": 11,
     "metadata": {},
     "output_type": "execute_result"
    }
   ],
   "source": [
    "import requests\n",
    "add = '银河SOHO'\n",
    "ak = mysetting.AK\n",
    "url = 'http://api.map.baidu.com/geocoder/v2/?address={}&output=json&ak={}'.format(add,ak)\n",
    "req = requests.get(url)\n",
    "res = req.text\n",
    "res"
   ]
  },
  {
   "cell_type": "code",
   "execution_count": 10,
   "metadata": {
    "ExecuteTime": {
     "end_time": "2018-11-22T00:33:21.343116Z",
     "start_time": "2018-11-22T00:33:21.337133Z"
    }
   },
   "outputs": [
    {
     "data": {
      "text/plain": [
       "'http://api.map.baidu.com/geocoder/v2/?address=%E9%93%B6%E6%B2%B3SOHO&output=xml&ak=KgnEnmmieneq23oBrOA8hug7f30yXhN9'"
      ]
     },
     "execution_count": 10,
     "metadata": {},
     "output_type": "execute_result"
    }
   ],
   "source": [
    "req.url"
   ]
  },
  {
   "cell_type": "code",
   "execution_count": 12,
   "metadata": {
    "ExecuteTime": {
     "end_time": "2018-11-22T00:33:53.866484Z",
     "start_time": "2018-11-22T00:33:53.861498Z"
    }
   },
   "outputs": [
    {
     "data": {
      "text/plain": [
       "{'status': 0,\n",
       " 'result': {'location': {'lng': 116.43974119798982, 'lat': 39.92662553986877},\n",
       "  'precise': 1,\n",
       "  'confidence': 80,\n",
       "  'comprehension': 100,\n",
       "  'level': '商务大厦'}}"
      ]
     },
     "execution_count": 12,
     "metadata": {},
     "output_type": "execute_result"
    }
   ],
   "source": [
    "import json\n",
    "json.loads(res)"
   ]
  },
  {
   "cell_type": "code",
   "execution_count": 93,
   "metadata": {
    "ExecuteTime": {
     "end_time": "2018-11-22T01:04:23.484698Z",
     "start_time": "2018-11-22T01:04:23.246339Z"
    }
   },
   "outputs": [
    {
     "data": {
      "text/plain": [
       "b'<?xml version=\"1.0\" encoding=\"utf-8\"?>\\n<GeocoderSearchResponse>\\n\\t<status>0</status>\\n\\t<result>\\n\\t\\t<location>\\n\\t\\t\\t<lng>116.439741198</lng>\\n\\t\\t\\t<lat>39.9266255399</lat>\\n\\t\\t</location>\\n\\t\\t<precise>1</precise>\\n\\t\\t<confidence>80</confidence>\\n\\t\\t<comprehension>100</comprehension>\\n\\t\\t<level>\\xe5\\x95\\x86\\xe5\\x8a\\xa1\\xe5\\xa4\\xa7\\xe5\\x8e\\xa6</level>\\n\\t</result>\\n</GeocoderSearchResponse>\\n\\n'"
      ]
     },
     "execution_count": 93,
     "metadata": {},
     "output_type": "execute_result"
    }
   ],
   "source": [
    "url = 'http://api.map.baidu.com/geocoder/v2/?address={}&output=xml&ak={}'.format(add,ak)\n",
    "req = requests.get(url)\n",
    "res = req.content\n",
    "res"
   ]
  },
  {
   "cell_type": "code",
   "execution_count": 16,
   "metadata": {
    "ExecuteTime": {
     "end_time": "2018-11-22T00:36:56.314003Z",
     "start_time": "2018-11-22T00:36:55.996740Z"
    }
   },
   "outputs": [],
   "source": [
    "from lxml import etree"
   ]
  },
  {
   "cell_type": "code",
   "execution_count": 94,
   "metadata": {
    "ExecuteTime": {
     "end_time": "2018-11-22T01:04:30.022118Z",
     "start_time": "2018-11-22T01:04:30.017132Z"
    }
   },
   "outputs": [],
   "source": [
    "html = etree.HTML(res)"
   ]
  },
  {
   "cell_type": "code",
   "execution_count": 97,
   "metadata": {
    "ExecuteTime": {
     "end_time": "2018-11-22T01:04:59.121694Z",
     "start_time": "2018-11-22T01:04:59.113714Z"
    }
   },
   "outputs": [
    {
     "data": {
      "text/plain": [
       "'<html><body><geocodersearchresponse>\\n\\t<status>0</status>\\n\\t<result>\\n\\t\\t<location>\\n\\t\\t\\t<lng>116.439741198</lng>\\n\\t\\t\\t<lat>39.9266255399</lat>\\n\\t\\t</location>\\n\\t\\t<precise>1</precise>\\n\\t\\t<confidence>80</confidence>\\n\\t\\t<comprehension>100</comprehension>\\n\\t\\t<level>商务大厦</level>\\n\\t</result>\\n</geocodersearchresponse>\\n\\n</body></html>'"
      ]
     },
     "execution_count": 97,
     "metadata": {},
     "output_type": "execute_result"
    }
   ],
   "source": [
    "html = etree.tostring(html,encoding='utf-8').decode('utf-8')"
   ]
  },
  {
   "cell_type": "code",
   "execution_count": 109,
   "metadata": {
    "ExecuteTime": {
     "end_time": "2018-11-22T01:10:58.047948Z",
     "start_time": "2018-11-22T01:10:58.042961Z"
    }
   },
   "outputs": [
    {
     "data": {
      "text/plain": [
       "'116.439741198'"
      ]
     },
     "execution_count": 109,
     "metadata": {},
     "output_type": "execute_result"
    }
   ],
   "source": [
    "html.xpath('//result/location/lng')[0].text"
   ]
  },
  {
   "cell_type": "code",
   "execution_count": null,
   "metadata": {},
   "outputs": [],
   "source": []
  }
 ],
 "metadata": {
  "hide_input": false,
  "kernelspec": {
   "display_name": "Python 3",
   "language": "python",
   "name": "python3"
  },
  "language_info": {
   "codemirror_mode": {
    "name": "ipython",
    "version": 3
   },
   "file_extension": ".py",
   "mimetype": "text/x-python",
   "name": "python",
   "nbconvert_exporter": "python",
   "pygments_lexer": "ipython3",
   "version": "3.6.6"
  },
  "toc": {
   "base_numbering": 1,
   "nav_menu": {},
   "number_sections": true,
   "sideBar": true,
   "skip_h1_title": false,
   "title_cell": "Table of Contents",
   "title_sidebar": "Contents",
   "toc_cell": false,
   "toc_position": {},
   "toc_section_display": true,
   "toc_window_display": false
  },
  "varInspector": {
   "cols": {
    "lenName": 16,
    "lenType": 16,
    "lenVar": 40
   },
   "kernels_config": {
    "python": {
     "delete_cmd_postfix": "",
     "delete_cmd_prefix": "del ",
     "library": "var_list.py",
     "varRefreshCmd": "print(var_dic_list())"
    },
    "r": {
     "delete_cmd_postfix": ") ",
     "delete_cmd_prefix": "rm(",
     "library": "var_list.r",
     "varRefreshCmd": "cat(var_dic_list()) "
    }
   },
   "position": {
    "height": "472px",
    "left": "1507px",
    "right": "20px",
    "top": "118px",
    "width": "393px"
   },
   "types_to_exclude": [
    "module",
    "function",
    "builtin_function_or_method",
    "instance",
    "_Feature"
   ],
   "window_display": false
  }
 },
 "nbformat": 4,
 "nbformat_minor": 2
}
