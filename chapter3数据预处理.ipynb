{
 "cells": [
  {
   "cell_type": "markdown",
   "metadata": {},
   "source": [
    "# 缺失值处理"
   ]
  },
  {
   "cell_type": "code",
   "execution_count": 1,
   "metadata": {
    "ExecuteTime": {
     "end_time": "2018-12-05T00:18:37.680933Z",
     "start_time": "2018-12-05T00:18:33.957499Z"
    }
   },
   "outputs": [],
   "source": [
    "from sklearn.preprocessing import Imputer"
   ]
  },
  {
   "cell_type": "code",
   "execution_count": 2,
   "metadata": {
    "ExecuteTime": {
     "end_time": "2018-12-05T00:18:37.735313Z",
     "start_time": "2018-12-05T00:18:37.680933Z"
    }
   },
   "outputs": [
    {
     "data": {
      "text/html": [
       "<div>\n",
       "<style scoped>\n",
       "    .dataframe tbody tr th:only-of-type {\n",
       "        vertical-align: middle;\n",
       "    }\n",
       "\n",
       "    .dataframe tbody tr th {\n",
       "        vertical-align: top;\n",
       "    }\n",
       "\n",
       "    .dataframe thead th {\n",
       "        text-align: right;\n",
       "    }\n",
       "</style>\n",
       "<table border=\"1\" class=\"dataframe\">\n",
       "  <thead>\n",
       "    <tr style=\"text-align: right;\">\n",
       "      <th></th>\n",
       "      <th>col1</th>\n",
       "      <th>col2</th>\n",
       "      <th>col3</th>\n",
       "      <th>col4</th>\n",
       "    </tr>\n",
       "  </thead>\n",
       "  <tbody>\n",
       "    <tr>\n",
       "      <th>0</th>\n",
       "      <td>0.723547</td>\n",
       "      <td>0.257461</td>\n",
       "      <td>1.760956</td>\n",
       "      <td>0.076956</td>\n",
       "    </tr>\n",
       "    <tr>\n",
       "      <th>1</th>\n",
       "      <td>0.369254</td>\n",
       "      <td>NaN</td>\n",
       "      <td>-1.619055</td>\n",
       "      <td>-0.933010</td>\n",
       "    </tr>\n",
       "    <tr>\n",
       "      <th>2</th>\n",
       "      <td>0.142853</td>\n",
       "      <td>-1.618385</td>\n",
       "      <td>0.560992</td>\n",
       "      <td>0.249985</td>\n",
       "    </tr>\n",
       "    <tr>\n",
       "      <th>3</th>\n",
       "      <td>0.371641</td>\n",
       "      <td>2.141017</td>\n",
       "      <td>1.224416</td>\n",
       "      <td>2.438345</td>\n",
       "    </tr>\n",
       "    <tr>\n",
       "      <th>4</th>\n",
       "      <td>-0.630552</td>\n",
       "      <td>0.279546</td>\n",
       "      <td>-1.501344</td>\n",
       "      <td>NaN</td>\n",
       "    </tr>\n",
       "    <tr>\n",
       "      <th>5</th>\n",
       "      <td>0.931650</td>\n",
       "      <td>1.524438</td>\n",
       "      <td>1.145900</td>\n",
       "      <td>-0.825035</td>\n",
       "    </tr>\n",
       "  </tbody>\n",
       "</table>\n",
       "</div>"
      ],
      "text/plain": [
       "       col1      col2      col3      col4\n",
       "0  0.723547  0.257461  1.760956  0.076956\n",
       "1  0.369254       NaN -1.619055 -0.933010\n",
       "2  0.142853 -1.618385  0.560992  0.249985\n",
       "3  0.371641  2.141017  1.224416  2.438345\n",
       "4 -0.630552  0.279546 -1.501344       NaN\n",
       "5  0.931650  1.524438  1.145900 -0.825035"
      ]
     },
     "execution_count": 2,
     "metadata": {},
     "output_type": "execute_result"
    }
   ],
   "source": [
    "df = DataFrame(np.random.randn(6,4),columns=['col1','col2','col3','col4'])\n",
    "df.iloc[1:2,1] = np.nan\n",
    "df.iloc[4,3] = np.nan\n",
    "df"
   ]
  },
  {
   "cell_type": "code",
   "execution_count": 3,
   "metadata": {
    "ExecuteTime": {
     "end_time": "2018-12-05T00:18:37.747834Z",
     "start_time": "2018-12-05T00:18:37.735313Z"
    }
   },
   "outputs": [
    {
     "data": {
      "text/html": [
       "<div>\n",
       "<style scoped>\n",
       "    .dataframe tbody tr th:only-of-type {\n",
       "        vertical-align: middle;\n",
       "    }\n",
       "\n",
       "    .dataframe tbody tr th {\n",
       "        vertical-align: top;\n",
       "    }\n",
       "\n",
       "    .dataframe thead th {\n",
       "        text-align: right;\n",
       "    }\n",
       "</style>\n",
       "<table border=\"1\" class=\"dataframe\">\n",
       "  <thead>\n",
       "    <tr style=\"text-align: right;\">\n",
       "      <th></th>\n",
       "      <th>col1</th>\n",
       "      <th>col2</th>\n",
       "      <th>col3</th>\n",
       "      <th>col4</th>\n",
       "    </tr>\n",
       "  </thead>\n",
       "  <tbody>\n",
       "    <tr>\n",
       "      <th>0</th>\n",
       "      <td>False</td>\n",
       "      <td>False</td>\n",
       "      <td>False</td>\n",
       "      <td>False</td>\n",
       "    </tr>\n",
       "    <tr>\n",
       "      <th>1</th>\n",
       "      <td>False</td>\n",
       "      <td>True</td>\n",
       "      <td>False</td>\n",
       "      <td>False</td>\n",
       "    </tr>\n",
       "    <tr>\n",
       "      <th>2</th>\n",
       "      <td>False</td>\n",
       "      <td>False</td>\n",
       "      <td>False</td>\n",
       "      <td>False</td>\n",
       "    </tr>\n",
       "    <tr>\n",
       "      <th>3</th>\n",
       "      <td>False</td>\n",
       "      <td>False</td>\n",
       "      <td>False</td>\n",
       "      <td>False</td>\n",
       "    </tr>\n",
       "    <tr>\n",
       "      <th>4</th>\n",
       "      <td>False</td>\n",
       "      <td>False</td>\n",
       "      <td>False</td>\n",
       "      <td>True</td>\n",
       "    </tr>\n",
       "    <tr>\n",
       "      <th>5</th>\n",
       "      <td>False</td>\n",
       "      <td>False</td>\n",
       "      <td>False</td>\n",
       "      <td>False</td>\n",
       "    </tr>\n",
       "  </tbody>\n",
       "</table>\n",
       "</div>"
      ],
      "text/plain": [
       "    col1   col2   col3   col4\n",
       "0  False  False  False  False\n",
       "1  False   True  False  False\n",
       "2  False  False  False  False\n",
       "3  False  False  False  False\n",
       "4  False  False  False   True\n",
       "5  False  False  False  False"
      ]
     },
     "execution_count": 3,
     "metadata": {},
     "output_type": "execute_result"
    }
   ],
   "source": [
    "df.isnull()"
   ]
  },
  {
   "cell_type": "code",
   "execution_count": 4,
   "metadata": {
    "ExecuteTime": {
     "end_time": "2018-12-05T00:18:37.785345Z",
     "start_time": "2018-12-05T00:18:37.750826Z"
    }
   },
   "outputs": [
    {
     "name": "stderr",
     "output_type": "stream",
     "text": [
      "f:\\ProgramData\\Anaconda3\\envs\\normal\\lib\\site-packages\\sklearn\\utils\\deprecation.py:58: DeprecationWarning: Class Imputer is deprecated; Imputer was deprecated in version 0.20 and will be removed in 0.22. Import impute.SimpleImputer from sklearn instead.\n",
      "  warnings.warn(msg, category=DeprecationWarning)\n"
     ]
    },
    {
     "data": {
      "text/plain": [
       "array([[ 0.72354655,  0.25746067,  1.76095619,  0.07695609],\n",
       "       [ 0.36925364,  0.51681563, -1.61905457, -0.93300952],\n",
       "       [ 0.14285251, -1.61838459,  0.56099175,  0.24998537],\n",
       "       [ 0.3716412 ,  2.14101742,  1.22441643,  2.43834507],\n",
       "       [-0.63055196,  0.27954639, -1.50134356,  0.20144844],\n",
       "       [ 0.93164955,  1.52443824,  1.1459003 , -0.82503483]])"
      ]
     },
     "execution_count": 4,
     "metadata": {},
     "output_type": "execute_result"
    }
   ],
   "source": [
    "nan_model = Imputer(missing_values='NaN',strategy='mean',axis=0)\n",
    "nan_result = nan_model.fit_transform(df)\n",
    "nan_result"
   ]
  },
  {
   "cell_type": "code",
   "execution_count": 5,
   "metadata": {
    "ExecuteTime": {
     "end_time": "2018-12-05T00:18:37.848054Z",
     "start_time": "2018-12-05T00:18:37.788337Z"
    }
   },
   "outputs": [
    {
     "data": {
      "text/html": [
       "<div>\n",
       "<style scoped>\n",
       "    .dataframe tbody tr th:only-of-type {\n",
       "        vertical-align: middle;\n",
       "    }\n",
       "\n",
       "    .dataframe tbody tr th {\n",
       "        vertical-align: top;\n",
       "    }\n",
       "\n",
       "    .dataframe thead th {\n",
       "        text-align: right;\n",
       "    }\n",
       "</style>\n",
       "<table border=\"1\" class=\"dataframe\">\n",
       "  <thead>\n",
       "    <tr style=\"text-align: right;\">\n",
       "      <th></th>\n",
       "      <th>col1</th>\n",
       "      <th>col2</th>\n",
       "      <th>col3</th>\n",
       "      <th>col4</th>\n",
       "    </tr>\n",
       "  </thead>\n",
       "  <tbody>\n",
       "    <tr>\n",
       "      <th>0</th>\n",
       "      <td>0.723547</td>\n",
       "      <td>0.257461</td>\n",
       "      <td>1.760956</td>\n",
       "      <td>0.076956</td>\n",
       "    </tr>\n",
       "    <tr>\n",
       "      <th>1</th>\n",
       "      <td>0.369254</td>\n",
       "      <td>-1.618385</td>\n",
       "      <td>-1.619055</td>\n",
       "      <td>-0.933010</td>\n",
       "    </tr>\n",
       "    <tr>\n",
       "      <th>2</th>\n",
       "      <td>0.142853</td>\n",
       "      <td>-1.618385</td>\n",
       "      <td>0.560992</td>\n",
       "      <td>0.249985</td>\n",
       "    </tr>\n",
       "    <tr>\n",
       "      <th>3</th>\n",
       "      <td>0.371641</td>\n",
       "      <td>2.141017</td>\n",
       "      <td>1.224416</td>\n",
       "      <td>2.438345</td>\n",
       "    </tr>\n",
       "    <tr>\n",
       "      <th>4</th>\n",
       "      <td>-0.630552</td>\n",
       "      <td>0.279546</td>\n",
       "      <td>-1.501344</td>\n",
       "      <td>-0.825035</td>\n",
       "    </tr>\n",
       "    <tr>\n",
       "      <th>5</th>\n",
       "      <td>0.931650</td>\n",
       "      <td>1.524438</td>\n",
       "      <td>1.145900</td>\n",
       "      <td>-0.825035</td>\n",
       "    </tr>\n",
       "  </tbody>\n",
       "</table>\n",
       "</div>"
      ],
      "text/plain": [
       "       col1      col2      col3      col4\n",
       "0  0.723547  0.257461  1.760956  0.076956\n",
       "1  0.369254 -1.618385 -1.619055 -0.933010\n",
       "2  0.142853 -1.618385  0.560992  0.249985\n",
       "3  0.371641  2.141017  1.224416  2.438345\n",
       "4 -0.630552  0.279546 -1.501344 -0.825035\n",
       "5  0.931650  1.524438  1.145900 -0.825035"
      ]
     },
     "execution_count": 5,
     "metadata": {},
     "output_type": "execute_result"
    },
    {
     "data": {
      "text/html": [
       "<div>\n",
       "<style scoped>\n",
       "    .dataframe tbody tr th:only-of-type {\n",
       "        vertical-align: middle;\n",
       "    }\n",
       "\n",
       "    .dataframe tbody tr th {\n",
       "        vertical-align: top;\n",
       "    }\n",
       "\n",
       "    .dataframe thead th {\n",
       "        text-align: right;\n",
       "    }\n",
       "</style>\n",
       "<table border=\"1\" class=\"dataframe\">\n",
       "  <thead>\n",
       "    <tr style=\"text-align: right;\">\n",
       "      <th></th>\n",
       "      <th>col1</th>\n",
       "      <th>col2</th>\n",
       "      <th>col3</th>\n",
       "      <th>col4</th>\n",
       "    </tr>\n",
       "  </thead>\n",
       "  <tbody>\n",
       "    <tr>\n",
       "      <th>0</th>\n",
       "      <td>0.723547</td>\n",
       "      <td>0.257461</td>\n",
       "      <td>1.760956</td>\n",
       "      <td>0.076956</td>\n",
       "    </tr>\n",
       "    <tr>\n",
       "      <th>1</th>\n",
       "      <td>0.369254</td>\n",
       "      <td>-1.618385</td>\n",
       "      <td>-1.619055</td>\n",
       "      <td>-0.933010</td>\n",
       "    </tr>\n",
       "    <tr>\n",
       "      <th>2</th>\n",
       "      <td>0.142853</td>\n",
       "      <td>-1.618385</td>\n",
       "      <td>0.560992</td>\n",
       "      <td>0.249985</td>\n",
       "    </tr>\n",
       "    <tr>\n",
       "      <th>3</th>\n",
       "      <td>0.371641</td>\n",
       "      <td>2.141017</td>\n",
       "      <td>1.224416</td>\n",
       "      <td>2.438345</td>\n",
       "    </tr>\n",
       "    <tr>\n",
       "      <th>4</th>\n",
       "      <td>-0.630552</td>\n",
       "      <td>0.279546</td>\n",
       "      <td>-1.501344</td>\n",
       "      <td>-0.825035</td>\n",
       "    </tr>\n",
       "    <tr>\n",
       "      <th>5</th>\n",
       "      <td>0.931650</td>\n",
       "      <td>1.524438</td>\n",
       "      <td>1.145900</td>\n",
       "      <td>-0.825035</td>\n",
       "    </tr>\n",
       "  </tbody>\n",
       "</table>\n",
       "</div>"
      ],
      "text/plain": [
       "       col1      col2      col3      col4\n",
       "0  0.723547  0.257461  1.760956  0.076956\n",
       "1  0.369254 -1.618385 -1.619055 -0.933010\n",
       "2  0.142853 -1.618385  0.560992  0.249985\n",
       "3  0.371641  2.141017  1.224416  2.438345\n",
       "4 -0.630552  0.279546 -1.501344 -0.825035\n",
       "5  0.931650  1.524438  1.145900 -0.825035"
      ]
     },
     "execution_count": 5,
     "metadata": {},
     "output_type": "execute_result"
    },
    {
     "data": {
      "text/html": [
       "<div>\n",
       "<style scoped>\n",
       "    .dataframe tbody tr th:only-of-type {\n",
       "        vertical-align: middle;\n",
       "    }\n",
       "\n",
       "    .dataframe tbody tr th {\n",
       "        vertical-align: top;\n",
       "    }\n",
       "\n",
       "    .dataframe thead th {\n",
       "        text-align: right;\n",
       "    }\n",
       "</style>\n",
       "<table border=\"1\" class=\"dataframe\">\n",
       "  <thead>\n",
       "    <tr style=\"text-align: right;\">\n",
       "      <th></th>\n",
       "      <th>col1</th>\n",
       "      <th>col2</th>\n",
       "      <th>col3</th>\n",
       "      <th>col4</th>\n",
       "    </tr>\n",
       "  </thead>\n",
       "  <tbody>\n",
       "    <tr>\n",
       "      <th>0</th>\n",
       "      <td>0.723547</td>\n",
       "      <td>0.257461</td>\n",
       "      <td>1.760956</td>\n",
       "      <td>0.076956</td>\n",
       "    </tr>\n",
       "    <tr>\n",
       "      <th>1</th>\n",
       "      <td>0.369254</td>\n",
       "      <td>0.257461</td>\n",
       "      <td>-1.619055</td>\n",
       "      <td>-0.933010</td>\n",
       "    </tr>\n",
       "    <tr>\n",
       "      <th>2</th>\n",
       "      <td>0.142853</td>\n",
       "      <td>-1.618385</td>\n",
       "      <td>0.560992</td>\n",
       "      <td>0.249985</td>\n",
       "    </tr>\n",
       "    <tr>\n",
       "      <th>3</th>\n",
       "      <td>0.371641</td>\n",
       "      <td>2.141017</td>\n",
       "      <td>1.224416</td>\n",
       "      <td>2.438345</td>\n",
       "    </tr>\n",
       "    <tr>\n",
       "      <th>4</th>\n",
       "      <td>-0.630552</td>\n",
       "      <td>0.279546</td>\n",
       "      <td>-1.501344</td>\n",
       "      <td>2.438345</td>\n",
       "    </tr>\n",
       "    <tr>\n",
       "      <th>5</th>\n",
       "      <td>0.931650</td>\n",
       "      <td>1.524438</td>\n",
       "      <td>1.145900</td>\n",
       "      <td>-0.825035</td>\n",
       "    </tr>\n",
       "  </tbody>\n",
       "</table>\n",
       "</div>"
      ],
      "text/plain": [
       "       col1      col2      col3      col4\n",
       "0  0.723547  0.257461  1.760956  0.076956\n",
       "1  0.369254  0.257461 -1.619055 -0.933010\n",
       "2  0.142853 -1.618385  0.560992  0.249985\n",
       "3  0.371641  2.141017  1.224416  2.438345\n",
       "4 -0.630552  0.279546 -1.501344  2.438345\n",
       "5  0.931650  1.524438  1.145900 -0.825035"
      ]
     },
     "execution_count": 5,
     "metadata": {},
     "output_type": "execute_result"
    },
    {
     "data": {
      "text/html": [
       "<div>\n",
       "<style scoped>\n",
       "    .dataframe tbody tr th:only-of-type {\n",
       "        vertical-align: middle;\n",
       "    }\n",
       "\n",
       "    .dataframe tbody tr th {\n",
       "        vertical-align: top;\n",
       "    }\n",
       "\n",
       "    .dataframe thead th {\n",
       "        text-align: right;\n",
       "    }\n",
       "</style>\n",
       "<table border=\"1\" class=\"dataframe\">\n",
       "  <thead>\n",
       "    <tr style=\"text-align: right;\">\n",
       "      <th></th>\n",
       "      <th>col1</th>\n",
       "      <th>col2</th>\n",
       "      <th>col3</th>\n",
       "      <th>col4</th>\n",
       "    </tr>\n",
       "  </thead>\n",
       "  <tbody>\n",
       "    <tr>\n",
       "      <th>0</th>\n",
       "      <td>0.723547</td>\n",
       "      <td>0.257461</td>\n",
       "      <td>1.760956</td>\n",
       "      <td>0.076956</td>\n",
       "    </tr>\n",
       "    <tr>\n",
       "      <th>1</th>\n",
       "      <td>0.369254</td>\n",
       "      <td>0.000000</td>\n",
       "      <td>-1.619055</td>\n",
       "      <td>-0.933010</td>\n",
       "    </tr>\n",
       "    <tr>\n",
       "      <th>2</th>\n",
       "      <td>0.142853</td>\n",
       "      <td>-1.618385</td>\n",
       "      <td>0.560992</td>\n",
       "      <td>0.249985</td>\n",
       "    </tr>\n",
       "    <tr>\n",
       "      <th>3</th>\n",
       "      <td>0.371641</td>\n",
       "      <td>2.141017</td>\n",
       "      <td>1.224416</td>\n",
       "      <td>2.438345</td>\n",
       "    </tr>\n",
       "    <tr>\n",
       "      <th>4</th>\n",
       "      <td>-0.630552</td>\n",
       "      <td>0.279546</td>\n",
       "      <td>-1.501344</td>\n",
       "      <td>0.000000</td>\n",
       "    </tr>\n",
       "    <tr>\n",
       "      <th>5</th>\n",
       "      <td>0.931650</td>\n",
       "      <td>1.524438</td>\n",
       "      <td>1.145900</td>\n",
       "      <td>-0.825035</td>\n",
       "    </tr>\n",
       "  </tbody>\n",
       "</table>\n",
       "</div>"
      ],
      "text/plain": [
       "       col1      col2      col3      col4\n",
       "0  0.723547  0.257461  1.760956  0.076956\n",
       "1  0.369254  0.000000 -1.619055 -0.933010\n",
       "2  0.142853 -1.618385  0.560992  0.249985\n",
       "3  0.371641  2.141017  1.224416  2.438345\n",
       "4 -0.630552  0.279546 -1.501344  0.000000\n",
       "5  0.931650  1.524438  1.145900 -0.825035"
      ]
     },
     "execution_count": 5,
     "metadata": {},
     "output_type": "execute_result"
    },
    {
     "data": {
      "text/html": [
       "<div>\n",
       "<style scoped>\n",
       "    .dataframe tbody tr th:only-of-type {\n",
       "        vertical-align: middle;\n",
       "    }\n",
       "\n",
       "    .dataframe tbody tr th {\n",
       "        vertical-align: top;\n",
       "    }\n",
       "\n",
       "    .dataframe thead th {\n",
       "        text-align: right;\n",
       "    }\n",
       "</style>\n",
       "<table border=\"1\" class=\"dataframe\">\n",
       "  <thead>\n",
       "    <tr style=\"text-align: right;\">\n",
       "      <th></th>\n",
       "      <th>col1</th>\n",
       "      <th>col2</th>\n",
       "      <th>col3</th>\n",
       "      <th>col4</th>\n",
       "    </tr>\n",
       "  </thead>\n",
       "  <tbody>\n",
       "    <tr>\n",
       "      <th>0</th>\n",
       "      <td>0.723547</td>\n",
       "      <td>0.257461</td>\n",
       "      <td>1.760956</td>\n",
       "      <td>0.076956</td>\n",
       "    </tr>\n",
       "    <tr>\n",
       "      <th>1</th>\n",
       "      <td>0.369254</td>\n",
       "      <td>1.100000</td>\n",
       "      <td>-1.619055</td>\n",
       "      <td>-0.933010</td>\n",
       "    </tr>\n",
       "    <tr>\n",
       "      <th>2</th>\n",
       "      <td>0.142853</td>\n",
       "      <td>-1.618385</td>\n",
       "      <td>0.560992</td>\n",
       "      <td>0.249985</td>\n",
       "    </tr>\n",
       "    <tr>\n",
       "      <th>3</th>\n",
       "      <td>0.371641</td>\n",
       "      <td>2.141017</td>\n",
       "      <td>1.224416</td>\n",
       "      <td>2.438345</td>\n",
       "    </tr>\n",
       "    <tr>\n",
       "      <th>4</th>\n",
       "      <td>-0.630552</td>\n",
       "      <td>0.279546</td>\n",
       "      <td>-1.501344</td>\n",
       "      <td>1.400000</td>\n",
       "    </tr>\n",
       "    <tr>\n",
       "      <th>5</th>\n",
       "      <td>0.931650</td>\n",
       "      <td>1.524438</td>\n",
       "      <td>1.145900</td>\n",
       "      <td>-0.825035</td>\n",
       "    </tr>\n",
       "  </tbody>\n",
       "</table>\n",
       "</div>"
      ],
      "text/plain": [
       "       col1      col2      col3      col4\n",
       "0  0.723547  0.257461  1.760956  0.076956\n",
       "1  0.369254  1.100000 -1.619055 -0.933010\n",
       "2  0.142853 -1.618385  0.560992  0.249985\n",
       "3  0.371641  2.141017  1.224416  2.438345\n",
       "4 -0.630552  0.279546 -1.501344  1.400000\n",
       "5  0.931650  1.524438  1.145900 -0.825035"
      ]
     },
     "execution_count": 5,
     "metadata": {},
     "output_type": "execute_result"
    },
    {
     "data": {
      "text/html": [
       "<div>\n",
       "<style scoped>\n",
       "    .dataframe tbody tr th:only-of-type {\n",
       "        vertical-align: middle;\n",
       "    }\n",
       "\n",
       "    .dataframe tbody tr th {\n",
       "        vertical-align: top;\n",
       "    }\n",
       "\n",
       "    .dataframe thead th {\n",
       "        text-align: right;\n",
       "    }\n",
       "</style>\n",
       "<table border=\"1\" class=\"dataframe\">\n",
       "  <thead>\n",
       "    <tr style=\"text-align: right;\">\n",
       "      <th></th>\n",
       "      <th>col1</th>\n",
       "      <th>col2</th>\n",
       "      <th>col3</th>\n",
       "      <th>col4</th>\n",
       "    </tr>\n",
       "  </thead>\n",
       "  <tbody>\n",
       "    <tr>\n",
       "      <th>0</th>\n",
       "      <td>0.723547</td>\n",
       "      <td>0.257461</td>\n",
       "      <td>1.760956</td>\n",
       "      <td>0.076956</td>\n",
       "    </tr>\n",
       "    <tr>\n",
       "      <th>1</th>\n",
       "      <td>0.369254</td>\n",
       "      <td>0.516816</td>\n",
       "      <td>-1.619055</td>\n",
       "      <td>-0.933010</td>\n",
       "    </tr>\n",
       "    <tr>\n",
       "      <th>2</th>\n",
       "      <td>0.142853</td>\n",
       "      <td>-1.618385</td>\n",
       "      <td>0.560992</td>\n",
       "      <td>0.249985</td>\n",
       "    </tr>\n",
       "    <tr>\n",
       "      <th>3</th>\n",
       "      <td>0.371641</td>\n",
       "      <td>2.141017</td>\n",
       "      <td>1.224416</td>\n",
       "      <td>2.438345</td>\n",
       "    </tr>\n",
       "    <tr>\n",
       "      <th>4</th>\n",
       "      <td>-0.630552</td>\n",
       "      <td>0.279546</td>\n",
       "      <td>-1.501344</td>\n",
       "      <td>0.201448</td>\n",
       "    </tr>\n",
       "    <tr>\n",
       "      <th>5</th>\n",
       "      <td>0.931650</td>\n",
       "      <td>1.524438</td>\n",
       "      <td>1.145900</td>\n",
       "      <td>-0.825035</td>\n",
       "    </tr>\n",
       "  </tbody>\n",
       "</table>\n",
       "</div>"
      ],
      "text/plain": [
       "       col1      col2      col3      col4\n",
       "0  0.723547  0.257461  1.760956  0.076956\n",
       "1  0.369254  0.516816 -1.619055 -0.933010\n",
       "2  0.142853 -1.618385  0.560992  0.249985\n",
       "3  0.371641  2.141017  1.224416  2.438345\n",
       "4 -0.630552  0.279546 -1.501344  0.201448\n",
       "5  0.931650  1.524438  1.145900 -0.825035"
      ]
     },
     "execution_count": 5,
     "metadata": {},
     "output_type": "execute_result"
    }
   ],
   "source": [
    "nan_result_pd1 = df.fillna(method='backfill')\n",
    "nan_result_pd2 = df.fillna(method='bfill',limit=1)\n",
    "nan_result_pd3 = df.fillna(method='pad')\n",
    "nan_result_pd4 = df.fillna(0)\n",
    "nan_result_pd5 = df.fillna({'col2':1.1,'col4':1.4})\n",
    "nan_result_pd6 = df.fillna(df.mean()['col2':'col4'])\n",
    "nan_result_pd1\n",
    "nan_result_pd2\n",
    "nan_result_pd3\n",
    "nan_result_pd4\n",
    "nan_result_pd5\n",
    "nan_result_pd6"
   ]
  },
  {
   "cell_type": "markdown",
   "metadata": {},
   "source": [
    "# 异常值处理"
   ]
  },
  {
   "cell_type": "code",
   "execution_count": 6,
   "metadata": {
    "ExecuteTime": {
     "end_time": "2018-12-05T00:18:37.857017Z",
     "start_time": "2018-12-05T00:18:37.849062Z"
    }
   },
   "outputs": [
    {
     "data": {
      "text/html": [
       "<div>\n",
       "<style scoped>\n",
       "    .dataframe tbody tr th:only-of-type {\n",
       "        vertical-align: middle;\n",
       "    }\n",
       "\n",
       "    .dataframe tbody tr th {\n",
       "        vertical-align: top;\n",
       "    }\n",
       "\n",
       "    .dataframe thead th {\n",
       "        text-align: right;\n",
       "    }\n",
       "</style>\n",
       "<table border=\"1\" class=\"dataframe\">\n",
       "  <thead>\n",
       "    <tr style=\"text-align: right;\">\n",
       "      <th></th>\n",
       "      <th>col1</th>\n",
       "      <th>col2</th>\n",
       "    </tr>\n",
       "  </thead>\n",
       "  <tbody>\n",
       "    <tr>\n",
       "      <th>0</th>\n",
       "      <td>1</td>\n",
       "      <td>12</td>\n",
       "    </tr>\n",
       "    <tr>\n",
       "      <th>1</th>\n",
       "      <td>120</td>\n",
       "      <td>17</td>\n",
       "    </tr>\n",
       "    <tr>\n",
       "      <th>2</th>\n",
       "      <td>3</td>\n",
       "      <td>31</td>\n",
       "    </tr>\n",
       "    <tr>\n",
       "      <th>3</th>\n",
       "      <td>5</td>\n",
       "      <td>53</td>\n",
       "    </tr>\n",
       "    <tr>\n",
       "      <th>4</th>\n",
       "      <td>2</td>\n",
       "      <td>22</td>\n",
       "    </tr>\n",
       "    <tr>\n",
       "      <th>5</th>\n",
       "      <td>12</td>\n",
       "      <td>32</td>\n",
       "    </tr>\n",
       "    <tr>\n",
       "      <th>6</th>\n",
       "      <td>13</td>\n",
       "      <td>43</td>\n",
       "    </tr>\n",
       "  </tbody>\n",
       "</table>\n",
       "</div>"
      ],
      "text/plain": [
       "   col1  col2\n",
       "0     1    12\n",
       "1   120    17\n",
       "2     3    31\n",
       "3     5    53\n",
       "4     2    22\n",
       "5    12    32\n",
       "6    13    43"
      ]
     },
     "execution_count": 6,
     "metadata": {},
     "output_type": "execute_result"
    }
   ],
   "source": [
    "df = DataFrame({'col1':[1,120,3,5,2,12,13],\n",
    "               'col2':[12,17,31,53,22,32,43]})\n",
    "df"
   ]
  },
  {
   "cell_type": "code",
   "execution_count": 7,
   "metadata": {
    "ExecuteTime": {
     "end_time": "2018-12-05T00:18:38.088856Z",
     "start_time": "2018-12-05T00:18:37.858994Z"
    }
   },
   "outputs": [
    {
     "data": {
      "text/html": [
       "<div>\n",
       "<style scoped>\n",
       "    .dataframe tbody tr th:only-of-type {\n",
       "        vertical-align: middle;\n",
       "    }\n",
       "\n",
       "    .dataframe tbody tr th {\n",
       "        vertical-align: top;\n",
       "    }\n",
       "\n",
       "    .dataframe thead th {\n",
       "        text-align: right;\n",
       "    }\n",
       "</style>\n",
       "<table border=\"1\" class=\"dataframe\">\n",
       "  <thead>\n",
       "    <tr style=\"text-align: right;\">\n",
       "      <th></th>\n",
       "      <th>col1</th>\n",
       "      <th>col2</th>\n",
       "    </tr>\n",
       "  </thead>\n",
       "  <tbody>\n",
       "    <tr>\n",
       "      <th>0</th>\n",
       "      <td>0.491018</td>\n",
       "      <td>1.242118</td>\n",
       "    </tr>\n",
       "    <tr>\n",
       "      <th>1</th>\n",
       "      <td>2.254069</td>\n",
       "      <td>0.897085</td>\n",
       "    </tr>\n",
       "    <tr>\n",
       "      <th>2</th>\n",
       "      <td>0.444882</td>\n",
       "      <td>0.069007</td>\n",
       "    </tr>\n",
       "    <tr>\n",
       "      <th>3</th>\n",
       "      <td>0.398746</td>\n",
       "      <td>1.587151</td>\n",
       "    </tr>\n",
       "    <tr>\n",
       "      <th>4</th>\n",
       "      <td>0.467950</td>\n",
       "      <td>0.552052</td>\n",
       "    </tr>\n",
       "    <tr>\n",
       "      <th>5</th>\n",
       "      <td>0.237270</td>\n",
       "      <td>0.138013</td>\n",
       "    </tr>\n",
       "    <tr>\n",
       "      <th>6</th>\n",
       "      <td>0.214202</td>\n",
       "      <td>0.897085</td>\n",
       "    </tr>\n",
       "  </tbody>\n",
       "</table>\n",
       "</div>"
      ],
      "text/plain": [
       "       col1      col2\n",
       "0  0.491018  1.242118\n",
       "1  2.254069  0.897085\n",
       "2  0.444882  0.069007\n",
       "3  0.398746  1.587151\n",
       "4  0.467950  0.552052\n",
       "5  0.237270  0.138013\n",
       "6  0.214202  0.897085"
      ]
     },
     "execution_count": 7,
     "metadata": {},
     "output_type": "execute_result"
    },
    {
     "data": {
      "text/html": [
       "<div>\n",
       "<style scoped>\n",
       "    .dataframe tbody tr th:only-of-type {\n",
       "        vertical-align: middle;\n",
       "    }\n",
       "\n",
       "    .dataframe tbody tr th {\n",
       "        vertical-align: top;\n",
       "    }\n",
       "\n",
       "    .dataframe thead th {\n",
       "        text-align: right;\n",
       "    }\n",
       "</style>\n",
       "<table border=\"1\" class=\"dataframe\">\n",
       "  <thead>\n",
       "    <tr style=\"text-align: right;\">\n",
       "      <th></th>\n",
       "      <th>col1</th>\n",
       "      <th>col2</th>\n",
       "    </tr>\n",
       "  </thead>\n",
       "  <tbody>\n",
       "    <tr>\n",
       "      <th>0</th>\n",
       "      <td>False</td>\n",
       "      <td>False</td>\n",
       "    </tr>\n",
       "    <tr>\n",
       "      <th>1</th>\n",
       "      <td>True</td>\n",
       "      <td>False</td>\n",
       "    </tr>\n",
       "    <tr>\n",
       "      <th>2</th>\n",
       "      <td>False</td>\n",
       "      <td>False</td>\n",
       "    </tr>\n",
       "    <tr>\n",
       "      <th>3</th>\n",
       "      <td>False</td>\n",
       "      <td>False</td>\n",
       "    </tr>\n",
       "    <tr>\n",
       "      <th>4</th>\n",
       "      <td>False</td>\n",
       "      <td>False</td>\n",
       "    </tr>\n",
       "    <tr>\n",
       "      <th>5</th>\n",
       "      <td>False</td>\n",
       "      <td>False</td>\n",
       "    </tr>\n",
       "    <tr>\n",
       "      <th>6</th>\n",
       "      <td>False</td>\n",
       "      <td>False</td>\n",
       "    </tr>\n",
       "  </tbody>\n",
       "</table>\n",
       "</div>"
      ],
      "text/plain": [
       "    col1   col2\n",
       "0  False  False\n",
       "1   True  False\n",
       "2  False  False\n",
       "3  False  False\n",
       "4  False  False\n",
       "5  False  False\n",
       "6  False  False"
      ]
     },
     "execution_count": 7,
     "metadata": {},
     "output_type": "execute_result"
    }
   ],
   "source": [
    "((df - df.mean())/df.std()).abs()\n",
    "((df - df.mean())/df.std()).abs() > 2.2"
   ]
  },
  {
   "cell_type": "markdown",
   "metadata": {},
   "source": [
    "# 重复值处理\n"
   ]
  },
  {
   "cell_type": "code",
   "execution_count": 8,
   "metadata": {
    "ExecuteTime": {
     "end_time": "2018-12-05T00:18:38.099031Z",
     "start_time": "2018-12-05T00:18:38.090053Z"
    }
   },
   "outputs": [
    {
     "data": {
      "text/html": [
       "<div>\n",
       "<style scoped>\n",
       "    .dataframe tbody tr th:only-of-type {\n",
       "        vertical-align: middle;\n",
       "    }\n",
       "\n",
       "    .dataframe tbody tr th {\n",
       "        vertical-align: top;\n",
       "    }\n",
       "\n",
       "    .dataframe thead th {\n",
       "        text-align: right;\n",
       "    }\n",
       "</style>\n",
       "<table border=\"1\" class=\"dataframe\">\n",
       "  <thead>\n",
       "    <tr style=\"text-align: right;\">\n",
       "      <th></th>\n",
       "      <th>col1</th>\n",
       "      <th>col2</th>\n",
       "    </tr>\n",
       "  </thead>\n",
       "  <tbody>\n",
       "    <tr>\n",
       "      <th>0</th>\n",
       "      <td>a</td>\n",
       "      <td>3</td>\n",
       "    </tr>\n",
       "    <tr>\n",
       "      <th>1</th>\n",
       "      <td>b</td>\n",
       "      <td>2</td>\n",
       "    </tr>\n",
       "    <tr>\n",
       "      <th>2</th>\n",
       "      <td>a</td>\n",
       "      <td>3</td>\n",
       "    </tr>\n",
       "    <tr>\n",
       "      <th>3</th>\n",
       "      <td>c</td>\n",
       "      <td>2</td>\n",
       "    </tr>\n",
       "  </tbody>\n",
       "</table>\n",
       "</div>"
      ],
      "text/plain": [
       "  col1  col2\n",
       "0    a     3\n",
       "1    b     2\n",
       "2    a     3\n",
       "3    c     2"
      ]
     },
     "execution_count": 8,
     "metadata": {},
     "output_type": "execute_result"
    }
   ],
   "source": [
    "data1 = ['a', 3]\n",
    "data2 = ['b', 2]\n",
    "data3 = ['a', 3]\n",
    "data4 = ['c', 2]\n",
    "df = pd.DataFrame([data1, data2, data3, data4], columns=['col1', 'col2'])\n",
    "df"
   ]
  },
  {
   "cell_type": "code",
   "execution_count": 9,
   "metadata": {
    "ExecuteTime": {
     "end_time": "2018-12-05T00:18:38.108006Z",
     "start_time": "2018-12-05T00:18:38.101025Z"
    }
   },
   "outputs": [
    {
     "data": {
      "text/plain": [
       "0    False\n",
       "1    False\n",
       "2     True\n",
       "3    False\n",
       "dtype: bool"
      ]
     },
     "execution_count": 9,
     "metadata": {},
     "output_type": "execute_result"
    }
   ],
   "source": [
    "df.duplicated(keep='first')"
   ]
  },
  {
   "cell_type": "code",
   "execution_count": 10,
   "metadata": {
    "ExecuteTime": {
     "end_time": "2018-12-05T00:18:38.135344Z",
     "start_time": "2018-12-05T00:18:38.110001Z"
    }
   },
   "outputs": [
    {
     "data": {
      "text/html": [
       "<div>\n",
       "<style scoped>\n",
       "    .dataframe tbody tr th:only-of-type {\n",
       "        vertical-align: middle;\n",
       "    }\n",
       "\n",
       "    .dataframe tbody tr th {\n",
       "        vertical-align: top;\n",
       "    }\n",
       "\n",
       "    .dataframe thead th {\n",
       "        text-align: right;\n",
       "    }\n",
       "</style>\n",
       "<table border=\"1\" class=\"dataframe\">\n",
       "  <thead>\n",
       "    <tr style=\"text-align: right;\">\n",
       "      <th></th>\n",
       "      <th>col1</th>\n",
       "      <th>col2</th>\n",
       "    </tr>\n",
       "  </thead>\n",
       "  <tbody>\n",
       "    <tr>\n",
       "      <th>0</th>\n",
       "      <td>a</td>\n",
       "      <td>3</td>\n",
       "    </tr>\n",
       "    <tr>\n",
       "      <th>1</th>\n",
       "      <td>b</td>\n",
       "      <td>2</td>\n",
       "    </tr>\n",
       "    <tr>\n",
       "      <th>3</th>\n",
       "      <td>c</td>\n",
       "      <td>2</td>\n",
       "    </tr>\n",
       "  </tbody>\n",
       "</table>\n",
       "</div>"
      ],
      "text/plain": [
       "  col1  col2\n",
       "0    a     3\n",
       "1    b     2\n",
       "3    c     2"
      ]
     },
     "execution_count": 10,
     "metadata": {},
     "output_type": "execute_result"
    },
    {
     "data": {
      "text/html": [
       "<div>\n",
       "<style scoped>\n",
       "    .dataframe tbody tr th:only-of-type {\n",
       "        vertical-align: middle;\n",
       "    }\n",
       "\n",
       "    .dataframe tbody tr th {\n",
       "        vertical-align: top;\n",
       "    }\n",
       "\n",
       "    .dataframe thead th {\n",
       "        text-align: right;\n",
       "    }\n",
       "</style>\n",
       "<table border=\"1\" class=\"dataframe\">\n",
       "  <thead>\n",
       "    <tr style=\"text-align: right;\">\n",
       "      <th></th>\n",
       "      <th>col1</th>\n",
       "      <th>col2</th>\n",
       "    </tr>\n",
       "  </thead>\n",
       "  <tbody>\n",
       "    <tr>\n",
       "      <th>0</th>\n",
       "      <td>a</td>\n",
       "      <td>3</td>\n",
       "    </tr>\n",
       "    <tr>\n",
       "      <th>1</th>\n",
       "      <td>b</td>\n",
       "      <td>2</td>\n",
       "    </tr>\n",
       "    <tr>\n",
       "      <th>3</th>\n",
       "      <td>c</td>\n",
       "      <td>2</td>\n",
       "    </tr>\n",
       "  </tbody>\n",
       "</table>\n",
       "</div>"
      ],
      "text/plain": [
       "  col1  col2\n",
       "0    a     3\n",
       "1    b     2\n",
       "3    c     2"
      ]
     },
     "execution_count": 10,
     "metadata": {},
     "output_type": "execute_result"
    },
    {
     "data": {
      "text/html": [
       "<div>\n",
       "<style scoped>\n",
       "    .dataframe tbody tr th:only-of-type {\n",
       "        vertical-align: middle;\n",
       "    }\n",
       "\n",
       "    .dataframe tbody tr th {\n",
       "        vertical-align: top;\n",
       "    }\n",
       "\n",
       "    .dataframe thead th {\n",
       "        text-align: right;\n",
       "    }\n",
       "</style>\n",
       "<table border=\"1\" class=\"dataframe\">\n",
       "  <thead>\n",
       "    <tr style=\"text-align: right;\">\n",
       "      <th></th>\n",
       "      <th>col1</th>\n",
       "      <th>col2</th>\n",
       "    </tr>\n",
       "  </thead>\n",
       "  <tbody>\n",
       "    <tr>\n",
       "      <th>0</th>\n",
       "      <td>a</td>\n",
       "      <td>3</td>\n",
       "    </tr>\n",
       "    <tr>\n",
       "      <th>1</th>\n",
       "      <td>b</td>\n",
       "      <td>2</td>\n",
       "    </tr>\n",
       "  </tbody>\n",
       "</table>\n",
       "</div>"
      ],
      "text/plain": [
       "  col1  col2\n",
       "0    a     3\n",
       "1    b     2"
      ]
     },
     "execution_count": 10,
     "metadata": {},
     "output_type": "execute_result"
    },
    {
     "data": {
      "text/html": [
       "<div>\n",
       "<style scoped>\n",
       "    .dataframe tbody tr th:only-of-type {\n",
       "        vertical-align: middle;\n",
       "    }\n",
       "\n",
       "    .dataframe tbody tr th {\n",
       "        vertical-align: top;\n",
       "    }\n",
       "\n",
       "    .dataframe thead th {\n",
       "        text-align: right;\n",
       "    }\n",
       "</style>\n",
       "<table border=\"1\" class=\"dataframe\">\n",
       "  <thead>\n",
       "    <tr style=\"text-align: right;\">\n",
       "      <th></th>\n",
       "      <th>col1</th>\n",
       "      <th>col2</th>\n",
       "    </tr>\n",
       "  </thead>\n",
       "  <tbody>\n",
       "    <tr>\n",
       "      <th>0</th>\n",
       "      <td>a</td>\n",
       "      <td>3</td>\n",
       "    </tr>\n",
       "    <tr>\n",
       "      <th>1</th>\n",
       "      <td>b</td>\n",
       "      <td>2</td>\n",
       "    </tr>\n",
       "    <tr>\n",
       "      <th>3</th>\n",
       "      <td>c</td>\n",
       "      <td>2</td>\n",
       "    </tr>\n",
       "  </tbody>\n",
       "</table>\n",
       "</div>"
      ],
      "text/plain": [
       "  col1  col2\n",
       "0    a     3\n",
       "1    b     2\n",
       "3    c     2"
      ]
     },
     "execution_count": 10,
     "metadata": {},
     "output_type": "execute_result"
    }
   ],
   "source": [
    "df.drop_duplicates()  # 删除数据记录中所有列值相同的记录\n",
    "df.drop_duplicates(['col1'])  # 删除数据记录中col1值相同的记录\n",
    "df.drop_duplicates(['col2'])  # 删除数据记录中col2值相同的记录\n",
    "df.drop_duplicates(['col1', 'col2'])  # 删除数据记录中指定列（col1/col2）值相同的记录"
   ]
  },
  {
   "cell_type": "markdown",
   "metadata": {},
   "source": [
    "# 运用标志方法处理分类和顺序数据"
   ]
  },
  {
   "cell_type": "code",
   "execution_count": 11,
   "metadata": {
    "ExecuteTime": {
     "end_time": "2018-12-05T00:18:38.140329Z",
     "start_time": "2018-12-05T00:18:38.137364Z"
    }
   },
   "outputs": [],
   "source": [
    "from sklearn.preprocessing import OneHotEncoder"
   ]
  },
  {
   "cell_type": "code",
   "execution_count": 12,
   "metadata": {
    "ExecuteTime": {
     "end_time": "2018-12-05T00:18:38.162048Z",
     "start_time": "2018-12-05T00:18:38.141327Z"
    }
   },
   "outputs": [
    {
     "name": "stdout",
     "output_type": "stream",
     "text": [
      "        id     sex   level\n",
      "0  3566841    male    high\n",
      "1  6541227  Female     low\n",
      "2  3512441  Female  middle\n",
      "        id  sex_male  sex_Female  level_high  level_low  level_middle\n",
      "0  3566841      True       False        True      False         False\n",
      "1  6541227     False        True       False       True         False\n",
      "2  3512441     False        True       False      False          True\n"
     ]
    }
   ],
   "source": [
    "df = pd.DataFrame({'id': [3566841, 6541227, 3512441],\n",
    "                   'sex': ['male', 'Female', 'Female'],\n",
    "                   'level': ['high', 'low', 'middle']})\n",
    "print (df)  # 打印输出原始数据框\n",
    "\n",
    "# 自定义转换主过程\n",
    "df_new = df.copy()  # 复制一份新的数据框用来存储转换结果\n",
    "for col_num, col_name in enumerate(df):  # 循环读出每个列的索引值和列名\n",
    "    col_data = df[col_name]  # 获得每列数据\n",
    "    col_dtype = col_data.dtype  # 获得每列dtype类型\n",
    "    if col_dtype == 'object':  # 如果dtype类型是object（非数值型），执行条件\n",
    "        df_new = df_new.drop(col_name, 1)  # 删除df数据框中要进行标志转换的列\n",
    "        value_sets = col_data.unique()  # 获取分类和顺序变量的唯一值域\n",
    "        for value_unique in value_sets:  # 读取分类和顺序变量中的每个值\n",
    "            col_name_new = col_name + '_' + value_unique  # 创建新的列名，使用原标题+值的方式命名\n",
    "            col_tmp = df.iloc[:, col_num]  # 获取原始数据列\n",
    "            new_col = (col_tmp == value_unique)  # 将原始数据列与每个值进行比较，相同为True，否则为False\n",
    "            df_new[col_name_new] = new_col  # 为最终结果集增加新列值\n",
    "print (df_new)  # 打印输出转换后的数据框"
   ]
  },
  {
   "cell_type": "code",
   "execution_count": 13,
   "metadata": {
    "ExecuteTime": {
     "end_time": "2018-12-05T00:18:38.195236Z",
     "start_time": "2018-12-05T00:18:38.164013Z"
    }
   },
   "outputs": [
    {
     "name": "stdout",
     "output_type": "stream",
     "text": [
      "         0    0    1    2    3    4\n",
      "0  3566841  1.0  0.0  0.0  0.0  1.0\n",
      "1  6541227  0.0  1.0  1.0  0.0  0.0\n",
      "2  3512441  0.0  1.0  0.0  1.0  0.0\n"
     ]
    },
    {
     "name": "stderr",
     "output_type": "stream",
     "text": [
      "f:\\ProgramData\\Anaconda3\\envs\\normal\\lib\\site-packages\\sklearn\\preprocessing\\_encoders.py:368: FutureWarning: The handling of integer data will change in version 0.22. Currently, the categories are determined based on the range [0, max(values)], while in the future they will be determined based on the unique values.\n",
      "If you want the future behaviour and silence this warning, you can specify \"categories='auto'\".\n",
      "In case you used a LabelEncoder before this OneHotEncoder to convert the categories to integers, then you can now use the OneHotEncoder directly.\n",
      "  warnings.warn(msg, FutureWarning)\n"
     ]
    }
   ],
   "source": [
    "# 使用sklearn进行标志转换\n",
    "df2 = pd.DataFrame({'id': [3566841, 6541227, 3512441],\n",
    "                    'sex': [1, 2, 2],\n",
    "                    'level': [3, 1, 2]})\n",
    "id_data = df2.values[:, :1]  # 获得ID列\n",
    "transform_data = df2.values[:, 1:]  # 指定要转换的列\n",
    "enc = OneHotEncoder()  # 建立模型对象\n",
    "df2_new = enc.fit_transform(transform_data).toarray()  # 标志转换\n",
    "df2_all = pd.concat((pd.DataFrame(id_data), pd.DataFrame(df2_new)), axis=1)  # 组合为数据框\n",
    "print (df2_all)  # 打印输出转换后的数据框"
   ]
  },
  {
   "cell_type": "markdown",
   "metadata": {},
   "source": [
    "# 降维"
   ]
  },
  {
   "cell_type": "markdown",
   "metadata": {},
   "source": [
    "## 基于特征选择的降维"
   ]
  },
  {
   "cell_type": "code",
   "execution_count": 14,
   "metadata": {
    "ExecuteTime": {
     "end_time": "2018-12-05T00:18:38.752583Z",
     "start_time": "2018-12-05T00:18:38.197232Z"
    }
   },
   "outputs": [],
   "source": [
    "from sklearn.tree import DecisionTreeClassifier\n",
    "from sklearn.decomposition import PCA"
   ]
  },
  {
   "cell_type": "code",
   "execution_count": 15,
   "metadata": {
    "ExecuteTime": {
     "end_time": "2018-12-05T00:18:38.807284Z",
     "start_time": "2018-12-05T00:18:38.752583Z"
    }
   },
   "outputs": [],
   "source": [
    "data = np.loadtxt('./datacode_for_book/chapter3/data1.txt')\n",
    "x = data[:,:-1]\n",
    "y = data[:,-1]"
   ]
  },
  {
   "cell_type": "code",
   "execution_count": 16,
   "metadata": {
    "ExecuteTime": {
     "end_time": "2018-12-05T00:18:38.826198Z",
     "start_time": "2018-12-05T00:18:38.809277Z"
    }
   },
   "outputs": [
    {
     "data": {
      "text/plain": [
       "DecisionTreeClassifier(class_weight=None, criterion='gini', max_depth=None,\n",
       "            max_features=None, max_leaf_nodes=None,\n",
       "            min_impurity_decrease=0.0, min_impurity_split=None,\n",
       "            min_samples_leaf=1, min_samples_split=2,\n",
       "            min_weight_fraction_leaf=0.0, presort=False, random_state=0,\n",
       "            splitter='best')"
      ]
     },
     "execution_count": 16,
     "metadata": {},
     "output_type": "execute_result"
    },
    {
     "data": {
      "text/plain": [
       "array([0.03331054, 0.01513967, 0.02199713, 0.119727  , 0.47930312,\n",
       "       0.04776297, 0.17111746, 0.02585441, 0.02012725, 0.06566044])"
      ]
     },
     "execution_count": 16,
     "metadata": {},
     "output_type": "execute_result"
    }
   ],
   "source": [
    "model_tree = DecisionTreeClassifier(random_state=0)\n",
    "model_tree.fit(x,y)\n",
    "model_tree.feature_importances_"
   ]
  },
  {
   "cell_type": "markdown",
   "metadata": {},
   "source": [
    "## 基于维度转化的降维"
   ]
  },
  {
   "cell_type": "code",
   "execution_count": 17,
   "metadata": {
    "ExecuteTime": {
     "end_time": "2018-12-05T00:18:39.550292Z",
     "start_time": "2018-12-05T00:18:38.828191Z"
    }
   },
   "outputs": [
    {
     "data": {
      "text/plain": [
       "PCA(copy=True, iterated_power='auto', n_components=None, random_state=None,\n",
       "  svd_solver='auto', tol=0.0, whiten=False)"
      ]
     },
     "execution_count": 17,
     "metadata": {},
     "output_type": "execute_result"
    },
    {
     "data": {
      "text/plain": [
       "array([[-7.14927818e-01, -1.28423732e+00,  9.70941426e-02, ...,\n",
       "         8.49862907e-01, -3.47013506e-16,  2.42503693e-16],\n",
       "       [ 4.53144795e+00,  8.94878501e-01,  1.43687773e-01, ...,\n",
       "        -9.68730619e-01,  4.86349694e-16, -1.38323122e-16],\n",
       "       [-2.26234301e+00,  2.02927993e+00, -1.64956276e+00, ...,\n",
       "         8.78685187e-01, -5.30627953e-16, -1.91564966e-16],\n",
       "       ...,\n",
       "       [ 1.67848551e+00,  1.85832563e+00,  1.92665769e+00, ...,\n",
       "         8.60429575e-01,  3.27877207e-16,  2.50673756e-16],\n",
       "       [ 2.26445904e+00, -1.81967438e+00, -2.08053649e+00, ...,\n",
       "         1.64953682e-01,  5.38344277e-16, -8.12851964e-17],\n",
       "       [-1.46084060e+00,  9.23766684e-01,  9.60664147e-02, ...,\n",
       "         3.25635502e-01, -2.03827287e-16,  6.98939901e-17]])"
      ]
     },
     "execution_count": 17,
     "metadata": {},
     "output_type": "execute_result"
    },
    {
     "data": {
      "text/plain": [
       "array([[ 7.18818316e-03,  1.41619205e-02,  1.00543847e-02,\n",
       "         3.65097575e-01,  6.38944537e-01, -1.95750380e-02,\n",
       "        -1.73413378e-01, -3.80829974e-02, -2.87413113e-03,\n",
       "        -6.52829504e-01],\n",
       "       [ 1.01307710e-02, -1.95270201e-04, -2.33689543e-02,\n",
       "        -6.12915216e-01,  5.08983971e-01, -2.23429533e-02,\n",
       "         6.02958940e-01, -1.49061329e-02, -1.81362216e-02,\n",
       "        -3.41623971e-03],\n",
       "       [ 2.42092694e-01, -3.68867909e-01,  8.69351030e-02,\n",
       "        -7.00211582e-03, -1.29243443e-02, -1.85568410e-01,\n",
       "         3.19371656e-03, -5.45736371e-01,  6.81990577e-01,\n",
       "         1.29862924e-02],\n",
       "       [-5.37952093e-01, -3.20020806e-01,  5.71456215e-01,\n",
       "        -6.04075415e-03,  5.35156139e-03, -4.92373002e-01,\n",
       "         6.00870251e-03,  1.94978861e-01, -3.29057598e-02,\n",
       "        -2.66614329e-04],\n",
       "       [-2.91882846e-02, -4.75039025e-01,  9.53825483e-03,\n",
       "         5.00110135e-03, -1.65709576e-02,  1.71776210e-01,\n",
       "        -7.36820709e-03, -5.63662239e-01, -6.52490553e-01,\n",
       "         8.65938745e-03],\n",
       "       [ 3.86722587e-01,  3.73998006e-01, -2.28028972e-02,\n",
       "         6.86034092e-03, -3.54600793e-02, -7.55250474e-01,\n",
       "        -1.26170621e-02, -2.09635798e-01, -3.06280052e-01,\n",
       "         2.07261408e-02],\n",
       "       [ 4.41046745e-01, -6.26000118e-01, -2.87801765e-01,\n",
       "         1.47125241e-02,  1.13717533e-02, -1.91730762e-01,\n",
       "        -9.82256314e-03,  5.35412291e-01, -8.14636710e-02,\n",
       "        -1.63147483e-02],\n",
       "       [ 5.53999842e-01,  6.25285519e-02,  7.62752959e-01,\n",
       "        -1.25731911e-02,  8.07325782e-03,  2.92540207e-01,\n",
       "         1.19020862e-02,  1.18970339e-01, -8.53297072e-02,\n",
       "         1.57582612e-03],\n",
       "       [ 1.65591260e-18, -2.08414635e-16, -1.25057668e-16,\n",
       "         2.75822698e-02, -5.59107849e-01, -3.52172180e-17,\n",
       "         4.96245192e-01,  3.00069451e-17, -9.46067749e-17,\n",
       "        -6.63610082e-01],\n",
       "       [ 1.42667093e-17,  1.78096753e-17,  1.68714732e-17,\n",
       "        -6.99818389e-01, -1.34764326e-01, -7.37327707e-17,\n",
       "        -5.99675828e-01,  1.09637129e-17,  7.08565238e-17,\n",
       "        -3.63980356e-01]])"
      ]
     },
     "execution_count": 17,
     "metadata": {},
     "output_type": "execute_result"
    },
    {
     "data": {
      "text/plain": [
       "array([4.22602937e+00, 2.21149972e+00, 1.11509461e+00, 1.09123938e+00,\n",
       "       1.02864637e+00, 1.00339950e+00, 9.21917768e-01, 8.92677850e-01,\n",
       "       7.13707238e-32, 2.68187174e-32])"
      ]
     },
     "execution_count": 17,
     "metadata": {},
     "output_type": "execute_result"
    },
    {
     "data": {
      "text/plain": [
       "array([3.38339364e-01, 1.77054475e-01, 8.92753857e-02, 8.73655166e-02,\n",
       "       8.23542686e-02, 8.03329836e-02, 7.38094896e-02, 7.14685179e-02,\n",
       "       5.71399845e-33, 2.14712842e-33])"
      ]
     },
     "execution_count": 17,
     "metadata": {},
     "output_type": "execute_result"
    }
   ],
   "source": [
    "model_pca = PCA()\n",
    "model_pca.fit(x)\n",
    "model_pca.transform(x)\n",
    "model_pca.components_ #获得转换后的所有主成分\n",
    "model_pca.explained_variance_ #转换后各主成分方差\n",
    "model_pca.explained_variance_ratio_ #转换后各主成分方差占比"
   ]
  },
  {
   "cell_type": "markdown",
   "metadata": {},
   "source": [
    "# 解决样本类别不均衡的问题(过抽样、欠抽样)"
   ]
  },
  {
   "cell_type": "code",
   "execution_count": 18,
   "metadata": {
    "ExecuteTime": {
     "end_time": "2018-12-05T00:18:39.878747Z",
     "start_time": "2018-12-05T00:18:39.552286Z"
    }
   },
   "outputs": [],
   "source": [
    "from imblearn.over_sampling import SMOTE #过抽样处理\n",
    "from imblearn.under_sampling import RandomUnderSampler # 欠抽样\n",
    "from sklearn.svm import SVC #支持向量机\n",
    "from imblearn.ensemble import EasyEnsemble #简单集成办法"
   ]
  },
  {
   "cell_type": "code",
   "execution_count": 19,
   "metadata": {
    "ExecuteTime": {
     "end_time": "2018-12-05T00:18:39.912254Z",
     "start_time": "2018-12-05T00:18:39.880743Z"
    }
   },
   "outputs": [
    {
     "data": {
      "text/html": [
       "<div>\n",
       "<style scoped>\n",
       "    .dataframe tbody tr th:only-of-type {\n",
       "        vertical-align: middle;\n",
       "    }\n",
       "\n",
       "    .dataframe tbody tr th {\n",
       "        vertical-align: top;\n",
       "    }\n",
       "\n",
       "    .dataframe thead th {\n",
       "        text-align: right;\n",
       "    }\n",
       "</style>\n",
       "<table border=\"1\" class=\"dataframe\">\n",
       "  <thead>\n",
       "    <tr style=\"text-align: right;\">\n",
       "      <th></th>\n",
       "      <th>col1</th>\n",
       "      <th>col2</th>\n",
       "      <th>col3</th>\n",
       "      <th>col4</th>\n",
       "      <th>col5</th>\n",
       "      <th>label</th>\n",
       "    </tr>\n",
       "  </thead>\n",
       "  <tbody>\n",
       "    <tr>\n",
       "      <th>0</th>\n",
       "      <td>1.484710</td>\n",
       "      <td>-0.567953</td>\n",
       "      <td>0.957248</td>\n",
       "      <td>-1.028711</td>\n",
       "      <td>-1.143092</td>\n",
       "      <td>0.0</td>\n",
       "    </tr>\n",
       "    <tr>\n",
       "      <th>1</th>\n",
       "      <td>-1.021847</td>\n",
       "      <td>-0.209943</td>\n",
       "      <td>0.585039</td>\n",
       "      <td>-0.625991</td>\n",
       "      <td>-0.532367</td>\n",
       "      <td>0.0</td>\n",
       "    </tr>\n",
       "    <tr>\n",
       "      <th>2</th>\n",
       "      <td>-0.418176</td>\n",
       "      <td>0.878976</td>\n",
       "      <td>-0.333351</td>\n",
       "      <td>0.371767</td>\n",
       "      <td>1.223683</td>\n",
       "      <td>0.0</td>\n",
       "    </tr>\n",
       "    <tr>\n",
       "      <th>3</th>\n",
       "      <td>0.441664</td>\n",
       "      <td>1.405135</td>\n",
       "      <td>2.334376</td>\n",
       "      <td>-2.453234</td>\n",
       "      <td>0.594130</td>\n",
       "      <td>0.0</td>\n",
       "    </tr>\n",
       "    <tr>\n",
       "      <th>4</th>\n",
       "      <td>-1.855857</td>\n",
       "      <td>1.342565</td>\n",
       "      <td>1.457096</td>\n",
       "      <td>-1.522041</td>\n",
       "      <td>0.935034</td>\n",
       "      <td>0.0</td>\n",
       "    </tr>\n",
       "  </tbody>\n",
       "</table>\n",
       "</div>"
      ],
      "text/plain": [
       "       col1      col2      col3      col4      col5  label\n",
       "0  1.484710 -0.567953  0.957248 -1.028711 -1.143092    0.0\n",
       "1 -1.021847 -0.209943  0.585039 -0.625991 -0.532367    0.0\n",
       "2 -0.418176  0.878976 -0.333351  0.371767  1.223683    0.0\n",
       "3  0.441664  1.405135  2.334376 -2.453234  0.594130    0.0\n",
       "4 -1.855857  1.342565  1.457096 -1.522041  0.935034    0.0"
      ]
     },
     "execution_count": 19,
     "metadata": {},
     "output_type": "execute_result"
    }
   ],
   "source": [
    "df = pd.read_csv('./datacode_for_book/chapter3/data2.txt',sep=' ',names=['col1','col2','col3','col4','col5','label'])\n",
    "df.head()"
   ]
  },
  {
   "cell_type": "code",
   "execution_count": 20,
   "metadata": {
    "ExecuteTime": {
     "end_time": "2018-12-05T00:18:39.924965Z",
     "start_time": "2018-12-05T00:18:39.914224Z"
    }
   },
   "outputs": [
    {
     "data": {
      "text/html": [
       "<div>\n",
       "<style scoped>\n",
       "    .dataframe tbody tr th:only-of-type {\n",
       "        vertical-align: middle;\n",
       "    }\n",
       "\n",
       "    .dataframe tbody tr th {\n",
       "        vertical-align: top;\n",
       "    }\n",
       "\n",
       "    .dataframe thead th {\n",
       "        text-align: right;\n",
       "    }\n",
       "</style>\n",
       "<table border=\"1\" class=\"dataframe\">\n",
       "  <thead>\n",
       "    <tr style=\"text-align: right;\">\n",
       "      <th></th>\n",
       "      <th>col1</th>\n",
       "      <th>col2</th>\n",
       "      <th>col3</th>\n",
       "      <th>col4</th>\n",
       "      <th>col5</th>\n",
       "    </tr>\n",
       "    <tr>\n",
       "      <th>label</th>\n",
       "      <th></th>\n",
       "      <th></th>\n",
       "      <th></th>\n",
       "      <th></th>\n",
       "      <th></th>\n",
       "    </tr>\n",
       "  </thead>\n",
       "  <tbody>\n",
       "    <tr>\n",
       "      <th>0.0</th>\n",
       "      <td>942</td>\n",
       "      <td>942</td>\n",
       "      <td>942</td>\n",
       "      <td>942</td>\n",
       "      <td>942</td>\n",
       "    </tr>\n",
       "    <tr>\n",
       "      <th>1.0</th>\n",
       "      <td>58</td>\n",
       "      <td>58</td>\n",
       "      <td>58</td>\n",
       "      <td>58</td>\n",
       "      <td>58</td>\n",
       "    </tr>\n",
       "  </tbody>\n",
       "</table>\n",
       "</div>"
      ],
      "text/plain": [
       "       col1  col2  col3  col4  col5\n",
       "label                              \n",
       "0.0     942   942   942   942   942\n",
       "1.0      58    58    58    58    58"
      ]
     },
     "execution_count": 20,
     "metadata": {},
     "output_type": "execute_result"
    }
   ],
   "source": [
    "x = df.iloc[:,:-1]\n",
    "y = df.iloc[:,-1]\n",
    "df.groupby('label').count()"
   ]
  },
  {
   "cell_type": "markdown",
   "metadata": {},
   "source": [
    "## 过抽样"
   ]
  },
  {
   "cell_type": "code",
   "execution_count": 21,
   "metadata": {
    "ExecuteTime": {
     "end_time": "2018-12-05T00:18:39.947158Z",
     "start_time": "2018-12-05T00:18:39.926932Z"
    }
   },
   "outputs": [
    {
     "name": "stdout",
     "output_type": "stream",
     "text": [
      "       col1  col2  col3  col4  col5\n",
      "label                              \n",
      "0.0     942   942   942   942   942\n",
      "1.0     942   942   942   942   942\n"
     ]
    }
   ],
   "source": [
    "model_smote = SMOTE()\n",
    "x_smote_resampled,y_smote_resampled = model_smote.fit_sample(x,y)\n",
    "x_smote_resampled = pd.DataFrame(x_smote_resampled, columns=['col1', 'col2', 'col3', 'col4', 'col5'])  # 将数据转换为数据框并命名列名\n",
    "y_smote_resampled = pd.DataFrame(y_smote_resampled, columns=['label'])  # 将数据转换为数据框并命名列名\n",
    "smote_resampled = pd.concat([x_smote_resampled, y_smote_resampled], axis=1)  # 按列合并数据框\n",
    "groupby_data_smote = smote_resampled.groupby('label').count()  # 对label做分类汇总\n",
    "print (groupby_data_smote)  # 打印输出经过SMOTE处理后的数据集样本分类分布"
   ]
  },
  {
   "cell_type": "markdown",
   "metadata": {},
   "source": [
    "## 欠抽样"
   ]
  },
  {
   "cell_type": "code",
   "execution_count": 22,
   "metadata": {
    "ExecuteTime": {
     "end_time": "2018-12-05T00:18:39.963115Z",
     "start_time": "2018-12-05T00:18:39.949152Z"
    }
   },
   "outputs": [
    {
     "name": "stdout",
     "output_type": "stream",
     "text": [
      "       col1  col2  col3  col4  col5\n",
      "label                              \n",
      "0.0      58    58    58    58    58\n",
      "1.0      58    58    58    58    58\n"
     ]
    }
   ],
   "source": [
    "# 使用RandomUnderSampler方法进行欠抽样处理\n",
    "model_RandomUnderSampler = RandomUnderSampler()  # 建立RandomUnderSampler模型对象\n",
    "x_RandomUnderSampler_resampled, y_RandomUnderSampler_resampled = model_RandomUnderSampler.fit_sample(x,\n",
    "                                                                                                     y)  # 输入数据并作欠抽样处理\n",
    "x_RandomUnderSampler_resampled = pd.DataFrame(x_RandomUnderSampler_resampled,\n",
    "                                              columns=['col1', 'col2', 'col3', 'col4', 'col5'])  # 将数据转换为数据框并命名列名\n",
    "y_RandomUnderSampler_resampled = pd.DataFrame(y_RandomUnderSampler_resampled, columns=['label'])  # 将数据转换为数据框并命名列名\n",
    "RandomUnderSampler_resampled = pd.concat([x_RandomUnderSampler_resampled, y_RandomUnderSampler_resampled],\n",
    "                                         axis=1)  # 按列合并数据框\n",
    "groupby_data_RandomUnderSampler = RandomUnderSampler_resampled.groupby('label').count()  # 对label做分类汇总\n",
    "print (groupby_data_RandomUnderSampler)  # 打印输出经过RandomUnderSampler处理后的数据集样本分类分布"
   ]
  },
  {
   "cell_type": "markdown",
   "metadata": {},
   "source": [
    "## 使用svc权重处理不均衡样本"
   ]
  },
  {
   "cell_type": "code",
   "execution_count": 23,
   "metadata": {
    "ExecuteTime": {
     "end_time": "2018-12-05T00:18:39.989863Z",
     "start_time": "2018-12-05T00:18:39.965109Z"
    }
   },
   "outputs": [
    {
     "name": "stderr",
     "output_type": "stream",
     "text": [
      "f:\\ProgramData\\Anaconda3\\envs\\normal\\lib\\site-packages\\sklearn\\svm\\base.py:196: FutureWarning: The default value of gamma will change from 'auto' to 'scale' in version 0.22 to account better for unscaled features. Set gamma explicitly to 'auto' or 'scale' to avoid this warning.\n",
      "  \"avoid this warning.\", FutureWarning)\n"
     ]
    },
    {
     "data": {
      "text/plain": [
       "SVC(C=1.0, cache_size=200, class_weight='balanced', coef0=0.0,\n",
       "  decision_function_shape='ovr', degree=3, gamma='auto_deprecated',\n",
       "  kernel='rbf', max_iter=-1, probability=False, random_state=None,\n",
       "  shrinking=True, tol=0.001, verbose=False)"
      ]
     },
     "execution_count": 23,
     "metadata": {},
     "output_type": "execute_result"
    },
    {
     "data": {
      "text/plain": [
       "array([0.53078556, 8.62068966])"
      ]
     },
     "execution_count": 23,
     "metadata": {},
     "output_type": "execute_result"
    }
   ],
   "source": [
    "# 使用SVM的权重调节处理不均衡样本\n",
    "model_svm = SVC(class_weight='balanced')  # 创建SVC模型对象并指定类别权重\n",
    "model_svm.fit(x, y)  # 输入x和y并训练模型\n",
    "\n",
    "model_svm.class_weight_"
   ]
  },
  {
   "cell_type": "markdown",
   "metadata": {},
   "source": [
    "## EasyEnsemble处理不均衡样本（不在可用）"
   ]
  },
  {
   "cell_type": "code",
   "execution_count": 24,
   "metadata": {
    "ExecuteTime": {
     "end_time": "2018-12-05T00:18:40.008406Z",
     "start_time": "2018-12-05T00:18:39.991857Z"
    }
   },
   "outputs": [
    {
     "name": "stdout",
     "output_type": "stream",
     "text": [
      "(10, 116, 5)\n",
      "(10, 116)\n"
     ]
    },
    {
     "name": "stderr",
     "output_type": "stream",
     "text": [
      "f:\\ProgramData\\Anaconda3\\envs\\normal\\lib\\site-packages\\sklearn\\utils\\deprecation.py:58: DeprecationWarning: Class EasyEnsemble is deprecated; EasyEnsemble is deprecated in 0.4 and will be removed in 0.6. Use EasyEnsembleClassifier instead.\n",
      "  warnings.warn(msg, category=DeprecationWarning)\n"
     ]
    }
   ],
   "source": [
    "# 使用集成方法EasyEnsemble处理不均衡样本\n",
    "model_EasyEnsemble = EasyEnsemble()  # 建立EasyEnsemble模型对象\n",
    "x_EasyEnsemble_resampled, y_EasyEnsemble_resampled = model_EasyEnsemble.fit_sample(x, y)  # 输入数据并应用集成方法处理\n",
    "print (x_EasyEnsemble_resampled.shape)  # 打印输出集成方法处理后的x样本集概况\n",
    "print (y_EasyEnsemble_resampled.shape)  # 打印输出集成方法处理后的y标签集概况"
   ]
  },
  {
   "cell_type": "code",
   "execution_count": 25,
   "metadata": {
    "ExecuteTime": {
     "end_time": "2018-12-05T00:18:40.023157Z",
     "start_time": "2018-12-05T00:18:40.009405Z"
    }
   },
   "outputs": [
    {
     "name": "stdout",
     "output_type": "stream",
     "text": [
      "       col1  col2  col3  col4  col5\n",
      "label                              \n",
      "0.0      58    58    58    58    58\n",
      "1.0      58    58    58    58    58\n"
     ]
    }
   ],
   "source": [
    "# 抽取其中一份数据做审查\n",
    "index_num = 1  # 设置抽样样本集索引\n",
    "x_EasyEnsemble_resampled_t = pd.DataFrame(x_EasyEnsemble_resampled[index_num],\n",
    "                                          columns=['col1', 'col2', 'col3', 'col4', 'col5'])  # 将数据转换为数据框并命名列名\n",
    "y_EasyEnsemble_resampled_t = pd.DataFrame(y_EasyEnsemble_resampled[index_num], columns=['label'])  # 将数据转换为数据框并命名列名\n",
    "EasyEnsemble_resampled = pd.concat([x_EasyEnsemble_resampled_t, y_EasyEnsemble_resampled_t], axis=1)  # 按列合并数据框\n",
    "groupby_data_EasyEnsemble = EasyEnsemble_resampled.groupby('label').count()  # 对label做分类汇总\n",
    "print (groupby_data_EasyEnsemble)  # 打印输出经过EasyEnsemble处理后的数据集样本分类分布"
   ]
  },
  {
   "cell_type": "markdown",
   "metadata": {},
   "source": [
    "# 抽样"
   ]
  },
  {
   "cell_type": "code",
   "execution_count": 26,
   "metadata": {
    "ExecuteTime": {
     "end_time": "2018-12-05T00:18:40.028143Z",
     "start_time": "2018-12-05T00:18:40.025152Z"
    }
   },
   "outputs": [],
   "source": [
    "import random"
   ]
  },
  {
   "cell_type": "code",
   "execution_count": 27,
   "metadata": {
    "ExecuteTime": {
     "end_time": "2018-12-05T00:18:40.154889Z",
     "start_time": "2018-12-05T00:18:40.029141Z"
    }
   },
   "outputs": [
    {
     "data": {
      "text/plain": [
       "array([[-3.08057779,  8.09020329,  2.02732982,  2.92353937, -6.06318211],\n",
       "       [-4.03307362,  8.58624006,  3.897472  ,  1.26982588, -9.01924785],\n",
       "       [-3.13867258,  9.6120066 ,  7.19936687,  2.36740271, -6.75740803],\n",
       "       [-3.02463329,  8.41403228,  5.58731866,  2.26420369, -7.51518693],\n",
       "       [-3.53074982,  8.85253074,  4.10623003,  1.96764182, -7.10907764]])"
      ]
     },
     "execution_count": 27,
     "metadata": {},
     "output_type": "execute_result"
    },
    {
     "name": "stdout",
     "output_type": "stream",
     "text": [
      "[array([-3.64045862,  8.06941636,  4.76383677,  3.73123904, -6.31894653]), array([ -9.44433652, -10.69339784,  10.49071306,   1.3577941 ,\n",
      "         5.6303159 ])]\n",
      "2000\n"
     ]
    }
   ],
   "source": [
    "# 简单随机抽样\n",
    "data = np.loadtxt('./datacode_for_book/chapter3/data3.txt')  # 导入普通数据文件\n",
    "data[:5]\n",
    "data_sample = random.sample(list(data), 2000)  # 随机抽取2000个样本\n",
    "print (data_sample[:2])  # 打印输出前2条数据\n",
    "print (len(data_sample))  # 打印输出抽样样本量\n"
   ]
  },
  {
   "cell_type": "code",
   "execution_count": 28,
   "metadata": {
    "ExecuteTime": {
     "end_time": "2018-12-05T00:18:40.271211Z",
     "start_time": "2018-12-05T00:18:40.155861Z"
    }
   },
   "outputs": [
    {
     "name": "stdout",
     "output_type": "stream",
     "text": [
      "[array([-3.08057779,  8.09020329,  2.02732982,  2.92353937, -6.06318211]), array([-2.11984871,  7.74916701,  5.7318711 ,  4.75148273, -5.68598747])]\n",
      "2000\n"
     ]
    }
   ],
   "source": [
    "\n",
    "# 等距抽样\n",
    "data = np.loadtxt('./datacode_for_book/chapter3/data3.txt')  # 导入普通数据文件\n",
    "sample_count = 2000  # 指定抽样数量\n",
    "record_count = data.shape[0]  # 获取最大样本量\n",
    "width = record_count / sample_count  # 计算抽样间距\n",
    "data_sample = []  # 初始化空白列表，用来存放抽样结果数据\n",
    "i = 0  # 自增计数以得到对应索引值\n",
    "while len(data_sample) <= sample_count and i * width <= record_count - 1:  # 当样本量小于等于指定抽样数量并且矩阵索引在有效范围内时\n",
    "    data_sample.append(data[int(i * width)])  # 新增样本\n",
    "    i += 1  # 自增长\n",
    "print (data_sample[:2])  # 打印输出前2条数据\n",
    "print (len(data_sample))  # 打印输出样本数量"
   ]
  },
  {
   "cell_type": "code",
   "execution_count": 29,
   "metadata": {
    "ExecuteTime": {
     "end_time": "2018-12-05T00:18:40.293996Z",
     "start_time": "2018-12-05T00:18:40.273012Z"
    }
   },
   "outputs": [
    {
     "name": "stdout",
     "output_type": "stream",
     "text": [
      "{0.0: 200, 1.0: 200}\n"
     ]
    }
   ],
   "source": [
    "# 分层抽样\n",
    "# 导入有标签的数据文件\n",
    "data2 = np.loadtxt('./datacode_for_book/chapter3/data2.txt')  # 导入带有分层逻辑的数据\n",
    "each_sample_count = 200  # 定义每个分层的抽样数量\n",
    "label_data_unique = np.unique(data2[:, -1])  # 定义分层值域\n",
    "sample_list = []  # 定义空列表，用于存放临时分层数据\n",
    "sample_data = []  # 定义空列表，用于存放最终抽样数据\n",
    "sample_dict = {}  # 定义空字典，用来显示各分层样本数量\n",
    "for label_data in label_data_unique:  # 遍历每个分层标签\n",
    "    for data_tmp in data2:  # 读取每条数据\n",
    "        if data_tmp[-1] == label_data:  # 如果数据最后一列等于标签\n",
    "            sample_list.append(data_tmp)  # 将数据加入到分层数据中\n",
    "    each_sample_data = random.sample(sample_list, each_sample_count)  # 对每层数据都随机抽样\n",
    "    sample_data.extend(each_sample_data)  # 将抽样数据追加到总体样本集\n",
    "    sample_dict[label_data] = len(each_sample_data)  # 样本集统计结果\n",
    "print (sample_dict)  # 打印输出样本集统计结果"
   ]
  },
  {
   "cell_type": "code",
   "execution_count": 30,
   "metadata": {
    "ExecuteTime": {
     "end_time": "2018-12-05T00:18:40.336726Z",
     "start_time": "2018-12-05T00:18:40.294954Z"
    }
   },
   "outputs": [
    {
     "name": "stdout",
     "output_type": "stream",
     "text": [
      "[0. 1. 2. 3.]\n",
      "[2.0, 0.0]\n",
      "498\n"
     ]
    }
   ],
   "source": [
    "# 整群抽样\n",
    "data3 = np.loadtxt('./datacode_for_book/chapter3/data4.txt')  # 导入已经划分好整群的数据集\n",
    "label_data_unique = np.unique(data3[:, -1])  # 定义整群标签值域\n",
    "print (label_data_unique)  # 打印输出所有整群标签\n",
    "sample_label = random.sample(list(label_data_unique), 2)  # 随机抽取2个整群\n",
    "sample_data = []  # 定义空列表，用来存储最终抽样数据\n",
    "for each_label in sample_label:  # 遍历每个整群标签值域\n",
    "    for data_tmp in data3:  # 遍历每个样本\n",
    "        if data_tmp[-1] == each_label:  # 判断样本是否属于抽样整群\n",
    "            sample_data.append(data_tmp)  # 样本添加到最终抽样数据集\n",
    "print (sample_label)  # 打印输出样本整群标签\n",
    "print (len(sample_data))  # 打印输出总抽样数据记录条数"
   ]
  },
  {
   "cell_type": "markdown",
   "metadata": {},
   "source": [
    "# 共线问题"
   ]
  },
  {
   "cell_type": "code",
   "execution_count": 31,
   "metadata": {
    "ExecuteTime": {
     "end_time": "2018-12-05T00:18:40.341711Z",
     "start_time": "2018-12-05T00:18:40.337723Z"
    }
   },
   "outputs": [],
   "source": [
    "from sklearn.linear_model import Ridge\n",
    "from sklearn.decomposition import PCA\n",
    "from sklearn.linear_model import LinearRegression"
   ]
  },
  {
   "cell_type": "code",
   "execution_count": 32,
   "metadata": {
    "ExecuteTime": {
     "end_time": "2018-12-05T00:18:40.419537Z",
     "start_time": "2018-12-05T00:18:40.343707Z"
    }
   },
   "outputs": [
    {
     "data": {
      "text/plain": [
       "array([[9.74500000e+01, 6.91560000e+02, 3.17747000e+03, 4.63561000e+03,\n",
       "        2.54893500e+04, 7.26410300e+04, 2.50230850e+05, 1.48545545e+06,\n",
       "        1.48517277e+06],\n",
       "       [1.01760000e+02, 9.20360000e+02, 1.57680100e+04, 3.70848000e+03,\n",
       "        2.80681440e+05, 3.02209800e+04, 6.39772285e+06, 5.72076300e+05,\n",
       "        5.71978860e+05],\n",
       "       [9.82100000e+01, 8.94760000e+02, 8.82403000e+03, 6.18206000e+03,\n",
       "        7.84895700e+04, 5.31573200e+04, 1.61567885e+06, 1.05798051e+06,\n",
       "        1.05838664e+06]])"
      ]
     },
     "execution_count": 32,
     "metadata": {},
     "output_type": "execute_result"
    },
    {
     "data": {
      "text/plain": [
       "array([ 812.46, 1185.68,  894.41])"
      ]
     },
     "execution_count": 32,
     "metadata": {},
     "output_type": "execute_result"
    }
   ],
   "source": [
    "data = np.loadtxt('./datacode_for_book/chapter3/data5.txt', delimiter='\\t')  # 读取数据文件\n",
    "x = data[:, :-1]  # 切分自变量\n",
    "y = data[:, -1]  # 切分预测变量\n",
    "x[:3]\n",
    "y[:3]"
   ]
  },
  {
   "cell_type": "code",
   "execution_count": 33,
   "metadata": {
    "ExecuteTime": {
     "end_time": "2018-12-05T00:18:40.491312Z",
     "start_time": "2018-12-05T00:18:40.422517Z"
    }
   },
   "outputs": [
    {
     "data": {
      "text/plain": [
       "Ridge(alpha=1, copy_X=True, fit_intercept=True, max_iter=None,\n",
       "   normalize=False, random_state=None, solver='auto', tol=0.001)"
      ]
     },
     "execution_count": 33,
     "metadata": {},
     "output_type": "execute_result"
    },
    {
     "data": {
      "text/plain": [
       "array([ 8.50164360e+01, -1.18330186e-03,  9.80792921e-04, -8.54201056e-04,\n",
       "        2.10489064e-05,  2.20180449e-04, -3.00990875e-06, -9.30084240e-06,\n",
       "       -2.84498824e-08])"
      ]
     },
     "execution_count": 33,
     "metadata": {},
     "output_type": "execute_result"
    },
    {
     "data": {
      "text/plain": [
       "-7443.986528680895"
      ]
     },
     "execution_count": 33,
     "metadata": {},
     "output_type": "execute_result"
    }
   ],
   "source": [
    "#使用岭回归\n",
    "model_ridge = Ridge(alpha=1)\n",
    "model_ridge.fit(x,y)\n",
    "model_ridge.coef_\n",
    "model_ridge.intercept_"
   ]
  },
  {
   "cell_type": "code",
   "execution_count": 34,
   "metadata": {
    "ExecuteTime": {
     "end_time": "2018-12-05T00:18:40.513253Z",
     "start_time": "2018-12-05T00:18:40.492309Z"
    }
   },
   "outputs": [
    {
     "data": {
      "text/plain": [
       "array([9.02799999e-01, 8.29049404e-02, 1.38691828e-02, 3.84960371e-04,\n",
       "       3.65326238e-05, 3.77177567e-06, 6.00044773e-07, 1.26607730e-08,\n",
       "       4.94381256e-13])"
      ]
     },
     "execution_count": 34,
     "metadata": {},
     "output_type": "execute_result"
    },
    {
     "data": {
      "text/plain": [
       "(array([0, 1, 2, 3, 4, 5, 6, 7, 8], dtype=int64),)"
      ]
     },
     "execution_count": 34,
     "metadata": {},
     "output_type": "execute_result"
    },
    {
     "data": {
      "text/plain": [
       "LinearRegression(copy_X=True, fit_intercept=True, n_jobs=None,\n",
       "         normalize=False)"
      ]
     },
     "execution_count": 34,
     "metadata": {},
     "output_type": "execute_result"
    },
    {
     "data": {
      "text/plain": [
       "array([1.26262171e-05])"
      ]
     },
     "execution_count": 34,
     "metadata": {},
     "output_type": "execute_result"
    },
    {
     "data": {
      "text/plain": [
       "1058.52726"
      ]
     },
     "execution_count": 34,
     "metadata": {},
     "output_type": "execute_result"
    }
   ],
   "source": [
    "#使用主成分回归进行回归分析\n",
    "model_pca = PCA()\n",
    "data_pca = model_pca.fit_transform(x)\n",
    "model_pca.explained_variance_ratio_\n",
    "ratio_cumsum = np.cumsum(model_pca.explained_variance_ratio_)\n",
    "rule_index = np.where(ratio_cumsum > 0.8)\n",
    "rule_index\n",
    "min_index = rule_index[0][0]\n",
    "data_pca_result = data_pca[:,:min_index+1]\n",
    "model_liner = LinearRegression()\n",
    "model_liner.fit(data_pca_result,y)\n",
    "model_liner.coef_\n",
    "model_liner.intercept_"
   ]
  },
  {
   "cell_type": "markdown",
   "metadata": {},
   "source": [
    "# 相关分析"
   ]
  },
  {
   "cell_type": "code",
   "execution_count": 43,
   "metadata": {
    "ExecuteTime": {
     "end_time": "2018-12-05T00:24:40.503170Z",
     "start_time": "2018-12-05T00:24:40.081734Z"
    }
   },
   "outputs": [
    {
     "data": {
      "text/plain": [
       "array([[ 1.00000000e+00, -3.93808149e-02,  2.70272318e-01,\n",
       "        -4.68122068e-02,  2.12352100e-01, -4.96538227e-02,\n",
       "         1.94945705e-01, -2.93883722e-02, -2.38246921e-02],\n",
       "       [-3.93808149e-02,  1.00000000e+00, -1.02670977e-02,\n",
       "         7.28366108e-01, -5.07932992e-03,  6.23579830e-01,\n",
       "         2.03730883e-03,  4.80135223e-01,  5.09560242e-01],\n",
       "       [ 2.70272318e-01, -1.02670977e-02,  1.00000000e+00,\n",
       "        -1.00510096e-02,  7.17707624e-01, -5.71584308e-04,\n",
       "         6.53531250e-01,  1.05616598e-02,  2.46062412e-02],\n",
       "       [-4.68122068e-02,  7.28366108e-01, -1.00510096e-02,\n",
       "         1.00000000e+00,  8.14189905e-03,  8.75769561e-01,\n",
       "         1.16557603e-02,  7.02587197e-01,  7.18844901e-01],\n",
       "       [ 2.12352100e-01, -5.07932992e-03,  7.17707624e-01,\n",
       "         8.14189905e-03,  1.00000000e+00,  1.89758904e-02,\n",
       "         9.14978146e-01,  2.73933100e-02,  2.93706317e-02],\n",
       "       [-4.96538227e-02,  6.23579830e-01, -5.71584308e-04,\n",
       "         8.75769561e-01,  1.89758904e-02,  1.00000000e+00,\n",
       "         2.74371505e-02,  8.27198978e-01,  8.24765328e-01],\n",
       "       [ 1.94945705e-01,  2.03730883e-03,  6.53531250e-01,\n",
       "         1.16557603e-02,  9.14978146e-01,  2.74371505e-02,\n",
       "         1.00000000e+00,  3.05204553e-02,  3.48066459e-02],\n",
       "       [-2.93883722e-02,  4.80135223e-01,  1.05616598e-02,\n",
       "         7.02587197e-01,  2.73933100e-02,  8.27198978e-01,\n",
       "         3.05204553e-02,  1.00000000e+00,  7.12788760e-01],\n",
       "       [-2.38246921e-02,  5.09560242e-01,  2.46062412e-02,\n",
       "         7.18844901e-01,  2.93706317e-02,  8.24765328e-01,\n",
       "         3.48066459e-02,  7.12788760e-01,  1.00000000e+00]])"
      ]
     },
     "execution_count": 43,
     "metadata": {},
     "output_type": "execute_result"
    },
    {
     "data": {
      "text/plain": [
       "<Figure size 1152x576 with 0 Axes>"
      ]
     },
     "execution_count": 43,
     "metadata": {},
     "output_type": "execute_result"
    },
    {
     "data": {
      "text/plain": [
       "<matplotlib.axes._subplots.AxesSubplot at 0x170b3bb2208>"
      ]
     },
     "execution_count": 43,
     "metadata": {},
     "output_type": "execute_result"
    },
    {
     "data": {
      "image/png": "[encoded data removed]",
      "text/plain": [
       "<Figure size 1152x576 with 2 Axes>"
      ]
     },
     "metadata": {
      "needs_background": "light"
     },
     "output_type": "display_data"
    }
   ],
   "source": [
    "data = np.loadtxt('./datacode_for_book/chapter3/data5.txt', delimiter='\\t')  # 读取数据文件\n",
    "x = data[:, :-1]  # 切分自变量\n",
    "correlation_matrix = np.corrcoef(x, rowvar=0)  # 相关性分析\n",
    "correlation_matrix\n",
    "import seaborn as sns\n",
    "plt.figure(figsize=(16,8))\n",
    "sns.heatmap(correlation_matrix,annot=True)"
   ]
  },
  {
   "cell_type": "markdown",
   "metadata": {},
   "source": [
    "# 标准化"
   ]
  },
  {
   "cell_type": "code",
   "execution_count": 44,
   "metadata": {
    "ExecuteTime": {
     "end_time": "2018-12-05T00:33:00.958387Z",
     "start_time": "2018-12-05T00:33:00.951807Z"
    }
   },
   "outputs": [],
   "source": [
    "from sklearn import preprocessing"
   ]
  },
  {
   "cell_type": "code",
   "execution_count": 46,
   "metadata": {
    "ExecuteTime": {
     "end_time": "2018-12-05T00:33:56.272774Z",
     "start_time": "2018-12-05T00:33:56.166453Z"
    }
   },
   "outputs": [],
   "source": [
    "data = np.loadtxt('./datacode_for_book/chapter3/data6.txt', delimiter='\\t')  # 读取数据"
   ]
  },
  {
   "cell_type": "code",
   "execution_count": 53,
   "metadata": {
    "ExecuteTime": {
     "end_time": "2018-12-05T00:37:28.793597Z",
     "start_time": "2018-12-05T00:37:28.242331Z"
    }
   },
   "outputs": [
    {
     "data": {
      "text/plain": [
       "<Figure size 1152x576 with 0 Axes>"
      ]
     },
     "execution_count": 53,
     "metadata": {},
     "output_type": "execute_result"
    },
    {
     "data": {
      "text/plain": [
       "<matplotlib.axes._subplots.AxesSubplot at 0x170b565a7f0>"
      ]
     },
     "execution_count": 53,
     "metadata": {},
     "output_type": "execute_result"
    },
    {
     "data": {
      "text/plain": [
       "<matplotlib.collections.PathCollection at 0x170b5571a90>"
      ]
     },
     "execution_count": 53,
     "metadata": {},
     "output_type": "execute_result"
    },
    {
     "data": {
      "text/plain": [
       "Text(0.5,1,'source data')"
      ]
     },
     "execution_count": 53,
     "metadata": {},
     "output_type": "execute_result"
    },
    {
     "data": {
      "text/plain": [
       "<matplotlib.axes._subplots.AxesSubplot at 0x170b5593550>"
      ]
     },
     "execution_count": 53,
     "metadata": {},
     "output_type": "execute_result"
    },
    {
     "data": {
      "text/plain": [
       "<matplotlib.collections.PathCollection at 0x170b55af0f0>"
      ]
     },
     "execution_count": 53,
     "metadata": {},
     "output_type": "execute_result"
    },
    {
     "data": {
      "text/plain": [
       "Text(0.5,1,'zscore_scaler')"
      ]
     },
     "execution_count": 53,
     "metadata": {},
     "output_type": "execute_result"
    },
    {
     "data": {
      "text/plain": [
       "<matplotlib.axes._subplots.AxesSubplot at 0x170b55daba8>"
      ]
     },
     "execution_count": 53,
     "metadata": {},
     "output_type": "execute_result"
    },
    {
     "data": {
      "text/plain": [
       "<matplotlib.collections.PathCollection at 0x170b55fd7f0>"
      ]
     },
     "execution_count": 53,
     "metadata": {},
     "output_type": "execute_result"
    },
    {
     "data": {
      "text/plain": [
       "Text(0.5,1,'minmax_scaler')"
      ]
     },
     "execution_count": 53,
     "metadata": {},
     "output_type": "execute_result"
    },
    {
     "data": {
      "text/plain": [
       "<matplotlib.axes._subplots.AxesSubplot at 0x170b55eb278>"
      ]
     },
     "execution_count": 53,
     "metadata": {},
     "output_type": "execute_result"
    },
    {
     "data": {
      "text/plain": [
       "<matplotlib.collections.PathCollection at 0x170b5675e80>"
      ]
     },
     "execution_count": 53,
     "metadata": {},
     "output_type": "execute_result"
    },
    {
     "data": {
      "text/plain": [
       "Text(0.5,1,'maxabsscaler_scaler')"
      ]
     },
     "execution_count": 53,
     "metadata": {},
     "output_type": "execute_result"
    },
    {
     "data": {
      "text/plain": [
       "<matplotlib.axes._subplots.AxesSubplot at 0x170b5615978>"
      ]
     },
     "execution_count": 53,
     "metadata": {},
     "output_type": "execute_result"
    },
    {
     "data": {
      "text/plain": [
       "<matplotlib.collections.PathCollection at 0x170b56a39b0>"
      ]
     },
     "execution_count": 53,
     "metadata": {},
     "output_type": "execute_result"
    },
    {
     "data": {
      "text/plain": [
       "Text(0.5,1,'robustscalerr_scaler')"
      ]
     },
     "execution_count": 53,
     "metadata": {},
     "output_type": "execute_result"
    },
    {
     "data": {
      "text/plain": [
       "Text(0.5,0.98,'raw data and standardized data')"
      ]
     },
     "execution_count": 53,
     "metadata": {},
     "output_type": "execute_result"
    },
    {
     "data": {
      "image/png": "[encoded data removed]",
      "text/plain": [
       "<Figure size 1152x576 with 5 Axes>"
      ]
     },
     "metadata": {
      "needs_background": "light"
     },
     "output_type": "display_data"
    }
   ],
   "source": [
    "\n",
    "# Z-Score标准化\n",
    "zscore_scaler = preprocessing.StandardScaler()  # 建立StandardScaler对象\n",
    "data_scale_1 = zscore_scaler.fit_transform(data)  # StandardScaler标准化处理\n",
    "\n",
    "# Max-Min标准化\n",
    "minmax_scaler = preprocessing.MinMaxScaler()  # 建立MinMaxScaler模型对象\n",
    "data_scale_2 = minmax_scaler.fit_transform(data)  # MinMaxScaler标准化处理\n",
    "\n",
    "# MaxAbsScaler标准化\n",
    "maxabsscaler_scaler = preprocessing.MaxAbsScaler()  # 建立MaxAbsScaler对象\n",
    "data_scale_3 = maxabsscaler_scaler.fit_transform(data)  # MaxAbsScaler标准化处理\n",
    "\n",
    "# RobustScaler标准化\n",
    "robustscalerr_scaler = preprocessing.RobustScaler()  # 建立RobustScaler标准化对象\n",
    "data_scale_4 = robustscalerr_scaler.fit_transform(data)  # RobustScaler标准化标准化处理\n",
    "\n",
    "# 展示多网格结果\n",
    "data_list = [data, data_scale_1, data_scale_2, data_scale_3, data_scale_4]  # 创建数据集列表\n",
    "scalar_list = [15, 10, 15, 10, 15, 10]  # 创建点尺寸列表\n",
    "color_list = ['black', 'green', 'blue', 'yellow', 'red']  # 创建颜色列表\n",
    "merker_list = ['o', ',', '+', 's', 'p']  # 创建样式列表\n",
    "title_list = ['source data', 'zscore_scaler', 'minmax_scaler', 'maxabsscaler_scaler', 'robustscalerr_scaler']  # 创建标题列表\n",
    "plt.figure(figsize=(16,8))\n",
    "for i, data_single in enumerate(data_list):  # 循环得到索引和每个数值\n",
    "    \n",
    "    plt.subplot(2, 3, i + 1)  # 确定子网格\n",
    "    plt.scatter(data_single[:, :-1], data_single[:, -1], s=scalar_list[i], marker=merker_list[i],\n",
    "                c=color_list[i])  # 子网格展示散点图\n",
    "    plt.title(title_list[i])  # 设置子网格标题\n",
    "plt.suptitle(\"raw data and standardized data\")  # 设置总标题\n",
    "plt.show()  # 展示图形"
   ]
  },
  {
   "cell_type": "code",
   "execution_count": null,
   "metadata": {},
   "outputs": [],
   "source": []
  }
 ],
 "metadata": {
  "hide_input": false,
  "kernelspec": {
   "display_name": "Python 3",
   "language": "python",
   "name": "python3"
  },
  "language_info": {
   "codemirror_mode": {
    "name": "ipython",
    "version": 3
   },
   "file_extension": ".py",
   "mimetype": "text/x-python",
   "name": "python",
   "nbconvert_exporter": "python",
   "pygments_lexer": "ipython3",
   "version": "3.7.0"
  },
  "toc": {
   "base_numbering": 1,
   "nav_menu": {},
   "number_sections": true,
   "sideBar": true,
   "skip_h1_title": false,
   "title_cell": "Table of Contents",
   "title_sidebar": "Contents",
   "toc_cell": false,
   "toc_position": {},
   "toc_section_display": true,
   "toc_window_display": false
  },
  "varInspector": {
   "cols": {
    "lenName": 16,
    "lenType": 16,
    "lenVar": 40
   },
   "kernels_config": {
    "python": {
     "delete_cmd_postfix": "",
     "delete_cmd_prefix": "del ",
     "library": "var_list.py",
     "varRefreshCmd": "print(var_dic_list())"
    },
    "r": {
     "delete_cmd_postfix": ") ",
     "delete_cmd_prefix": "rm(",
     "library": "var_list.r",
     "varRefreshCmd": "cat(var_dic_list()) "
    }
   },
   "types_to_exclude": [
    "module",
    "function",
    "builtin_function_or_method",
    "instance",
    "_Feature"
   ],
   "window_display": false
  }
 },
 "nbformat": 4,
 "nbformat_minor": 2
}
