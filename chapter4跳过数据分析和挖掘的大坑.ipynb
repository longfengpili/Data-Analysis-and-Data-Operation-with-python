{
 "cells": [
  {
   "cell_type": "markdown",
   "metadata": {},
   "source": [
    "# 聚类"
   ]
  },
  {
   "cell_type": "code",
   "execution_count": 1,
   "metadata": {
    "ExecuteTime": {
     "end_time": "2019-01-08T00:47:44.361619Z",
     "start_time": "2019-01-08T00:47:44.357650Z"
    }
   },
   "outputs": [],
   "source": [
    "from sklearn.cluster import KMeans\n",
    "from sklearn import metrics"
   ]
  },
  {
   "cell_type": "code",
   "execution_count": 4,
   "metadata": {
    "ExecuteTime": {
     "end_time": "2019-01-08T00:49:07.209711Z",
     "start_time": "2019-01-08T00:49:07.193586Z"
    }
   },
   "outputs": [
    {
     "data": {
      "text/plain": [
       "array([[ 0.58057881,  0.43199283],\n",
       "       [ 1.70562094,  1.16006288],\n",
       "       [ 0.8016818 , -0.51336891],\n",
       "       [-0.15328359, -1.64435136],\n",
       "       [ 0.70765057, -1.65668129]])"
      ]
     },
     "execution_count": 4,
     "metadata": {},
     "output_type": "execute_result"
    },
    {
     "data": {
      "text/plain": [
       "array([0., 0., 2., 1., 2.])"
      ]
     },
     "execution_count": 4,
     "metadata": {},
     "output_type": "execute_result"
    }
   ],
   "source": [
    "raw_data = np.loadtxt('./datacode_for_book/chapter4/cluster.txt')\n",
    "x = raw_data[:,:-1]\n",
    "y_true = raw_data[:,-1]\n",
    "x[:5]\n",
    "y_true[:5]"
   ]
  },
  {
   "cell_type": "code",
   "execution_count": 5,
   "metadata": {
    "ExecuteTime": {
     "end_time": "2019-01-08T00:51:03.150768Z",
     "start_time": "2019-01-08T00:51:02.946931Z"
    }
   },
   "outputs": [
    {
     "data": {
      "text/plain": [
       "KMeans(algorithm='auto', copy_x=True, init='k-means++', max_iter=300,\n",
       "    n_clusters=3, n_init=10, n_jobs=None, precompute_distances='auto',\n",
       "    random_state=0, tol=0.0001, verbose=0)"
      ]
     },
     "execution_count": 5,
     "metadata": {},
     "output_type": "execute_result"
    },
    {
     "data": {
      "text/plain": [
       "array([1, 1, 2, 0, 2])"
      ]
     },
     "execution_count": 5,
     "metadata": {},
     "output_type": "execute_result"
    }
   ],
   "source": [
    "n_clusters = 3\n",
    "model_kmeans = KMeans(n_clusters=n_clusters,random_state=0)\n",
    "model_kmeans.fit(x)\n",
    "y_predict = model_kmeans.predict(x)\n",
    "y_predict[:5]"
   ]
  },
  {
   "cell_type": "code",
   "execution_count": 16,
   "metadata": {
    "ExecuteTime": {
     "end_time": "2019-01-08T00:56:38.103033Z",
     "start_time": "2019-01-08T00:56:38.044913Z"
    }
   },
   "outputs": [
    {
     "data": {
      "text/plain": [
       "300.1262936093466"
      ]
     },
     "execution_count": 16,
     "metadata": {},
     "output_type": "execute_result"
    },
    {
     "data": {
      "text/plain": [
       "0.9642890803276076"
      ]
     },
     "execution_count": 16,
     "metadata": {},
     "output_type": "execute_result"
    },
    {
     "data": {
      "text/plain": [
       "1.0310595406681184"
      ]
     },
     "execution_count": 16,
     "metadata": {},
     "output_type": "execute_result"
    },
    {
     "name": "stderr",
     "output_type": "stream",
     "text": [
      "f:\\ProgramData\\Anaconda3\\envs\\normal\\lib\\site-packages\\sklearn\\metrics\\cluster\\supervised.py:732: FutureWarning: The behavior of AMI will change in version 0.22. To match the behavior of 'v_measure_score', AMI will use average_method='arithmetic' by default.\n",
      "  FutureWarning)\n"
     ]
    },
    {
     "data": {
      "text/plain": [
       "0.938399249349474"
      ]
     },
     "execution_count": 16,
     "metadata": {},
     "output_type": "execute_result"
    },
    {
     "data": {
      "text/plain": [
       "0.9385116928897981"
      ]
     },
     "execution_count": 16,
     "metadata": {},
     "output_type": "execute_result"
    },
    {
     "data": {
      "text/plain": [
       "0.9385372785555511"
      ]
     },
     "execution_count": 16,
     "metadata": {},
     "output_type": "execute_result"
    },
    {
     "data": {
      "text/plain": [
       "0.938524485548298"
      ]
     },
     "execution_count": 16,
     "metadata": {},
     "output_type": "execute_result"
    },
    {
     "data": {
      "text/plain": [
       "0.6342086134083013"
      ]
     },
     "execution_count": 16,
     "metadata": {},
     "output_type": "execute_result"
    },
    {
     "data": {
      "text/plain": [
       "2860.8215946947635"
      ]
     },
     "execution_count": 16,
     "metadata": {},
     "output_type": "execute_result"
    }
   ],
   "source": [
    "#模型效果评估\n",
    "n_samples,n_features = x.shape\n",
    "inertias = model_kmeans.inertia_  # 样本距离最近的聚类中心的总和\n",
    "inertias\n",
    "adjusted_rand_s = metrics.adjusted_rand_score(y_true, y_predict)  # 调整后的兰德指数\n",
    "adjusted_rand_s\n",
    "mutual_info_s = metrics.mutual_info_score(y_true, y_predict)  # 互信息\n",
    "mutual_info_s\n",
    "adjusted_mutual_info_s = metrics.adjusted_mutual_info_score(y_true, y_predict)  # 调整后的互信息\n",
    "adjusted_mutual_info_s\n",
    "homogeneity_s = metrics.homogeneity_score(y_true, y_predict)  # 同质化得分\n",
    "homogeneity_s\n",
    "completeness_s = metrics.completeness_score(y_true, y_predict)  # 完整性得分\n",
    "completeness_s\n",
    "v_measure_s = metrics.v_measure_score(y_true, y_predict)  # V-measure得分\n",
    "v_measure_s\n",
    "silhouette_s = metrics.silhouette_score(x, y_predict, metric='euclidean')  # 平均轮廓系数\n",
    "silhouette_s\n",
    "calinski_harabaz_s = metrics.calinski_harabaz_score(x, y_predict)  # Calinski和Harabaz得分\n",
    "calinski_harabaz_s"
   ]
  },
  {
   "cell_type": "code",
   "execution_count": 17,
   "metadata": {
    "ExecuteTime": {
     "end_time": "2019-01-08T00:57:33.236320Z",
     "start_time": "2019-01-08T00:57:33.229677Z"
    }
   },
   "outputs": [
    {
     "name": "stdout",
     "output_type": "stream",
     "text": [
      "samples: 1000 \t features: 2\n",
      "----------------------------------------------------------------------\n",
      "ine\tARI\tMI\tAMI\thomo\tcomp\tv_m\tsilh\tc&h\n",
      "300\t0.96\t1.03\t0.94\t0.94\t0.94\t0.94\t0.63\t2860\n",
      "----------------------------------------------------------------------\n",
      "short name \t full name\n",
      "ine \t inertias\n",
      "ARI \t adjusted_rand_s\n",
      "MI \t mutual_info_s\n",
      "AMI \t adjusted_mutual_info_s\n",
      "homo \t homogeneity_s\n",
      "comp \t completeness_s\n",
      "v_m \t v_measure_s\n",
      "silh \t silhouette_s\n",
      "c&h \t calinski_harabaz_s\n"
     ]
    }
   ],
   "source": [
    "print ('samples: %d \\t features: %d' % (n_samples, n_features))  # 打印输出样本量和特征数量\n",
    "print (70 * '-')  # 打印分隔线\n",
    "print ('ine\\tARI\\tMI\\tAMI\\thomo\\tcomp\\tv_m\\tsilh\\tc&h')  # 打印输出指标标题\n",
    "print ('%d\\t%.2f\\t%.2f\\t%.2f\\t%.2f\\t%.2f\\t%.2f\\t%.2f\\t%d' % (\n",
    "inertias, adjusted_rand_s, mutual_info_s, adjusted_mutual_info_s, homogeneity_s, completeness_s, v_measure_s,\n",
    "silhouette_s, calinski_harabaz_s))  # 打印输出指标值\n",
    "print (70 * '-')  # 打印分隔线\n",
    "print ('short name \\t full name')  # 打印输出缩写和全名标题\n",
    "print ('ine \\t inertias')\n",
    "print ('ARI \\t adjusted_rand_s')\n",
    "print ('MI \\t mutual_info_s')\n",
    "print ('AMI \\t adjusted_mutual_info_s')\n",
    "print ('homo \\t homogeneity_s')\n",
    "print ('comp \\t completeness_s')\n",
    "print ('v_m \\t v_measure_s')\n",
    "print ('silh \\t silhouette_s')\n",
    "print ('c&h \\t calinski_harabaz_s')"
   ]
  },
  {
   "cell_type": "code",
   "execution_count": 21,
   "metadata": {
    "ExecuteTime": {
     "end_time": "2019-01-08T01:02:18.513380Z",
     "start_time": "2019-01-08T01:02:18.347940Z"
    }
   },
   "outputs": [
    {
     "data": {
      "text/plain": [
       "<Figure size 1152x576 with 0 Axes>"
      ]
     },
     "execution_count": 21,
     "metadata": {},
     "output_type": "execute_result"
    },
    {
     "data": {
      "text/plain": [
       "<matplotlib.collections.PathCollection at 0x1e177b32eb8>"
      ]
     },
     "execution_count": 21,
     "metadata": {},
     "output_type": "execute_result"
    },
    {
     "data": {
      "text/plain": [
       "[<matplotlib.lines.Line2D at 0x1e177b2e198>]"
      ]
     },
     "execution_count": 21,
     "metadata": {},
     "output_type": "execute_result"
    },
    {
     "data": {
      "text/plain": [
       "<matplotlib.collections.PathCollection at 0x1e177b2e7b8>"
      ]
     },
     "execution_count": 21,
     "metadata": {},
     "output_type": "execute_result"
    },
    {
     "data": {
      "text/plain": [
       "[<matplotlib.lines.Line2D at 0x1e177b2ea58>]"
      ]
     },
     "execution_count": 21,
     "metadata": {},
     "output_type": "execute_result"
    },
    {
     "data": {
      "text/plain": [
       "<matplotlib.collections.PathCollection at 0x1e177b2ee80>"
      ]
     },
     "execution_count": 21,
     "metadata": {},
     "output_type": "execute_result"
    },
    {
     "data": {
      "text/plain": [
       "[<matplotlib.lines.Line2D at 0x1e177b2ef28>]"
      ]
     },
     "execution_count": 21,
     "metadata": {},
     "output_type": "execute_result"
    },
    {
     "data": {
      "image/png": "[encoded data removed]",
      "text/plain": [
       "<Figure size 1152x576 with 1 Axes>"
      ]
     },
     "metadata": {
      "needs_background": "light"
     },
     "output_type": "display_data"
    }
   ],
   "source": [
    "# 模型效果可视化\n",
    "centers = model_kmeans.cluster_centers_  # 各类别中心\n",
    "colors = ['#4EACC5', '#FF9C34', '#4E9A06']  # 设置不同类别的颜色\n",
    "plt.figure(figsize=(16,8))  # 建立画布\n",
    "for i in range(n_clusters):  # 循环读类别\n",
    "    index_sets = np.where(y_predict == i)  # 找到相同类的索引集合\n",
    "    cluster = x[index_sets]  # 将相同类的数据划分为一个聚类子集\n",
    "    plt.scatter(cluster[:, 0], cluster[:, 1], c=colors[i], marker='.')  # 展示聚类子集内的样本点\n",
    "    plt.plot(centers[i][0], centers[i][1], 'o', markerfacecolor=colors[i], markeredgecolor='k',\n",
    "             markersize=10)  # 展示各聚类子集的中心\n",
    "plt.show()  # 展示图像"
   ]
  },
  {
   "cell_type": "code",
   "execution_count": 22,
   "metadata": {
    "ExecuteTime": {
     "end_time": "2019-01-08T01:02:41.860297Z",
     "start_time": "2019-01-08T01:02:41.855310Z"
    }
   },
   "outputs": [
    {
     "name": "stdout",
     "output_type": "stream",
     "text": [
      "cluster of new data point is: 1\n"
     ]
    }
   ],
   "source": [
    "# 模型应用\n",
    "new_X = [1, 3.6]\n",
    "cluster_label = model_kmeans.predict(np.array(new_X).reshape(1,-1))\n",
    "print ('cluster of new data point is: %d' % cluster_label)"
   ]
  },
  {
   "cell_type": "code",
   "execution_count": 25,
   "metadata": {
    "ExecuteTime": {
     "end_time": "2019-01-08T01:07:09.944109Z",
     "start_time": "2019-01-08T01:07:09.938099Z"
    }
   },
   "outputs": [
    {
     "data": {
      "text/plain": [
       "KMeans(algorithm='auto', copy_x=True, init='k-means++', max_iter=300,\n",
       "    n_clusters=3, n_init=10, n_jobs=None, precompute_distances='auto',\n",
       "    random_state=0, tol=0.0001, verbose=0)"
      ]
     },
     "execution_count": 25,
     "metadata": {},
     "output_type": "execute_result"
    }
   ],
   "source": [
    "#保存模型\n",
    "import pickle\n",
    "pickle.dump(model_kmeans,open('./kmeans_model.model','wb'))\n",
    "pickle.load(open('./kmeans_model.model','rb'))"
   ]
  },
  {
   "cell_type": "code",
   "execution_count": null,
   "metadata": {},
   "outputs": [],
   "source": []
  }
 ],
 "metadata": {
  "hide_input": false,
  "kernelspec": {
   "display_name": "Python 3",
   "language": "python",
   "name": "python3"
  },
  "language_info": {
   "codemirror_mode": {
    "name": "ipython",
    "version": 3
   },
   "file_extension": ".py",
   "mimetype": "text/x-python",
   "name": "python",
   "nbconvert_exporter": "python",
   "pygments_lexer": "ipython3",
   "version": "3.7.0"
  },
  "toc": {
   "base_numbering": 1,
   "nav_menu": {},
   "number_sections": true,
   "sideBar": true,
   "skip_h1_title": false,
   "title_cell": "Table of Contents",
   "title_sidebar": "Contents",
   "toc_cell": false,
   "toc_position": {},
   "toc_section_display": true,
   "toc_window_display": false
  },
  "varInspector": {
   "cols": {
    "lenName": 16,
    "lenType": 16,
    "lenVar": 40
   },
   "kernels_config": {
    "python": {
     "delete_cmd_postfix": "",
     "delete_cmd_prefix": "del ",
     "library": "var_list.py",
     "varRefreshCmd": "print(var_dic_list())"
    },
    "r": {
     "delete_cmd_postfix": ") ",
     "delete_cmd_prefix": "rm(",
     "library": "var_list.r",
     "varRefreshCmd": "cat(var_dic_list()) "
    }
   },
   "types_to_exclude": [
    "module",
    "function",
    "builtin_function_or_method",
    "instance",
    "_Feature"
   ],
   "window_display": false
  }
 },
 "nbformat": 4,
 "nbformat_minor": 2
}
