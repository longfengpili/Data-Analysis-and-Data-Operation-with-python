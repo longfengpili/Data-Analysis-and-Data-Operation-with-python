{
 "cells": [
  {
   "cell_type": "markdown",
   "metadata": {},
   "source": [
    "# 基于RFM的用户价值分析"
   ]
  },
  {
   "cell_type": "code",
   "execution_count": 1,
   "metadata": {
    "ExecuteTime": {
     "end_time": "2019-02-19T00:04:08.053390Z",
     "start_time": "2019-02-19T00:04:07.872144Z"
    }
   },
   "outputs": [
    {
     "data": {
      "text/html": [
       "<div>\n",
       "<style scoped>\n",
       "    .dataframe tbody tr th:only-of-type {\n",
       "        vertical-align: middle;\n",
       "    }\n",
       "\n",
       "    .dataframe tbody tr th {\n",
       "        vertical-align: top;\n",
       "    }\n",
       "\n",
       "    .dataframe thead th {\n",
       "        text-align: right;\n",
       "    }\n",
       "</style>\n",
       "<table border=\"1\" class=\"dataframe\">\n",
       "  <thead>\n",
       "    <tr style=\"text-align: right;\">\n",
       "      <th></th>\n",
       "      <th>USERID</th>\n",
       "      <th>ORDERDATE</th>\n",
       "      <th>ORDERID</th>\n",
       "      <th>AMOUNTINFO</th>\n",
       "    </tr>\n",
       "  </thead>\n",
       "  <tbody>\n",
       "    <tr>\n",
       "      <th>0</th>\n",
       "      <td>142074</td>\n",
       "      <td>2016-01-01</td>\n",
       "      <td>4196439032</td>\n",
       "      <td>9399.0</td>\n",
       "    </tr>\n",
       "    <tr>\n",
       "      <th>1</th>\n",
       "      <td>56927</td>\n",
       "      <td>2016-01-01</td>\n",
       "      <td>4198324983</td>\n",
       "      <td>8799.0</td>\n",
       "    </tr>\n",
       "    <tr>\n",
       "      <th>2</th>\n",
       "      <td>87058</td>\n",
       "      <td>2016-01-01</td>\n",
       "      <td>4191287379</td>\n",
       "      <td>6899.0</td>\n",
       "    </tr>\n",
       "    <tr>\n",
       "      <th>3</th>\n",
       "      <td>136104</td>\n",
       "      <td>2016-01-01</td>\n",
       "      <td>4198508313</td>\n",
       "      <td>5999.0</td>\n",
       "    </tr>\n",
       "    <tr>\n",
       "      <th>4</th>\n",
       "      <td>117831</td>\n",
       "      <td>2016-01-01</td>\n",
       "      <td>4202238313</td>\n",
       "      <td>5399.0</td>\n",
       "    </tr>\n",
       "  </tbody>\n",
       "</table>\n",
       "</div>"
      ],
      "text/plain": [
       "   USERID   ORDERDATE     ORDERID  AMOUNTINFO\n",
       "0  142074  2016-01-01  4196439032      9399.0\n",
       "1   56927  2016-01-01  4198324983      8799.0\n",
       "2   87058  2016-01-01  4191287379      6899.0\n",
       "3  136104  2016-01-01  4198508313      5999.0\n",
       "4  117831  2016-01-01  4202238313      5399.0"
      ]
     },
     "execution_count": 1,
     "metadata": {},
     "output_type": "execute_result"
    }
   ],
   "source": [
    "with open('./datacode_for_book/chapter5/sales.csv','r',encoding='utf-8') as f:\n",
    "    data = pd.read_csv(f)\n",
    "   \n",
    "\n",
    "data['ORDERID'] = data['ORDERID'].astype('object')\n",
    "data['USERID'] = data['USERID'].astype('object')\n",
    "data[:5]"
   ]
  },
  {
   "cell_type": "code",
   "execution_count": 2,
   "metadata": {
    "ExecuteTime": {
     "end_time": "2019-02-19T00:04:08.178115Z",
     "start_time": "2019-02-19T00:04:08.055412Z"
    }
   },
   "outputs": [
    {
     "data": {
      "text/html": [
       "<div>\n",
       "<style scoped>\n",
       "    .dataframe tbody tr th:only-of-type {\n",
       "        vertical-align: middle;\n",
       "    }\n",
       "\n",
       "    .dataframe tbody tr th {\n",
       "        vertical-align: top;\n",
       "    }\n",
       "\n",
       "    .dataframe thead th {\n",
       "        text-align: right;\n",
       "    }\n",
       "</style>\n",
       "<table border=\"1\" class=\"dataframe\">\n",
       "  <thead>\n",
       "    <tr style=\"text-align: right;\">\n",
       "      <th></th>\n",
       "      <th>USERID</th>\n",
       "      <th>ORDERDATE</th>\n",
       "      <th>ORDERID</th>\n",
       "      <th>AMOUNTINFO</th>\n",
       "    </tr>\n",
       "  </thead>\n",
       "  <tbody>\n",
       "    <tr>\n",
       "      <th>count</th>\n",
       "      <td>86135.0</td>\n",
       "      <td>86133</td>\n",
       "      <td>8.613500e+04</td>\n",
       "      <td>86127.000000</td>\n",
       "    </tr>\n",
       "    <tr>\n",
       "      <th>unique</th>\n",
       "      <td>60503.0</td>\n",
       "      <td>347</td>\n",
       "      <td>7.605000e+04</td>\n",
       "      <td>NaN</td>\n",
       "    </tr>\n",
       "    <tr>\n",
       "      <th>top</th>\n",
       "      <td>74270.0</td>\n",
       "      <td>2016-04-18</td>\n",
       "      <td>3.945060e+09</td>\n",
       "      <td>NaN</td>\n",
       "    </tr>\n",
       "    <tr>\n",
       "      <th>freq</th>\n",
       "      <td>14.0</td>\n",
       "      <td>300</td>\n",
       "      <td>1.300000e+01</td>\n",
       "      <td>NaN</td>\n",
       "    </tr>\n",
       "    <tr>\n",
       "      <th>mean</th>\n",
       "      <td>NaN</td>\n",
       "      <td>NaN</td>\n",
       "      <td>NaN</td>\n",
       "      <td>744.705249</td>\n",
       "    </tr>\n",
       "    <tr>\n",
       "      <th>std</th>\n",
       "      <td>NaN</td>\n",
       "      <td>NaN</td>\n",
       "      <td>NaN</td>\n",
       "      <td>1425.211176</td>\n",
       "    </tr>\n",
       "    <tr>\n",
       "      <th>min</th>\n",
       "      <td>NaN</td>\n",
       "      <td>NaN</td>\n",
       "      <td>NaN</td>\n",
       "      <td>0.500000</td>\n",
       "    </tr>\n",
       "    <tr>\n",
       "      <th>25%</th>\n",
       "      <td>NaN</td>\n",
       "      <td>NaN</td>\n",
       "      <td>NaN</td>\n",
       "      <td>13.000000</td>\n",
       "    </tr>\n",
       "    <tr>\n",
       "      <th>50%</th>\n",
       "      <td>NaN</td>\n",
       "      <td>NaN</td>\n",
       "      <td>NaN</td>\n",
       "      <td>59.000000</td>\n",
       "    </tr>\n",
       "    <tr>\n",
       "      <th>75%</th>\n",
       "      <td>NaN</td>\n",
       "      <td>NaN</td>\n",
       "      <td>NaN</td>\n",
       "      <td>629.000000</td>\n",
       "    </tr>\n",
       "    <tr>\n",
       "      <th>max</th>\n",
       "      <td>NaN</td>\n",
       "      <td>NaN</td>\n",
       "      <td>NaN</td>\n",
       "      <td>30999.000000</td>\n",
       "    </tr>\n",
       "  </tbody>\n",
       "</table>\n",
       "</div>"
      ],
      "text/plain": [
       "         USERID   ORDERDATE       ORDERID    AMOUNTINFO\n",
       "count   86135.0       86133  8.613500e+04  86127.000000\n",
       "unique  60503.0         347  7.605000e+04           NaN\n",
       "top     74270.0  2016-04-18  3.945060e+09           NaN\n",
       "freq       14.0         300  1.300000e+01           NaN\n",
       "mean        NaN         NaN           NaN    744.705249\n",
       "std         NaN         NaN           NaN   1425.211176\n",
       "min         NaN         NaN           NaN      0.500000\n",
       "25%         NaN         NaN           NaN     13.000000\n",
       "50%         NaN         NaN           NaN     59.000000\n",
       "75%         NaN         NaN           NaN    629.000000\n",
       "max         NaN         NaN           NaN  30999.000000"
      ]
     },
     "execution_count": 2,
     "metadata": {},
     "output_type": "execute_result"
    }
   ],
   "source": [
    "data.describe(include='all')"
   ]
  },
  {
   "cell_type": "code",
   "execution_count": 3,
   "metadata": {
    "ExecuteTime": {
     "end_time": "2019-02-19T00:04:08.212112Z",
     "start_time": "2019-02-19T00:04:08.180109Z"
    }
   },
   "outputs": [
    {
     "data": {
      "text/plain": [
       "USERID        False\n",
       "ORDERDATE      True\n",
       "ORDERID       False\n",
       "AMOUNTINFO     True\n",
       "dtype: bool"
      ]
     },
     "execution_count": 3,
     "metadata": {},
     "output_type": "execute_result"
    }
   ],
   "source": [
    "data.isnull().any(axis=0)"
   ]
  },
  {
   "cell_type": "code",
   "execution_count": 4,
   "metadata": {
    "ExecuteTime": {
     "end_time": "2019-02-19T00:04:08.247989Z",
     "start_time": "2019-02-19T00:04:08.214081Z"
    }
   },
   "outputs": [
    {
     "data": {
      "text/html": [
       "<div>\n",
       "<style scoped>\n",
       "    .dataframe tbody tr th:only-of-type {\n",
       "        vertical-align: middle;\n",
       "    }\n",
       "\n",
       "    .dataframe tbody tr th {\n",
       "        vertical-align: top;\n",
       "    }\n",
       "\n",
       "    .dataframe thead th {\n",
       "        text-align: right;\n",
       "    }\n",
       "</style>\n",
       "<table border=\"1\" class=\"dataframe\">\n",
       "  <thead>\n",
       "    <tr style=\"text-align: right;\">\n",
       "      <th></th>\n",
       "      <th>USERID</th>\n",
       "      <th>ORDERDATE</th>\n",
       "      <th>ORDERID</th>\n",
       "      <th>AMOUNTINFO</th>\n",
       "    </tr>\n",
       "  </thead>\n",
       "  <tbody>\n",
       "    <tr>\n",
       "      <th>20</th>\n",
       "      <td>75849</td>\n",
       "      <td>2016-01-01</td>\n",
       "      <td>4197103430</td>\n",
       "      <td>NaN</td>\n",
       "    </tr>\n",
       "    <tr>\n",
       "      <th>72</th>\n",
       "      <td>103714</td>\n",
       "      <td>NaN</td>\n",
       "      <td>4136159682</td>\n",
       "      <td>189.0</td>\n",
       "    </tr>\n",
       "    <tr>\n",
       "      <th>114</th>\n",
       "      <td>155209</td>\n",
       "      <td>2016-01-01</td>\n",
       "      <td>4177940815</td>\n",
       "      <td>NaN</td>\n",
       "    </tr>\n",
       "    <tr>\n",
       "      <th>229</th>\n",
       "      <td>139877</td>\n",
       "      <td>NaN</td>\n",
       "      <td>4111956196</td>\n",
       "      <td>6.3</td>\n",
       "    </tr>\n",
       "    <tr>\n",
       "      <th>233</th>\n",
       "      <td>54599</td>\n",
       "      <td>2016-01-01</td>\n",
       "      <td>4119525205</td>\n",
       "      <td>NaN</td>\n",
       "    </tr>\n",
       "    <tr>\n",
       "      <th>260</th>\n",
       "      <td>65456</td>\n",
       "      <td>2016-01-02</td>\n",
       "      <td>4195643356</td>\n",
       "      <td>NaN</td>\n",
       "    </tr>\n",
       "    <tr>\n",
       "      <th>62134</th>\n",
       "      <td>122134</td>\n",
       "      <td>2016-09-21</td>\n",
       "      <td>3826649773</td>\n",
       "      <td>NaN</td>\n",
       "    </tr>\n",
       "    <tr>\n",
       "      <th>70342</th>\n",
       "      <td>116995</td>\n",
       "      <td>2016-10-24</td>\n",
       "      <td>3981569421</td>\n",
       "      <td>NaN</td>\n",
       "    </tr>\n",
       "    <tr>\n",
       "      <th>80110</th>\n",
       "      <td>98888</td>\n",
       "      <td>2016-12-06</td>\n",
       "      <td>3814398698</td>\n",
       "      <td>NaN</td>\n",
       "    </tr>\n",
       "    <tr>\n",
       "      <th>86069</th>\n",
       "      <td>145951</td>\n",
       "      <td>2016-12-29</td>\n",
       "      <td>4139830098</td>\n",
       "      <td>NaN</td>\n",
       "    </tr>\n",
       "  </tbody>\n",
       "</table>\n",
       "</div>"
      ],
      "text/plain": [
       "       USERID   ORDERDATE     ORDERID  AMOUNTINFO\n",
       "20      75849  2016-01-01  4197103430         NaN\n",
       "72     103714         NaN  4136159682       189.0\n",
       "114    155209  2016-01-01  4177940815         NaN\n",
       "229    139877         NaN  4111956196         6.3\n",
       "233     54599  2016-01-01  4119525205         NaN\n",
       "260     65456  2016-01-02  4195643356         NaN\n",
       "62134  122134  2016-09-21  3826649773         NaN\n",
       "70342  116995  2016-10-24  3981569421         NaN\n",
       "80110   98888  2016-12-06  3814398698         NaN\n",
       "86069  145951  2016-12-29  4139830098         NaN"
      ]
     },
     "execution_count": 4,
     "metadata": {},
     "output_type": "execute_result"
    }
   ],
   "source": [
    "data[data.isnull().any(axis=1)]"
   ]
  },
  {
   "cell_type": "code",
   "execution_count": 5,
   "metadata": {
    "ExecuteTime": {
     "end_time": "2019-02-19T00:04:08.291872Z",
     "start_time": "2019-02-19T00:04:08.249985Z"
    }
   },
   "outputs": [
    {
     "data": {
      "text/html": [
       "<div>\n",
       "<style scoped>\n",
       "    .dataframe tbody tr th:only-of-type {\n",
       "        vertical-align: middle;\n",
       "    }\n",
       "\n",
       "    .dataframe tbody tr th {\n",
       "        vertical-align: top;\n",
       "    }\n",
       "\n",
       "    .dataframe thead th {\n",
       "        text-align: right;\n",
       "    }\n",
       "</style>\n",
       "<table border=\"1\" class=\"dataframe\">\n",
       "  <thead>\n",
       "    <tr style=\"text-align: right;\">\n",
       "      <th></th>\n",
       "      <th>USERID</th>\n",
       "      <th>ORDERDATE</th>\n",
       "      <th>ORDERID</th>\n",
       "      <th>AMOUNTINFO</th>\n",
       "    </tr>\n",
       "  </thead>\n",
       "  <tbody>\n",
       "    <tr>\n",
       "      <th>0</th>\n",
       "      <td>142074</td>\n",
       "      <td>2016-01-01</td>\n",
       "      <td>4196439032</td>\n",
       "      <td>9399.0</td>\n",
       "    </tr>\n",
       "    <tr>\n",
       "      <th>1</th>\n",
       "      <td>56927</td>\n",
       "      <td>2016-01-01</td>\n",
       "      <td>4198324983</td>\n",
       "      <td>8799.0</td>\n",
       "    </tr>\n",
       "    <tr>\n",
       "      <th>2</th>\n",
       "      <td>87058</td>\n",
       "      <td>2016-01-01</td>\n",
       "      <td>4191287379</td>\n",
       "      <td>6899.0</td>\n",
       "    </tr>\n",
       "  </tbody>\n",
       "</table>\n",
       "</div>"
      ],
      "text/plain": [
       "   USERID   ORDERDATE     ORDERID  AMOUNTINFO\n",
       "0  142074  2016-01-01  4196439032      9399.0\n",
       "1   56927  2016-01-01  4198324983      8799.0\n",
       "2   87058  2016-01-01  4191287379      6899.0"
      ]
     },
     "execution_count": 5,
     "metadata": {},
     "output_type": "execute_result"
    }
   ],
   "source": [
    "#异常值处理\n",
    "data = data.dropna()\n",
    "data = data[data.AMOUNTINFO > 1]\n",
    "data[:3]"
   ]
  },
  {
   "cell_type": "code",
   "execution_count": 6,
   "metadata": {
    "ExecuteTime": {
     "end_time": "2019-02-19T00:04:08.405982Z",
     "start_time": "2019-02-19T00:04:08.293868Z"
    }
   },
   "outputs": [
    {
     "data": {
      "text/plain": [
       "USERID                object\n",
       "ORDERDATE     datetime64[ns]\n",
       "ORDERID               object\n",
       "AMOUNTINFO           float64\n",
       "dtype: object"
      ]
     },
     "execution_count": 6,
     "metadata": {},
     "output_type": "execute_result"
    },
    {
     "data": {
      "text/html": [
       "<div>\n",
       "<style scoped>\n",
       "    .dataframe tbody tr th:only-of-type {\n",
       "        vertical-align: middle;\n",
       "    }\n",
       "\n",
       "    .dataframe tbody tr th {\n",
       "        vertical-align: top;\n",
       "    }\n",
       "\n",
       "    .dataframe thead th {\n",
       "        text-align: right;\n",
       "    }\n",
       "</style>\n",
       "<table border=\"1\" class=\"dataframe\">\n",
       "  <thead>\n",
       "    <tr style=\"text-align: right;\">\n",
       "      <th></th>\n",
       "      <th>USERID</th>\n",
       "      <th>ORDERDATE</th>\n",
       "      <th>ORDERID</th>\n",
       "      <th>AMOUNTINFO</th>\n",
       "    </tr>\n",
       "  </thead>\n",
       "  <tbody>\n",
       "    <tr>\n",
       "      <th>0</th>\n",
       "      <td>142074</td>\n",
       "      <td>2016-01-01</td>\n",
       "      <td>4196439032</td>\n",
       "      <td>9399.0</td>\n",
       "    </tr>\n",
       "    <tr>\n",
       "      <th>1</th>\n",
       "      <td>56927</td>\n",
       "      <td>2016-01-01</td>\n",
       "      <td>4198324983</td>\n",
       "      <td>8799.0</td>\n",
       "    </tr>\n",
       "    <tr>\n",
       "      <th>2</th>\n",
       "      <td>87058</td>\n",
       "      <td>2016-01-01</td>\n",
       "      <td>4191287379</td>\n",
       "      <td>6899.0</td>\n",
       "    </tr>\n",
       "  </tbody>\n",
       "</table>\n",
       "</div>"
      ],
      "text/plain": [
       "   USERID  ORDERDATE     ORDERID  AMOUNTINFO\n",
       "0  142074 2016-01-01  4196439032      9399.0\n",
       "1   56927 2016-01-01  4198324983      8799.0\n",
       "2   87058 2016-01-01  4191287379      6899.0"
      ]
     },
     "execution_count": 6,
     "metadata": {},
     "output_type": "execute_result"
    }
   ],
   "source": [
    "data['ORDERDATE'] = pd.to_datetime(data['ORDERDATE'],format='%Y-%m-%d')\n",
    "data.dtypes\n",
    "data[:3]"
   ]
  },
  {
   "cell_type": "code",
   "execution_count": 7,
   "metadata": {
    "ExecuteTime": {
     "end_time": "2019-02-19T00:04:08.747400Z",
     "start_time": "2019-02-19T00:04:08.408974Z"
    }
   },
   "outputs": [
    {
     "data": {
      "text/html": [
       "<div>\n",
       "<style scoped>\n",
       "    .dataframe tbody tr th:only-of-type {\n",
       "        vertical-align: middle;\n",
       "    }\n",
       "\n",
       "    .dataframe tbody tr th {\n",
       "        vertical-align: top;\n",
       "    }\n",
       "\n",
       "    .dataframe thead th {\n",
       "        text-align: right;\n",
       "    }\n",
       "</style>\n",
       "<table border=\"1\" class=\"dataframe\">\n",
       "  <thead>\n",
       "    <tr style=\"text-align: right;\">\n",
       "      <th></th>\n",
       "      <th>USERID</th>\n",
       "      <th>recency</th>\n",
       "      <th>frequency</th>\n",
       "      <th>monetary</th>\n",
       "    </tr>\n",
       "  </thead>\n",
       "  <tbody>\n",
       "    <tr>\n",
       "      <th>0</th>\n",
       "      <td>51220</td>\n",
       "      <td>2016-09-20</td>\n",
       "      <td>2</td>\n",
       "      <td>151.9</td>\n",
       "    </tr>\n",
       "    <tr>\n",
       "      <th>1</th>\n",
       "      <td>51221</td>\n",
       "      <td>2016-05-16</td>\n",
       "      <td>1</td>\n",
       "      <td>29.9</td>\n",
       "    </tr>\n",
       "    <tr>\n",
       "      <th>2</th>\n",
       "      <td>51224</td>\n",
       "      <td>2016-07-24</td>\n",
       "      <td>2</td>\n",
       "      <td>12.9</td>\n",
       "    </tr>\n",
       "  </tbody>\n",
       "</table>\n",
       "</div>"
      ],
      "text/plain": [
       "   USERID    recency  frequency  monetary\n",
       "0   51220 2016-09-20          2     151.9\n",
       "1   51221 2016-05-16          1      29.9\n",
       "2   51224 2016-07-24          2      12.9"
      ]
     },
     "execution_count": 7,
     "metadata": {},
     "output_type": "execute_result"
    }
   ],
   "source": [
    "#数据转化 RFM\n",
    "data = data.groupby('USERID').agg({'ORDERDATE':'max','AMOUNTINFO':('count','sum')})\n",
    "data.columns = ['recency','frequency','monetary']\n",
    "data = data.reset_index()\n",
    "data[:3]"
   ]
  },
  {
   "cell_type": "code",
   "execution_count": 42,
   "metadata": {
    "ExecuteTime": {
     "end_time": "2019-02-19T00:28:33.940168Z",
     "start_time": "2019-02-19T00:28:33.913179Z"
    }
   },
   "outputs": [
    {
     "data": {
      "text/html": [
       "<div>\n",
       "<style scoped>\n",
       "    .dataframe tbody tr th:only-of-type {\n",
       "        vertical-align: middle;\n",
       "    }\n",
       "\n",
       "    .dataframe tbody tr th {\n",
       "        vertical-align: top;\n",
       "    }\n",
       "\n",
       "    .dataframe thead th {\n",
       "        text-align: right;\n",
       "    }\n",
       "</style>\n",
       "<table border=\"1\" class=\"dataframe\">\n",
       "  <thead>\n",
       "    <tr style=\"text-align: right;\">\n",
       "      <th></th>\n",
       "      <th>USERID</th>\n",
       "      <th>recency</th>\n",
       "      <th>frequency</th>\n",
       "      <th>monetary</th>\n",
       "      <th>r_score</th>\n",
       "      <th>f_score</th>\n",
       "      <th>m_score</th>\n",
       "    </tr>\n",
       "  </thead>\n",
       "  <tbody>\n",
       "    <tr>\n",
       "      <th>0</th>\n",
       "      <td>51220</td>\n",
       "      <td>2016-09-20</td>\n",
       "      <td>2</td>\n",
       "      <td>151.9</td>\n",
       "      <td>4</td>\n",
       "      <td>1</td>\n",
       "      <td>1</td>\n",
       "    </tr>\n",
       "    <tr>\n",
       "      <th>1</th>\n",
       "      <td>51221</td>\n",
       "      <td>2016-05-16</td>\n",
       "      <td>1</td>\n",
       "      <td>29.9</td>\n",
       "      <td>2</td>\n",
       "      <td>1</td>\n",
       "      <td>1</td>\n",
       "    </tr>\n",
       "    <tr>\n",
       "      <th>2</th>\n",
       "      <td>51224</td>\n",
       "      <td>2016-07-24</td>\n",
       "      <td>2</td>\n",
       "      <td>12.9</td>\n",
       "      <td>3</td>\n",
       "      <td>1</td>\n",
       "      <td>1</td>\n",
       "    </tr>\n",
       "  </tbody>\n",
       "</table>\n",
       "</div>"
      ],
      "text/plain": [
       "   USERID    recency  frequency  monetary  r_score  f_score  m_score\n",
       "0   51220 2016-09-20          2     151.9        4        1        1\n",
       "1   51221 2016-05-16          1      29.9        2        1        1\n",
       "2   51224 2016-07-24          2      12.9        3        1        1"
      ]
     },
     "execution_count": 42,
     "metadata": {},
     "output_type": "execute_result"
    }
   ],
   "source": [
    "#计算RFM得分\n",
    "deadline_date = pd.datetime(2017,1,1)\n",
    "r_interval = (deadline_date - data['recency']).dt.days\n",
    "data['r_score'] = pd.cut(r_interval,bins=5,labels=[5,4,3,2,1])\n",
    "data['r_score'] = data['r_score'].astype('int64')\n",
    "data['f_score'] = pd.cut(data['frequency'],bins=5,labels=[1,2,3,4,5])\n",
    "data['f_score'] = data['f_score'].astype('int64')\n",
    "data['m_score'] = pd.cut(data['monetary'],bins=5,labels=[1,2,3,4,5])\n",
    "data['m_score'] = data['m_score'].astype('int64')\n",
    "data[:3]"
   ]
  },
  {
   "cell_type": "code",
   "execution_count": 49,
   "metadata": {
    "ExecuteTime": {
     "end_time": "2019-02-19T00:30:45.742607Z",
     "start_time": "2019-02-19T00:30:45.592068Z"
    }
   },
   "outputs": [
    {
     "data": {
      "text/html": [
       "<div>\n",
       "<style scoped>\n",
       "    .dataframe tbody tr th:only-of-type {\n",
       "        vertical-align: middle;\n",
       "    }\n",
       "\n",
       "    .dataframe tbody tr th {\n",
       "        vertical-align: top;\n",
       "    }\n",
       "\n",
       "    .dataframe thead th {\n",
       "        text-align: right;\n",
       "    }\n",
       "</style>\n",
       "<table border=\"1\" class=\"dataframe\">\n",
       "  <thead>\n",
       "    <tr style=\"text-align: right;\">\n",
       "      <th></th>\n",
       "      <th>USERID</th>\n",
       "      <th>recency</th>\n",
       "      <th>frequency</th>\n",
       "      <th>monetary</th>\n",
       "      <th>r_score</th>\n",
       "      <th>f_score</th>\n",
       "      <th>m_score</th>\n",
       "      <th>rfm_wsocre</th>\n",
       "      <th>rfm_comb</th>\n",
       "    </tr>\n",
       "  </thead>\n",
       "  <tbody>\n",
       "    <tr>\n",
       "      <th>0</th>\n",
       "      <td>51220</td>\n",
       "      <td>2016-09-20</td>\n",
       "      <td>2</td>\n",
       "      <td>151.9</td>\n",
       "      <td>4</td>\n",
       "      <td>1</td>\n",
       "      <td>1</td>\n",
       "      <td>2.8</td>\n",
       "      <td>411</td>\n",
       "    </tr>\n",
       "    <tr>\n",
       "      <th>1</th>\n",
       "      <td>51221</td>\n",
       "      <td>2016-05-16</td>\n",
       "      <td>1</td>\n",
       "      <td>29.9</td>\n",
       "      <td>2</td>\n",
       "      <td>1</td>\n",
       "      <td>1</td>\n",
       "      <td>1.6</td>\n",
       "      <td>211</td>\n",
       "    </tr>\n",
       "    <tr>\n",
       "      <th>2</th>\n",
       "      <td>51224</td>\n",
       "      <td>2016-07-24</td>\n",
       "      <td>2</td>\n",
       "      <td>12.9</td>\n",
       "      <td>3</td>\n",
       "      <td>1</td>\n",
       "      <td>1</td>\n",
       "      <td>2.2</td>\n",
       "      <td>311</td>\n",
       "    </tr>\n",
       "  </tbody>\n",
       "</table>\n",
       "</div>"
      ],
      "text/plain": [
       "   USERID    recency  frequency  monetary  r_score  f_score  m_score  \\\n",
       "0   51220 2016-09-20          2     151.9        4        1        1   \n",
       "1   51221 2016-05-16          1      29.9        2        1        1   \n",
       "2   51224 2016-07-24          2      12.9        3        1        1   \n",
       "\n",
       "   rfm_wsocre rfm_comb  \n",
       "0         2.8      411  \n",
       "1         1.6      211  \n",
       "2         2.2      311  "
      ]
     },
     "execution_count": 49,
     "metadata": {},
     "output_type": "execute_result"
    }
   ],
   "source": [
    "data['rfm_wsocre'] = data['r_score'] * 0.6 + data['f_score'] * 0.3 + data['m_score'] * 0.1\n",
    "data['rfm_comb'] = data['r_score'].astype('str').str.cat(data['f_score'].astype('str')).str.cat(data['m_score'].astype('str'))\n",
    "data[:3]"
   ]
  },
  {
   "cell_type": "code",
   "execution_count": 56,
   "metadata": {
    "ExecuteTime": {
     "end_time": "2019-02-19T00:37:50.563009Z",
     "start_time": "2019-02-19T00:37:50.550021Z"
    }
   },
   "outputs": [
    {
     "data": {
      "text/plain": [
       "rfm_comb\n",
       "511    15456\n",
       "411    13493\n",
       "311    11020\n",
       "211    10136\n",
       "111     8769\n",
       "521      478\n",
       "421      227\n",
       "321       78\n",
       "221       12\n",
       "412        2\n",
       "121        2\n",
       "555        1\n",
       "322        1\n",
       "212        1\n",
       "Name: rfm_comb, dtype: int64"
      ]
     },
     "execution_count": 56,
     "metadata": {},
     "output_type": "execute_result"
    }
   ],
   "source": [
    "data.groupby(['rfm_comb'])['rfm_comb'].count().sort_values(ascending=False)"
   ]
  },
  {
   "cell_type": "markdown",
   "metadata": {},
   "source": [
    "# 基于AdaBoost的营销响应预测"
   ]
  },
  {
   "cell_type": "code",
   "execution_count": 1,
   "metadata": {
    "ExecuteTime": {
     "end_time": "2019-02-20T00:58:09.133143Z",
     "start_time": "2019-02-20T00:58:08.561313Z"
    }
   },
   "outputs": [],
   "source": [
    "import time  # 导入自带时间库\n",
    "from sklearn.preprocessing import OneHotEncoder  # 导入OneHotEncoder库\n",
    "from sklearn.model_selection import StratifiedKFold, cross_val_score  # 导入交叉检验算法\n",
    "from sklearn.feature_selection import SelectPercentile, f_classif  # 导入特征选择方法库\n",
    "from sklearn.ensemble import AdaBoostClassifier  # 导入集成算法\n",
    "from sklearn.pipeline import Pipeline  # 导入Pipeline库\n",
    "from sklearn.metrics import accuracy_score  # 准确率指标"
   ]
  },
  {
   "cell_type": "code",
   "execution_count": 2,
   "metadata": {
    "ExecuteTime": {
     "end_time": "2019-02-20T00:58:13.744287Z",
     "start_time": "2019-02-20T00:58:09.171503Z"
    }
   },
   "outputs": [
    {
     "data": {
      "text/html": [
       "<div>\n",
       "<style scoped>\n",
       "    .dataframe tbody tr th:only-of-type {\n",
       "        vertical-align: middle;\n",
       "    }\n",
       "\n",
       "    .dataframe tbody tr th {\n",
       "        vertical-align: top;\n",
       "    }\n",
       "\n",
       "    .dataframe thead th {\n",
       "        text-align: right;\n",
       "    }\n",
       "</style>\n",
       "<table border=\"1\" class=\"dataframe\">\n",
       "  <thead>\n",
       "    <tr style=\"text-align: right;\">\n",
       "      <th></th>\n",
       "      <th>age</th>\n",
       "      <th>total_pageviews</th>\n",
       "      <th>edu</th>\n",
       "      <th>edu_ages</th>\n",
       "      <th>user_level</th>\n",
       "      <th>industry</th>\n",
       "      <th>value_level</th>\n",
       "      <th>act_level</th>\n",
       "      <th>sex</th>\n",
       "      <th>blue_money</th>\n",
       "      <th>red_money</th>\n",
       "      <th>work_hours</th>\n",
       "      <th>region</th>\n",
       "      <th>response</th>\n",
       "    </tr>\n",
       "  </thead>\n",
       "  <tbody>\n",
       "    <tr>\n",
       "      <th>0</th>\n",
       "      <td>39.0</td>\n",
       "      <td>77516.0</td>\n",
       "      <td>1.0</td>\n",
       "      <td>13.0</td>\n",
       "      <td>1.0</td>\n",
       "      <td>1.0</td>\n",
       "      <td>1</td>\n",
       "      <td>1.0</td>\n",
       "      <td>1.0</td>\n",
       "      <td>2174</td>\n",
       "      <td>0.0</td>\n",
       "      <td>40</td>\n",
       "      <td>1.0</td>\n",
       "      <td>0</td>\n",
       "    </tr>\n",
       "    <tr>\n",
       "      <th>1</th>\n",
       "      <td>50.0</td>\n",
       "      <td>83311.0</td>\n",
       "      <td>1.0</td>\n",
       "      <td>13.0</td>\n",
       "      <td>2.0</td>\n",
       "      <td>2.0</td>\n",
       "      <td>2</td>\n",
       "      <td>1.0</td>\n",
       "      <td>1.0</td>\n",
       "      <td>0</td>\n",
       "      <td>0.0</td>\n",
       "      <td>13</td>\n",
       "      <td>1.0</td>\n",
       "      <td>0</td>\n",
       "    </tr>\n",
       "    <tr>\n",
       "      <th>2</th>\n",
       "      <td>38.0</td>\n",
       "      <td>215646.0</td>\n",
       "      <td>2.0</td>\n",
       "      <td>9.0</td>\n",
       "      <td>3.0</td>\n",
       "      <td>3.0</td>\n",
       "      <td>1</td>\n",
       "      <td>1.0</td>\n",
       "      <td>1.0</td>\n",
       "      <td>0</td>\n",
       "      <td>0.0</td>\n",
       "      <td>40</td>\n",
       "      <td>1.0</td>\n",
       "      <td>0</td>\n",
       "    </tr>\n",
       "  </tbody>\n",
       "</table>\n",
       "</div>"
      ],
      "text/plain": [
       "    age  total_pageviews  edu  edu_ages  user_level  industry  value_level  \\\n",
       "0  39.0          77516.0  1.0      13.0         1.0       1.0            1   \n",
       "1  50.0          83311.0  1.0      13.0         2.0       2.0            2   \n",
       "2  38.0         215646.0  2.0       9.0         3.0       3.0            1   \n",
       "\n",
       "   act_level  sex  blue_money  red_money  work_hours  region  response  \n",
       "0        1.0  1.0        2174        0.0          40     1.0         0  \n",
       "1        1.0  1.0           0        0.0          13     1.0         0  \n",
       "2        1.0  1.0           0        0.0          40     1.0         0  "
      ]
     },
     "execution_count": 2,
     "metadata": {},
     "output_type": "execute_result"
    }
   ],
   "source": [
    "data = pd.read_excel('./datacode_for_book/chapter5/order.xlsx')\n",
    "data[:3]"
   ]
  },
  {
   "cell_type": "code",
   "execution_count": 3,
   "metadata": {
    "ExecuteTime": {
     "end_time": "2019-02-20T00:58:13.895470Z",
     "start_time": "2019-02-20T00:58:13.871795Z"
    }
   },
   "outputs": [
    {
     "data": {
      "text/html": [
       "<div>\n",
       "<style scoped>\n",
       "    .dataframe tbody tr th:only-of-type {\n",
       "        vertical-align: middle;\n",
       "    }\n",
       "\n",
       "    .dataframe tbody tr th {\n",
       "        vertical-align: top;\n",
       "    }\n",
       "\n",
       "    .dataframe thead th {\n",
       "        text-align: right;\n",
       "    }\n",
       "</style>\n",
       "<table border=\"1\" class=\"dataframe\">\n",
       "  <thead>\n",
       "    <tr style=\"text-align: right;\">\n",
       "      <th></th>\n",
       "      <th>age</th>\n",
       "      <th>total_pageviews</th>\n",
       "      <th>edu</th>\n",
       "      <th>edu_ages</th>\n",
       "      <th>user_level</th>\n",
       "      <th>industry</th>\n",
       "      <th>value_level</th>\n",
       "      <th>act_level</th>\n",
       "      <th>sex</th>\n",
       "      <th>blue_money</th>\n",
       "      <th>red_money</th>\n",
       "      <th>work_hours</th>\n",
       "      <th>region</th>\n",
       "      <th>response</th>\n",
       "    </tr>\n",
       "  </thead>\n",
       "  <tbody>\n",
       "    <tr>\n",
       "      <th>106</th>\n",
       "      <td>17.0</td>\n",
       "      <td>304873.0</td>\n",
       "      <td>8.0</td>\n",
       "      <td>6.0</td>\n",
       "      <td>1.0</td>\n",
       "      <td>12.0</td>\n",
       "      <td>4</td>\n",
       "      <td>NaN</td>\n",
       "      <td>0.0</td>\n",
       "      <td>34095</td>\n",
       "      <td>0.0</td>\n",
       "      <td>32</td>\n",
       "      <td>1.0</td>\n",
       "      <td>0</td>\n",
       "    </tr>\n",
       "    <tr>\n",
       "      <th>148</th>\n",
       "      <td>64.0</td>\n",
       "      <td>181232.0</td>\n",
       "      <td>2.0</td>\n",
       "      <td>7.0</td>\n",
       "      <td>2.0</td>\n",
       "      <td>NaN</td>\n",
       "      <td>2</td>\n",
       "      <td>1.0</td>\n",
       "      <td>1.0</td>\n",
       "      <td>0</td>\n",
       "      <td>2179.0</td>\n",
       "      <td>40</td>\n",
       "      <td>1.0</td>\n",
       "      <td>0</td>\n",
       "    </tr>\n",
       "    <tr>\n",
       "      <th>174</th>\n",
       "      <td>28.0</td>\n",
       "      <td>149624.0</td>\n",
       "      <td>1.0</td>\n",
       "      <td>13.0</td>\n",
       "      <td>2.0</td>\n",
       "      <td>4.0</td>\n",
       "      <td>2</td>\n",
       "      <td>1.0</td>\n",
       "      <td>1.0</td>\n",
       "      <td>0</td>\n",
       "      <td>NaN</td>\n",
       "      <td>40</td>\n",
       "      <td>1.0</td>\n",
       "      <td>1</td>\n",
       "    </tr>\n",
       "    <tr>\n",
       "      <th>202</th>\n",
       "      <td>51.0</td>\n",
       "      <td>259323.0</td>\n",
       "      <td>1.0</td>\n",
       "      <td>NaN</td>\n",
       "      <td>2.0</td>\n",
       "      <td>2.0</td>\n",
       "      <td>2</td>\n",
       "      <td>1.0</td>\n",
       "      <td>1.0</td>\n",
       "      <td>0</td>\n",
       "      <td>0.0</td>\n",
       "      <td>50</td>\n",
       "      <td>1.0</td>\n",
       "      <td>1</td>\n",
       "    </tr>\n",
       "    <tr>\n",
       "      <th>226</th>\n",
       "      <td>60.0</td>\n",
       "      <td>NaN</td>\n",
       "      <td>8.0</td>\n",
       "      <td>6.0</td>\n",
       "      <td>3.0</td>\n",
       "      <td>12.0</td>\n",
       "      <td>1</td>\n",
       "      <td>4.0</td>\n",
       "      <td>0.0</td>\n",
       "      <td>0</td>\n",
       "      <td>0.0</td>\n",
       "      <td>10</td>\n",
       "      <td>1.0</td>\n",
       "      <td>0</td>\n",
       "    </tr>\n",
       "    <tr>\n",
       "      <th>245</th>\n",
       "      <td>56.0</td>\n",
       "      <td>203580.0</td>\n",
       "      <td>2.0</td>\n",
       "      <td>9.0</td>\n",
       "      <td>NaN</td>\n",
       "      <td>1.0</td>\n",
       "      <td>2</td>\n",
       "      <td>1.0</td>\n",
       "      <td>1.0</td>\n",
       "      <td>0</td>\n",
       "      <td>0.0</td>\n",
       "      <td>35</td>\n",
       "      <td>5.0</td>\n",
       "      <td>0</td>\n",
       "    </tr>\n",
       "    <tr>\n",
       "      <th>272</th>\n",
       "      <td>50.0</td>\n",
       "      <td>30653.0</td>\n",
       "      <td>3.0</td>\n",
       "      <td>14.0</td>\n",
       "      <td>2.0</td>\n",
       "      <td>9.0</td>\n",
       "      <td>2</td>\n",
       "      <td>1.0</td>\n",
       "      <td>NaN</td>\n",
       "      <td>2407</td>\n",
       "      <td>0.0</td>\n",
       "      <td>98</td>\n",
       "      <td>1.0</td>\n",
       "      <td>0</td>\n",
       "    </tr>\n",
       "    <tr>\n",
       "      <th>15390</th>\n",
       "      <td>59.0</td>\n",
       "      <td>98361.0</td>\n",
       "      <td>NaN</td>\n",
       "      <td>10.0</td>\n",
       "      <td>2.0</td>\n",
       "      <td>7.0</td>\n",
       "      <td>2</td>\n",
       "      <td>1.0</td>\n",
       "      <td>1.0</td>\n",
       "      <td>0</td>\n",
       "      <td>0.0</td>\n",
       "      <td>40</td>\n",
       "      <td>1.0</td>\n",
       "      <td>1</td>\n",
       "    </tr>\n",
       "    <tr>\n",
       "      <th>17783</th>\n",
       "      <td>24.0</td>\n",
       "      <td>604537.0</td>\n",
       "      <td>2.0</td>\n",
       "      <td>9.0</td>\n",
       "      <td>1.0</td>\n",
       "      <td>8.0</td>\n",
       "      <td>5</td>\n",
       "      <td>1.0</td>\n",
       "      <td>1.0</td>\n",
       "      <td>0</td>\n",
       "      <td>0.0</td>\n",
       "      <td>40</td>\n",
       "      <td>NaN</td>\n",
       "      <td>0</td>\n",
       "    </tr>\n",
       "    <tr>\n",
       "      <th>26541</th>\n",
       "      <td>54.0</td>\n",
       "      <td>286342.0</td>\n",
       "      <td>3.0</td>\n",
       "      <td>14.0</td>\n",
       "      <td>1.0</td>\n",
       "      <td>NaN</td>\n",
       "      <td>1</td>\n",
       "      <td>1.0</td>\n",
       "      <td>0.0</td>\n",
       "      <td>0</td>\n",
       "      <td>0.0</td>\n",
       "      <td>32</td>\n",
       "      <td>1.0</td>\n",
       "      <td>1</td>\n",
       "    </tr>\n",
       "    <tr>\n",
       "      <th>33391</th>\n",
       "      <td>NaN</td>\n",
       "      <td>148380.0</td>\n",
       "      <td>2.0</td>\n",
       "      <td>9.0</td>\n",
       "      <td>2.0</td>\n",
       "      <td>10.0</td>\n",
       "      <td>3</td>\n",
       "      <td>1.0</td>\n",
       "      <td>0.0</td>\n",
       "      <td>1424</td>\n",
       "      <td>0.0</td>\n",
       "      <td>10</td>\n",
       "      <td>1.0</td>\n",
       "      <td>0</td>\n",
       "    </tr>\n",
       "    <tr>\n",
       "      <th>36573</th>\n",
       "      <td>41.0</td>\n",
       "      <td>70447.0</td>\n",
       "      <td>2.0</td>\n",
       "      <td>10.0</td>\n",
       "      <td>2.0</td>\n",
       "      <td>6.0</td>\n",
       "      <td>2</td>\n",
       "      <td>3.0</td>\n",
       "      <td>1.0</td>\n",
       "      <td>0</td>\n",
       "      <td>0.0</td>\n",
       "      <td>60</td>\n",
       "      <td>NaN</td>\n",
       "      <td>0</td>\n",
       "    </tr>\n",
       "  </tbody>\n",
       "</table>\n",
       "</div>"
      ],
      "text/plain": [
       "        age  total_pageviews  edu  edu_ages  user_level  industry  \\\n",
       "106    17.0         304873.0  8.0       6.0         1.0      12.0   \n",
       "148    64.0         181232.0  2.0       7.0         2.0       NaN   \n",
       "174    28.0         149624.0  1.0      13.0         2.0       4.0   \n",
       "202    51.0         259323.0  1.0       NaN         2.0       2.0   \n",
       "226    60.0              NaN  8.0       6.0         3.0      12.0   \n",
       "245    56.0         203580.0  2.0       9.0         NaN       1.0   \n",
       "272    50.0          30653.0  3.0      14.0         2.0       9.0   \n",
       "15390  59.0          98361.0  NaN      10.0         2.0       7.0   \n",
       "17783  24.0         604537.0  2.0       9.0         1.0       8.0   \n",
       "26541  54.0         286342.0  3.0      14.0         1.0       NaN   \n",
       "33391   NaN         148380.0  2.0       9.0         2.0      10.0   \n",
       "36573  41.0          70447.0  2.0      10.0         2.0       6.0   \n",
       "\n",
       "       value_level  act_level  sex  blue_money  red_money  work_hours  region  \\\n",
       "106              4        NaN  0.0       34095        0.0          32     1.0   \n",
       "148              2        1.0  1.0           0     2179.0          40     1.0   \n",
       "174              2        1.0  1.0           0        NaN          40     1.0   \n",
       "202              2        1.0  1.0           0        0.0          50     1.0   \n",
       "226              1        4.0  0.0           0        0.0          10     1.0   \n",
       "245              2        1.0  1.0           0        0.0          35     5.0   \n",
       "272              2        1.0  NaN        2407        0.0          98     1.0   \n",
       "15390            2        1.0  1.0           0        0.0          40     1.0   \n",
       "17783            5        1.0  1.0           0        0.0          40     NaN   \n",
       "26541            1        1.0  0.0           0        0.0          32     1.0   \n",
       "33391            3        1.0  0.0        1424        0.0          10     1.0   \n",
       "36573            2        3.0  1.0           0        0.0          60     NaN   \n",
       "\n",
       "       response  \n",
       "106           0  \n",
       "148           0  \n",
       "174           1  \n",
       "202           1  \n",
       "226           0  \n",
       "245           0  \n",
       "272           0  \n",
       "15390         1  \n",
       "17783         0  \n",
       "26541         1  \n",
       "33391         0  \n",
       "36573         0  "
      ]
     },
     "execution_count": 3,
     "metadata": {},
     "output_type": "execute_result"
    }
   ],
   "source": [
    "data[data.isnull().any(axis=1)]"
   ]
  },
  {
   "cell_type": "code",
   "execution_count": 4,
   "metadata": {
    "ExecuteTime": {
     "end_time": "2019-02-20T00:58:14.031113Z",
     "start_time": "2019-02-20T00:58:14.024140Z"
    }
   },
   "outputs": [
    {
     "data": {
      "text/plain": [
       "response\n",
       "0    30415\n",
       "1     9584\n",
       "Name: response, dtype: int64"
      ]
     },
     "execution_count": 4,
     "metadata": {},
     "output_type": "execute_result"
    }
   ],
   "source": [
    "data.groupby('response')['response'].count()"
   ]
  },
  {
   "cell_type": "code",
   "execution_count": 5,
   "metadata": {
    "ExecuteTime": {
     "end_time": "2019-02-20T00:58:14.186659Z",
     "start_time": "2019-02-20T00:58:14.160728Z"
    }
   },
   "outputs": [
    {
     "data": {
      "text/html": [
       "<div>\n",
       "<style scoped>\n",
       "    .dataframe tbody tr th:only-of-type {\n",
       "        vertical-align: middle;\n",
       "    }\n",
       "\n",
       "    .dataframe tbody tr th {\n",
       "        vertical-align: top;\n",
       "    }\n",
       "\n",
       "    .dataframe thead th {\n",
       "        text-align: right;\n",
       "    }\n",
       "</style>\n",
       "<table border=\"1\" class=\"dataframe\">\n",
       "  <thead>\n",
       "    <tr style=\"text-align: right;\">\n",
       "      <th></th>\n",
       "      <th>age</th>\n",
       "      <th>total_pageviews</th>\n",
       "      <th>edu</th>\n",
       "      <th>edu_ages</th>\n",
       "      <th>user_level</th>\n",
       "      <th>industry</th>\n",
       "      <th>value_level</th>\n",
       "      <th>act_level</th>\n",
       "      <th>sex</th>\n",
       "      <th>blue_money</th>\n",
       "      <th>red_money</th>\n",
       "      <th>work_hours</th>\n",
       "      <th>region</th>\n",
       "      <th>response</th>\n",
       "    </tr>\n",
       "  </thead>\n",
       "  <tbody>\n",
       "    <tr>\n",
       "      <th>0</th>\n",
       "      <td>39.0</td>\n",
       "      <td>77516.0</td>\n",
       "      <td>1.0</td>\n",
       "      <td>13.0</td>\n",
       "      <td>1.0</td>\n",
       "      <td>1.0</td>\n",
       "      <td>1</td>\n",
       "      <td>1.0</td>\n",
       "      <td>1.0</td>\n",
       "      <td>2174</td>\n",
       "      <td>0.0</td>\n",
       "      <td>40</td>\n",
       "      <td>1.0</td>\n",
       "      <td>0</td>\n",
       "    </tr>\n",
       "    <tr>\n",
       "      <th>1</th>\n",
       "      <td>50.0</td>\n",
       "      <td>83311.0</td>\n",
       "      <td>1.0</td>\n",
       "      <td>13.0</td>\n",
       "      <td>2.0</td>\n",
       "      <td>2.0</td>\n",
       "      <td>2</td>\n",
       "      <td>1.0</td>\n",
       "      <td>1.0</td>\n",
       "      <td>0</td>\n",
       "      <td>0.0</td>\n",
       "      <td>13</td>\n",
       "      <td>1.0</td>\n",
       "      <td>0</td>\n",
       "    </tr>\n",
       "    <tr>\n",
       "      <th>2</th>\n",
       "      <td>38.0</td>\n",
       "      <td>215646.0</td>\n",
       "      <td>2.0</td>\n",
       "      <td>9.0</td>\n",
       "      <td>3.0</td>\n",
       "      <td>3.0</td>\n",
       "      <td>1</td>\n",
       "      <td>1.0</td>\n",
       "      <td>1.0</td>\n",
       "      <td>0</td>\n",
       "      <td>0.0</td>\n",
       "      <td>40</td>\n",
       "      <td>1.0</td>\n",
       "      <td>0</td>\n",
       "    </tr>\n",
       "  </tbody>\n",
       "</table>\n",
       "</div>"
      ],
      "text/plain": [
       "    age  total_pageviews  edu  edu_ages  user_level  industry  value_level  \\\n",
       "0  39.0          77516.0  1.0      13.0         1.0       1.0            1   \n",
       "1  50.0          83311.0  1.0      13.0         2.0       2.0            2   \n",
       "2  38.0         215646.0  2.0       9.0         3.0       3.0            1   \n",
       "\n",
       "   act_level  sex  blue_money  red_money  work_hours  region  response  \n",
       "0        1.0  1.0        2174        0.0          40     1.0         0  \n",
       "1        1.0  1.0           0        0.0          13     1.0         0  \n",
       "2        1.0  1.0           0        0.0          40     1.0         0  "
      ]
     },
     "execution_count": 5,
     "metadata": {},
     "output_type": "execute_result"
    }
   ],
   "source": [
    "na_rules = {'age': data['age'].mean(),\n",
    "        'total_pageviews': data['total_pageviews'].mean(),\n",
    "        'edu': data['edu'].median(),\n",
    "        'edu_ages': data['edu_ages'].median(),\n",
    "        'user_level': data['user_level'].median(),\n",
    "        'industry': data['user_level'].median(),\n",
    "        'act_level': data['act_level'].median(),\n",
    "        'sex': data['sex'].median(),\n",
    "        'red_money': data['red_money'].mean(),\n",
    "        'region': data['region'].median()\n",
    "        }  # 字典：定义各个列数据转换方法\n",
    "data = data.fillna(na_rules)  # 使用指定方法填充缺失值\n",
    "data[:3]"
   ]
  },
  {
   "cell_type": "code",
   "execution_count": 6,
   "metadata": {
    "ExecuteTime": {
     "end_time": "2019-02-20T00:58:14.331273Z",
     "start_time": "2019-02-20T00:58:14.312323Z"
    }
   },
   "outputs": [
    {
     "data": {
      "text/plain": [
       "age                float64\n",
       "total_pageviews    float64\n",
       "edu                  int32\n",
       "edu_ages           float64\n",
       "user_level           int32\n",
       "industry             int32\n",
       "value_level          int32\n",
       "act_level            int32\n",
       "sex                  int32\n",
       "blue_money           int64\n",
       "red_money          float64\n",
       "work_hours           int64\n",
       "region               int32\n",
       "response             int64\n",
       "dtype: object"
      ]
     },
     "execution_count": 6,
     "metadata": {},
     "output_type": "execute_result"
    }
   ],
   "source": [
    "var_list = {'edu': 'int32',\n",
    "        'user_level': 'int32',\n",
    "        'industry': 'int32',\n",
    "        'value_level': 'int32',\n",
    "        'act_level': 'int32',\n",
    "        'sex': 'int32',\n",
    "        'region': 'int32'\n",
    "        }  # 字典：定义要转换的列及其数据类型\n",
    "for var, type in var_list.items():  # 循环读出列名和对应的数据类型\n",
    "    data[var] = data[var].astype(type)  # 数据类型转换\n",
    "    \n",
    "data.dtypes"
   ]
  },
  {
   "cell_type": "code",
   "execution_count": 10,
   "metadata": {
    "ExecuteTime": {
     "end_time": "2019-02-20T00:58:25.873658Z",
     "start_time": "2019-02-20T00:58:25.811154Z"
    }
   },
   "outputs": [
    {
     "data": {
      "text/plain": [
       "OneHotEncoder(categorical_features=None, categories='auto',\n",
       "       dtype=<class 'numpy.float64'>, handle_unknown='error',\n",
       "       n_values=None, sparse=True)"
      ]
     },
     "execution_count": 10,
     "metadata": {},
     "output_type": "execute_result"
    },
    {
     "data": {
      "text/plain": [
       "array([[3.90000e+01, 7.75160e+04, 1.30000e+01, ..., 0.00000e+00,\n",
       "        0.00000e+00, 0.00000e+00],\n",
       "       [5.00000e+01, 8.33110e+04, 1.30000e+01, ..., 0.00000e+00,\n",
       "        0.00000e+00, 0.00000e+00],\n",
       "       [3.80000e+01, 2.15646e+05, 9.00000e+00, ..., 0.00000e+00,\n",
       "        0.00000e+00, 0.00000e+00],\n",
       "       ...,\n",
       "       [6.00000e+01, 1.02310e+05, 1.20000e+01, ..., 0.00000e+00,\n",
       "        0.00000e+00, 0.00000e+00],\n",
       "       [4.80000e+01, 2.40175e+05, 7.00000e+00, ..., 0.00000e+00,\n",
       "        0.00000e+00, 0.00000e+00],\n",
       "       [4.10000e+01, 1.45441e+05, 9.00000e+00, ..., 0.00000e+00,\n",
       "        0.00000e+00, 0.00000e+00]])"
      ]
     },
     "execution_count": 10,
     "metadata": {},
     "output_type": "execute_result"
    }
   ],
   "source": [
    "data_con = data[['edu', 'user_level', 'industry', 'value_level', 'act_level', 'sex', 'region']]  # 选择要做标志转换的数据\n",
    "data_org = data[['age', 'total_pageviews', 'edu_ages', 'blue_money', 'red_money', 'work_hours']].values  # 设置不作标志转换的列\n",
    "\n",
    "enc = OneHotEncoder(categories='auto')  # 建立标志转换模型对象\n",
    "enc.fit(data_con)  # 训练模型\n",
    "data_con_new = enc.transform(data_con).toarray()  # 转换数据并输出为数组格式\n",
    "new_matrix = np.hstack((data_org,data_con_new))  # 将未转换的数据与转换后的数据合并\n",
    "new_matrix"
   ]
  },
  {
   "cell_type": "code",
   "execution_count": 11,
   "metadata": {
    "ExecuteTime": {
     "end_time": "2019-02-20T00:58:27.313784Z",
     "start_time": "2019-02-20T00:58:27.305807Z"
    },
    "scrolled": true
   },
   "outputs": [],
   "source": [
    "\n",
    "# 获得最佳模型参数\n",
    "def get_best_model(X, y):\n",
    "    '''\n",
    "    结合交叉检验得到不同参数下的分类模型结果\n",
    "    :param X: 输入X（特征变量）\n",
    "    :param y: 预测y（目标变量）\n",
    "    :return: 特征选择模型对象\n",
    "    '''\n",
    "    transform = SelectPercentile(f_classif, percentile=50)  # 使用f_classif方法选择特征最明显的50%数量的特征\n",
    "    model_adaboost = AdaBoostClassifier()  # 建立AdaBoostClassifier模型对象\n",
    "    model_pipe = Pipeline(steps=[('ANOVA', transform), ('model_adaboost', model_adaboost)])  # 建立由特征选择和分类模型构成的“管道”对象\n",
    "    cv = StratifiedKFold(5)  # 设置交叉检验次数\n",
    "    n_estimators = [20, 50, 80, 100]  # 设置模型参数列表\n",
    "    score_methods = ['accuracy', 'f1', 'precision', 'recall', 'roc_auc']  # 设置交叉检验指标\n",
    "    mean_list = list()  # 建立空列表用于存放不同参数方法、交叉检验评估指标的均值列表\n",
    "    std_list = list()  # 建立空列表用于存放不同参数方法、交叉检验评估指标的标准差列表\n",
    "    for parameter in n_estimators:  # 循环读出每个参数值\n",
    "        t1 = time.time()  # 记录训练开始的时间\n",
    "        score_list = list()  # 建立空列表用于存放不同交叉检验下各个评估指标的详细数据\n",
    "        print ('set parameters: %s' % parameter)  # 打印当前模型使用的参数\n",
    "        for score_method in score_methods:  # 循环读出每个交叉检验指标\n",
    "            model_pipe.set_params(model_adaboost__n_estimators=parameter)  # 通过“管道”设置分类模型参数\n",
    "            score_tmp = cross_val_score(model_pipe, X, y, scoring=score_method, cv=cv)  # 使用交叉检验计算指定指标的得分\n",
    "            score_list.append(score_tmp)  # 将交叉检验得分存储到列表\n",
    "        score_matrix = pd.DataFrame(np.array(score_list), index=score_methods)  # 将交叉检验详细数据转换为矩阵\n",
    "        score_mean = score_matrix.mean(axis=1).rename('mean')  # 计算每个评估指标的均值\n",
    "        score_std = score_matrix.std(axis=1).rename('std')  # 计算每个评估指标的标准差\n",
    "        score_pd = pd.concat([score_matrix, score_mean, score_std], axis=1)  # 将原始详细数据和均值、标准差合并\n",
    "        mean_list.append(score_mean)  # 将每个参数得到的各指标均值追加到列表\n",
    "        std_list.append(score_std)  # 将每个参数得到的各指标标准差追加到列表\n",
    "        print (score_pd.round(2))  # 打印每个参数得到的交叉检验指标数据，只保留2位小数\n",
    "        print ('-' * 60)\n",
    "        t2 = time.time()  # 计算每个参数下算法用时\n",
    "        tt = t2 - t1  # 计算时间间隔\n",
    "        print ('time: %s' % str(tt))  # 打印时间间隔\n",
    "    mean_matrix = np.array(mean_list).T  # 建立所有参数得到的交叉检验的均值矩阵\n",
    "    std_matrix = np.array(std_list).T  # 建立所有参数得到的交叉检验的标准差矩阵\n",
    "    mean_pd = pd.DataFrame(mean_matrix, index=score_methods, columns=n_estimators)  # 将均值矩阵转换为数据框\n",
    "    std_pd = pd.DataFrame(std_matrix, index=score_methods, columns=n_estimators)  # 将均值标准差转换为数据框\n",
    "    print ('Mean values for each parameter:')\n",
    "    print (mean_pd)  # 打印输出均值矩阵\n",
    "    print ('Std values for each parameter:')\n",
    "    print (std_pd)  # 打印输出标准差矩阵\n",
    "    print ('-' * 60)\n",
    "    return transform"
   ]
  },
  {
   "cell_type": "code",
   "execution_count": 12,
   "metadata": {
    "ExecuteTime": {
     "end_time": "2019-02-20T01:00:40.028475Z",
     "start_time": "2019-02-20T00:58:28.185527Z"
    }
   },
   "outputs": [
    {
     "name": "stdout",
     "output_type": "stream",
     "text": [
      "set parameters: 20\n"
     ]
    },
    {
     "name": "stderr",
     "output_type": "stream",
     "text": [
      "f:\\ProgramData\\Anaconda3\\envs\\normal\\lib\\site-packages\\sklearn\\feature_selection\\univariate_selection.py:114: UserWarning: Features [91] are constant.\n",
      "  UserWarning)\n",
      "f:\\ProgramData\\Anaconda3\\envs\\normal\\lib\\site-packages\\sklearn\\feature_selection\\univariate_selection.py:115: RuntimeWarning: invalid value encountered in true_divide\n",
      "  f = msb / msw\n",
      "f:\\ProgramData\\Anaconda3\\envs\\normal\\lib\\site-packages\\sklearn\\feature_selection\\univariate_selection.py:114: UserWarning: Features [91] are constant.\n",
      "  UserWarning)\n",
      "f:\\ProgramData\\Anaconda3\\envs\\normal\\lib\\site-packages\\sklearn\\feature_selection\\univariate_selection.py:115: RuntimeWarning: invalid value encountered in true_divide\n",
      "  f = msb / msw\n",
      "f:\\ProgramData\\Anaconda3\\envs\\normal\\lib\\site-packages\\sklearn\\feature_selection\\univariate_selection.py:114: UserWarning: Features [91] are constant.\n",
      "  UserWarning)\n",
      "f:\\ProgramData\\Anaconda3\\envs\\normal\\lib\\site-packages\\sklearn\\feature_selection\\univariate_selection.py:115: RuntimeWarning: invalid value encountered in true_divide\n",
      "  f = msb / msw\n",
      "f:\\ProgramData\\Anaconda3\\envs\\normal\\lib\\site-packages\\sklearn\\feature_selection\\univariate_selection.py:114: UserWarning: Features [91] are constant.\n",
      "  UserWarning)\n",
      "f:\\ProgramData\\Anaconda3\\envs\\normal\\lib\\site-packages\\sklearn\\feature_selection\\univariate_selection.py:115: RuntimeWarning: invalid value encountered in true_divide\n",
      "  f = msb / msw\n",
      "f:\\ProgramData\\Anaconda3\\envs\\normal\\lib\\site-packages\\sklearn\\feature_selection\\univariate_selection.py:114: UserWarning: Features [91] are constant.\n",
      "  UserWarning)\n",
      "f:\\ProgramData\\Anaconda3\\envs\\normal\\lib\\site-packages\\sklearn\\feature_selection\\univariate_selection.py:115: RuntimeWarning: invalid value encountered in true_divide\n",
      "  f = msb / msw\n"
     ]
    },
    {
     "name": "stdout",
     "output_type": "stream",
     "text": [
      "              0     1     2     3     4  mean   std\n",
      "accuracy   0.85  0.85  0.86  0.86  0.86  0.85  0.01\n",
      "f1         0.66  0.64  0.66  0.66  0.66  0.66  0.01\n",
      "precision  0.72  0.74  0.76  0.78  0.77  0.75  0.02\n",
      "recall     0.60  0.57  0.59  0.58  0.57  0.58  0.01\n",
      "roc_auc    0.91  0.90  0.91  0.91  0.91  0.91  0.00\n",
      "------------------------------------------------------------\n",
      "time: 12.526086330413818\n",
      "set parameters: 50\n"
     ]
    },
    {
     "name": "stderr",
     "output_type": "stream",
     "text": [
      "f:\\ProgramData\\Anaconda3\\envs\\normal\\lib\\site-packages\\sklearn\\feature_selection\\univariate_selection.py:114: UserWarning: Features [91] are constant.\n",
      "  UserWarning)\n",
      "f:\\ProgramData\\Anaconda3\\envs\\normal\\lib\\site-packages\\sklearn\\feature_selection\\univariate_selection.py:115: RuntimeWarning: invalid value encountered in true_divide\n",
      "  f = msb / msw\n",
      "f:\\ProgramData\\Anaconda3\\envs\\normal\\lib\\site-packages\\sklearn\\feature_selection\\univariate_selection.py:114: UserWarning: Features [91] are constant.\n",
      "  UserWarning)\n",
      "f:\\ProgramData\\Anaconda3\\envs\\normal\\lib\\site-packages\\sklearn\\feature_selection\\univariate_selection.py:115: RuntimeWarning: invalid value encountered in true_divide\n",
      "  f = msb / msw\n",
      "f:\\ProgramData\\Anaconda3\\envs\\normal\\lib\\site-packages\\sklearn\\feature_selection\\univariate_selection.py:114: UserWarning: Features [91] are constant.\n",
      "  UserWarning)\n",
      "f:\\ProgramData\\Anaconda3\\envs\\normal\\lib\\site-packages\\sklearn\\feature_selection\\univariate_selection.py:115: RuntimeWarning: invalid value encountered in true_divide\n",
      "  f = msb / msw\n",
      "f:\\ProgramData\\Anaconda3\\envs\\normal\\lib\\site-packages\\sklearn\\feature_selection\\univariate_selection.py:114: UserWarning: Features [91] are constant.\n",
      "  UserWarning)\n",
      "f:\\ProgramData\\Anaconda3\\envs\\normal\\lib\\site-packages\\sklearn\\feature_selection\\univariate_selection.py:115: RuntimeWarning: invalid value encountered in true_divide\n",
      "  f = msb / msw\n",
      "f:\\ProgramData\\Anaconda3\\envs\\normal\\lib\\site-packages\\sklearn\\feature_selection\\univariate_selection.py:114: UserWarning: Features [91] are constant.\n",
      "  UserWarning)\n",
      "f:\\ProgramData\\Anaconda3\\envs\\normal\\lib\\site-packages\\sklearn\\feature_selection\\univariate_selection.py:115: RuntimeWarning: invalid value encountered in true_divide\n",
      "  f = msb / msw\n"
     ]
    },
    {
     "name": "stdout",
     "output_type": "stream",
     "text": [
      "              0     1     2     3     4  mean   std\n",
      "accuracy   0.86  0.86  0.86  0.87  0.86  0.86  0.00\n",
      "f1         0.66  0.66  0.67  0.69  0.68  0.67  0.01\n",
      "precision  0.75  0.76  0.77  0.78  0.77  0.76  0.01\n",
      "recall     0.59  0.58  0.59  0.62  0.61  0.60  0.02\n",
      "roc_auc    0.91  0.91  0.91  0.92  0.92  0.91  0.00\n",
      "------------------------------------------------------------\n",
      "time: 27.05350160598755\n",
      "set parameters: 80\n"
     ]
    },
    {
     "name": "stderr",
     "output_type": "stream",
     "text": [
      "f:\\ProgramData\\Anaconda3\\envs\\normal\\lib\\site-packages\\sklearn\\feature_selection\\univariate_selection.py:114: UserWarning: Features [91] are constant.\n",
      "  UserWarning)\n",
      "f:\\ProgramData\\Anaconda3\\envs\\normal\\lib\\site-packages\\sklearn\\feature_selection\\univariate_selection.py:115: RuntimeWarning: invalid value encountered in true_divide\n",
      "  f = msb / msw\n",
      "f:\\ProgramData\\Anaconda3\\envs\\normal\\lib\\site-packages\\sklearn\\feature_selection\\univariate_selection.py:114: UserWarning: Features [91] are constant.\n",
      "  UserWarning)\n",
      "f:\\ProgramData\\Anaconda3\\envs\\normal\\lib\\site-packages\\sklearn\\feature_selection\\univariate_selection.py:115: RuntimeWarning: invalid value encountered in true_divide\n",
      "  f = msb / msw\n",
      "f:\\ProgramData\\Anaconda3\\envs\\normal\\lib\\site-packages\\sklearn\\feature_selection\\univariate_selection.py:114: UserWarning: Features [91] are constant.\n",
      "  UserWarning)\n",
      "f:\\ProgramData\\Anaconda3\\envs\\normal\\lib\\site-packages\\sklearn\\feature_selection\\univariate_selection.py:115: RuntimeWarning: invalid value encountered in true_divide\n",
      "  f = msb / msw\n",
      "f:\\ProgramData\\Anaconda3\\envs\\normal\\lib\\site-packages\\sklearn\\feature_selection\\univariate_selection.py:114: UserWarning: Features [91] are constant.\n",
      "  UserWarning)\n",
      "f:\\ProgramData\\Anaconda3\\envs\\normal\\lib\\site-packages\\sklearn\\feature_selection\\univariate_selection.py:115: RuntimeWarning: invalid value encountered in true_divide\n",
      "  f = msb / msw\n",
      "f:\\ProgramData\\Anaconda3\\envs\\normal\\lib\\site-packages\\sklearn\\feature_selection\\univariate_selection.py:114: UserWarning: Features [91] are constant.\n",
      "  UserWarning)\n",
      "f:\\ProgramData\\Anaconda3\\envs\\normal\\lib\\site-packages\\sklearn\\feature_selection\\univariate_selection.py:115: RuntimeWarning: invalid value encountered in true_divide\n",
      "  f = msb / msw\n"
     ]
    },
    {
     "name": "stdout",
     "output_type": "stream",
     "text": [
      "              0     1     2     3     4  mean   std\n",
      "accuracy   0.86  0.86  0.86  0.87  0.86  0.86  0.00\n",
      "f1         0.67  0.67  0.68  0.70  0.68  0.68  0.01\n",
      "precision  0.76  0.77  0.77  0.79  0.76  0.77  0.01\n",
      "recall     0.60  0.59  0.61  0.62  0.62  0.61  0.01\n",
      "roc_auc    0.92  0.92  0.92  0.92  0.92  0.92  0.00\n",
      "------------------------------------------------------------\n",
      "time: 41.20822477340698\n",
      "set parameters: 100\n"
     ]
    },
    {
     "name": "stderr",
     "output_type": "stream",
     "text": [
      "f:\\ProgramData\\Anaconda3\\envs\\normal\\lib\\site-packages\\sklearn\\feature_selection\\univariate_selection.py:114: UserWarning: Features [91] are constant.\n",
      "  UserWarning)\n",
      "f:\\ProgramData\\Anaconda3\\envs\\normal\\lib\\site-packages\\sklearn\\feature_selection\\univariate_selection.py:115: RuntimeWarning: invalid value encountered in true_divide\n",
      "  f = msb / msw\n",
      "f:\\ProgramData\\Anaconda3\\envs\\normal\\lib\\site-packages\\sklearn\\feature_selection\\univariate_selection.py:114: UserWarning: Features [91] are constant.\n",
      "  UserWarning)\n",
      "f:\\ProgramData\\Anaconda3\\envs\\normal\\lib\\site-packages\\sklearn\\feature_selection\\univariate_selection.py:115: RuntimeWarning: invalid value encountered in true_divide\n",
      "  f = msb / msw\n",
      "f:\\ProgramData\\Anaconda3\\envs\\normal\\lib\\site-packages\\sklearn\\feature_selection\\univariate_selection.py:114: UserWarning: Features [91] are constant.\n",
      "  UserWarning)\n",
      "f:\\ProgramData\\Anaconda3\\envs\\normal\\lib\\site-packages\\sklearn\\feature_selection\\univariate_selection.py:115: RuntimeWarning: invalid value encountered in true_divide\n",
      "  f = msb / msw\n",
      "f:\\ProgramData\\Anaconda3\\envs\\normal\\lib\\site-packages\\sklearn\\feature_selection\\univariate_selection.py:114: UserWarning: Features [91] are constant.\n",
      "  UserWarning)\n",
      "f:\\ProgramData\\Anaconda3\\envs\\normal\\lib\\site-packages\\sklearn\\feature_selection\\univariate_selection.py:115: RuntimeWarning: invalid value encountered in true_divide\n",
      "  f = msb / msw\n",
      "f:\\ProgramData\\Anaconda3\\envs\\normal\\lib\\site-packages\\sklearn\\feature_selection\\univariate_selection.py:114: UserWarning: Features [91] are constant.\n",
      "  UserWarning)\n",
      "f:\\ProgramData\\Anaconda3\\envs\\normal\\lib\\site-packages\\sklearn\\feature_selection\\univariate_selection.py:115: RuntimeWarning: invalid value encountered in true_divide\n",
      "  f = msb / msw\n"
     ]
    },
    {
     "name": "stdout",
     "output_type": "stream",
     "text": [
      "              0     1     2     3     4  mean   std\n",
      "accuracy   0.86  0.86  0.87  0.87  0.86  0.86  0.00\n",
      "f1         0.67  0.67  0.69  0.70  0.69  0.68  0.01\n",
      "precision  0.76  0.77  0.78  0.79  0.76  0.77  0.01\n",
      "recall     0.60  0.60  0.61  0.63  0.62  0.61  0.01\n",
      "roc_auc    0.92  0.92  0.92  0.92  0.92  0.92  0.00\n",
      "------------------------------------------------------------\n",
      "time: 51.04062032699585\n",
      "Mean values for each parameter:\n",
      "                20        50        80        100\n",
      "accuracy   0.853946  0.859922  0.862647  0.863672\n",
      "f1         0.656329  0.672173  0.679723  0.682772\n",
      "precision  0.753126  0.764994  0.770094  0.771560\n",
      "recall     0.582011  0.599542  0.608411  0.612376\n",
      "roc_auc    0.908324  0.914994  0.918613  0.919941\n",
      "Std values for each parameter:\n",
      "                20        50        80        100\n",
      "accuracy   0.005260  0.004636  0.004463  0.004834\n",
      "f1         0.009512  0.012836  0.011527  0.011929\n",
      "precision  0.023295  0.010208  0.011250  0.012753\n",
      "recall     0.013767  0.016128  0.013591  0.013184\n",
      "roc_auc    0.003201  0.002865  0.002629  0.002652\n",
      "------------------------------------------------------------\n"
     ]
    }
   ],
   "source": [
    "X = new_matrix\n",
    "y = data['response'].values\n",
    "transform = get_best_model(X,y)"
   ]
  },
  {
   "cell_type": "code",
   "execution_count": 13,
   "metadata": {
    "ExecuteTime": {
     "end_time": "2019-02-20T01:00:47.865989Z",
     "start_time": "2019-02-20T01:00:43.829010Z"
    }
   },
   "outputs": [],
   "source": [
    "#新数据集预测\n",
    "new_data = pd.read_excel('./datacode_for_book/chapter5/order.xlsx', sheet_name=1)  # 读取要预测的数据集\n",
    "final_reponse = new_data['final_response']  # 获取最终的目标变量值\n",
    "new_data = new_data.drop('final_response', axis=1)  # 获得预测的输入变量X"
   ]
  },
  {
   "cell_type": "code",
   "execution_count": 14,
   "metadata": {
    "ExecuteTime": {
     "end_time": "2019-02-20T01:00:48.732166Z",
     "start_time": "2019-02-20T01:00:48.720851Z"
    }
   },
   "outputs": [],
   "source": [
    "na_rules = {'age': data['age'].mean(),\n",
    "        'total_pageviews': data['total_pageviews'].mean(),\n",
    "        'edu': data['edu'].median(),\n",
    "        'edu_ages': data['edu_ages'].median(),\n",
    "        'user_level': data['user_level'].median(),\n",
    "        'industry': data['user_level'].median(),\n",
    "        'act_level': data['act_level'].median(),\n",
    "        'sex': data['sex'].median(),\n",
    "        'red_money': data['red_money'].mean(),\n",
    "        'region': data['region'].median()\n",
    "        }  # 字典：定义各个列数据转换方法\n",
    "new_data = new_data.fillna(na_rules)  # 使用指定方法填充缺失值"
   ]
  },
  {
   "cell_type": "code",
   "execution_count": 15,
   "metadata": {
    "ExecuteTime": {
     "end_time": "2019-02-20T01:00:49.826599Z",
     "start_time": "2019-02-20T01:00:49.816445Z"
    }
   },
   "outputs": [
    {
     "data": {
      "text/plain": [
       "age                int64\n",
       "total_pageviews    int64\n",
       "edu                int32\n",
       "edu_ages           int64\n",
       "user_level         int32\n",
       "industry           int32\n",
       "value_level        int32\n",
       "act_level          int32\n",
       "sex                int32\n",
       "blue_money         int64\n",
       "red_money          int64\n",
       "work_hours         int64\n",
       "region             int32\n",
       "dtype: object"
      ]
     },
     "execution_count": 15,
     "metadata": {},
     "output_type": "execute_result"
    }
   ],
   "source": [
    "var_list = {'edu': 'int32',\n",
    "        'user_level': 'int32',\n",
    "        'industry': 'int32',\n",
    "        'value_level': 'int32',\n",
    "        'act_level': 'int32',\n",
    "        'sex': 'int32',\n",
    "        'region': 'int32'\n",
    "        }  # 字典：定义要转换的列及其数据类型\n",
    "for var, type in var_list.items():  # 循环读出列名和对应的数据类型\n",
    "    new_data[var] = new_data[var].astype(type)  # 数据类型转换\n",
    "    \n",
    "new_data.dtypes"
   ]
  },
  {
   "cell_type": "code",
   "execution_count": 16,
   "metadata": {
    "ExecuteTime": {
     "end_time": "2019-02-20T01:00:50.930873Z",
     "start_time": "2019-02-20T01:00:50.908905Z"
    }
   },
   "outputs": [
    {
     "data": {
      "text/plain": [
       "OneHotEncoder(categorical_features=None, categories='auto',\n",
       "       dtype=<class 'numpy.float64'>, handle_unknown='error',\n",
       "       n_values=None, sparse=True)"
      ]
     },
     "execution_count": 16,
     "metadata": {},
     "output_type": "execute_result"
    },
    {
     "data": {
      "text/plain": [
       "array([[6.10000e+01, 2.43019e+05, 1.00000e+00, ..., 0.00000e+00,\n",
       "        0.00000e+00, 0.00000e+00],\n",
       "       [3.30000e+01, 2.15596e+05, 5.00000e+00, ..., 0.00000e+00,\n",
       "        0.00000e+00, 0.00000e+00],\n",
       "       [2.50000e+01, 3.13500e+04, 1.00000e+01, ..., 0.00000e+00,\n",
       "        0.00000e+00, 0.00000e+00],\n",
       "       ...,\n",
       "       [3.80000e+01, 3.74983e+05, 1.30000e+01, ..., 0.00000e+00,\n",
       "        0.00000e+00, 0.00000e+00],\n",
       "       [4.40000e+01, 8.38910e+04, 1.30000e+01, ..., 0.00000e+00,\n",
       "        0.00000e+00, 0.00000e+00],\n",
       "       [3.50000e+01, 1.82148e+05, 1.30000e+01, ..., 0.00000e+00,\n",
       "        0.00000e+00, 0.00000e+00]])"
      ]
     },
     "execution_count": 16,
     "metadata": {},
     "output_type": "execute_result"
    }
   ],
   "source": [
    "new_data_con = new_data[['edu', 'user_level', 'industry', 'value_level', 'act_level', 'sex', 'region']]  # 选择要做标志转换的数据\n",
    "new_data_org = new_data[['age', 'total_pageviews', 'edu_ages', 'blue_money', 'red_money', 'work_hours']].values  # 设置不作标志转换的列\n",
    "\n",
    "enc = OneHotEncoder(categories='auto')  # 建立标志转换模型对象\n",
    "enc.fit(new_data_con)  # 训练模型\n",
    "new_data_con_new = enc.transform(new_data_con).toarray()  # 转换数据并输出为数组格式\n",
    "new_data_matrix = np.hstack((new_data_org,new_data_con_new))  # 将未转换的数据与转换后的数据合并\n",
    "new_data_matrix"
   ]
  },
  {
   "cell_type": "code",
   "execution_count": 20,
   "metadata": {
    "ExecuteTime": {
     "end_time": "2019-02-20T01:03:54.664469Z",
     "start_time": "2019-02-20T01:03:54.129425Z"
    }
   },
   "outputs": [
    {
     "data": {
      "text/plain": [
       "SelectPercentile(percentile=50,\n",
       "         score_func=<function f_classif at 0x000002C8BD781598>)"
      ]
     },
     "execution_count": 20,
     "metadata": {},
     "output_type": "execute_result"
    },
    {
     "data": {
      "text/plain": [
       "AdaBoostClassifier(algorithm='SAMME.R', base_estimator=None,\n",
       "          learning_rate=1.0, n_estimators=100, random_state=None)"
      ]
     },
     "execution_count": 20,
     "metadata": {},
     "output_type": "execute_result"
    }
   ],
   "source": [
    "transform.fit(new_data_matrix,final_reponse)  # 应用特征选择对象选择要参与建模的特征变量\n",
    "X_final = transform.transform(new_data_matrix)  # 获得具有显著性特征的特征变量\n",
    "final_model = AdaBoostClassifier(n_estimators=100)  # 从打印的参数均值和标准差信息中确定参数并建立分类模型对象\n",
    "final_model.fit(X_final, final_reponse)  # 训练模型"
   ]
  },
  {
   "cell_type": "code",
   "execution_count": 23,
   "metadata": {
    "ExecuteTime": {
     "end_time": "2019-02-20T01:05:04.840171Z",
     "start_time": "2019-02-20T01:05:04.633731Z"
    }
   },
   "outputs": [
    {
     "name": "stdout",
     "output_type": "stream",
     "text": [
      "Predict info\n",
      "   age  total_pageviews  edu  edu_ages  user_level  industry  value_level  \\\n",
      "0   61           243019   10         1           2         7            2   \n",
      "1   33           215596    4         5           2         7            2   \n",
      "\n",
      "   act_level  sex  blue_money  red_money  work_hours  region  labels  \\\n",
      "0          1    1           0          0          40       1       0   \n",
      "1          5    1           0          0          40       6       0   \n",
      "\n",
      "       pro1      pro2  \n",
      "0  0.506885  0.493115  \n",
      "1  0.507045  0.492955  \n",
      "------------------------------------------------------------\n"
     ]
    }
   ],
   "source": [
    "predict_labels = pd.DataFrame(final_model.predict(X_final), columns=['labels'])  # 获得预测标签\n",
    "predict_labels_pro = pd.DataFrame(final_model.predict_proba(X_final), columns=['pro1', 'pro2'])  # 获得预测概率\n",
    "predict_pd = pd.concat((new_data, predict_labels, predict_labels_pro), axis=1)  # 将预测标签、预测数据和原始数据X合并\n",
    "print ('Predict info')\n",
    "print (predict_pd.head(2))  # 打印前2条结果\n",
    "print ('-' * 60)"
   ]
  },
  {
   "cell_type": "code",
   "execution_count": null,
   "metadata": {},
   "outputs": [],
   "source": []
  }
 ],
 "metadata": {
  "hide_input": false,
  "kernelspec": {
   "display_name": "Python 3",
   "language": "python",
   "name": "python3"
  },
  "language_info": {
   "codemirror_mode": {
    "name": "ipython",
    "version": 3
   },
   "file_extension": ".py",
   "mimetype": "text/x-python",
   "name": "python",
   "nbconvert_exporter": "python",
   "pygments_lexer": "ipython3",
   "version": "3.7.0"
  },
  "toc": {
   "base_numbering": 1,
   "nav_menu": {},
   "number_sections": true,
   "sideBar": true,
   "skip_h1_title": false,
   "title_cell": "Table of Contents",
   "title_sidebar": "Contents",
   "toc_cell": false,
   "toc_position": {},
   "toc_section_display": true,
   "toc_window_display": false
  },
  "varInspector": {
   "cols": {
    "lenName": 16,
    "lenType": 16,
    "lenVar": 40
   },
   "kernels_config": {
    "python": {
     "delete_cmd_postfix": "",
     "delete_cmd_prefix": "del ",
     "library": "var_list.py",
     "varRefreshCmd": "print(var_dic_list())"
    },
    "r": {
     "delete_cmd_postfix": ") ",
     "delete_cmd_prefix": "rm(",
     "library": "var_list.r",
     "varRefreshCmd": "cat(var_dic_list()) "
    }
   },
   "types_to_exclude": [
    "module",
    "function",
    "builtin_function_or_method",
    "instance",
    "_Feature"
   ],
   "window_display": false
  }
 },
 "nbformat": 4,
 "nbformat_minor": 2
}
