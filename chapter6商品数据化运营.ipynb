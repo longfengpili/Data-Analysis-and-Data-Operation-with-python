{
 "cells": [
  {
   "cell_type": "markdown",
   "metadata": {},
   "source": [
    "# KNN"
   ]
  },
  {
   "cell_type": "code",
   "execution_count": 1,
   "metadata": {
    "ExecuteTime": {
     "end_time": "2019-02-26T00:29:36.131463Z",
     "start_time": "2019-02-26T00:29:35.585547Z"
    }
   },
   "outputs": [
    {
     "data": {
      "text/plain": [
       "NearestNeighbors(algorithm='auto', leaf_size=30, metric='minkowski',\n",
       "         metric_params=None, n_jobs=None, n_neighbors=1, p=2, radius=1.0)"
      ]
     },
     "execution_count": 1,
     "metadata": {},
     "output_type": "execute_result"
    },
    {
     "data": {
      "text/plain": [
       "(array([[0.87177979]]), array([[2]], dtype=int64))"
      ]
     },
     "execution_count": 1,
     "metadata": {},
     "output_type": "execute_result"
    }
   ],
   "source": [
    "from sklearn.neighbors import NearestNeighbors\n",
    "X = [[0.0,0.1,0.6],[0.0,1.5,0.3],[1.2,1.6,0.5]]\n",
    "neigh = NearestNeighbors(n_neighbors=1)\n",
    "neigh.fit(X)\n",
    "new_X = [[1.,1.,1.1]]\n",
    "neigh.kneighbors(new_X)"
   ]
  },
  {
   "cell_type": "markdown",
   "metadata": {},
   "source": [
    "# 基于超参数优化的Grandient Boosting的销售预测"
   ]
  },
  {
   "cell_type": "code",
   "execution_count": 20,
   "metadata": {
    "ExecuteTime": {
     "end_time": "2019-02-26T00:36:00.170134Z",
     "start_time": "2019-02-26T00:36:00.167154Z"
    }
   },
   "outputs": [],
   "source": [
    "from sklearn.ensemble import GradientBoostingRegressor\n",
    "from sklearn.model_selection import GridSearchCV,train_test_split"
   ]
  },
  {
   "cell_type": "code",
   "execution_count": 3,
   "metadata": {
    "ExecuteTime": {
     "end_time": "2019-02-26T00:29:36.180376Z",
     "start_time": "2019-02-26T00:29:36.162391Z"
    }
   },
   "outputs": [
    {
     "data": {
      "text/html": [
       "<div>\n",
       "<style scoped>\n",
       "    .dataframe tbody tr th:only-of-type {\n",
       "        vertical-align: middle;\n",
       "    }\n",
       "\n",
       "    .dataframe tbody tr th {\n",
       "        vertical-align: top;\n",
       "    }\n",
       "\n",
       "    .dataframe thead th {\n",
       "        text-align: right;\n",
       "    }\n",
       "</style>\n",
       "<table border=\"1\" class=\"dataframe\">\n",
       "  <thead>\n",
       "    <tr style=\"text-align: right;\">\n",
       "      <th></th>\n",
       "      <th>limit_infor</th>\n",
       "      <th>campaign_type</th>\n",
       "      <th>campaign_level</th>\n",
       "      <th>product_level</th>\n",
       "      <th>resource_amount</th>\n",
       "      <th>email_rate</th>\n",
       "      <th>price</th>\n",
       "      <th>discount_rate</th>\n",
       "      <th>hour_resouces</th>\n",
       "      <th>campaign_fee</th>\n",
       "      <th>orders</th>\n",
       "    </tr>\n",
       "  </thead>\n",
       "  <tbody>\n",
       "    <tr>\n",
       "      <th>0</th>\n",
       "      <td>0</td>\n",
       "      <td>6</td>\n",
       "      <td>0</td>\n",
       "      <td>1</td>\n",
       "      <td>1</td>\n",
       "      <td>0.08</td>\n",
       "      <td>140.0</td>\n",
       "      <td>0.83</td>\n",
       "      <td>93</td>\n",
       "      <td>888</td>\n",
       "      <td>1981</td>\n",
       "    </tr>\n",
       "    <tr>\n",
       "      <th>1</th>\n",
       "      <td>0</td>\n",
       "      <td>0</td>\n",
       "      <td>0</td>\n",
       "      <td>1</td>\n",
       "      <td>1</td>\n",
       "      <td>0.10</td>\n",
       "      <td>144.0</td>\n",
       "      <td>0.75</td>\n",
       "      <td>150</td>\n",
       "      <td>836</td>\n",
       "      <td>986</td>\n",
       "    </tr>\n",
       "    <tr>\n",
       "      <th>2</th>\n",
       "      <td>0</td>\n",
       "      <td>1</td>\n",
       "      <td>1</td>\n",
       "      <td>1</td>\n",
       "      <td>1</td>\n",
       "      <td>0.12</td>\n",
       "      <td>149.0</td>\n",
       "      <td>0.84</td>\n",
       "      <td>86</td>\n",
       "      <td>1330</td>\n",
       "      <td>1416</td>\n",
       "    </tr>\n",
       "  </tbody>\n",
       "</table>\n",
       "</div>"
      ],
      "text/plain": [
       "   limit_infor  campaign_type  campaign_level  product_level  resource_amount  \\\n",
       "0            0              6               0              1                1   \n",
       "1            0              0               0              1                1   \n",
       "2            0              1               1              1                1   \n",
       "\n",
       "   email_rate  price  discount_rate  hour_resouces  campaign_fee  orders  \n",
       "0        0.08  140.0           0.83             93           888    1981  \n",
       "1        0.10  144.0           0.75            150           836     986  \n",
       "2        0.12  149.0           0.84             86          1330    1416  "
      ]
     },
     "execution_count": 3,
     "metadata": {},
     "output_type": "execute_result"
    }
   ],
   "source": [
    "with open('./datacode_for_book/chapter6/products_sales.txt') as f:\n",
    "    data = pd.read_csv(f)\n",
    "    \n",
    "data[:3]"
   ]
  },
  {
   "cell_type": "code",
   "execution_count": 4,
   "metadata": {
    "ExecuteTime": {
     "end_time": "2019-02-26T00:29:36.220582Z",
     "start_time": "2019-02-26T00:29:36.182338Z"
    }
   },
   "outputs": [
    {
     "data": {
      "text/html": [
       "<div>\n",
       "<style scoped>\n",
       "    .dataframe tbody tr th:only-of-type {\n",
       "        vertical-align: middle;\n",
       "    }\n",
       "\n",
       "    .dataframe tbody tr th {\n",
       "        vertical-align: top;\n",
       "    }\n",
       "\n",
       "    .dataframe thead th {\n",
       "        text-align: right;\n",
       "    }\n",
       "</style>\n",
       "<table border=\"1\" class=\"dataframe\">\n",
       "  <thead>\n",
       "    <tr style=\"text-align: right;\">\n",
       "      <th></th>\n",
       "      <th>count</th>\n",
       "      <th>mean</th>\n",
       "      <th>std</th>\n",
       "      <th>min</th>\n",
       "      <th>25%</th>\n",
       "      <th>50%</th>\n",
       "      <th>75%</th>\n",
       "      <th>max</th>\n",
       "    </tr>\n",
       "  </thead>\n",
       "  <tbody>\n",
       "    <tr>\n",
       "      <th>limit_infor</th>\n",
       "      <td>731.0</td>\n",
       "      <td>0.042408</td>\n",
       "      <td>0.404911</td>\n",
       "      <td>0.00</td>\n",
       "      <td>0.00</td>\n",
       "      <td>0.00</td>\n",
       "      <td>0.00</td>\n",
       "      <td>10.00</td>\n",
       "    </tr>\n",
       "    <tr>\n",
       "      <th>campaign_type</th>\n",
       "      <td>731.0</td>\n",
       "      <td>2.997264</td>\n",
       "      <td>2.004787</td>\n",
       "      <td>0.00</td>\n",
       "      <td>1.00</td>\n",
       "      <td>3.00</td>\n",
       "      <td>5.00</td>\n",
       "      <td>6.00</td>\n",
       "    </tr>\n",
       "    <tr>\n",
       "      <th>campaign_level</th>\n",
       "      <td>731.0</td>\n",
       "      <td>0.683995</td>\n",
       "      <td>0.465233</td>\n",
       "      <td>0.00</td>\n",
       "      <td>0.00</td>\n",
       "      <td>1.00</td>\n",
       "      <td>1.00</td>\n",
       "      <td>1.00</td>\n",
       "    </tr>\n",
       "    <tr>\n",
       "      <th>product_level</th>\n",
       "      <td>731.0</td>\n",
       "      <td>1.395349</td>\n",
       "      <td>0.544894</td>\n",
       "      <td>1.00</td>\n",
       "      <td>1.00</td>\n",
       "      <td>1.00</td>\n",
       "      <td>2.00</td>\n",
       "      <td>3.00</td>\n",
       "    </tr>\n",
       "    <tr>\n",
       "      <th>resource_amount</th>\n",
       "      <td>731.0</td>\n",
       "      <td>4.952120</td>\n",
       "      <td>1.838449</td>\n",
       "      <td>1.00</td>\n",
       "      <td>3.00</td>\n",
       "      <td>5.00</td>\n",
       "      <td>7.00</td>\n",
       "      <td>9.00</td>\n",
       "    </tr>\n",
       "    <tr>\n",
       "      <th>email_rate</th>\n",
       "      <td>731.0</td>\n",
       "      <td>0.474337</td>\n",
       "      <td>0.162913</td>\n",
       "      <td>0.08</td>\n",
       "      <td>0.34</td>\n",
       "      <td>0.49</td>\n",
       "      <td>0.61</td>\n",
       "      <td>0.84</td>\n",
       "    </tr>\n",
       "    <tr>\n",
       "      <th>price</th>\n",
       "      <td>729.0</td>\n",
       "      <td>162.812071</td>\n",
       "      <td>14.267136</td>\n",
       "      <td>100.00</td>\n",
       "      <td>152.00</td>\n",
       "      <td>163.00</td>\n",
       "      <td>173.00</td>\n",
       "      <td>197.00</td>\n",
       "    </tr>\n",
       "    <tr>\n",
       "      <th>discount_rate</th>\n",
       "      <td>731.0</td>\n",
       "      <td>0.809617</td>\n",
       "      <td>0.077679</td>\n",
       "      <td>0.49</td>\n",
       "      <td>0.77</td>\n",
       "      <td>0.82</td>\n",
       "      <td>0.87</td>\n",
       "      <td>0.98</td>\n",
       "    </tr>\n",
       "    <tr>\n",
       "      <th>hour_resouces</th>\n",
       "      <td>731.0</td>\n",
       "      <td>848.176471</td>\n",
       "      <td>686.622488</td>\n",
       "      <td>2.00</td>\n",
       "      <td>315.50</td>\n",
       "      <td>713.00</td>\n",
       "      <td>1096.00</td>\n",
       "      <td>3410.00</td>\n",
       "    </tr>\n",
       "    <tr>\n",
       "      <th>campaign_fee</th>\n",
       "      <td>731.0</td>\n",
       "      <td>3696.391245</td>\n",
       "      <td>1908.643139</td>\n",
       "      <td>20.00</td>\n",
       "      <td>2497.00</td>\n",
       "      <td>3662.00</td>\n",
       "      <td>4795.50</td>\n",
       "      <td>33380.00</td>\n",
       "    </tr>\n",
       "    <tr>\n",
       "      <th>orders</th>\n",
       "      <td>731.0</td>\n",
       "      <td>4531.079343</td>\n",
       "      <td>1932.532346</td>\n",
       "      <td>22.00</td>\n",
       "      <td>3199.00</td>\n",
       "      <td>4563.00</td>\n",
       "      <td>6011.50</td>\n",
       "      <td>8714.00</td>\n",
       "    </tr>\n",
       "  </tbody>\n",
       "</table>\n",
       "</div>"
      ],
      "text/plain": [
       "                 count         mean          std     min      25%      50%  \\\n",
       "limit_infor      731.0     0.042408     0.404911    0.00     0.00     0.00   \n",
       "campaign_type    731.0     2.997264     2.004787    0.00     1.00     3.00   \n",
       "campaign_level   731.0     0.683995     0.465233    0.00     0.00     1.00   \n",
       "product_level    731.0     1.395349     0.544894    1.00     1.00     1.00   \n",
       "resource_amount  731.0     4.952120     1.838449    1.00     3.00     5.00   \n",
       "email_rate       731.0     0.474337     0.162913    0.08     0.34     0.49   \n",
       "price            729.0   162.812071    14.267136  100.00   152.00   163.00   \n",
       "discount_rate    731.0     0.809617     0.077679    0.49     0.77     0.82   \n",
       "hour_resouces    731.0   848.176471   686.622488    2.00   315.50   713.00   \n",
       "campaign_fee     731.0  3696.391245  1908.643139   20.00  2497.00  3662.00   \n",
       "orders           731.0  4531.079343  1932.532346   22.00  3199.00  4563.00   \n",
       "\n",
       "                     75%       max  \n",
       "limit_infor         0.00     10.00  \n",
       "campaign_type       5.00      6.00  \n",
       "campaign_level      1.00      1.00  \n",
       "product_level       2.00      3.00  \n",
       "resource_amount     7.00      9.00  \n",
       "email_rate          0.61      0.84  \n",
       "price             173.00    197.00  \n",
       "discount_rate       0.87      0.98  \n",
       "hour_resouces    1096.00   3410.00  \n",
       "campaign_fee     4795.50  33380.00  \n",
       "orders           6011.50   8714.00  "
      ]
     },
     "execution_count": 4,
     "metadata": {},
     "output_type": "execute_result"
    }
   ],
   "source": [
    "data.describe(include='all').T"
   ]
  },
  {
   "cell_type": "code",
   "execution_count": 5,
   "metadata": {
    "ExecuteTime": {
     "end_time": "2019-02-26T00:29:36.239025Z",
     "start_time": "2019-02-26T00:29:36.222559Z"
    }
   },
   "outputs": [
    {
     "data": {
      "text/plain": [
       "0     709\n",
       "1      21\n",
       "10      1\n",
       "Name: limit_infor, dtype: int64"
      ]
     },
     "execution_count": 5,
     "metadata": {},
     "output_type": "execute_result"
    },
    {
     "data": {
      "text/plain": [
       "0    105\n",
       "1    105\n",
       "2    104\n",
       "3    104\n",
       "4    104\n",
       "5    104\n",
       "6    105\n",
       "Name: campaign_type, dtype: int64"
      ]
     },
     "execution_count": 5,
     "metadata": {},
     "output_type": "execute_result"
    },
    {
     "data": {
      "text/plain": [
       "0    231\n",
       "1    500\n",
       "Name: campaign_level, dtype: int64"
      ]
     },
     "execution_count": 5,
     "metadata": {},
     "output_type": "execute_result"
    },
    {
     "data": {
      "text/plain": [
       "1    463\n",
       "2    247\n",
       "3     21\n",
       "Name: product_level, dtype: int64"
      ]
     },
     "execution_count": 5,
     "metadata": {},
     "output_type": "execute_result"
    }
   ],
   "source": [
    "col_names = ['limit_infor','campaign_type','campaign_level','product_level']\n",
    "for col_name in col_names:\n",
    "    data[col_name].value_counts().sort_index()"
   ]
  },
  {
   "cell_type": "code",
   "execution_count": 6,
   "metadata": {
    "ExecuteTime": {
     "end_time": "2019-02-26T00:29:36.249104Z",
     "start_time": "2019-02-26T00:29:36.240020Z"
    }
   },
   "outputs": [
    {
     "name": "stdout",
     "output_type": "stream",
     "text": [
      "**************************NA Cols:**************************\n",
      "limit_infor        False\n",
      "campaign_type      False\n",
      "campaign_level     False\n",
      "product_level      False\n",
      "resource_amount    False\n",
      "email_rate         False\n",
      "price               True\n",
      "discount_rate      False\n",
      "hour_resouces      False\n",
      "campaign_fee       False\n",
      "orders             False\n",
      "dtype: bool\n",
      "Total number of NA lines is: 2\n"
     ]
    }
   ],
   "source": [
    "# 缺失值审查\n",
    "na_cols = data.isnull().any(axis=0)  # 查看每一列是否具有缺失值\n",
    "print ('{:*^60}'.format('NA Cols:'))\n",
    "print (na_cols)  # 查看具有缺失值的列\n",
    "na_lines = data.isnull().any(axis=1)  # 查看每一行是否具有缺失值\n",
    "print ('Total number of NA lines is: {0}'.format(na_lines.sum()))  # 查看具有缺失值的行总记录数"
   ]
  },
  {
   "cell_type": "code",
   "execution_count": 7,
   "metadata": {
    "ExecuteTime": {
     "end_time": "2019-02-26T00:29:36.554693Z",
     "start_time": "2019-02-26T00:29:36.249104Z"
    }
   },
   "outputs": [
    {
     "name": "stdout",
     "output_type": "stream",
     "text": [
      "********************Correlation Analyze:********************\n",
      "          li    ct    cl    pl    ra    er  price    dr    hr    cf  orders\n",
      "li      1.00 -0.03 -0.08 -0.04  0.05  0.04  -0.02  0.00  0.01 -0.04   -0.02\n",
      "ct     -0.03  1.00  0.04  0.03  0.01 -0.01  -0.05 -0.01  0.06  0.06    0.06\n",
      "cl     -0.08  0.04  1.00  0.06  0.05  0.05   0.02  0.02 -0.52  0.26    0.05\n",
      "pl     -0.04  0.03  0.06  1.00 -0.12 -0.12   0.59 -0.04 -0.25 -0.23   -0.30\n",
      "ra      0.05  0.01  0.05 -0.12  1.00  0.98   0.13  0.15  0.54  0.46    0.62\n",
      "er      0.04 -0.01  0.05 -0.12  0.98  1.00   0.14  0.18  0.54  0.47    0.63\n",
      "price  -0.02 -0.05  0.02  0.59  0.13  0.14   1.00  0.25 -0.08 -0.11   -0.10\n",
      "dr      0.00 -0.01  0.02 -0.04  0.15  0.18   0.25  1.00  0.17  0.19    0.23\n",
      "hr      0.01  0.06 -0.52 -0.25  0.54  0.54  -0.08  0.17  1.00  0.32    0.66\n",
      "cf     -0.04  0.06  0.26 -0.23  0.46  0.47  -0.11  0.19  0.32  1.00    0.76\n",
      "orders -0.02  0.06  0.05 -0.30  0.62  0.63  -0.10  0.23  0.66  0.76    1.00\n",
      "{'limit_infor': 'li', 'campaign_type': 'ct', 'campaign_level': 'cl', 'product_level': 'pl', 'resource_amount': 'ra', 'email_rate': 'er', 'price': 'price', 'discount_rate': 'dr', 'hour_resouces': 'hr', 'campaign_fee': 'cf', 'orders': 'orders'}\n"
     ]
    },
    {
     "data": {
      "text/plain": [
       "<Figure size 720x432 with 0 Axes>"
      ]
     },
     "execution_count": 7,
     "metadata": {},
     "output_type": "execute_result"
    },
    {
     "data": {
      "text/plain": [
       "<matplotlib.image.AxesImage at 0x1ec542062e8>"
      ]
     },
     "execution_count": 7,
     "metadata": {},
     "output_type": "execute_result"
    },
    {
     "data": {
      "text/plain": [
       "([<matplotlib.axis.XTick at 0x1ec53f86908>,\n",
       "  <matplotlib.axis.XTick at 0x1ec53f86278>,\n",
       "  <matplotlib.axis.XTick at 0x1ec53f86160>,\n",
       "  <matplotlib.axis.XTick at 0x1ec54206710>,\n",
       "  <matplotlib.axis.XTick at 0x1ec54206d30>,\n",
       "  <matplotlib.axis.XTick at 0x1ec54216240>,\n",
       "  <matplotlib.axis.XTick at 0x1ec54216710>,\n",
       "  <matplotlib.axis.XTick at 0x1ec54216be0>,\n",
       "  <matplotlib.axis.XTick at 0x1ec5421f160>,\n",
       "  <matplotlib.axis.XTick at 0x1ec542166d8>,\n",
       "  <matplotlib.axis.XTick at 0x1ec54206908>],\n",
       " <a list of 11 Text xticklabel objects>)"
      ]
     },
     "execution_count": 7,
     "metadata": {},
     "output_type": "execute_result"
    },
    {
     "data": {
      "text/plain": [
       "([<matplotlib.axis.YTick at 0x1ec53f9a668>,\n",
       "  <matplotlib.axis.YTick at 0x1ec53f86f60>,\n",
       "  <matplotlib.axis.YTick at 0x1ec53f6e9e8>,\n",
       "  <matplotlib.axis.YTick at 0x1ec5421f940>,\n",
       "  <matplotlib.axis.YTick at 0x1ec54227198>,\n",
       "  <matplotlib.axis.YTick at 0x1ec54227630>,\n",
       "  <matplotlib.axis.YTick at 0x1ec54227b00>,\n",
       "  <matplotlib.axis.YTick at 0x1ec54227d30>,\n",
       "  <matplotlib.axis.YTick at 0x1ec542314e0>,\n",
       "  <matplotlib.axis.YTick at 0x1ec54227ac8>,\n",
       "  <matplotlib.axis.YTick at 0x1ec5421f630>],\n",
       " <a list of 11 Text yticklabel objects>)"
      ]
     },
     "execution_count": 7,
     "metadata": {},
     "output_type": "execute_result"
    },
    {
     "data": {
      "text/plain": [
       "<matplotlib.colorbar.Colorbar at 0x1ec5425d9e8>"
      ]
     },
     "execution_count": 7,
     "metadata": {},
     "output_type": "execute_result"
    },
    {
     "data": {
      "image/png": "[encoded data removed]",
      "text/plain": [
       "<Figure size 720x432 with 2 Axes>"
      ]
     },
     "metadata": {
      "needs_background": "light"
     },
     "output_type": "display_data"
    }
   ],
   "source": [
    "# 相关性分析\n",
    "print ('{:*^60}'.format('Correlation Analyze:'))\n",
    "short_name = ['li', 'ct', 'cl', 'pl', 'ra', 'er', 'price', 'dr', 'hr', 'cf', 'orders']\n",
    "long_name = data.columns\n",
    "name_dict = dict(zip(long_name, short_name))\n",
    "print (data.corr().round(2).rename(index=name_dict, columns=name_dict))  # 输出所有输入特征变量以及预测变量的相关性矩阵\n",
    "print (name_dict)\n",
    "plt.figure(figsize=(10,6))\n",
    "plt.imshow(data.corr().round(2))\n",
    "plt.xticks(np.arange(11),('li', 'ct', 'cl', 'pl', 'ra', 'er', 'price', 'dr', 'hr', 'cf', 'orders'))\n",
    "plt.yticks(np.arange(11),('li', 'ct', 'cl', 'pl', 'ra', 'er', 'price', 'dr', 'hr', 'cf', 'orders'))\n",
    "plt.colorbar()\n"
   ]
  },
  {
   "cell_type": "code",
   "execution_count": 8,
   "metadata": {
    "ExecuteTime": {
     "end_time": "2019-02-26T00:29:36.569685Z",
     "start_time": "2019-02-26T00:29:36.555691Z"
    }
   },
   "outputs": [
    {
     "data": {
      "text/html": [
       "<div>\n",
       "<style scoped>\n",
       "    .dataframe tbody tr th:only-of-type {\n",
       "        vertical-align: middle;\n",
       "    }\n",
       "\n",
       "    .dataframe tbody tr th {\n",
       "        vertical-align: top;\n",
       "    }\n",
       "\n",
       "    .dataframe thead th {\n",
       "        text-align: right;\n",
       "    }\n",
       "</style>\n",
       "<table border=\"1\" class=\"dataframe\">\n",
       "  <thead>\n",
       "    <tr style=\"text-align: right;\">\n",
       "      <th></th>\n",
       "      <th>limit_infor</th>\n",
       "      <th>campaign_type</th>\n",
       "      <th>campaign_level</th>\n",
       "      <th>product_level</th>\n",
       "      <th>resource_amount</th>\n",
       "      <th>email_rate</th>\n",
       "      <th>price</th>\n",
       "      <th>discount_rate</th>\n",
       "      <th>hour_resouces</th>\n",
       "      <th>campaign_fee</th>\n",
       "      <th>orders</th>\n",
       "    </tr>\n",
       "  </thead>\n",
       "  <tbody>\n",
       "    <tr>\n",
       "      <th>0</th>\n",
       "      <td>0</td>\n",
       "      <td>6</td>\n",
       "      <td>0</td>\n",
       "      <td>1</td>\n",
       "      <td>1</td>\n",
       "      <td>0.08</td>\n",
       "      <td>140.0</td>\n",
       "      <td>0.83</td>\n",
       "      <td>93</td>\n",
       "      <td>888</td>\n",
       "      <td>1981</td>\n",
       "    </tr>\n",
       "    <tr>\n",
       "      <th>1</th>\n",
       "      <td>0</td>\n",
       "      <td>0</td>\n",
       "      <td>0</td>\n",
       "      <td>1</td>\n",
       "      <td>1</td>\n",
       "      <td>0.10</td>\n",
       "      <td>144.0</td>\n",
       "      <td>0.75</td>\n",
       "      <td>150</td>\n",
       "      <td>836</td>\n",
       "      <td>986</td>\n",
       "    </tr>\n",
       "    <tr>\n",
       "      <th>2</th>\n",
       "      <td>0</td>\n",
       "      <td>1</td>\n",
       "      <td>1</td>\n",
       "      <td>1</td>\n",
       "      <td>1</td>\n",
       "      <td>0.12</td>\n",
       "      <td>149.0</td>\n",
       "      <td>0.84</td>\n",
       "      <td>86</td>\n",
       "      <td>1330</td>\n",
       "      <td>1416</td>\n",
       "    </tr>\n",
       "  </tbody>\n",
       "</table>\n",
       "</div>"
      ],
      "text/plain": [
       "   limit_infor  campaign_type  campaign_level  product_level  resource_amount  \\\n",
       "0            0              6               0              1                1   \n",
       "1            0              0               0              1                1   \n",
       "2            0              1               1              1                1   \n",
       "\n",
       "   email_rate  price  discount_rate  hour_resouces  campaign_fee  orders  \n",
       "0        0.08  140.0           0.83             93           888    1981  \n",
       "1        0.10  144.0           0.75            150           836     986  \n",
       "2        0.12  149.0           0.84             86          1330    1416  "
      ]
     },
     "execution_count": 8,
     "metadata": {},
     "output_type": "execute_result"
    }
   ],
   "source": [
    "#缺失值\n",
    "data['price'] = data['price'].fillna(data.price.mean())\n",
    "data[:3]"
   ]
  },
  {
   "cell_type": "code",
   "execution_count": 9,
   "metadata": {
    "ExecuteTime": {
     "end_time": "2019-02-26T00:29:36.586397Z",
     "start_time": "2019-02-26T00:29:36.571162Z"
    }
   },
   "outputs": [
    {
     "data": {
      "text/html": [
       "<div>\n",
       "<style scoped>\n",
       "    .dataframe tbody tr th:only-of-type {\n",
       "        vertical-align: middle;\n",
       "    }\n",
       "\n",
       "    .dataframe tbody tr th {\n",
       "        vertical-align: top;\n",
       "    }\n",
       "\n",
       "    .dataframe thead th {\n",
       "        text-align: right;\n",
       "    }\n",
       "</style>\n",
       "<table border=\"1\" class=\"dataframe\">\n",
       "  <thead>\n",
       "    <tr style=\"text-align: right;\">\n",
       "      <th></th>\n",
       "      <th>limit_infor</th>\n",
       "      <th>campaign_type</th>\n",
       "      <th>campaign_level</th>\n",
       "      <th>product_level</th>\n",
       "      <th>resource_amount</th>\n",
       "      <th>email_rate</th>\n",
       "      <th>price</th>\n",
       "      <th>discount_rate</th>\n",
       "      <th>hour_resouces</th>\n",
       "      <th>campaign_fee</th>\n",
       "      <th>orders</th>\n",
       "    </tr>\n",
       "  </thead>\n",
       "  <tbody>\n",
       "    <tr>\n",
       "      <th>0</th>\n",
       "      <td>0</td>\n",
       "      <td>6</td>\n",
       "      <td>0</td>\n",
       "      <td>1</td>\n",
       "      <td>1</td>\n",
       "      <td>0.08</td>\n",
       "      <td>140.0</td>\n",
       "      <td>0.83</td>\n",
       "      <td>93</td>\n",
       "      <td>888</td>\n",
       "      <td>1981</td>\n",
       "    </tr>\n",
       "    <tr>\n",
       "      <th>1</th>\n",
       "      <td>0</td>\n",
       "      <td>0</td>\n",
       "      <td>0</td>\n",
       "      <td>1</td>\n",
       "      <td>1</td>\n",
       "      <td>0.10</td>\n",
       "      <td>144.0</td>\n",
       "      <td>0.75</td>\n",
       "      <td>150</td>\n",
       "      <td>836</td>\n",
       "      <td>986</td>\n",
       "    </tr>\n",
       "    <tr>\n",
       "      <th>2</th>\n",
       "      <td>0</td>\n",
       "      <td>1</td>\n",
       "      <td>1</td>\n",
       "      <td>1</td>\n",
       "      <td>1</td>\n",
       "      <td>0.12</td>\n",
       "      <td>149.0</td>\n",
       "      <td>0.84</td>\n",
       "      <td>86</td>\n",
       "      <td>1330</td>\n",
       "      <td>1416</td>\n",
       "    </tr>\n",
       "  </tbody>\n",
       "</table>\n",
       "</div>"
      ],
      "text/plain": [
       "   limit_infor  campaign_type  campaign_level  product_level  resource_amount  \\\n",
       "0            0              6               0              1                1   \n",
       "1            0              0               0              1                1   \n",
       "2            0              1               1              1                1   \n",
       "\n",
       "   email_rate  price  discount_rate  hour_resouces  campaign_fee  orders  \n",
       "0        0.08  140.0           0.83             93           888    1981  \n",
       "1        0.10  144.0           0.75            150           836     986  \n",
       "2        0.12  149.0           0.84             86          1330    1416  "
      ]
     },
     "execution_count": 9,
     "metadata": {},
     "output_type": "execute_result"
    }
   ],
   "source": [
    "#只保留促销0和1的记录\n",
    "sales_data = data[data['limit_infor'].isin([0,1])]\n",
    "sales_data[:3]"
   ]
  },
  {
   "cell_type": "code",
   "execution_count": 10,
   "metadata": {
    "ExecuteTime": {
     "end_time": "2019-02-26T00:29:36.760617Z",
     "start_time": "2019-02-26T00:29:36.589388Z"
    }
   },
   "outputs": [
    {
     "data": {
      "text/plain": [
       "(-13.36, 6692.0]      717\n",
       "(6692.0, 13364.0]      13\n",
       "(26708.0, 33380.0]      1\n",
       "(20036.0, 26708.0]      0\n",
       "(13364.0, 20036.0]      0\n",
       "Name: campaign_fee, dtype: int64"
      ]
     },
     "execution_count": 10,
     "metadata": {},
     "output_type": "execute_result"
    },
    {
     "data": {
      "text/plain": [
       "<matplotlib.axes._subplots.AxesSubplot at 0x1ec53f2f940>"
      ]
     },
     "execution_count": 10,
     "metadata": {},
     "output_type": "execute_result"
    },
    {
     "data": {
      "image/png": "[encoded data removed]",
      "text/plain": [
       "<Figure size 720x360 with 1 Axes>"
      ]
     },
     "metadata": {
      "needs_background": "light"
     },
     "output_type": "display_data"
    }
   ],
   "source": [
    "pd.cut(data['campaign_fee'],bins=5).value_counts()\n",
    "data['campaign_fee'].plot(kind='box',figsize=(10,5))"
   ]
  },
  {
   "cell_type": "code",
   "execution_count": 18,
   "metadata": {
    "ExecuteTime": {
     "end_time": "2019-02-26T00:31:34.188494Z",
     "start_time": "2019-02-26T00:31:34.143615Z"
    }
   },
   "outputs": [
    {
     "name": "stderr",
     "output_type": "stream",
     "text": [
      "f:\\ProgramData\\Anaconda3\\envs\\normal\\lib\\site-packages\\pandas\\core\\indexing.py:543: SettingWithCopyWarning: \n",
      "A value is trying to be set on a copy of a slice from a DataFrame.\n",
      "Try using .loc[row_indexer,col_indexer] = value instead\n",
      "\n",
      "See the caveats in the documentation: http://pandas.pydata.org/pandas-docs/stable/indexing.html#indexing-view-versus-copy\n",
      "  self.obj[item] = s\n"
     ]
    },
    {
     "data": {
      "text/plain": [
       "limit_infor           0.000000\n",
       "campaign_type         4.000000\n",
       "campaign_level        1.000000\n",
       "product_level         1.000000\n",
       "resource_amount       7.000000\n",
       "email_rate            0.650000\n",
       "price               142.000000\n",
       "discount_rate         0.840000\n",
       "hour_resouces       812.000000\n",
       "campaign_fee       3696.271233\n",
       "orders             4792.000000\n",
       "Name: 633, dtype: float64"
      ]
     },
     "execution_count": 18,
     "metadata": {},
     "output_type": "execute_result"
    }
   ],
   "source": [
    "sales_data.loc[:,'campaign_fee'] = sales_data['campaign_fee'].replace(33380,sales_data['campaign_fee'].mean())\n",
    "sales_data.loc[633,:]"
   ]
  },
  {
   "cell_type": "code",
   "execution_count": 19,
   "metadata": {
    "ExecuteTime": {
     "end_time": "2019-02-26T00:32:53.452455Z",
     "start_time": "2019-02-26T00:32:53.409195Z"
    }
   },
   "outputs": [
    {
     "data": {
      "text/html": [
       "<div>\n",
       "<style scoped>\n",
       "    .dataframe tbody tr th:only-of-type {\n",
       "        vertical-align: middle;\n",
       "    }\n",
       "\n",
       "    .dataframe tbody tr th {\n",
       "        vertical-align: top;\n",
       "    }\n",
       "\n",
       "    .dataframe thead th {\n",
       "        text-align: right;\n",
       "    }\n",
       "</style>\n",
       "<table border=\"1\" class=\"dataframe\">\n",
       "  <thead>\n",
       "    <tr style=\"text-align: right;\">\n",
       "      <th></th>\n",
       "      <th>count</th>\n",
       "      <th>mean</th>\n",
       "      <th>std</th>\n",
       "      <th>min</th>\n",
       "      <th>25%</th>\n",
       "      <th>50%</th>\n",
       "      <th>75%</th>\n",
       "      <th>max</th>\n",
       "    </tr>\n",
       "  </thead>\n",
       "  <tbody>\n",
       "    <tr>\n",
       "      <th>limit_infor</th>\n",
       "      <td>730.0</td>\n",
       "      <td>0.03</td>\n",
       "      <td>0.17</td>\n",
       "      <td>0.00</td>\n",
       "      <td>0.00</td>\n",
       "      <td>0.00</td>\n",
       "      <td>0.00</td>\n",
       "      <td>1.00</td>\n",
       "    </tr>\n",
       "    <tr>\n",
       "      <th>campaign_type</th>\n",
       "      <td>730.0</td>\n",
       "      <td>3.00</td>\n",
       "      <td>2.01</td>\n",
       "      <td>0.00</td>\n",
       "      <td>1.00</td>\n",
       "      <td>3.00</td>\n",
       "      <td>5.00</td>\n",
       "      <td>6.00</td>\n",
       "    </tr>\n",
       "    <tr>\n",
       "      <th>campaign_level</th>\n",
       "      <td>730.0</td>\n",
       "      <td>0.68</td>\n",
       "      <td>0.47</td>\n",
       "      <td>0.00</td>\n",
       "      <td>0.00</td>\n",
       "      <td>1.00</td>\n",
       "      <td>1.00</td>\n",
       "      <td>1.00</td>\n",
       "    </tr>\n",
       "    <tr>\n",
       "      <th>product_level</th>\n",
       "      <td>730.0</td>\n",
       "      <td>1.40</td>\n",
       "      <td>0.55</td>\n",
       "      <td>1.00</td>\n",
       "      <td>1.00</td>\n",
       "      <td>1.00</td>\n",
       "      <td>2.00</td>\n",
       "      <td>3.00</td>\n",
       "    </tr>\n",
       "    <tr>\n",
       "      <th>resource_amount</th>\n",
       "      <td>730.0</td>\n",
       "      <td>4.95</td>\n",
       "      <td>1.84</td>\n",
       "      <td>1.00</td>\n",
       "      <td>3.00</td>\n",
       "      <td>5.00</td>\n",
       "      <td>7.00</td>\n",
       "      <td>9.00</td>\n",
       "    </tr>\n",
       "    <tr>\n",
       "      <th>email_rate</th>\n",
       "      <td>730.0</td>\n",
       "      <td>0.47</td>\n",
       "      <td>0.16</td>\n",
       "      <td>0.08</td>\n",
       "      <td>0.34</td>\n",
       "      <td>0.48</td>\n",
       "      <td>0.61</td>\n",
       "      <td>0.84</td>\n",
       "    </tr>\n",
       "    <tr>\n",
       "      <th>price</th>\n",
       "      <td>730.0</td>\n",
       "      <td>162.82</td>\n",
       "      <td>14.26</td>\n",
       "      <td>100.00</td>\n",
       "      <td>152.00</td>\n",
       "      <td>163.00</td>\n",
       "      <td>173.00</td>\n",
       "      <td>197.00</td>\n",
       "    </tr>\n",
       "    <tr>\n",
       "      <th>discount_rate</th>\n",
       "      <td>730.0</td>\n",
       "      <td>0.81</td>\n",
       "      <td>0.08</td>\n",
       "      <td>0.49</td>\n",
       "      <td>0.77</td>\n",
       "      <td>0.82</td>\n",
       "      <td>0.87</td>\n",
       "      <td>0.98</td>\n",
       "    </tr>\n",
       "    <tr>\n",
       "      <th>hour_resouces</th>\n",
       "      <td>730.0</td>\n",
       "      <td>848.51</td>\n",
       "      <td>687.03</td>\n",
       "      <td>2.00</td>\n",
       "      <td>315.25</td>\n",
       "      <td>717.00</td>\n",
       "      <td>1096.50</td>\n",
       "      <td>3410.00</td>\n",
       "    </tr>\n",
       "    <tr>\n",
       "      <th>campaign_fee</th>\n",
       "      <td>730.0</td>\n",
       "      <td>3655.61</td>\n",
       "      <td>1561.27</td>\n",
       "      <td>20.00</td>\n",
       "      <td>2495.00</td>\n",
       "      <td>3660.00</td>\n",
       "      <td>4783.25</td>\n",
       "      <td>6946.00</td>\n",
       "    </tr>\n",
       "    <tr>\n",
       "      <th>orders</th>\n",
       "      <td>730.0</td>\n",
       "      <td>4531.27</td>\n",
       "      <td>1933.85</td>\n",
       "      <td>22.00</td>\n",
       "      <td>3196.50</td>\n",
       "      <td>4566.00</td>\n",
       "      <td>6021.25</td>\n",
       "      <td>8714.00</td>\n",
       "    </tr>\n",
       "  </tbody>\n",
       "</table>\n",
       "</div>"
      ],
      "text/plain": [
       "                 count     mean      std     min      25%      50%      75%  \\\n",
       "limit_infor      730.0     0.03     0.17    0.00     0.00     0.00     0.00   \n",
       "campaign_type    730.0     3.00     2.01    0.00     1.00     3.00     5.00   \n",
       "campaign_level   730.0     0.68     0.47    0.00     0.00     1.00     1.00   \n",
       "product_level    730.0     1.40     0.55    1.00     1.00     1.00     2.00   \n",
       "resource_amount  730.0     4.95     1.84    1.00     3.00     5.00     7.00   \n",
       "email_rate       730.0     0.47     0.16    0.08     0.34     0.48     0.61   \n",
       "price            730.0   162.82    14.26  100.00   152.00   163.00   173.00   \n",
       "discount_rate    730.0     0.81     0.08    0.49     0.77     0.82     0.87   \n",
       "hour_resouces    730.0   848.51   687.03    2.00   315.25   717.00  1096.50   \n",
       "campaign_fee     730.0  3655.61  1561.27   20.00  2495.00  3660.00  4783.25   \n",
       "orders           730.0  4531.27  1933.85   22.00  3196.50  4566.00  6021.25   \n",
       "\n",
       "                     max  \n",
       "limit_infor         1.00  \n",
       "campaign_type       6.00  \n",
       "campaign_level      1.00  \n",
       "product_level       3.00  \n",
       "resource_amount     9.00  \n",
       "email_rate          0.84  \n",
       "price             197.00  \n",
       "discount_rate       0.98  \n",
       "hour_resouces    3410.00  \n",
       "campaign_fee     6946.00  \n",
       "orders           8714.00  "
      ]
     },
     "execution_count": 19,
     "metadata": {},
     "output_type": "execute_result"
    }
   ],
   "source": [
    "sales_data.describe().T.round(2)"
   ]
  },
  {
   "cell_type": "code",
   "execution_count": 26,
   "metadata": {
    "ExecuteTime": {
     "end_time": "2019-02-26T00:38:34.773702Z",
     "start_time": "2019-02-26T00:38:34.759643Z"
    }
   },
   "outputs": [
    {
     "data": {
      "text/html": [
       "<div>\n",
       "<style scoped>\n",
       "    .dataframe tbody tr th:only-of-type {\n",
       "        vertical-align: middle;\n",
       "    }\n",
       "\n",
       "    .dataframe tbody tr th {\n",
       "        vertical-align: top;\n",
       "    }\n",
       "\n",
       "    .dataframe thead th {\n",
       "        text-align: right;\n",
       "    }\n",
       "</style>\n",
       "<table border=\"1\" class=\"dataframe\">\n",
       "  <thead>\n",
       "    <tr style=\"text-align: right;\">\n",
       "      <th></th>\n",
       "      <th>limit_infor</th>\n",
       "      <th>campaign_type</th>\n",
       "      <th>campaign_level</th>\n",
       "      <th>product_level</th>\n",
       "      <th>resource_amount</th>\n",
       "      <th>email_rate</th>\n",
       "      <th>price</th>\n",
       "      <th>discount_rate</th>\n",
       "      <th>hour_resouces</th>\n",
       "      <th>campaign_fee</th>\n",
       "    </tr>\n",
       "  </thead>\n",
       "  <tbody>\n",
       "    <tr>\n",
       "      <th>0</th>\n",
       "      <td>0</td>\n",
       "      <td>6</td>\n",
       "      <td>0</td>\n",
       "      <td>1</td>\n",
       "      <td>1</td>\n",
       "      <td>0.08</td>\n",
       "      <td>140.0</td>\n",
       "      <td>0.83</td>\n",
       "      <td>93</td>\n",
       "      <td>888.0</td>\n",
       "    </tr>\n",
       "    <tr>\n",
       "      <th>1</th>\n",
       "      <td>0</td>\n",
       "      <td>0</td>\n",
       "      <td>0</td>\n",
       "      <td>1</td>\n",
       "      <td>1</td>\n",
       "      <td>0.10</td>\n",
       "      <td>144.0</td>\n",
       "      <td>0.75</td>\n",
       "      <td>150</td>\n",
       "      <td>836.0</td>\n",
       "    </tr>\n",
       "    <tr>\n",
       "      <th>2</th>\n",
       "      <td>0</td>\n",
       "      <td>1</td>\n",
       "      <td>1</td>\n",
       "      <td>1</td>\n",
       "      <td>1</td>\n",
       "      <td>0.12</td>\n",
       "      <td>149.0</td>\n",
       "      <td>0.84</td>\n",
       "      <td>86</td>\n",
       "      <td>1330.0</td>\n",
       "    </tr>\n",
       "  </tbody>\n",
       "</table>\n",
       "</div>"
      ],
      "text/plain": [
       "   limit_infor  campaign_type  campaign_level  product_level  resource_amount  \\\n",
       "0            0              6               0              1                1   \n",
       "1            0              0               0              1                1   \n",
       "2            0              1               1              1                1   \n",
       "\n",
       "   email_rate  price  discount_rate  hour_resouces  campaign_fee  \n",
       "0        0.08  140.0           0.83             93         888.0  \n",
       "1        0.10  144.0           0.75            150         836.0  \n",
       "2        0.12  149.0           0.84             86        1330.0  "
      ]
     },
     "execution_count": 26,
     "metadata": {},
     "output_type": "execute_result"
    },
    {
     "data": {
      "text/plain": [
       "0    1981\n",
       "1     986\n",
       "2    1416\n",
       "Name: orders, dtype: int64"
      ]
     },
     "execution_count": 26,
     "metadata": {},
     "output_type": "execute_result"
    }
   ],
   "source": [
    "X = sales_data.iloc[:,:-1]\n",
    "y = sales_data.iloc[:,-1]\n",
    "X[:3]\n",
    "y[:3]"
   ]
  },
  {
   "cell_type": "code",
   "execution_count": 28,
   "metadata": {
    "ExecuteTime": {
     "end_time": "2019-02-26T00:43:45.283583Z",
     "start_time": "2019-02-26T00:43:10.398909Z"
    }
   },
   "outputs": [
    {
     "data": {
      "text/plain": [
       "GridSearchCV(cv=5, error_score='raise-deprecating',\n",
       "       estimator=GradientBoostingRegressor(alpha=0.9, criterion='friedman_mse', init=None,\n",
       "             learning_rate=0.1, loss='ls', max_depth=3, max_features=None,\n",
       "             max_leaf_nodes=None, min_impurity_decrease=0.0,\n",
       "             min_impurity_split=None, min_samples_leaf=1,\n",
       "             min_sampl...=None, subsample=1.0, tol=0.0001,\n",
       "             validation_fraction=0.1, verbose=0, warm_start=False),\n",
       "       fit_params=None, iid='warn', n_jobs=None,\n",
       "       param_grid={'loss': ['ls', 'lad', 'huber', 'quantile'], 'min_samples_leaf': array([1, 2, 3, 4, 5]), 'alpha': [0.1, 0.3, 0.6, 0.9]},\n",
       "       pre_dispatch='2*n_jobs', refit=True, return_train_score='warn',\n",
       "       scoring=None, verbose=0)"
      ]
     },
     "execution_count": 28,
     "metadata": {},
     "output_type": "execute_result"
    },
    {
     "data": {
      "text/plain": [
       "GridSearchCV(cv=5, error_score='raise-deprecating',\n",
       "       estimator=GradientBoostingRegressor(alpha=0.9, criterion='friedman_mse', init=None,\n",
       "             learning_rate=0.1, loss='ls', max_depth=3, max_features=None,\n",
       "             max_leaf_nodes=None, min_impurity_decrease=0.0,\n",
       "             min_impurity_split=None, min_samples_leaf=1,\n",
       "             min_sampl...=None, subsample=1.0, tol=0.0001,\n",
       "             validation_fraction=0.1, verbose=0, warm_start=False),\n",
       "       fit_params=None, iid='warn', n_jobs=None,\n",
       "       param_grid={'loss': ['ls', 'lad', 'huber', 'quantile'], 'min_samples_leaf': array([1, 2, 3, 4, 5]), 'alpha': [0.1, 0.3, 0.6, 0.9]},\n",
       "       pre_dispatch='2*n_jobs', refit=True, return_train_score='warn',\n",
       "       scoring=None, verbose=0)"
      ]
     },
     "execution_count": 28,
     "metadata": {},
     "output_type": "execute_result"
    }
   ],
   "source": [
    "model_gbr = GradientBoostingRegressor()\n",
    "params = {'loss':['ls','lad','huber','quantile'],\n",
    "         'min_samples_leaf':np.arange(1,6),\n",
    "         'alpha':[0.1,0.3,0.6,0.9]}\n",
    "model_gs = GridSearchCV(estimator=model_gbr,param_grid=params,cv=5)\n",
    "model_gs.fit(X,y)\n",
    "model_gs"
   ]
  },
  {
   "cell_type": "code",
   "execution_count": 29,
   "metadata": {
    "ExecuteTime": {
     "end_time": "2019-02-26T00:46:52.017871Z",
     "start_time": "2019-02-26T00:46:52.011906Z"
    }
   },
   "outputs": [
    {
     "data": {
      "text/plain": [
       "0.9313814801181295"
      ]
     },
     "execution_count": 29,
     "metadata": {},
     "output_type": "execute_result"
    },
    {
     "data": {
      "text/plain": [
       "{'alpha': 0.9, 'loss': 'huber', 'min_samples_leaf': 3}"
      ]
     },
     "execution_count": 29,
     "metadata": {},
     "output_type": "execute_result"
    }
   ],
   "source": [
    "model_gs.best_score_\n",
    "model_gs.best_params_"
   ]
  },
  {
   "cell_type": "code",
   "execution_count": 31,
   "metadata": {
    "ExecuteTime": {
     "end_time": "2019-02-26T00:48:30.999901Z",
     "start_time": "2019-02-26T00:48:30.482398Z"
    }
   },
   "outputs": [
    {
     "data": {
      "text/plain": [
       "GradientBoostingRegressor(alpha=0.9, criterion='friedman_mse', init=None,\n",
       "             learning_rate=0.1, loss='huber', max_depth=3,\n",
       "             max_features=None, max_leaf_nodes=None,\n",
       "             min_impurity_decrease=0.0, min_impurity_split=None,\n",
       "             min_samples_leaf=3, min_samples_split=2,\n",
       "             min_weight_fraction_leaf=0.0, n_estimators=100,\n",
       "             n_iter_no_change=None, presort='auto', random_state=None,\n",
       "             subsample=1.0, tol=0.0001, validation_fraction=0.1, verbose=0,\n",
       "             warm_start=False)"
      ]
     },
     "execution_count": 31,
     "metadata": {},
     "output_type": "execute_result"
    },
    {
     "data": {
      "text/plain": [
       "<Figure size 720x360 with 0 Axes>"
      ]
     },
     "execution_count": 31,
     "metadata": {},
     "output_type": "execute_result"
    },
    {
     "data": {
      "text/plain": [
       "[<matplotlib.lines.Line2D at 0x1ec52066e80>]"
      ]
     },
     "execution_count": 31,
     "metadata": {},
     "output_type": "execute_result"
    },
    {
     "data": {
      "text/plain": [
       "[<matplotlib.lines.Line2D at 0x1ec5476eef0>]"
      ]
     },
     "execution_count": 31,
     "metadata": {},
     "output_type": "execute_result"
    },
    {
     "data": {
      "text/plain": [
       "<matplotlib.legend.Legend at 0x1ec52066cc0>"
      ]
     },
     "execution_count": 31,
     "metadata": {},
     "output_type": "execute_result"
    },
    {
     "data": {
      "image/png": "[encoded data removed]",
      "text/plain": [
       "<Figure size 720x360 with 1 Axes>"
      ]
     },
     "metadata": {},
     "output_type": "display_data"
    }
   ],
   "source": [
    "# 获取最佳训练模型\n",
    "model_best = model_gs.best_estimator_  # 获得交叉检验模型得出的最优模型对象\n",
    "model_best.fit(X, y)  # 训练最优模型\n",
    "plt.style.use(\"ggplot\")  # 应用ggplot自带样式库\n",
    "plt.figure(figsize=(10,5))  # 建立画布对象\n",
    "plt.plot(np.arange(X.shape[0]), y, label='true y')  # 画出原始变量的曲线\n",
    "plt.plot(np.arange(X.shape[0]), model_best.predict(X), label='predicted y')  # 画出预测变量曲线\n",
    "plt.legend(loc='best')  # 设置图例位置"
   ]
  },
  {
   "cell_type": "code",
   "execution_count": 37,
   "metadata": {
    "ExecuteTime": {
     "end_time": "2019-02-26T00:53:06.735936Z",
     "start_time": "2019-02-26T00:53:06.728982Z"
    }
   },
   "outputs": [
    {
     "data": {
      "text/plain": [
       "array([0.    , 0.    , 0.    , 0.    , 0.    , 0.0001, 0.0002, 0.0001,\n",
       "       0.1313, 0.8683])"
      ]
     },
     "execution_count": 37,
     "metadata": {},
     "output_type": "execute_result"
    }
   ],
   "source": [
    "np.set_printoptions(suppress=True)\n",
    "model_best.feature_importances_.round(4)"
   ]
  },
  {
   "cell_type": "code",
   "execution_count": 32,
   "metadata": {
    "ExecuteTime": {
     "end_time": "2019-02-26T00:49:21.006659Z",
     "start_time": "2019-02-26T00:49:20.999664Z"
    }
   },
   "outputs": [
    {
     "name": "stdout",
     "output_type": "stream",
     "text": [
      "*********************Predicted orders:**********************\n",
      "[779.]\n"
     ]
    }
   ],
   "source": [
    "# 新数据集预测\n",
    "New_X = np.array([[1, 1, 0, 1, 15, 0.5, 177, 0.66, 101, 798]])  # 要预测的新数据记录\n",
    "print ('{:*^60}'.format('Predicted orders:'))\n",
    "print (model_best.predict(New_X).round(0))  # 打印输出预测值"
   ]
  },
  {
   "cell_type": "code",
   "execution_count": null,
   "metadata": {},
   "outputs": [],
   "source": []
  }
 ],
 "metadata": {
  "hide_input": false,
  "kernelspec": {
   "display_name": "Python 3",
   "language": "python",
   "name": "python3"
  },
  "language_info": {
   "codemirror_mode": {
    "name": "ipython",
    "version": 3
   },
   "file_extension": ".py",
   "mimetype": "text/x-python",
   "name": "python",
   "nbconvert_exporter": "python",
   "pygments_lexer": "ipython3",
   "version": "3.7.0"
  },
  "toc": {
   "base_numbering": 1,
   "nav_menu": {},
   "number_sections": true,
   "sideBar": true,
   "skip_h1_title": false,
   "title_cell": "Table of Contents",
   "title_sidebar": "Contents",
   "toc_cell": false,
   "toc_position": {},
   "toc_section_display": true,
   "toc_window_display": true
  },
  "varInspector": {
   "cols": {
    "lenName": 16,
    "lenType": 16,
    "lenVar": 40
   },
   "kernels_config": {
    "python": {
     "delete_cmd_postfix": "",
     "delete_cmd_prefix": "del ",
     "library": "var_list.py",
     "varRefreshCmd": "print(var_dic_list())"
    },
    "r": {
     "delete_cmd_postfix": ") ",
     "delete_cmd_prefix": "rm(",
     "library": "var_list.r",
     "varRefreshCmd": "cat(var_dic_list()) "
    }
   },
   "types_to_exclude": [
    "module",
    "function",
    "builtin_function_or_method",
    "instance",
    "_Feature"
   ],
   "window_display": false
  }
 },
 "nbformat": 4,
 "nbformat_minor": 2
}
