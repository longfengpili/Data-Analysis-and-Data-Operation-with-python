{
 "cells": [
  {
   "cell_type": "code",
   "execution_count": 8,
   "metadata": {
    "ExecuteTime": {
     "end_time": "2018-12-20T00:39:21.704844Z",
     "start_time": "2018-12-20T00:39:21.584257Z"
    }
   },
   "outputs": [],
   "source": [
    "import win32gui\n",
    "import win32conimport win32api"
   ]
  },
  {
   "cell_type": "code",
   "execution_count": 59,
   "metadata": {
    "ExecuteTime": {
     "end_time": "2018-12-20T01:13:09.532920Z",
     "start_time": "2018-12-20T01:13:09.526939Z"
    }
   },
   "outputs": [
    {
     "data": {
      "text/plain": [
       "331350"
      ]
     },
     "execution_count": 59,
     "metadata": {},
     "output_type": "execute_result"
    }
   ],
   "source": [
    "\n",
    "# 从顶层窗口向下搜索主窗口，无法搜索子窗口\n",
    "# FindWindow(lpClassName=None, lpWindowName=None)  窗口类名 窗口标题名\n",
    "handle = win32gui.FindWindow(\"大话西游手游\", None) \n",
    "handle"
   ]
  },
  {
   "cell_type": "code",
   "execution_count": 60,
   "metadata": {
    "ExecuteTime": {
     "end_time": "2018-12-20T01:13:11.447427Z",
     "start_time": "2018-12-20T01:13:11.438837Z"
    }
   },
   "outputs": [
    {
     "data": {
      "text/plain": [
       "(249, 0, 1287, 802)"
      ]
     },
     "execution_count": 60,
     "metadata": {},
     "output_type": "execute_result"
    },
    {
     "data": {
      "text/plain": [
       "'大话西游手游'"
      ]
     },
     "execution_count": 60,
     "metadata": {},
     "output_type": "execute_result"
    },
    {
     "data": {
      "text/plain": [
       "'大话西游手游'"
      ]
     },
     "execution_count": 60,
     "metadata": {},
     "output_type": "execute_result"
    }
   ],
   "source": [
    "# 获取窗口位置\n",
    "left, top, right, bottom = win32gui.GetWindowRect(handle)\n",
    "left, top, right, bottom\n",
    "#获取某个句柄的类名和标题\n",
    "title = win32gui.GetWindowText(handle)   \n",
    "title\n",
    "clsname = win32gui.GetClassName(handle)\n",
    "clsname"
   ]
  },
  {
   "cell_type": "code",
   "execution_count": 30,
   "metadata": {
    "ExecuteTime": {
     "end_time": "2018-12-20T00:51:27.544797Z",
     "start_time": "2018-12-20T00:51:27.540809Z"
    }
   },
   "outputs": [
    {
     "name": "stdout",
     "output_type": "stream",
     "text": [
      "200278\n",
      "30e56\n"
     ]
    }
   ],
   "source": [
    "# 打印句柄\n",
    "# 十进制\n",
    "print(handle)\n",
    "# 十六进制\n",
    "print(\"%x\" %(handle) )"
   ]
  },
  {
   "cell_type": "code",
   "execution_count": 72,
   "metadata": {
    "ExecuteTime": {
     "end_time": "2018-12-20T01:19:55.163855Z",
     "start_time": "2018-12-20T01:19:55.155880Z"
    }
   },
   "outputs": [
    {
     "data": {
      "text/plain": [
       "(394232, 'test - 猎豹安全浏览器', 'Chrome_WidgetWin_1')"
      ]
     },
     "execution_count": 72,
     "metadata": {},
     "output_type": "execute_result"
    }
   ],
   "source": [
    "#获取所有top windows\n",
    "hWndList = []\n",
    "win32gui.EnumWindows(lambda hWnd, param: param.append(hWnd), hWndList)\n",
    "for i in hWndList:\n",
    "    if 'test' in win32gui.GetWindowText(i):\n",
    "        i,win32gui.GetWindowText(i),win32gui.GetClassName(i) "
   ]
  },
  {
   "cell_type": "code",
   "execution_count": 68,
   "metadata": {
    "ExecuteTime": {
     "end_time": "2018-12-20T01:17:11.404804Z",
     "start_time": "2018-12-20T01:17:11.394787Z"
    },
    "scrolled": false
   },
   "outputs": [
    {
     "data": {
      "text/plain": [
       "(265600, 'G17Proj', 'GLFW30')"
      ]
     },
     "execution_count": 68,
     "metadata": {},
     "output_type": "execute_result"
    },
    {
     "data": {
      "text/plain": [
       "(199674, '', 'Shell Embedding')"
      ]
     },
     "execution_count": 68,
     "metadata": {},
     "output_type": "execute_result"
    },
    {
     "data": {
      "text/plain": [
       "(199686, '', 'Shell DocObject View')"
      ]
     },
     "execution_count": 68,
     "metadata": {},
     "output_type": "execute_result"
    },
    {
     "data": {
      "text/plain": [
       "(199734, '', 'Internet Explorer_Server')"
      ]
     },
     "execution_count": 68,
     "metadata": {},
     "output_type": "execute_result"
    }
   ],
   "source": [
    "# 搜索子窗口\n",
    "# 枚举子窗口\n",
    "hwndChildList = []\n",
    "win32gui.EnumChildWindows(handle, lambda hwnd, param: param.append(hwnd),  hwndChildList)\n",
    "for i in hwndChildList:\n",
    "    i,win32gui.GetWindowText(i),win32gui.GetClassName(i)"
   ]
  },
  {
   "cell_type": "code",
   "execution_count": null,
   "metadata": {},
   "outputs": [],
   "source": []
  }
 ],
 "metadata": {
  "hide_input": false,
  "kernelspec": {
   "display_name": "Python 3",
   "language": "python",
   "name": "python3"
  },
  "language_info": {
   "codemirror_mode": {
    "name": "ipython",
    "version": 3
   },
   "file_extension": ".py",
   "mimetype": "text/x-python",
   "name": "python",
   "nbconvert_exporter": "python",
   "pygments_lexer": "ipython3",
   "version": "3.7.0"
  },
  "toc": {
   "base_numbering": 1,
   "nav_menu": {},
   "number_sections": true,
   "sideBar": true,
   "skip_h1_title": false,
   "title_cell": "Table of Contents",
   "title_sidebar": "Contents",
   "toc_cell": false,
   "toc_position": {},
   "toc_section_display": true,
   "toc_window_display": false
  },
  "varInspector": {
   "cols": {
    "lenName": 16,
    "lenType": 16,
    "lenVar": 40
   },
   "kernels_config": {
    "python": {
     "delete_cmd_postfix": "",
     "delete_cmd_prefix": "del ",
     "library": "var_list.py",
     "varRefreshCmd": "print(var_dic_list())"
    },
    "r": {
     "delete_cmd_postfix": ") ",
     "delete_cmd_prefix": "rm(",
     "library": "var_list.r",
     "varRefreshCmd": "cat(var_dic_list()) "
    }
   },
   "types_to_exclude": [
    "module",
    "function",
    "builtin_function_or_method",
    "instance",
    "_Feature"
   ],
   "window_display": false
  }
 },
 "nbformat": 4,
 "nbformat_minor": 2
}
